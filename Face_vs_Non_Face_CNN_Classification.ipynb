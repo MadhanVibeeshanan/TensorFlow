{
  "nbformat": 4,
  "nbformat_minor": 0,
  "metadata": {
    "colab": {
      "name": "Face vs Non Face CNN Classification",
      "provenance": [],
      "collapsed_sections": []
    },
    "kernelspec": {
      "name": "python3",
      "display_name": "Python 3"
    }
  },
  "cells": [
    {
      "cell_type": "code",
      "metadata": {
        "id": "mW5of_xF6v90",
        "colab_type": "code",
        "colab": {}
      },
      "source": [
        "import tarfile\n",
        "import glob\n",
        "import numpy as np\n",
        "import pandas as pd\n",
        "import tensorflow as tf\n",
        "import matplotlib.pyplot as plt\n",
        "%matplotlib inline\n",
        "import cv2\n",
        "from sklearn.metrics import *\n",
        "import collections\n",
        "from PIL import Image\n",
        "from random import shuffle \n",
        "from sklearn.model_selection import train_test_split"
      ],
      "execution_count": 0,
      "outputs": []
    },
    {
      "cell_type": "code",
      "metadata": {
        "id": "6U7srMSUfUgi",
        "colab_type": "code",
        "colab": {}
      },
      "source": [
        "def unzip(path):\n",
        "  tar = tarfile.open(path)\n",
        "  tar.extractall()\n",
        "  tar.close"
      ],
      "execution_count": 0,
      "outputs": []
    },
    {
      "cell_type": "code",
      "metadata": {
        "id": "9hWE-yEGLCWO",
        "colab_type": "code",
        "colab": {}
      },
      "source": [
        "unzip('face.train.tar.gz')\n",
        "unzip('face.test.tar.gz')"
      ],
      "execution_count": 0,
      "outputs": []
    },
    {
      "cell_type": "code",
      "metadata": {
        "id": "LZv0iRO49VPG",
        "colab_type": "code",
        "colab": {}
      },
      "source": [
        "face_train = glob.glob(\"train/face/*.pgm\")\n",
        "non_face_train = glob.glob(\"train/non-face/*.pgm\")\n",
        "face_test = glob.glob(\"test/face/*.pgm\")\n",
        "non_face_test = glob.glob(\"test/non-face/*.pgm\")"
      ],
      "execution_count": 0,
      "outputs": []
    },
    {
      "cell_type": "code",
      "metadata": {
        "id": "ANqfWvuIYtUM",
        "colab_type": "code",
        "colab": {}
      },
      "source": [
        "face_img_data = cv2.imread(face_test[1], cv2.IMREAD_COLOR)"
      ],
      "execution_count": 0,
      "outputs": []
    },
    {
      "cell_type": "code",
      "metadata": {
        "id": "wEmS3rlj-MVu",
        "colab_type": "code",
        "colab": {}
      },
      "source": [
        "def create_label(image_name):\n",
        "  \n",
        "  if 'face' in image_name:\n",
        "    return np.array([1,0])\n",
        "  else:\n",
        "    return np.array([0,1])"
      ],
      "execution_count": 0,
      "outputs": []
    },
    {
      "cell_type": "code",
      "metadata": {
        "id": "iRQaiddc_OQh",
        "colab_type": "code",
        "colab": {}
      },
      "source": [
        "def create_data(name):\n",
        "\n",
        "  if name == 'train':\n",
        "    training_data = []\n",
        "    for train_face_img in face_train:\n",
        "      train_face_img_data = cv2.imread(train_face_img, cv2.IMREAD_COLOR)\n",
        "      training_data.append([np.array(train_face_img_data), np.array([1,0])]) #change np.array to create_label funtion to change label values\n",
        "\n",
        "    for train_non_face_img in non_face_train:\n",
        "      train_non_face_img_data = cv2.imread(train_non_face_img, cv2.IMREAD_COLOR)\n",
        "      training_data.append([np.array(train_non_face_img_data), np.array([0,1])]) #change np.array to create_label funtion to change label values\n",
        "    shuffle(training_data)\n",
        "    return training_data\n",
        "\n",
        "  if name == 'test':\n",
        "    testing_data = []\n",
        "    for test_face_img in face_test:\n",
        "      test_face_img_data = cv2.imread(test_face_img, cv2.IMREAD_COLOR)\n",
        "      testing_data.append([np.array(test_face_img)])\n",
        "\n",
        "    for test_non_face_img in non_face_test:\n",
        "      test_non_face_img_data = cv2.imread(test_non_face_img, cv2.IMREAD_COLOR)\n",
        "      testing_data.append([np.array(test_non_face_img)])\n",
        "    shuffle(testing_data)\n",
        "    return testing_data    "
      ],
      "execution_count": 0,
      "outputs": []
    },
    {
      "cell_type": "code",
      "metadata": {
        "id": "MyuLbo7KJpMC",
        "colab_type": "code",
        "colab": {}
      },
      "source": [
        "train = create_data('train')\n",
        "test = create_data('test')"
      ],
      "execution_count": 0,
      "outputs": []
    },
    {
      "cell_type": "code",
      "metadata": {
        "id": "OIZOqLt3Kvxs",
        "colab_type": "code",
        "colab": {}
      },
      "source": [
        "train_data = [i[0] for i in train]\n",
        "labels = [i[1] for i in train]"
      ],
      "execution_count": 0,
      "outputs": []
    },
    {
      "cell_type": "code",
      "metadata": {
        "id": "NU4MF0ljL3L4",
        "colab_type": "code",
        "colab": {}
      },
      "source": [
        "X_train, X_val, y_train, y_val = train_test_split(train_data, labels, test_size=0.3, random_state=1234) "
      ],
      "execution_count": 0,
      "outputs": []
    },
    {
      "cell_type": "code",
      "metadata": {
        "id": "CRjMDNi0My1S",
        "colab_type": "code",
        "colab": {
          "base_uri": "https://localhost:8080/",
          "height": 238
        },
        "outputId": "93b87ae5-18d0-4d59-9fbb-b753c9348d2e"
      },
      "source": [
        "import tflearn\n",
        "from tflearn.layers.conv import conv_2d, max_pool_2d\n",
        "from tflearn.layers.core import input_data, dropout, fully_connected\n",
        "from tflearn.layers.estimator import regression\n",
        "%matplotlib inline"
      ],
      "execution_count": 10,
      "outputs": [
        {
          "output_type": "stream",
          "text": [
            "WARNING:tensorflow:From /usr/local/lib/python3.6/dist-packages/tflearn/helpers/summarizer.py:9: The name tf.summary.merge is deprecated. Please use tf.compat.v1.summary.merge instead.\n",
            "\n",
            "WARNING:tensorflow:From /usr/local/lib/python3.6/dist-packages/tflearn/helpers/trainer.py:25: The name tf.summary.FileWriter is deprecated. Please use tf.compat.v1.summary.FileWriter instead.\n",
            "\n",
            "WARNING:tensorflow:From /usr/local/lib/python3.6/dist-packages/tflearn/collections.py:13: The name tf.GraphKeys is deprecated. Please use tf.compat.v1.GraphKeys instead.\n",
            "\n",
            "WARNING:tensorflow:From /usr/local/lib/python3.6/dist-packages/tflearn/config.py:123: The name tf.get_collection is deprecated. Please use tf.compat.v1.get_collection instead.\n",
            "\n",
            "WARNING:tensorflow:From /usr/local/lib/python3.6/dist-packages/tflearn/config.py:129: The name tf.add_to_collection is deprecated. Please use tf.compat.v1.add_to_collection instead.\n",
            "\n",
            "WARNING:tensorflow:From /usr/local/lib/python3.6/dist-packages/tflearn/config.py:131: The name tf.assign is deprecated. Please use tf.compat.v1.assign instead.\n",
            "\n"
          ],
          "name": "stdout"
        }
      ]
    },
    {
      "cell_type": "code",
      "metadata": {
        "id": "yJ4EFLWBU84V",
        "colab_type": "code",
        "colab": {}
      },
      "source": [
        "tf.reset_default_graph()"
      ],
      "execution_count": 0,
      "outputs": []
    },
    {
      "cell_type": "code",
      "metadata": {
        "id": "PNdtG2-wYSEY",
        "colab_type": "code",
        "colab": {}
      },
      "source": [
        "MODEL_NAME = 'face-vs-nonface-convnet'"
      ],
      "execution_count": 0,
      "outputs": []
    },
    {
      "cell_type": "code",
      "metadata": {
        "id": "d5NOSg7jZRce",
        "colab_type": "code",
        "colab": {
          "base_uri": "https://localhost:8080/",
          "height": 34
        },
        "outputId": "44398483-f487-48d9-83ce-2ae0cb288d42"
      },
      "source": [
        "print(X_train[1].shape)"
      ],
      "execution_count": 14,
      "outputs": [
        {
          "output_type": "stream",
          "text": [
            "(19, 19, 3)\n"
          ],
          "name": "stdout"
        }
      ]
    },
    {
      "cell_type": "code",
      "metadata": {
        "id": "lKO3T-BTVI9e",
        "colab_type": "code",
        "colab": {
          "base_uri": "https://localhost:8080/",
          "height": 101
        },
        "outputId": "93bcf308-f24d-4fb3-fc78-e2ca43d69dc4"
      },
      "source": [
        "convnet = input_data(shape = [None, 19, 19, 3], name = 'input')\n",
        "\n",
        "convnet = conv_2d(convnet, 32, 5, activation='relu')\n",
        "convnet = max_pool_2d(convnet, 5)\n",
        "\n",
        "convnet = conv_2d(convnet, 64, 5, activation='relu')\n",
        "convnet = max_pool_2d(convnet, 5)\n",
        "\n",
        "convnet = fully_connected(convnet, 1024, activation='relu')\n",
        "convnet = dropout(convnet, 0.8)\n",
        "\n",
        "convnet = fully_connected(convnet, 2, activation='softmax')\n",
        "convnet = regression(convnet, optimizer='adam', learning_rate=1e-3, loss='categorical_crossentropy', name='targets')\n",
        "\n",
        "model = tflearn.DNN(convnet, tensorboard_dir='log', tensorboard_verbose=0)\n",
        "\n",
        "model.fit({'input': X_train},\n",
        "          {'targets': y_train},\n",
        "          n_epoch=5,\n",
        "          validation_set=({'input':X_train}, {'targets':y_train}),\n",
        "          snapshot_step=500, show_metric=True, run_id=MODEL_NAME)"
      ],
      "execution_count": 15,
      "outputs": [
        {
          "output_type": "stream",
          "text": [
            "Training Step: 384  | total loss: \u001b[1m\u001b[32m0.05879\u001b[0m\u001b[0m | time: 2.726s\n",
            "| Adam | epoch: 005 | loss: 0.05879 - acc: 0.9814 -- iter: 4864/4883\n",
            "Training Step: 385  | total loss: \u001b[1m\u001b[32m0.05591\u001b[0m\u001b[0m | time: 3.896s\n",
            "| Adam | epoch: 005 | loss: 0.05591 - acc: 0.9817 | val_loss: 0.03952 - val_acc: 0.9883 -- iter: 4883/4883\n",
            "--\n"
          ],
          "name": "stdout"
        }
      ]
    },
    {
      "cell_type": "code",
      "metadata": {
        "id": "m3GuNT47X8kG",
        "colab_type": "code",
        "colab": {
          "base_uri": "https://localhost:8080/",
          "height": 34
        },
        "outputId": "64715b82-98a8-4c49-929a-67e6c0142aaf"
      },
      "source": [
        "d = np.array(X_val[3:4])\n",
        "d.shape"
      ],
      "execution_count": 16,
      "outputs": [
        {
          "output_type": "execute_result",
          "data": {
            "text/plain": [
              "(1, 19, 19, 3)"
            ]
          },
          "metadata": {
            "tags": []
          },
          "execution_count": 16
        }
      ]
    },
    {
      "cell_type": "code",
      "metadata": {
        "id": "XWFUOqIEhtM9",
        "colab_type": "code",
        "colab": {
          "base_uri": "https://localhost:8080/",
          "height": 286
        },
        "outputId": "4ec47fe7-4c8a-4f10-bbb7-c06058cda57c"
      },
      "source": [
        "prediction = model.predict(d)\n",
        "\n",
        "fig = plt.figure()\n",
        "ax = fig.add_subplot(111)\n",
        "ax.imshow(X_val[3], cmap=\"plasma\")\n",
        "if prediction[0,0] > prediction[0,1]:\n",
        "  print('\\033[1m' + \"Face\" + '\\033[0m')\n",
        "else:\n",
        "  print('\\033[1m' + \"Non Face\" + '\\033[0m')"
      ],
      "execution_count": 17,
      "outputs": [
        {
          "output_type": "stream",
          "text": [
            "\u001b[1mFace\u001b[0m\n"
          ],
          "name": "stdout"
        },
        {
          "output_type": "display_data",
          "data": {
            "image/png": "[encoded data removed]",
            "text/plain": [
              "<Figure size 432x288 with 1 Axes>"
            ]
          },
          "metadata": {
            "tags": []
          }
        }
      ]
    },
    {
      "cell_type": "code",
      "metadata": {
        "id": "f3IMTqE9lc8h",
        "colab_type": "code",
        "colab": {}
      },
      "source": [
        ""
      ],
      "execution_count": 0,
      "outputs": []
    }
  ]
}