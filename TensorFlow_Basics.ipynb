{
  "nbformat": 4,
  "nbformat_minor": 0,
  "metadata": {
    "colab": {
      "name": "TensorFlow Basics.ipynb",
      "version": "0.3.2",
      "provenance": [],
      "collapsed_sections": [
        "aq3kFPQwlVkA",
        "PxjtJ6yollLY",
        "LLfMe9IUoIgf",
        "-xiLZrgKrydD",
        "CIEpYFUl0nAw",
        "leIepjrl-Kzp",
        "4v8SNKkL1pjW"
      ]
    },
    "kernelspec": {
      "name": "python3",
      "display_name": "Python 3"
    }
  },
  "cells": [
    {
      "cell_type": "markdown",
      "metadata": {
        "id": "tNO2TMxxlfhb",
        "colab_type": "text"
      },
      "source": [
        "#TensorFlow Syntax"
      ]
    },
    {
      "cell_type": "code",
      "metadata": {
        "id": "D7joCTX8xgDR",
        "colab_type": "code",
        "colab": {}
      },
      "source": [
        "import tensorflow as tf"
      ],
      "execution_count": 0,
      "outputs": []
    },
    {
      "cell_type": "code",
      "metadata": {
        "id": "tkPtg2rRxoyA",
        "colab_type": "code",
        "outputId": "76ab956c-d03f-45dc-eadb-a5b947ecd52a",
        "colab": {
          "base_uri": "https://localhost:8080/",
          "height": 34
        }
      },
      "source": [
        "print(tf.__version__)"
      ],
      "execution_count": 0,
      "outputs": [
        {
          "output_type": "stream",
          "text": [
            "1.14.0\n"
          ],
          "name": "stdout"
        }
      ]
    },
    {
      "cell_type": "code",
      "metadata": {
        "id": "qc4L1VxuyMNF",
        "colab_type": "code",
        "colab": {}
      },
      "source": [
        "hello = tf.constant(\"Hello \")\n",
        "world = tf.constant(\"World\")"
      ],
      "execution_count": 0,
      "outputs": []
    },
    {
      "cell_type": "code",
      "metadata": {
        "id": "xn7jbPhbyq-T",
        "colab_type": "code",
        "outputId": "645e9801-5f93-44ec-d34f-6ab98c4966f1",
        "colab": {
          "base_uri": "https://localhost:8080/",
          "height": 34
        }
      },
      "source": [
        "type(hello)"
      ],
      "execution_count": 0,
      "outputs": [
        {
          "output_type": "execute_result",
          "data": {
            "text/plain": [
              "tensorflow.python.framework.ops.Tensor"
            ]
          },
          "metadata": {
            "tags": []
          },
          "execution_count": 9
        }
      ]
    },
    {
      "cell_type": "code",
      "metadata": {
        "id": "2hBiUE6yysqk",
        "colab_type": "code",
        "outputId": "75707eae-8fff-4f88-df7b-6e581a5c0e99",
        "colab": {
          "base_uri": "https://localhost:8080/",
          "height": 34
        }
      },
      "source": [
        "print(hello)"
      ],
      "execution_count": 0,
      "outputs": [
        {
          "output_type": "stream",
          "text": [
            "Tensor(\"Const_1:0\", shape=(), dtype=string)\n"
          ],
          "name": "stdout"
        }
      ]
    },
    {
      "cell_type": "code",
      "metadata": {
        "id": "mVd_s1-byuR0",
        "colab_type": "code",
        "outputId": "aaa611c4-7799-4def-89e7-8bfdb52d093d",
        "colab": {
          "base_uri": "https://localhost:8080/",
          "height": 34
        }
      },
      "source": [
        "with tf.Session() as sess:\n",
        "  result = sess.run(hello +world)\n",
        "  \n",
        "print(result)"
      ],
      "execution_count": 0,
      "outputs": [
        {
          "output_type": "stream",
          "text": [
            "b'Hello World'\n"
          ],
          "name": "stdout"
        }
      ]
    },
    {
      "cell_type": "code",
      "metadata": {
        "id": "Emlh2y8Nz0q3",
        "colab_type": "code",
        "colab": {}
      },
      "source": [
        "a = tf.constant(10)"
      ],
      "execution_count": 0,
      "outputs": []
    },
    {
      "cell_type": "code",
      "metadata": {
        "id": "tdgMu4aK0CCx",
        "colab_type": "code",
        "colab": {}
      },
      "source": [
        "b = tf.constant(20)"
      ],
      "execution_count": 0,
      "outputs": []
    },
    {
      "cell_type": "code",
      "metadata": {
        "id": "lKQipIlR0DpS",
        "colab_type": "code",
        "colab": {}
      },
      "source": [
        "c = a+b"
      ],
      "execution_count": 0,
      "outputs": []
    },
    {
      "cell_type": "code",
      "metadata": {
        "id": "3R056lJ30FeS",
        "colab_type": "code",
        "outputId": "2ea2b633-c9ae-4971-9fe4-ff04d1efe2b7",
        "colab": {
          "base_uri": "https://localhost:8080/",
          "height": 34
        }
      },
      "source": [
        "print(c)"
      ],
      "execution_count": 0,
      "outputs": [
        {
          "output_type": "stream",
          "text": [
            "Tensor(\"add_2:0\", shape=(), dtype=int32)\n"
          ],
          "name": "stdout"
        }
      ]
    },
    {
      "cell_type": "code",
      "metadata": {
        "id": "nGilUpYC0GXj",
        "colab_type": "code",
        "outputId": "deb48140-e47c-472d-837c-685182a1cf6c",
        "colab": {
          "base_uri": "https://localhost:8080/",
          "height": 34
        }
      },
      "source": [
        "with tf.Session() as sess:\n",
        "  print(sess.run(a+b))"
      ],
      "execution_count": 0,
      "outputs": [
        {
          "output_type": "stream",
          "text": [
            "30\n"
          ],
          "name": "stdout"
        }
      ]
    },
    {
      "cell_type": "code",
      "metadata": {
        "id": "3caMg0mg0OFR",
        "colab_type": "code",
        "colab": {}
      },
      "source": [
        "const = tf.constant(10)"
      ],
      "execution_count": 0,
      "outputs": []
    },
    {
      "cell_type": "code",
      "metadata": {
        "id": "A2kY3n4Y0ayR",
        "colab_type": "code",
        "colab": {}
      },
      "source": [
        "fill_mat = tf.fill((4,4),10)"
      ],
      "execution_count": 0,
      "outputs": []
    },
    {
      "cell_type": "code",
      "metadata": {
        "id": "GYMvspaS0f5h",
        "colab_type": "code",
        "colab": {}
      },
      "source": [
        "myzeros = tf.zeros((4,4))"
      ],
      "execution_count": 0,
      "outputs": []
    },
    {
      "cell_type": "code",
      "metadata": {
        "id": "vh6UxBT90jkh",
        "colab_type": "code",
        "colab": {}
      },
      "source": [
        "myones = tf.ones((4,4))"
      ],
      "execution_count": 0,
      "outputs": []
    },
    {
      "cell_type": "code",
      "metadata": {
        "id": "A4hO-2z60nMx",
        "colab_type": "code",
        "outputId": "55f57c91-0901-4779-e121-a43dd1e842ef",
        "colab": {
          "base_uri": "https://localhost:8080/",
          "height": 34
        }
      },
      "source": [
        "print(myones)"
      ],
      "execution_count": 0,
      "outputs": [
        {
          "output_type": "stream",
          "text": [
            "Tensor(\"ones:0\", shape=(4, 4), dtype=float32)\n"
          ],
          "name": "stdout"
        }
      ]
    },
    {
      "cell_type": "code",
      "metadata": {
        "id": "tx8BzENN0oWh",
        "colab_type": "code",
        "outputId": "ae9df7f9-bc44-4d54-e60d-4fa5dfde23eb",
        "colab": {
          "base_uri": "https://localhost:8080/",
          "height": 86
        }
      },
      "source": [
        "with tf.Session() as sess:\n",
        "  print(sess.run(myones))"
      ],
      "execution_count": 0,
      "outputs": [
        {
          "output_type": "stream",
          "text": [
            "[[1. 1. 1. 1.]\n",
            " [1. 1. 1. 1.]\n",
            " [1. 1. 1. 1.]\n",
            " [1. 1. 1. 1.]]\n"
          ],
          "name": "stdout"
        }
      ]
    },
    {
      "cell_type": "code",
      "metadata": {
        "id": "IJ7w51yC0rsR",
        "colab_type": "code",
        "colab": {}
      },
      "source": [
        "myrand= tf.random_normal((4,4), mean=0, stddev=1.0)"
      ],
      "execution_count": 0,
      "outputs": []
    },
    {
      "cell_type": "code",
      "metadata": {
        "id": "JxZv8j5I1He4",
        "colab_type": "code",
        "colab": {}
      },
      "source": [
        "myrandu = tf.random_uniform((4,4), minval = 0, maxval=1)"
      ],
      "execution_count": 0,
      "outputs": []
    },
    {
      "cell_type": "code",
      "metadata": {
        "id": "_U_DQRli1R1h",
        "colab_type": "code",
        "colab": {}
      },
      "source": [
        "my_ops = [const, fill_mat,myzeros, myones, myrand, myrandu]"
      ],
      "execution_count": 0,
      "outputs": []
    },
    {
      "cell_type": "code",
      "metadata": {
        "id": "apHiJaPP1fp_",
        "colab_type": "code",
        "colab": {}
      },
      "source": [
        "sess = tf.InteractiveSession()"
      ],
      "execution_count": 0,
      "outputs": []
    },
    {
      "cell_type": "code",
      "metadata": {
        "id": "9yGKAB3L1j1A",
        "colab_type": "code",
        "outputId": "e5922ac1-3406-4095-a116-3e503ef44c96",
        "colab": {
          "base_uri": "https://localhost:8080/",
          "height": 587
        }
      },
      "source": [
        "for op in my_ops:\n",
        "  print(sess.run(op))\n",
        "  print('\\n')"
      ],
      "execution_count": 0,
      "outputs": [
        {
          "output_type": "stream",
          "text": [
            "10\n",
            "\n",
            "\n",
            "[[10 10 10 10]\n",
            " [10 10 10 10]\n",
            " [10 10 10 10]\n",
            " [10 10 10 10]]\n",
            "\n",
            "\n",
            "[[0. 0. 0. 0.]\n",
            " [0. 0. 0. 0.]\n",
            " [0. 0. 0. 0.]\n",
            " [0. 0. 0. 0.]]\n",
            "\n",
            "\n",
            "[[1. 1. 1. 1.]\n",
            " [1. 1. 1. 1.]\n",
            " [1. 1. 1. 1.]\n",
            " [1. 1. 1. 1.]]\n",
            "\n",
            "\n",
            "[[-0.1578688   1.1303691  -1.6252698   1.3678328 ]\n",
            " [-0.8640705   1.831096   -0.48367506  1.5635661 ]\n",
            " [ 1.6746358   1.2725639   0.74431247 -0.2236781 ]\n",
            " [-0.27574012  1.146152    0.09816516  0.229987  ]]\n",
            "\n",
            "\n",
            "[[0.772151   0.85246    0.07931769 0.27139556]\n",
            " [0.76507545 0.03468668 0.15137625 0.4250852 ]\n",
            " [0.82216585 0.82967603 0.5783719  0.49707747]\n",
            " [0.7030257  0.19199705 0.81244326 0.5896325 ]]\n",
            "\n",
            "\n"
          ],
          "name": "stdout"
        }
      ]
    },
    {
      "cell_type": "code",
      "metadata": {
        "id": "y_f65GQb1pzv",
        "colab_type": "code",
        "colab": {}
      },
      "source": [
        "a = tf.constant([\n",
        "    [1,2],[3,4]])"
      ],
      "execution_count": 0,
      "outputs": []
    },
    {
      "cell_type": "code",
      "metadata": {
        "id": "5-wr2C7T2Adv",
        "colab_type": "code",
        "outputId": "daaacaa2-9c1f-49ed-bcbd-1d0da2300467",
        "colab": {
          "base_uri": "https://localhost:8080/",
          "height": 34
        }
      },
      "source": [
        "a.get_shape()"
      ],
      "execution_count": 0,
      "outputs": [
        {
          "output_type": "execute_result",
          "data": {
            "text/plain": [
              "TensorShape([Dimension(2), Dimension(2)])"
            ]
          },
          "metadata": {
            "tags": []
          },
          "execution_count": 37
        }
      ]
    },
    {
      "cell_type": "code",
      "metadata": {
        "id": "uEY-K46L2CQv",
        "colab_type": "code",
        "colab": {}
      },
      "source": [
        "b = tf.constant([\n",
        "    [10],[100]\n",
        "])"
      ],
      "execution_count": 0,
      "outputs": []
    },
    {
      "cell_type": "code",
      "metadata": {
        "id": "T_xI1PxU2MUf",
        "colab_type": "code",
        "colab": {}
      },
      "source": [
        "result = tf.matmul(a,b)"
      ],
      "execution_count": 0,
      "outputs": []
    },
    {
      "cell_type": "code",
      "metadata": {
        "id": "9_BE6QS02QEv",
        "colab_type": "code",
        "outputId": "54257859-a6ee-4fba-b8b6-6aaeddbaaf3b",
        "colab": {
          "base_uri": "https://localhost:8080/",
          "height": 52
        }
      },
      "source": [
        "sess.run(result)"
      ],
      "execution_count": 0,
      "outputs": [
        {
          "output_type": "execute_result",
          "data": {
            "text/plain": [
              "array([[210],\n",
              "       [430]], dtype=int32)"
            ]
          },
          "metadata": {
            "tags": []
          },
          "execution_count": 40
        }
      ]
    },
    {
      "cell_type": "code",
      "metadata": {
        "id": "82oeeLUH2UOf",
        "colab_type": "code",
        "outputId": "f583305f-c593-4b48-ea66-4dc3e3baf081",
        "colab": {
          "base_uri": "https://localhost:8080/",
          "height": 52
        }
      },
      "source": [
        "result.eval()"
      ],
      "execution_count": 0,
      "outputs": [
        {
          "output_type": "execute_result",
          "data": {
            "text/plain": [
              "array([[210],\n",
              "       [430]], dtype=int32)"
            ]
          },
          "metadata": {
            "tags": []
          },
          "execution_count": 41
        }
      ]
    },
    {
      "cell_type": "code",
      "metadata": {
        "id": "44Hkf8tP5vON",
        "colab_type": "code",
        "outputId": "ec36dfe7-b119-40f7-bb78-f67fad3a2e31",
        "colab": {
          "base_uri": "https://localhost:8080/",
          "height": 34
        }
      },
      "source": [
        "print(tf.get_default_graph())"
      ],
      "execution_count": 0,
      "outputs": [
        {
          "output_type": "stream",
          "text": [
            "<tensorflow.python.framework.ops.Graph object at 0x7f33bcbd6320>\n"
          ],
          "name": "stdout"
        }
      ]
    },
    {
      "cell_type": "markdown",
      "metadata": {
        "id": "aq3kFPQwlVkA",
        "colab_type": "text"
      },
      "source": [
        "#TensorFlow Graph Basics\n"
      ]
    },
    {
      "cell_type": "code",
      "metadata": {
        "id": "npWV5tPJjccw",
        "colab_type": "code",
        "colab": {}
      },
      "source": [
        "import tensorflow as tf"
      ],
      "execution_count": 0,
      "outputs": []
    },
    {
      "cell_type": "code",
      "metadata": {
        "id": "Se0FWvF8je_b",
        "colab_type": "code",
        "colab": {}
      },
      "source": [
        "g = tf.Graph()"
      ],
      "execution_count": 0,
      "outputs": []
    },
    {
      "cell_type": "code",
      "metadata": {
        "id": "Ukle9y6Qj4sk",
        "colab_type": "code",
        "outputId": "0a15bdb0-caea-41a2-b621-f441cd2c7ae7",
        "colab": {
          "base_uri": "https://localhost:8080/"
        }
      },
      "source": [
        "print(g)"
      ],
      "execution_count": 0,
      "outputs": [
        {
          "output_type": "stream",
          "text": [
            "<tensorflow.python.framework.ops.Graph object at 0x7f33bcb642e8>\n"
          ],
          "name": "stdout"
        }
      ]
    },
    {
      "cell_type": "code",
      "metadata": {
        "id": "BBmEhtbMj51U",
        "colab_type": "code",
        "colab": {}
      },
      "source": [
        "graph_one = tf.get_default_graph()"
      ],
      "execution_count": 0,
      "outputs": []
    },
    {
      "cell_type": "code",
      "metadata": {
        "id": "m7Sb564ZkApE",
        "colab_type": "code",
        "colab": {}
      },
      "source": [
        "graph_two = tf.Graph()"
      ],
      "execution_count": 0,
      "outputs": []
    },
    {
      "cell_type": "code",
      "metadata": {
        "id": "w9hHNYOSkEw0",
        "colab_type": "code",
        "outputId": "69f56ecd-25b5-4d5a-daba-b371420cc76c",
        "colab": {
          "base_uri": "https://localhost:8080/",
          "height": 34
        }
      },
      "source": [
        "with graph_two.as_default():\n",
        "  print(graph_two is tf.get_default_graph())"
      ],
      "execution_count": 0,
      "outputs": [
        {
          "output_type": "stream",
          "text": [
            "True\n"
          ],
          "name": "stdout"
        }
      ]
    },
    {
      "cell_type": "code",
      "metadata": {
        "id": "GzSIUY7Lkktn",
        "colab_type": "code",
        "outputId": "a4211bcb-8b9e-4313-d762-f5c607c062e6",
        "colab": {
          "base_uri": "https://localhost:8080/",
          "height": 34
        }
      },
      "source": [
        "graph_one.as_default()"
      ],
      "execution_count": 0,
      "outputs": [
        {
          "output_type": "execute_result",
          "data": {
            "text/plain": [
              "<contextlib._GeneratorContextManager at 0x7f33bcb64860>"
            ]
          },
          "metadata": {
            "tags": []
          },
          "execution_count": 10
        }
      ]
    },
    {
      "cell_type": "code",
      "metadata": {
        "id": "-waZldg5k6_z",
        "colab_type": "code",
        "outputId": "9ce0d443-268a-4f94-c127-623689c00404",
        "colab": {
          "base_uri": "https://localhost:8080/",
          "height": 34
        }
      },
      "source": [
        "print(graph_one is tf.get_default_graph())"
      ],
      "execution_count": 0,
      "outputs": [
        {
          "output_type": "stream",
          "text": [
            "True\n"
          ],
          "name": "stdout"
        }
      ]
    },
    {
      "cell_type": "code",
      "metadata": {
        "id": "kxHc3ruvlAFv",
        "colab_type": "code",
        "outputId": "3136f7c1-5ffd-43ce-e55b-27c2ea6cde7e",
        "colab": {
          "base_uri": "https://localhost:8080/",
          "height": 34
        }
      },
      "source": [
        "print(graph_two is tf.get_default_graph())"
      ],
      "execution_count": 0,
      "outputs": [
        {
          "output_type": "stream",
          "text": [
            "False\n"
          ],
          "name": "stdout"
        }
      ]
    },
    {
      "cell_type": "code",
      "metadata": {
        "id": "HOxbFpmOlEiG",
        "colab_type": "code",
        "outputId": "c05a22ae-b42c-44cf-e848-bb1457471b4e",
        "colab": {
          "base_uri": "https://localhost:8080/",
          "height": 34
        }
      },
      "source": [
        "graph_two.as_default()"
      ],
      "execution_count": 0,
      "outputs": [
        {
          "output_type": "execute_result",
          "data": {
            "text/plain": [
              "<contextlib._GeneratorContextManager at 0x7f33bcb64b00>"
            ]
          },
          "metadata": {
            "tags": []
          },
          "execution_count": 13
        }
      ]
    },
    {
      "cell_type": "markdown",
      "metadata": {
        "id": "PxjtJ6yollLY",
        "colab_type": "text"
      },
      "source": [
        "#Variable and Placeholders\n",
        "\n",
        "*   Variables can hold the values of weights and biases throughout the session. Variables need to be initialized.\n",
        "*   Placeholders are initially empty and are used to feed in the actual training example. \n",
        "\n"
      ]
    },
    {
      "cell_type": "code",
      "metadata": {
        "id": "0sjr2jvIlo7M",
        "colab_type": "code",
        "colab": {}
      },
      "source": [
        "sess = tf.InteractiveSession()"
      ],
      "execution_count": 0,
      "outputs": []
    },
    {
      "cell_type": "code",
      "metadata": {
        "id": "1UkBNIE8mQ8l",
        "colab_type": "code",
        "colab": {}
      },
      "source": [
        "my_tensor = tf.random_uniform((4,4),0,1)"
      ],
      "execution_count": 0,
      "outputs": []
    },
    {
      "cell_type": "code",
      "metadata": {
        "id": "UrItle7xmcHz",
        "colab_type": "code",
        "outputId": "9e26b42b-ece6-4cdd-c65d-71d52fc04557",
        "colab": {
          "base_uri": "https://localhost:8080/"
        }
      },
      "source": [
        "my_tensor"
      ],
      "execution_count": 0,
      "outputs": [
        {
          "output_type": "execute_result",
          "data": {
            "text/plain": [
              "<tf.Tensor 'random_uniform:0' shape=(4, 4) dtype=float32>"
            ]
          },
          "metadata": {
            "tags": []
          },
          "execution_count": 16
        }
      ]
    },
    {
      "cell_type": "code",
      "metadata": {
        "id": "B6AiC8s7mdSz",
        "colab_type": "code",
        "colab": {}
      },
      "source": [
        "my_var = tf.Variable(initial_value = my_tensor )"
      ],
      "execution_count": 0,
      "outputs": []
    },
    {
      "cell_type": "code",
      "metadata": {
        "id": "o7WWMVJymnUD",
        "colab_type": "code",
        "outputId": "b5bd1ff6-9397-4a47-b30c-cb20fa16a08e",
        "colab": {
          "base_uri": "https://localhost:8080/"
        }
      },
      "source": [
        "sess.run(my_tensor)"
      ],
      "execution_count": 0,
      "outputs": [
        {
          "output_type": "execute_result",
          "data": {
            "text/plain": [
              "array([[0.74465156, 0.0409174 , 0.0745703 , 0.9139041 ],\n",
              "       [0.7089702 , 0.27981877, 0.62928045, 0.19578898],\n",
              "       [0.00617087, 0.87172925, 0.49857485, 0.32267284],\n",
              "       [0.92716634, 0.15396392, 0.855852  , 0.08372974]], dtype=float32)"
            ]
          },
          "metadata": {
            "tags": []
          },
          "execution_count": 18
        }
      ]
    },
    {
      "cell_type": "code",
      "metadata": {
        "id": "EHiSqUU5m-Fd",
        "colab_type": "code",
        "colab": {}
      },
      "source": [
        "#Variables has to be initilized before using it. tf.global_variables_initializer is used for initilizing the variables.\n",
        "init = tf.global_variables_initializer()\n",
        "sess.run(init)"
      ],
      "execution_count": 0,
      "outputs": []
    },
    {
      "cell_type": "code",
      "metadata": {
        "id": "M3_iwN1CnFh_",
        "colab_type": "code",
        "outputId": "d5fa5cbb-b958-4b77-8c89-9efcb968c706",
        "colab": {
          "base_uri": "https://localhost:8080/",
          "height": 86
        }
      },
      "source": [
        "sess.run(my_var)"
      ],
      "execution_count": 0,
      "outputs": [
        {
          "output_type": "execute_result",
          "data": {
            "text/plain": [
              "array([[0.2713592 , 0.72205865, 0.76245606, 0.74320984],\n",
              "       [0.39731872, 0.44425392, 0.98684096, 0.4030732 ],\n",
              "       [0.59788465, 0.60348594, 0.33002746, 0.265283  ],\n",
              "       [0.5040655 , 0.55314124, 0.42404127, 0.82839835]], dtype=float32)"
            ]
          },
          "metadata": {
            "tags": []
          },
          "execution_count": 22
        }
      ]
    },
    {
      "cell_type": "code",
      "metadata": {
        "id": "1k6cdGuqnQVy",
        "colab_type": "code",
        "outputId": "7ca72d1c-405a-468a-d907-cca9c43351dc",
        "colab": {
          "base_uri": "https://localhost:8080/",
          "height": 86
        }
      },
      "source": [
        "print(sess.run(my_var))"
      ],
      "execution_count": 0,
      "outputs": [
        {
          "output_type": "stream",
          "text": [
            "[[0.2713592  0.72205865 0.76245606 0.74320984]\n",
            " [0.39731872 0.44425392 0.98684096 0.4030732 ]\n",
            " [0.59788465 0.60348594 0.33002746 0.265283  ]\n",
            " [0.5040655  0.55314124 0.42404127 0.82839835]]\n"
          ],
          "name": "stdout"
        }
      ]
    },
    {
      "cell_type": "code",
      "metadata": {
        "id": "LQPRi1LknTAT",
        "colab_type": "code",
        "colab": {}
      },
      "source": [
        "#Placeholders\n",
        "\n",
        "ph = tf.placeholder(tf.float32, shape=(None, 5))"
      ],
      "execution_count": 0,
      "outputs": []
    },
    {
      "cell_type": "code",
      "metadata": {
        "id": "71BnInxenuxt",
        "colab_type": "code",
        "outputId": "c31871e6-d597-43c0-ee5a-34bca7738586",
        "colab": {
          "base_uri": "https://localhost:8080/",
          "height": 34
        }
      },
      "source": [
        "print(ph)"
      ],
      "execution_count": 0,
      "outputs": [
        {
          "output_type": "stream",
          "text": [
            "Tensor(\"Placeholder:0\", dtype=float32)\n"
          ],
          "name": "stdout"
        }
      ]
    },
    {
      "cell_type": "code",
      "metadata": {
        "id": "VZ403Y1Pn1x9",
        "colab_type": "code",
        "colab": {}
      },
      "source": [
        ""
      ],
      "execution_count": 0,
      "outputs": []
    },
    {
      "cell_type": "markdown",
      "metadata": {
        "id": "LLfMe9IUoIgf",
        "colab_type": "text"
      },
      "source": [
        "#First Neural Network with Tensorflow\n",
        "\n",
        "\n",
        "1.   Build a Graph\n",
        "2.   Initiate the Session\n",
        "3.   Feed Data In and get Output\n",
        "\n",
        "Build the graph for the equation wx+b=z, where w and b are the variable, x is a placeholder. We are going to use two operations matmul and add. \n",
        "\n"
      ]
    },
    {
      "cell_type": "code",
      "metadata": {
        "id": "Ifd3HjwHoL_d",
        "colab_type": "code",
        "colab": {}
      },
      "source": [
        "import numpy as np"
      ],
      "execution_count": 0,
      "outputs": []
    },
    {
      "cell_type": "code",
      "metadata": {
        "id": "8x2MbzQ3pVTM",
        "colab_type": "code",
        "colab": {}
      },
      "source": [
        "np.random.seed(101)\n",
        "tf.set_random_seed(101)"
      ],
      "execution_count": 0,
      "outputs": []
    },
    {
      "cell_type": "code",
      "metadata": {
        "id": "t9DXBrN5pafM",
        "colab_type": "code",
        "colab": {}
      },
      "source": [
        "rand_a = np.random.uniform(0,100,(5,5))"
      ],
      "execution_count": 0,
      "outputs": []
    },
    {
      "cell_type": "code",
      "metadata": {
        "id": "G-08kB7cppVM",
        "colab_type": "code",
        "outputId": "d843ea52-af11-411f-d5e6-97628553068b",
        "colab": {
          "base_uri": "https://localhost:8080/",
          "height": 104
        }
      },
      "source": [
        "rand_a"
      ],
      "execution_count": 0,
      "outputs": [
        {
          "output_type": "execute_result",
          "data": {
            "text/plain": [
              "array([[51.63986277, 57.06675869,  2.84742265, 17.15216562, 68.52769817],\n",
              "       [83.38968626, 30.69662197, 89.36130797, 72.15438618, 18.99389542],\n",
              "       [55.42275911, 35.2131954 , 18.18924027, 78.56017619, 96.54832224],\n",
              "       [23.23536618,  8.35614337, 60.35484223, 72.89927573, 27.62388285],\n",
              "       [68.53063288, 51.78674742,  4.84845374, 13.78692376, 18.69674261]])"
            ]
          },
          "metadata": {
            "tags": []
          },
          "execution_count": 31
        }
      ]
    },
    {
      "cell_type": "code",
      "metadata": {
        "id": "SjNKSOm8pqot",
        "colab_type": "code",
        "outputId": "d2a5bd0e-8edb-47c0-905e-11bdaef2558c",
        "colab": {
          "base_uri": "https://localhost:8080/",
          "height": 104
        }
      },
      "source": [
        "rand_b = np.random.uniform(0,100,(5,1))\n",
        "rand_b"
      ],
      "execution_count": 0,
      "outputs": [
        {
          "output_type": "execute_result",
          "data": {
            "text/plain": [
              "array([[99.43179012],\n",
              "       [52.06653967],\n",
              "       [57.87895355],\n",
              "       [73.48190583],\n",
              "       [54.19617722]])"
            ]
          },
          "metadata": {
            "tags": []
          },
          "execution_count": 32
        }
      ]
    },
    {
      "cell_type": "code",
      "metadata": {
        "id": "pIkSEfO6pzas",
        "colab_type": "code",
        "colab": {}
      },
      "source": [
        "a = tf.placeholder(tf.float32)\n",
        "b = tf.placeholder(tf.float32)"
      ],
      "execution_count": 0,
      "outputs": []
    },
    {
      "cell_type": "code",
      "metadata": {
        "id": "2wWFfFHNp8N9",
        "colab_type": "code",
        "colab": {}
      },
      "source": [
        "add_op = a + b"
      ],
      "execution_count": 0,
      "outputs": []
    },
    {
      "cell_type": "code",
      "metadata": {
        "id": "FiFaq5j_qOtc",
        "colab_type": "code",
        "colab": {}
      },
      "source": [
        "mul_op = a * b"
      ],
      "execution_count": 0,
      "outputs": []
    },
    {
      "cell_type": "code",
      "metadata": {
        "id": "34RImuN9qQd8",
        "colab_type": "code",
        "outputId": "46a27c23-48df-44f7-e511-ee43d2528976",
        "colab": {
          "base_uri": "https://localhost:8080/",
          "height": 224
        }
      },
      "source": [
        "with tf.Session() as sess:\n",
        "  \n",
        "  add_result = sess.run(add_op, feed_dict={a:rand_a,b:rand_b})\n",
        "  print(add_result)\n",
        "  print(\"\\n\")\n",
        "  mul_result = sess.run(mul_op, feed_dict={a:rand_a, b:rand_b})\n",
        "  print(mul_result)"
      ],
      "execution_count": 0,
      "outputs": [
        {
          "output_type": "stream",
          "text": [
            "[[151.07166  156.49855  102.27921  116.58396  167.95949 ]\n",
            " [135.45622   82.76316  141.42784  124.22093   71.06043 ]\n",
            " [113.30171   93.09215   76.06819  136.43912  154.42728 ]\n",
            " [ 96.71727   81.83804  133.83675  146.38118  101.10579 ]\n",
            " [122.72681  105.982925  59.044632  67.9831    72.89292 ]]\n",
            "\n",
            "\n",
            "[[5134.644   5674.25     283.12433 1705.4707  6813.8315 ]\n",
            " [4341.8125  1598.267   4652.734   3756.8293   988.94635]\n",
            " [3207.8113  2038.1029  1052.7742  4546.9805  5588.1157 ]\n",
            " [1707.379    614.02527 4434.989   5356.7773  2029.8555 ]\n",
            " [3714.0984  2806.6438   262.76764  747.19855 1013.292  ]]\n"
          ],
          "name": "stdout"
        }
      ]
    },
    {
      "cell_type": "markdown",
      "metadata": {
        "id": "-xiLZrgKrydD",
        "colab_type": "text"
      },
      "source": [
        "#Example Network"
      ]
    },
    {
      "cell_type": "code",
      "metadata": {
        "id": "ihalt1jlr083",
        "colab_type": "code",
        "colab": {}
      },
      "source": [
        "n_features = 10\n",
        "n_dense_neurons = 3"
      ],
      "execution_count": 0,
      "outputs": []
    },
    {
      "cell_type": "code",
      "metadata": {
        "id": "iSML-G-WsCZ3",
        "colab_type": "code",
        "colab": {}
      },
      "source": [
        "x = tf.placeholder(tf.float32, shape=(None, n_features))"
      ],
      "execution_count": 0,
      "outputs": []
    },
    {
      "cell_type": "code",
      "metadata": {
        "id": "qn2nfp5SsNzn",
        "colab_type": "code",
        "colab": {}
      },
      "source": [
        "W = tf.Variable(tf.random_normal([n_features, n_dense_neurons]))"
      ],
      "execution_count": 0,
      "outputs": []
    },
    {
      "cell_type": "code",
      "metadata": {
        "id": "KWd-HZZWsWUm",
        "colab_type": "code",
        "colab": {}
      },
      "source": [
        "b = tf.Variable(tf.ones([n_dense_neurons]))"
      ],
      "execution_count": 0,
      "outputs": []
    },
    {
      "cell_type": "code",
      "metadata": {
        "id": "z06DNLxLsn-H",
        "colab_type": "code",
        "colab": {}
      },
      "source": [
        "xW = tf.matmul(x, W)"
      ],
      "execution_count": 0,
      "outputs": []
    },
    {
      "cell_type": "code",
      "metadata": {
        "id": "s9xyJjTRswJ3",
        "colab_type": "code",
        "colab": {}
      },
      "source": [
        "z = tf.add(xW, b)"
      ],
      "execution_count": 0,
      "outputs": []
    },
    {
      "cell_type": "code",
      "metadata": {
        "id": "1qAqlTfxszzH",
        "colab_type": "code",
        "colab": {}
      },
      "source": [
        "a = tf.sigmoid(z)"
      ],
      "execution_count": 0,
      "outputs": []
    },
    {
      "cell_type": "code",
      "metadata": {
        "id": "qHbN9sXRtFIH",
        "colab_type": "code",
        "colab": {}
      },
      "source": [
        "init = tf.global_variables_initializer()"
      ],
      "execution_count": 0,
      "outputs": []
    },
    {
      "cell_type": "code",
      "metadata": {
        "id": "AfdUcXzetIrp",
        "colab_type": "code",
        "colab": {}
      },
      "source": [
        "with tf.Session() as sess:\n",
        "  sess.run(init)\n",
        "  \n",
        "  layer_out = sess.run(a, feed_dict={x:np.random.random([1, n_features])})"
      ],
      "execution_count": 0,
      "outputs": []
    },
    {
      "cell_type": "code",
      "metadata": {
        "id": "HAFnrXcAt7eG",
        "colab_type": "code",
        "outputId": "86adc54d-cdaa-490a-84d2-e264c5b78b4b",
        "colab": {
          "base_uri": "https://localhost:8080/",
          "height": 34
        }
      },
      "source": [
        "print(layer_out)"
      ],
      "execution_count": 0,
      "outputs": [
        {
          "output_type": "stream",
          "text": [
            "[[0.98390293 0.45824224 0.27634442]]\n"
          ],
          "name": "stdout"
        }
      ]
    },
    {
      "cell_type": "code",
      "metadata": {
        "id": "iLOGxJQnt9_2",
        "colab_type": "code",
        "colab": {}
      },
      "source": [
        ""
      ],
      "execution_count": 0,
      "outputs": []
    },
    {
      "cell_type": "markdown",
      "metadata": {
        "id": "CIEpYFUl0nAw",
        "colab_type": "text"
      },
      "source": [
        "# Simple Linear Regression using Tensorflow"
      ]
    },
    {
      "cell_type": "code",
      "metadata": {
        "id": "lwlTRJt80rS4",
        "colab_type": "code",
        "colab": {}
      },
      "source": [
        "x_data = np.linspace(0,500,100) + np.random.uniform(-1.5, 1.5, 100)"
      ],
      "execution_count": 0,
      "outputs": []
    },
    {
      "cell_type": "code",
      "metadata": {
        "id": "G3wCkXVH02Wo",
        "colab_type": "code",
        "colab": {}
      },
      "source": [
        "y_label = np.linspace(0,500,100) + np.random.uniform(-1.5, 1.5, 100)"
      ],
      "execution_count": 0,
      "outputs": []
    },
    {
      "cell_type": "code",
      "metadata": {
        "id": "wv1LiTk_09AI",
        "colab_type": "code",
        "outputId": "eec5dfbc-ce30-466a-88a5-7a940ba4386f",
        "colab": {
          "base_uri": "https://localhost:8080/",
          "height": 743
        }
      },
      "source": [
        "print(x_data)\n",
        "print(\"\\n\")\n",
        "print(y_label)"
      ],
      "execution_count": 0,
      "outputs": [
        {
          "output_type": "stream",
          "text": [
            "[  0.87400768   4.16599445  10.01309042  14.7392111   21.59260147\n",
            "  24.1235735   31.04847266  36.38246952  39.04652422  45.22301377\n",
            "  49.1753421   56.97562192  59.33609887  64.7809697   69.75779906\n",
            "  75.56407652  81.2443901   86.98290711  91.41184583  94.80111017\n",
            " 100.78448397 105.68526869 111.64044015 116.60211163 120.47557889\n",
            " 125.34313844 130.73707671 135.26931109 140.05130177 147.15896292\n",
            " 152.5374003  155.52068164 161.32418184 167.7570686  170.70319395\n",
            " 176.86015473 182.02993734 186.62239581 191.14558159 197.85184674\n",
            " 200.88911414 206.14067344 211.9595137  217.61340061 221.45889049\n",
            " 228.33882475 233.46154685 238.36531069 242.80816851 247.64289407\n",
            " 251.93206257 257.77292845 263.29398052 266.61296808 272.34085465\n",
            " 278.89658279 282.26131889 287.59958837 293.16613976 297.78922224\n",
            " 302.01900827 307.30185264 314.06821658 317.55830817 323.84433851\n",
            " 327.80282294 333.39469746 338.66118397 343.29499441 348.19216109\n",
            " 354.54107769 358.70342912 364.38279043 367.55382051 373.10379356\n",
            " 379.34579341 383.6550525  387.43117054 393.76769738 398.79920097\n",
            " 404.69282841 409.25788088 413.605125   420.19323585 424.36024414\n",
            " 430.72497788 435.13919099 440.41890518 444.1030528  449.24477393\n",
            " 455.41888045 460.20746718 463.14991522 468.22546889 475.88746\n",
            " 480.96828594 484.28721145 488.63220756 495.74391631 501.09675559]\n",
            "\n",
            "\n",
            "[  0.51895372   3.95676199   8.94723279  14.925736    21.06664801\n",
            "  24.09046399  31.15125252  36.05008896  40.29545824  44.21312368\n",
            "  51.31651496  54.89011264  59.4274137   64.44819574  70.93039539\n",
            "  77.15633434  81.92111689  87.06584143  91.41990075  95.5373283\n",
            " 100.1921786  105.3003843  112.43129997 116.30642969 120.02012398\n",
            " 126.76930207 131.78687183 135.11577906 142.88780114 146.17641835\n",
            " 151.23182966 158.00363738 160.815689   165.84801192 172.34022049\n",
            " 176.24195132 181.04739111 185.46685805 192.3664253  196.08302747\n",
            " 201.30540518 206.9087314  213.32664095 215.82420292 221.65469407\n",
            " 227.97781594 230.82811925 238.48227536 241.86968763 248.7718833\n",
            " 251.63344544 258.18153393 263.47925165 267.8448484  273.19899462\n",
            " 277.64243316 282.54248496 287.94475395 293.4928701  296.5253673\n",
            " 302.16677838 309.05857925 311.86207238 316.82036942 323.93366101\n",
            " 328.7491303  332.38249461 338.748401   344.23423481 348.15236778\n",
            " 354.08298859 357.3445457  363.25589953 368.64837177 374.25538747\n",
            " 378.07796155 384.92304859 388.75032172 393.87786424 398.39730087\n",
            " 404.37221401 409.50603831 415.23267812 419.64799564 424.2067973\n",
            " 429.76189125 433.4499545  439.96041296 443.2408939  449.72432024\n",
            " 453.8178984  460.80904637 464.45367221 470.10606812 474.53439178\n",
            " 480.43612053 486.09896923 489.71083795 495.1103803  499.80993169]\n"
          ],
          "name": "stdout"
        }
      ]
    },
    {
      "cell_type": "code",
      "metadata": {
        "id": "_b_cA6tF1CpQ",
        "colab_type": "code",
        "colab": {}
      },
      "source": [
        "import matplotlib.pyplot as plt\n",
        "%matplotlib inline"
      ],
      "execution_count": 0,
      "outputs": []
    },
    {
      "cell_type": "code",
      "metadata": {
        "id": "4EAdTkvS1QmY",
        "colab_type": "code",
        "outputId": "f3063cda-17cc-4182-94c1-6485192f13b3",
        "colab": {
          "base_uri": "https://localhost:8080/",
          "height": 287
        }
      },
      "source": [
        "plt.plot(x_data, y_label, 'b')"
      ],
      "execution_count": 0,
      "outputs": [
        {
          "output_type": "execute_result",
          "data": {
            "text/plain": [
              "[<matplotlib.lines.Line2D at 0x7f33b292b940>]"
            ]
          },
          "metadata": {
            "tags": []
          },
          "execution_count": 131
        },
        {
          "output_type": "display_data",
          "data": {
            "image/png": "[encoded data removed]",
            "text/plain": [
              "<Figure size 432x288 with 1 Axes>"
            ]
          },
          "metadata": {
            "tags": []
          }
        }
      ]
    },
    {
      "cell_type": "code",
      "metadata": {
        "id": "l-f7u-D01Vi4",
        "colab_type": "code",
        "colab": {}
      },
      "source": [
        "m = tf.Variable(0.44)"
      ],
      "execution_count": 0,
      "outputs": []
    },
    {
      "cell_type": "code",
      "metadata": {
        "id": "AoZd85Uy19X4",
        "colab_type": "code",
        "colab": {}
      },
      "source": [
        "b = tf.Variable(0.87)"
      ],
      "execution_count": 0,
      "outputs": []
    },
    {
      "cell_type": "code",
      "metadata": {
        "id": "mjLMR67y2Cc4",
        "colab_type": "code",
        "colab": {}
      },
      "source": [
        "error = 0\n",
        "\n",
        "for x,y in zip(x_data, y_label):\n",
        "  \n",
        "  y_hat = m*x + b\n",
        "  \n",
        "  error += (y - y_hat)**2"
      ],
      "execution_count": 0,
      "outputs": []
    },
    {
      "cell_type": "code",
      "metadata": {
        "id": "xAPPvzu52jPm",
        "colab_type": "code",
        "colab": {}
      },
      "source": [
        "optimizer = tf.train.GradientDescentOptimizer(learning_rate=0.001)"
      ],
      "execution_count": 0,
      "outputs": []
    },
    {
      "cell_type": "code",
      "metadata": {
        "id": "7f1REIAc3Kez",
        "colab_type": "code",
        "colab": {}
      },
      "source": [
        "train = optimizer.minimize(error)"
      ],
      "execution_count": 0,
      "outputs": []
    },
    {
      "cell_type": "code",
      "metadata": {
        "id": "kOHbQgHl3QEL",
        "colab_type": "code",
        "colab": {}
      },
      "source": [
        "init = tf.global_variables_initializer()"
      ],
      "execution_count": 0,
      "outputs": []
    },
    {
      "cell_type": "code",
      "metadata": {
        "id": "EJi8rGDf3rAT",
        "colab_type": "code",
        "colab": {}
      },
      "source": [
        "with tf.Session() as sess:\n",
        "  \n",
        "  sess.run(init)\n",
        "  \n",
        "  training_steps = 10000\n",
        "  \n",
        "  for i in range(training_steps):\n",
        "    sess.run(train)\n",
        "    \n",
        "  final_slope, final_intercept = sess.run([m,b])"
      ],
      "execution_count": 0,
      "outputs": []
    },
    {
      "cell_type": "code",
      "metadata": {
        "id": "O2KgiJ_v4Z1I",
        "colab_type": "code",
        "colab": {}
      },
      "source": [
        "x_test = np.linspace(-1,500,100)"
      ],
      "execution_count": 0,
      "outputs": []
    },
    {
      "cell_type": "code",
      "metadata": {
        "id": "G_x4D8V_4gB7",
        "colab_type": "code",
        "outputId": "d2a40725-2ae9-48be-dcea-ed6560cafcfc",
        "colab": {
          "base_uri": "https://localhost:8080/",
          "height": 287
        }
      },
      "source": [
        "y_pred_plot = (final_slope * x_test ) + final_intercept\n",
        "\n",
        "plt.plot(x_test, y_pred_plot, \"r\")\n",
        "#plt.plot(x_data, y_label, \"b\")"
      ],
      "execution_count": 0,
      "outputs": [
        {
          "output_type": "execute_result",
          "data": {
            "text/plain": [
              "[<matplotlib.lines.Line2D at 0x7f33b0834c18>]"
            ]
          },
          "metadata": {
            "tags": []
          },
          "execution_count": 146
        },
        {
          "output_type": "display_data",
          "data": {
            "image/png": "[encoded data removed]",
            "text/plain": [
              "<Figure size 432x288 with 1 Axes>"
            ]
          },
          "metadata": {
            "tags": []
          }
        }
      ]
    },
    {
      "cell_type": "code",
      "metadata": {
        "id": "Rj64E2ci4wtW",
        "colab_type": "code",
        "colab": {}
      },
      "source": [
        ""
      ],
      "execution_count": 0,
      "outputs": []
    },
    {
      "cell_type": "markdown",
      "metadata": {
        "id": "leIepjrl-Kzp",
        "colab_type": "text"
      },
      "source": [
        "#Linear Regression with huge data set"
      ]
    },
    {
      "cell_type": "code",
      "metadata": {
        "id": "TV4UrDtv-RXt",
        "colab_type": "code",
        "colab": {}
      },
      "source": [
        "import pandas as pd"
      ],
      "execution_count": 0,
      "outputs": []
    },
    {
      "cell_type": "code",
      "metadata": {
        "id": "64n-UlMh-eB9",
        "colab_type": "code",
        "colab": {}
      },
      "source": [
        "x_data = np.linspace(0.0,10.0, 1000000)"
      ],
      "execution_count": 0,
      "outputs": []
    },
    {
      "cell_type": "code",
      "metadata": {
        "id": "fax8lWA1-rPK",
        "colab_type": "code",
        "colab": {}
      },
      "source": [
        "noise = np.random.randn(len(x_data))"
      ],
      "execution_count": 0,
      "outputs": []
    },
    {
      "cell_type": "code",
      "metadata": {
        "id": "owGbdUQW-wpG",
        "colab_type": "code",
        "outputId": "a1aa19b8-d95c-4503-e205-0cb9a8900593",
        "colab": {
          "base_uri": "https://localhost:8080/",
          "height": 52
        }
      },
      "source": [
        "x_data"
      ],
      "execution_count": 0,
      "outputs": [
        {
          "output_type": "execute_result",
          "data": {
            "text/plain": [
              "array([0.000000e+00, 1.000001e-05, 2.000002e-05, ..., 9.999980e+00,\n",
              "       9.999990e+00, 1.000000e+01])"
            ]
          },
          "metadata": {
            "tags": []
          },
          "execution_count": 150
        }
      ]
    },
    {
      "cell_type": "code",
      "metadata": {
        "id": "LmGZUC8e-xYG",
        "colab_type": "code",
        "colab": {}
      },
      "source": [
        "noise"
      ],
      "execution_count": 0,
      "outputs": []
    },
    {
      "cell_type": "markdown",
      "metadata": {
        "id": "T3tIvmnl_DNR",
        "colab_type": "text"
      },
      "source": [
        "y = mx + b,  here m is 0.5 and b is 5. "
      ]
    },
    {
      "cell_type": "code",
      "metadata": {
        "id": "Ccqf0aLO-ygm",
        "colab_type": "code",
        "colab": {}
      },
      "source": [
        "y_true = (0.5 * x_data) + 5 + noise"
      ],
      "execution_count": 0,
      "outputs": []
    },
    {
      "cell_type": "code",
      "metadata": {
        "id": "kdPWsnCm--gy",
        "colab_type": "code",
        "colab": {}
      },
      "source": [
        "x_df = pd.DataFrame(data = x_data, columns=[\"X Data\"])\n",
        "y_df = pd.DataFrame(data = y_true, columns= [\"Y\"])"
      ],
      "execution_count": 0,
      "outputs": []
    },
    {
      "cell_type": "code",
      "metadata": {
        "id": "x--JPk7N_fbe",
        "colab_type": "code",
        "colab": {}
      },
      "source": [
        "my_data = pd.concat([x_df,y_df], axis = 1)"
      ],
      "execution_count": 0,
      "outputs": []
    },
    {
      "cell_type": "code",
      "metadata": {
        "id": "8bZ30ASZ_neO",
        "colab_type": "code",
        "colab": {}
      },
      "source": [
        "my_data"
      ],
      "execution_count": 0,
      "outputs": []
    },
    {
      "cell_type": "code",
      "metadata": {
        "id": "z9XWddP0_odu",
        "colab_type": "code",
        "outputId": "f143f666-19f5-4cf2-8290-cd1ae38b2c40",
        "colab": {
          "base_uri": "https://localhost:8080/",
          "height": 301
        }
      },
      "source": [
        "my_data.sample(n=250).plot(kind=\"scatter\", x = 'X Data', y = 'Y')"
      ],
      "execution_count": 0,
      "outputs": [
        {
          "output_type": "execute_result",
          "data": {
            "text/plain": [
              "<matplotlib.axes._subplots.AxesSubplot at 0x7f33b0414390>"
            ]
          },
          "metadata": {
            "tags": []
          },
          "execution_count": 158
        },
        {
          "output_type": "display_data",
          "data": {
            "image/png": "[encoded data removed]",
            "text/plain": [
              "<Figure size 432x288 with 1 Axes>"
            ]
          },
          "metadata": {
            "tags": []
          }
        }
      ]
    },
    {
      "cell_type": "code",
      "metadata": {
        "id": "Qw_2Fy6M_xZc",
        "colab_type": "code",
        "colab": {}
      },
      "source": [
        "batch_size = 8"
      ],
      "execution_count": 0,
      "outputs": []
    },
    {
      "cell_type": "code",
      "metadata": {
        "id": "bWZ93OhvAXq4",
        "colab_type": "code",
        "colab": {}
      },
      "source": [
        "m = tf.Variable(0.81)"
      ],
      "execution_count": 0,
      "outputs": []
    },
    {
      "cell_type": "code",
      "metadata": {
        "id": "oc61eYaLAaII",
        "colab_type": "code",
        "colab": {}
      },
      "source": [
        "b = tf.Variable(0.17)"
      ],
      "execution_count": 0,
      "outputs": []
    },
    {
      "cell_type": "code",
      "metadata": {
        "id": "q5UdeEecAi1n",
        "colab_type": "code",
        "colab": {}
      },
      "source": [
        "xph = tf.placeholder(tf.float32, [batch_size])"
      ],
      "execution_count": 0,
      "outputs": []
    },
    {
      "cell_type": "code",
      "metadata": {
        "id": "Kj1VH8TKAsQX",
        "colab_type": "code",
        "colab": {}
      },
      "source": [
        "yph = tf.placeholder(tf.float32, [batch_size])"
      ],
      "execution_count": 0,
      "outputs": []
    },
    {
      "cell_type": "code",
      "metadata": {
        "id": "jcWIkC8yAy2q",
        "colab_type": "code",
        "colab": {}
      },
      "source": [
        "y_model  = m * xph + b"
      ],
      "execution_count": 0,
      "outputs": []
    },
    {
      "cell_type": "code",
      "metadata": {
        "id": "6sSi5bCIBGyV",
        "colab_type": "code",
        "colab": {}
      },
      "source": [
        "error = tf.reduce_sum(tf.square(yph - y_model))"
      ],
      "execution_count": 0,
      "outputs": []
    },
    {
      "cell_type": "code",
      "metadata": {
        "id": "BsYqj-qLBVl1",
        "colab_type": "code",
        "colab": {}
      },
      "source": [
        "optimizer = tf.train.GradientDescentOptimizer(learning_rate=0.001)\n"
      ],
      "execution_count": 0,
      "outputs": []
    },
    {
      "cell_type": "code",
      "metadata": {
        "id": "PROffvbdBeH6",
        "colab_type": "code",
        "colab": {}
      },
      "source": [
        "train = optimizer.minimize(error)"
      ],
      "execution_count": 0,
      "outputs": []
    },
    {
      "cell_type": "code",
      "metadata": {
        "id": "qFCtSRQvBhwl",
        "colab_type": "code",
        "colab": {}
      },
      "source": [
        "init = tf.global_variables_initializer()"
      ],
      "execution_count": 0,
      "outputs": []
    },
    {
      "cell_type": "code",
      "metadata": {
        "id": "Re5brZRFBrH1",
        "colab_type": "code",
        "colab": {}
      },
      "source": [
        "with tf.Session() as sess:\n",
        "  \n",
        "  sess.run(init)\n",
        "  \n",
        "  batches = 1000\n",
        "  \n",
        "  for i in range(batches):\n",
        "    \n",
        "    rand_ind = np.random.randint(len(x_data), size=batch_size)\n",
        "    \n",
        "    feed = {xph:x_data[rand_ind], yph:y_true[rand_ind]}\n",
        "    \n",
        "    sess.run(train, feed_dict = feed)\n",
        "    \n",
        "  model_m, model_b = sess.run([m,b])"
      ],
      "execution_count": 0,
      "outputs": []
    },
    {
      "cell_type": "code",
      "metadata": {
        "id": "GZOlRb4AC8y5",
        "colab_type": "code",
        "outputId": "51af345d-65b9-489b-8d6f-2f443bb3bc7f",
        "colab": {
          "base_uri": "https://localhost:8080/",
          "height": 52
        }
      },
      "source": [
        "print(model_m)\n",
        "print(model_b)"
      ],
      "execution_count": 0,
      "outputs": [
        {
          "output_type": "stream",
          "text": [
            "0.5284859\n",
            "4.940842\n"
          ],
          "name": "stdout"
        }
      ]
    },
    {
      "cell_type": "code",
      "metadata": {
        "id": "nqRZv7gPC_VR",
        "colab_type": "code",
        "colab": {}
      },
      "source": [
        "y_hat = x_data * model_m + model_b"
      ],
      "execution_count": 0,
      "outputs": []
    },
    {
      "cell_type": "code",
      "metadata": {
        "id": "fSeg2NlaDNVW",
        "colab_type": "code",
        "outputId": "ece6e9b4-71aa-43ab-c80d-f593d1e550cc",
        "colab": {
          "base_uri": "https://localhost:8080/",
          "height": 301
        }
      },
      "source": [
        "my_data.sample(250).plot(kind = 'scatter', x = 'X Data', y = 'Y')\n",
        "plt.plot(x_data, y_hat)"
      ],
      "execution_count": 0,
      "outputs": [
        {
          "output_type": "execute_result",
          "data": {
            "text/plain": [
              "[<matplotlib.lines.Line2D at 0x7f33b036c748>]"
            ]
          },
          "metadata": {
            "tags": []
          },
          "execution_count": 177
        },
        {
          "output_type": "display_data",
          "data": {
            "image/png": "[encoded data removed]",
            "text/plain": [
              "<Figure size 432x288 with 1 Axes>"
            ]
          },
          "metadata": {
            "tags": []
          }
        }
      ]
    },
    {
      "cell_type": "markdown",
      "metadata": {
        "id": "qi7Vrm8dDaGc",
        "colab_type": "text"
      },
      "source": [
        "#TensorFlow with Estimator API\n",
        "\n",
        "1  Define a list of feature columns \n",
        "\n",
        "---\n",
        "\n",
        "\n",
        "2  Create the Estimator Model\n",
        "\n",
        "---\n",
        "\n",
        "\n",
        "3  Create a Data input Function\n",
        "\n",
        "---\n",
        "\n",
        "\n",
        "4  Call train, evaluate and predict \n",
        "\n",
        "\n"
      ]
    },
    {
      "cell_type": "code",
      "metadata": {
        "id": "EvKtR0umElLV",
        "colab_type": "code",
        "colab": {}
      },
      "source": [
        "feat_cols = [tf.feature_column.numeric_column('x', shape=[1])]"
      ],
      "execution_count": 0,
      "outputs": []
    },
    {
      "cell_type": "code",
      "metadata": {
        "id": "WGuh952dJoki",
        "colab_type": "code",
        "colab": {}
      },
      "source": [
        "feat_cols"
      ],
      "execution_count": 0,
      "outputs": []
    },
    {
      "cell_type": "code",
      "metadata": {
        "id": "nzsq2xzDJp_h",
        "colab_type": "code",
        "outputId": "4f9139d1-0608-4d00-a964-e2c94c492c5d",
        "colab": {
          "base_uri": "https://localhost:8080/",
          "height": 34
        }
      },
      "source": [
        "estimator = tf.estimator.LinearRegressor(feature_columns = feat_cols)"
      ],
      "execution_count": 0,
      "outputs": [
        {
          "output_type": "stream",
          "text": [
            "W0725 17:22:57.273786 139861148710784 estimator.py:1811] Using temporary folder as model directory: /tmp/tmp18_7j7pl\n"
          ],
          "name": "stderr"
        }
      ]
    },
    {
      "cell_type": "code",
      "metadata": {
        "id": "1IvuXmnBJ-yw",
        "colab_type": "code",
        "colab": {}
      },
      "source": [
        "from sklearn.model_selection import train_test_split"
      ],
      "execution_count": 0,
      "outputs": []
    },
    {
      "cell_type": "code",
      "metadata": {
        "id": "dz2lUXQJKM4C",
        "colab_type": "code",
        "colab": {}
      },
      "source": [
        "x_train, x_eval, y_train, y_eval = train_test_split(x_data, y_true, test_size = 0.3, random_state=101)"
      ],
      "execution_count": 0,
      "outputs": []
    },
    {
      "cell_type": "code",
      "metadata": {
        "id": "o7IuvzZIKc1P",
        "colab_type": "code",
        "outputId": "42271100-5d0e-44d6-f426-0a43cd3f8583",
        "colab": {
          "base_uri": "https://localhost:8080/",
          "height": 34
        }
      },
      "source": [
        "print (x_train.shape)"
      ],
      "execution_count": 0,
      "outputs": [
        {
          "output_type": "stream",
          "text": [
            "(700000,)\n"
          ],
          "name": "stdout"
        }
      ]
    },
    {
      "cell_type": "code",
      "metadata": {
        "id": "OnLkc86QKfyP",
        "colab_type": "code",
        "outputId": "34cb1ad5-7494-4814-d528-0884a4885317",
        "colab": {
          "base_uri": "https://localhost:8080/",
          "height": 34
        }
      },
      "source": [
        "print (x_eval.shape)"
      ],
      "execution_count": 0,
      "outputs": [
        {
          "output_type": "stream",
          "text": [
            "(300000,)\n"
          ],
          "name": "stdout"
        }
      ]
    },
    {
      "cell_type": "code",
      "metadata": {
        "id": "TOCg1--mKiev",
        "colab_type": "code",
        "colab": {}
      },
      "source": [
        "input_func = tf.estimator.inputs.numpy_input_fn({'x':x_train}, y_train, batch_size =8, num_epochs = None, shuffle = True)"
      ],
      "execution_count": 0,
      "outputs": []
    },
    {
      "cell_type": "code",
      "metadata": {
        "id": "GUz2PvWULAnb",
        "colab_type": "code",
        "colab": {}
      },
      "source": [
        "train_input_func = tf.estimator.inputs.numpy_input_fn({'x':x_train}, y_train, batch_size = 8, num_epochs = 1000, shuffle = False)"
      ],
      "execution_count": 0,
      "outputs": []
    },
    {
      "cell_type": "code",
      "metadata": {
        "id": "OEVJsDv9L0z-",
        "colab_type": "code",
        "colab": {}
      },
      "source": [
        "test_input_func = tf.estimator.inputs.numpy_input_fn({'x':x_eval}, y_eval, batch_size = 8, num_epochs = 1000, shuffle = False)"
      ],
      "execution_count": 0,
      "outputs": []
    },
    {
      "cell_type": "code",
      "metadata": {
        "id": "v1wxmeCsL7Q-",
        "colab_type": "code",
        "outputId": "a974e0d3-da66-464b-9537-2fd18e1c33b0",
        "colab": {
          "base_uri": "https://localhost:8080/",
          "height": 34
        }
      },
      "source": [
        "estimator.train(input_fn= input_func, steps = 10000)\n"
      ],
      "execution_count": 0,
      "outputs": [
        {
          "output_type": "execute_result",
          "data": {
            "text/plain": [
              "<tensorflow_estimator.python.estimator.canned.linear.LinearRegressor at 0x7f33b08ae1d0>"
            ]
          },
          "metadata": {
            "tags": []
          },
          "execution_count": 195
        }
      ]
    },
    {
      "cell_type": "code",
      "metadata": {
        "id": "PqOFaBXGMCpd",
        "colab_type": "code",
        "colab": {}
      },
      "source": [
        "train_metrics = estimator.evaluate(input_fn=train_input_func, steps = 1000)"
      ],
      "execution_count": 0,
      "outputs": []
    },
    {
      "cell_type": "code",
      "metadata": {
        "id": "GgGm74OYM4wV",
        "colab_type": "code",
        "outputId": "055f2251-40ad-42a3-8925-7feaf0ca97aa",
        "colab": {
          "base_uri": "https://localhost:8080/",
          "height": 34
        }
      },
      "source": [
        "print(train_metrics)"
      ],
      "execution_count": 0,
      "outputs": [
        {
          "output_type": "stream",
          "text": [
            "{'average_loss': 1.0160408, 'label/mean': 7.529624, 'loss': 8.128326, 'prediction/mean': 7.5193267, 'global_step': 13000}\n"
          ],
          "name": "stdout"
        }
      ]
    },
    {
      "cell_type": "code",
      "metadata": {
        "id": "0afoUkhhM9uN",
        "colab_type": "code",
        "colab": {}
      },
      "source": [
        "eval_metrics = estimator.evaluate(input_fn = test_input_func, steps = 1000)"
      ],
      "execution_count": 0,
      "outputs": []
    },
    {
      "cell_type": "code",
      "metadata": {
        "id": "rJ4ghkW2NI2N",
        "colab_type": "code",
        "outputId": "c3fa9ec9-5fd1-4c93-e284-0835e2db15d5",
        "colab": {
          "base_uri": "https://localhost:8080/",
          "height": 34
        }
      },
      "source": [
        "print(eval_metrics)"
      ],
      "execution_count": 0,
      "outputs": [
        {
          "output_type": "stream",
          "text": [
            "{'average_loss': 1.002571, 'label/mean': 7.474285, 'loss': 8.020568, 'prediction/mean': 7.501214, 'global_step': 13000}\n"
          ],
          "name": "stdout"
        }
      ]
    },
    {
      "cell_type": "code",
      "metadata": {
        "id": "q934bXemNVa8",
        "colab_type": "code",
        "colab": {}
      },
      "source": [
        "brand_new_data = np.linspace(0,10,10)\n",
        "input_fn_predict = tf.estimator.inputs.numpy_input_fn({'x':brand_new_data}, shuffle = False)"
      ],
      "execution_count": 0,
      "outputs": []
    },
    {
      "cell_type": "code",
      "metadata": {
        "id": "xQhm02cAN-Nx",
        "colab_type": "code",
        "outputId": "e1809224-7554-42dc-a288-b811c3938755",
        "colab": {
          "base_uri": "https://localhost:8080/",
          "height": 190
        }
      },
      "source": [
        "list(estimator.predict(input_fn = input_fn_predict))"
      ],
      "execution_count": 0,
      "outputs": [
        {
          "output_type": "execute_result",
          "data": {
            "text/plain": [
              "[{'predictions': array([5.0123224], dtype=float32)},\n",
              " {'predictions': array([5.5691833], dtype=float32)},\n",
              " {'predictions': array([6.1260443], dtype=float32)},\n",
              " {'predictions': array([6.682905], dtype=float32)},\n",
              " {'predictions': array([7.2397666], dtype=float32)},\n",
              " {'predictions': array([7.7966275], dtype=float32)},\n",
              " {'predictions': array([8.353489], dtype=float32)},\n",
              " {'predictions': array([8.91035], dtype=float32)},\n",
              " {'predictions': array([9.467211], dtype=float32)},\n",
              " {'predictions': array([10.024072], dtype=float32)}]"
            ]
          },
          "metadata": {
            "tags": []
          },
          "execution_count": 203
        }
      ]
    },
    {
      "cell_type": "code",
      "metadata": {
        "id": "ggu2gLTKOGfy",
        "colab_type": "code",
        "colab": {}
      },
      "source": [
        "predictions = []\n",
        "\n",
        "for pred in estimator.predict(input_fn = input_fn_predict):\n",
        "  \n",
        "  predictions.append(pred['predictions'])"
      ],
      "execution_count": 0,
      "outputs": []
    },
    {
      "cell_type": "code",
      "metadata": {
        "id": "li3dKvDrOW6L",
        "colab_type": "code",
        "outputId": "3de3ef49-6266-4902-8915-4e834e212dc6",
        "colab": {
          "base_uri": "https://localhost:8080/",
          "height": 190
        }
      },
      "source": [
        "predictions"
      ],
      "execution_count": 0,
      "outputs": [
        {
          "output_type": "execute_result",
          "data": {
            "text/plain": [
              "[array([5.0123224], dtype=float32),\n",
              " array([5.5691833], dtype=float32),\n",
              " array([6.1260443], dtype=float32),\n",
              " array([6.682905], dtype=float32),\n",
              " array([7.2397666], dtype=float32),\n",
              " array([7.7966275], dtype=float32),\n",
              " array([8.353489], dtype=float32),\n",
              " array([8.91035], dtype=float32),\n",
              " array([9.467211], dtype=float32),\n",
              " array([10.024072], dtype=float32)]"
            ]
          },
          "metadata": {
            "tags": []
          },
          "execution_count": 205
        }
      ]
    },
    {
      "cell_type": "code",
      "metadata": {
        "id": "UJyZU5jHOXpL",
        "colab_type": "code",
        "outputId": "ebd5efd9-2754-43ab-985d-988cb895768d",
        "colab": {
          "base_uri": "https://localhost:8080/",
          "height": 301
        }
      },
      "source": [
        "my_data.sample(n=250).plot(kind=\"scatter\", x = 'X Data', y = \"Y\")\n",
        "plt.plot(brand_new_data, predictions, 'r')"
      ],
      "execution_count": 0,
      "outputs": [
        {
          "output_type": "execute_result",
          "data": {
            "text/plain": [
              "[<matplotlib.lines.Line2D at 0x7f33b3887eb8>]"
            ]
          },
          "metadata": {
            "tags": []
          },
          "execution_count": 210
        },
        {
          "output_type": "display_data",
          "data": {
            "image/png": "[encoded data removed]",
            "text/plain": [
              "<Figure size 432x288 with 1 Axes>"
            ]
          },
          "metadata": {
            "tags": []
          }
        }
      ]
    },
    {
      "cell_type": "markdown",
      "metadata": {
        "id": "_ipi69uDOgTw",
        "colab_type": "text"
      },
      "source": [
        "#Classification with Tensorflow Real Dataset\n",
        "\n",
        "Pima Indians Diabetes Dataset, Tf.estimator API Categorical and Continuous Features, LinearClassifier and DNN Classifier\n"
      ]
    },
    {
      "cell_type": "code",
      "metadata": {
        "id": "94pElHi5Zc3n",
        "colab_type": "code",
        "colab": {}
      },
      "source": [
        "import pandas as pd"
      ],
      "execution_count": 0,
      "outputs": []
    },
    {
      "cell_type": "code",
      "metadata": {
        "id": "Plrka0g_iKdH",
        "colab_type": "code",
        "colab": {}
      },
      "source": [
        "diabetes = pd.read_csv('pima-indians-diabetes.csv')"
      ],
      "execution_count": 0,
      "outputs": []
    },
    {
      "cell_type": "code",
      "metadata": {
        "id": "tbvcsBZAi79d",
        "colab_type": "code",
        "outputId": "b021be1e-1537-4773-aaac-5fcc8f16f89e",
        "colab": {
          "base_uri": "https://localhost:8080/",
          "height": 198
        }
      },
      "source": [
        "diabetes.head()"
      ],
      "execution_count": 0,
      "outputs": [
        {
          "output_type": "execute_result",
          "data": {
            "text/html": [
              "<div>\n",
              "<style scoped>\n",
              "    .dataframe tbody tr th:only-of-type {\n",
              "        vertical-align: middle;\n",
              "    }\n",
              "\n",
              "    .dataframe tbody tr th {\n",
              "        vertical-align: top;\n",
              "    }\n",
              "\n",
              "    .dataframe thead th {\n",
              "        text-align: right;\n",
              "    }\n",
              "</style>\n",
              "<table border=\"1\" class=\"dataframe\">\n",
              "  <thead>\n",
              "    <tr style=\"text-align: right;\">\n",
              "      <th></th>\n",
              "      <th>Number_pregnant</th>\n",
              "      <th>Glucose_concentration</th>\n",
              "      <th>Blood_pressure</th>\n",
              "      <th>Triceps</th>\n",
              "      <th>Insulin</th>\n",
              "      <th>BMI</th>\n",
              "      <th>Pedigree</th>\n",
              "      <th>Age</th>\n",
              "      <th>Class</th>\n",
              "      <th>Group</th>\n",
              "    </tr>\n",
              "  </thead>\n",
              "  <tbody>\n",
              "    <tr>\n",
              "      <th>0</th>\n",
              "      <td>6</td>\n",
              "      <td>0.743719</td>\n",
              "      <td>0.590164</td>\n",
              "      <td>0.353535</td>\n",
              "      <td>0.000000</td>\n",
              "      <td>0.500745</td>\n",
              "      <td>0.234415</td>\n",
              "      <td>50</td>\n",
              "      <td>1</td>\n",
              "      <td>B</td>\n",
              "    </tr>\n",
              "    <tr>\n",
              "      <th>1</th>\n",
              "      <td>1</td>\n",
              "      <td>0.427136</td>\n",
              "      <td>0.540984</td>\n",
              "      <td>0.292929</td>\n",
              "      <td>0.000000</td>\n",
              "      <td>0.396423</td>\n",
              "      <td>0.116567</td>\n",
              "      <td>31</td>\n",
              "      <td>0</td>\n",
              "      <td>C</td>\n",
              "    </tr>\n",
              "    <tr>\n",
              "      <th>2</th>\n",
              "      <td>8</td>\n",
              "      <td>0.919598</td>\n",
              "      <td>0.524590</td>\n",
              "      <td>0.000000</td>\n",
              "      <td>0.000000</td>\n",
              "      <td>0.347243</td>\n",
              "      <td>0.253629</td>\n",
              "      <td>32</td>\n",
              "      <td>1</td>\n",
              "      <td>B</td>\n",
              "    </tr>\n",
              "    <tr>\n",
              "      <th>3</th>\n",
              "      <td>1</td>\n",
              "      <td>0.447236</td>\n",
              "      <td>0.540984</td>\n",
              "      <td>0.232323</td>\n",
              "      <td>0.111111</td>\n",
              "      <td>0.418778</td>\n",
              "      <td>0.038002</td>\n",
              "      <td>21</td>\n",
              "      <td>0</td>\n",
              "      <td>B</td>\n",
              "    </tr>\n",
              "    <tr>\n",
              "      <th>4</th>\n",
              "      <td>0</td>\n",
              "      <td>0.688442</td>\n",
              "      <td>0.327869</td>\n",
              "      <td>0.353535</td>\n",
              "      <td>0.198582</td>\n",
              "      <td>0.642325</td>\n",
              "      <td>0.943638</td>\n",
              "      <td>33</td>\n",
              "      <td>1</td>\n",
              "      <td>C</td>\n",
              "    </tr>\n",
              "  </tbody>\n",
              "</table>\n",
              "</div>"
            ],
            "text/plain": [
              "   Number_pregnant  Glucose_concentration  Blood_pressure  ...  Age  Class  Group\n",
              "0                6               0.743719        0.590164  ...   50      1      B\n",
              "1                1               0.427136        0.540984  ...   31      0      C\n",
              "2                8               0.919598        0.524590  ...   32      1      B\n",
              "3                1               0.447236        0.540984  ...   21      0      B\n",
              "4                0               0.688442        0.327869  ...   33      1      C\n",
              "\n",
              "[5 rows x 10 columns]"
            ]
          },
          "metadata": {
            "tags": []
          },
          "execution_count": 214
        }
      ]
    },
    {
      "cell_type": "code",
      "metadata": {
        "id": "jggkSjiPi9ZN",
        "colab_type": "code",
        "outputId": "b2aabc2d-0e69-4a61-810b-616954d39ac9",
        "colab": {
          "base_uri": "https://localhost:8080/",
          "height": 69
        }
      },
      "source": [
        "diabetes.columns"
      ],
      "execution_count": 0,
      "outputs": [
        {
          "output_type": "execute_result",
          "data": {
            "text/plain": [
              "Index(['Number_pregnant', 'Glucose_concentration', 'Blood_pressure', 'Triceps',\n",
              "       'Insulin', 'BMI', 'Pedigree', 'Age', 'Class', 'Group'],\n",
              "      dtype='object')"
            ]
          },
          "metadata": {
            "tags": []
          },
          "execution_count": 215
        }
      ]
    },
    {
      "cell_type": "code",
      "metadata": {
        "id": "5VAk5GW0jOBe",
        "colab_type": "code",
        "colab": {}
      },
      "source": [
        "cols_to_norm = ['Number_pregnant', 'Glucose_concentration', 'Blood_pressure', 'Triceps',\n",
        "       'Insulin', 'BMI', 'Pedigree']"
      ],
      "execution_count": 0,
      "outputs": []
    },
    {
      "cell_type": "code",
      "metadata": {
        "id": "oEv0qIITjaQ9",
        "colab_type": "code",
        "outputId": "d548f13d-68d1-4023-c47e-83e3f5cfb88c",
        "colab": {
          "base_uri": "https://localhost:8080/",
          "height": 138
        }
      },
      "source": [
        "cols_to_norm"
      ],
      "execution_count": 0,
      "outputs": [
        {
          "output_type": "execute_result",
          "data": {
            "text/plain": [
              "['Number_pregnant',\n",
              " 'Glucose_concentration',\n",
              " 'Blood_pressure',\n",
              " 'Triceps',\n",
              " 'Insulin',\n",
              " 'BMI',\n",
              " 'Pedigree']"
            ]
          },
          "metadata": {
            "tags": []
          },
          "execution_count": 217
        }
      ]
    },
    {
      "cell_type": "code",
      "metadata": {
        "id": "-drb1XzJjddd",
        "colab_type": "code",
        "colab": {}
      },
      "source": [
        "diabetes[cols_to_norm] = diabetes[cols_to_norm].apply(lambda x: (x - x.min() / (x.max() - x.min())))"
      ],
      "execution_count": 0,
      "outputs": []
    },
    {
      "cell_type": "code",
      "metadata": {
        "id": "bHWk6Tudj_At",
        "colab_type": "code",
        "outputId": "5c5ee10f-2458-4f68-cf3f-a14fdbd50cbc",
        "colab": {
          "base_uri": "https://localhost:8080/",
          "height": 198
        }
      },
      "source": [
        "diabetes.head()"
      ],
      "execution_count": 0,
      "outputs": [
        {
          "output_type": "execute_result",
          "data": {
            "text/html": [
              "<div>\n",
              "<style scoped>\n",
              "    .dataframe tbody tr th:only-of-type {\n",
              "        vertical-align: middle;\n",
              "    }\n",
              "\n",
              "    .dataframe tbody tr th {\n",
              "        vertical-align: top;\n",
              "    }\n",
              "\n",
              "    .dataframe thead th {\n",
              "        text-align: right;\n",
              "    }\n",
              "</style>\n",
              "<table border=\"1\" class=\"dataframe\">\n",
              "  <thead>\n",
              "    <tr style=\"text-align: right;\">\n",
              "      <th></th>\n",
              "      <th>Number_pregnant</th>\n",
              "      <th>Glucose_concentration</th>\n",
              "      <th>Blood_pressure</th>\n",
              "      <th>Triceps</th>\n",
              "      <th>Insulin</th>\n",
              "      <th>BMI</th>\n",
              "      <th>Pedigree</th>\n",
              "      <th>Age</th>\n",
              "      <th>Class</th>\n",
              "      <th>Group</th>\n",
              "    </tr>\n",
              "  </thead>\n",
              "  <tbody>\n",
              "    <tr>\n",
              "      <th>0</th>\n",
              "      <td>6.0</td>\n",
              "      <td>0.743719</td>\n",
              "      <td>0.590164</td>\n",
              "      <td>0.353535</td>\n",
              "      <td>0.000000</td>\n",
              "      <td>0.500745</td>\n",
              "      <td>0.234415</td>\n",
              "      <td>50</td>\n",
              "      <td>1</td>\n",
              "      <td>B</td>\n",
              "    </tr>\n",
              "    <tr>\n",
              "      <th>1</th>\n",
              "      <td>1.0</td>\n",
              "      <td>0.427136</td>\n",
              "      <td>0.540984</td>\n",
              "      <td>0.292929</td>\n",
              "      <td>0.000000</td>\n",
              "      <td>0.396423</td>\n",
              "      <td>0.116567</td>\n",
              "      <td>31</td>\n",
              "      <td>0</td>\n",
              "      <td>C</td>\n",
              "    </tr>\n",
              "    <tr>\n",
              "      <th>2</th>\n",
              "      <td>8.0</td>\n",
              "      <td>0.919598</td>\n",
              "      <td>0.524590</td>\n",
              "      <td>0.000000</td>\n",
              "      <td>0.000000</td>\n",
              "      <td>0.347243</td>\n",
              "      <td>0.253629</td>\n",
              "      <td>32</td>\n",
              "      <td>1</td>\n",
              "      <td>B</td>\n",
              "    </tr>\n",
              "    <tr>\n",
              "      <th>3</th>\n",
              "      <td>1.0</td>\n",
              "      <td>0.447236</td>\n",
              "      <td>0.540984</td>\n",
              "      <td>0.232323</td>\n",
              "      <td>0.111111</td>\n",
              "      <td>0.418778</td>\n",
              "      <td>0.038002</td>\n",
              "      <td>21</td>\n",
              "      <td>0</td>\n",
              "      <td>B</td>\n",
              "    </tr>\n",
              "    <tr>\n",
              "      <th>4</th>\n",
              "      <td>0.0</td>\n",
              "      <td>0.688442</td>\n",
              "      <td>0.327869</td>\n",
              "      <td>0.353535</td>\n",
              "      <td>0.198582</td>\n",
              "      <td>0.642325</td>\n",
              "      <td>0.943638</td>\n",
              "      <td>33</td>\n",
              "      <td>1</td>\n",
              "      <td>C</td>\n",
              "    </tr>\n",
              "  </tbody>\n",
              "</table>\n",
              "</div>"
            ],
            "text/plain": [
              "   Number_pregnant  Glucose_concentration  Blood_pressure  ...  Age  Class  Group\n",
              "0              6.0               0.743719        0.590164  ...   50      1      B\n",
              "1              1.0               0.427136        0.540984  ...   31      0      C\n",
              "2              8.0               0.919598        0.524590  ...   32      1      B\n",
              "3              1.0               0.447236        0.540984  ...   21      0      B\n",
              "4              0.0               0.688442        0.327869  ...   33      1      C\n",
              "\n",
              "[5 rows x 10 columns]"
            ]
          },
          "metadata": {
            "tags": []
          },
          "execution_count": 220
        }
      ]
    },
    {
      "cell_type": "code",
      "metadata": {
        "id": "2Pvrw_KakACu",
        "colab_type": "code",
        "colab": {}
      },
      "source": [
        "import tensorflow as tf"
      ],
      "execution_count": 0,
      "outputs": []
    },
    {
      "cell_type": "code",
      "metadata": {
        "id": "ix02LwFzkHqO",
        "colab_type": "code",
        "colab": {}
      },
      "source": [
        "num_preg = tf.feature_column.numeric_column(\"Number_pregnant\")\n",
        "plasma_gluc = tf.feature_column.numeric_column(\"Glucose_concentration\")\n",
        "dias_press = tf.feature_column.numeric_column(\"Blood_pressure\")\n",
        "tricep = tf.feature_column.numeric_column(\"Triceps\")\n",
        "insulin = tf.feature_column.numeric_column(\"Insulin\")\n",
        "bmi = tf.feature_column.numeric_column(\"BMI\")\n",
        "diabetes_pedigree = tf.feature_column.numeric_column(\"Pedigree\")\n",
        "age = tf.feature_column.numeric_column(\"Age\")"
      ],
      "execution_count": 0,
      "outputs": []
    },
    {
      "cell_type": "code",
      "metadata": {
        "id": "B9-9AeddqfeK",
        "colab_type": "code",
        "outputId": "2c9a5ff6-68f7-49dc-855c-5d230bcb5177",
        "colab": {
          "base_uri": "https://localhost:8080/",
          "height": 34
        }
      },
      "source": [
        "print(type(num_preg))"
      ],
      "execution_count": 0,
      "outputs": [
        {
          "output_type": "stream",
          "text": [
            "<class 'tensorflow.python.feature_column.feature_column_v2.NumericColumn'>\n"
          ],
          "name": "stdout"
        }
      ]
    },
    {
      "cell_type": "code",
      "metadata": {
        "id": "RHdDUNJ5lBDd",
        "colab_type": "code",
        "colab": {}
      },
      "source": [
        "assigned_group = tf.feature_column.categorical_column_with_vocabulary_list(\"Group\", ['A',\"B\",\"C\",\"D\"])"
      ],
      "execution_count": 0,
      "outputs": []
    },
    {
      "cell_type": "markdown",
      "metadata": {
        "id": "9CBwOGTOlZTj",
        "colab_type": "text"
      },
      "source": [
        "\n",
        "\n",
        "\n",
        "```\n",
        "# This is formatted as code\n",
        "```\n",
        "\n",
        "\n",
        "assigned_group = tf.feature_column.categorical_column_with_hash_bucket(\"Group\", hash_bucket_size=10)"
      ]
    },
    {
      "cell_type": "code",
      "metadata": {
        "id": "fRv_Q8mNlusr",
        "colab_type": "code",
        "colab": {}
      },
      "source": [
        "import matplotlib.pyplot as plt\n",
        "%matplotlib inline"
      ],
      "execution_count": 0,
      "outputs": []
    },
    {
      "cell_type": "code",
      "metadata": {
        "id": "hyk-ll7Ml5Jn",
        "colab_type": "code",
        "colab": {}
      },
      "source": [
        "age_bucket = tf.feature_column.bucketized_column(age, boundaries=[20,30,40,50,60,70,80])"
      ],
      "execution_count": 0,
      "outputs": []
    },
    {
      "cell_type": "code",
      "metadata": {
        "id": "SP3u98AcmSOd",
        "colab_type": "code",
        "colab": {}
      },
      "source": [
        "feat_cols = [num_preg, plasma_gluc, dias_press, tricep, insulin, bmi, diabetes_pedigree, assigned_group, age_bucket]"
      ],
      "execution_count": 0,
      "outputs": []
    },
    {
      "cell_type": "markdown",
      "metadata": {
        "id": "6BsAlNIZqn3g",
        "colab_type": "text"
      },
      "source": [
        "\n",
        "\n",
        "```\n",
        "# This is formatted as code\n",
        "```\n",
        "\n",
        "print((feat_cols))"
      ]
    },
    {
      "cell_type": "code",
      "metadata": {
        "id": "JAwXgVlzmmzp",
        "colab_type": "code",
        "colab": {}
      },
      "source": [
        "x_data = diabetes.drop('Class', axis = 1)"
      ],
      "execution_count": 0,
      "outputs": []
    },
    {
      "cell_type": "code",
      "metadata": {
        "id": "PeJL_cSNmwyZ",
        "colab_type": "code",
        "outputId": "f90d6bc4-359d-473a-e26c-24a56e952d00",
        "colab": {
          "base_uri": "https://localhost:8080/",
          "height": 198
        }
      },
      "source": [
        "x_data.head()"
      ],
      "execution_count": 0,
      "outputs": [
        {
          "output_type": "execute_result",
          "data": {
            "text/html": [
              "<div>\n",
              "<style scoped>\n",
              "    .dataframe tbody tr th:only-of-type {\n",
              "        vertical-align: middle;\n",
              "    }\n",
              "\n",
              "    .dataframe tbody tr th {\n",
              "        vertical-align: top;\n",
              "    }\n",
              "\n",
              "    .dataframe thead th {\n",
              "        text-align: right;\n",
              "    }\n",
              "</style>\n",
              "<table border=\"1\" class=\"dataframe\">\n",
              "  <thead>\n",
              "    <tr style=\"text-align: right;\">\n",
              "      <th></th>\n",
              "      <th>Number_pregnant</th>\n",
              "      <th>Glucose_concentration</th>\n",
              "      <th>Blood_pressure</th>\n",
              "      <th>Triceps</th>\n",
              "      <th>Insulin</th>\n",
              "      <th>BMI</th>\n",
              "      <th>Pedigree</th>\n",
              "      <th>Age</th>\n",
              "      <th>Group</th>\n",
              "    </tr>\n",
              "  </thead>\n",
              "  <tbody>\n",
              "    <tr>\n",
              "      <th>0</th>\n",
              "      <td>6.0</td>\n",
              "      <td>0.743719</td>\n",
              "      <td>0.590164</td>\n",
              "      <td>0.353535</td>\n",
              "      <td>0.000000</td>\n",
              "      <td>0.500745</td>\n",
              "      <td>0.234415</td>\n",
              "      <td>50</td>\n",
              "      <td>B</td>\n",
              "    </tr>\n",
              "    <tr>\n",
              "      <th>1</th>\n",
              "      <td>1.0</td>\n",
              "      <td>0.427136</td>\n",
              "      <td>0.540984</td>\n",
              "      <td>0.292929</td>\n",
              "      <td>0.000000</td>\n",
              "      <td>0.396423</td>\n",
              "      <td>0.116567</td>\n",
              "      <td>31</td>\n",
              "      <td>C</td>\n",
              "    </tr>\n",
              "    <tr>\n",
              "      <th>2</th>\n",
              "      <td>8.0</td>\n",
              "      <td>0.919598</td>\n",
              "      <td>0.524590</td>\n",
              "      <td>0.000000</td>\n",
              "      <td>0.000000</td>\n",
              "      <td>0.347243</td>\n",
              "      <td>0.253629</td>\n",
              "      <td>32</td>\n",
              "      <td>B</td>\n",
              "    </tr>\n",
              "    <tr>\n",
              "      <th>3</th>\n",
              "      <td>1.0</td>\n",
              "      <td>0.447236</td>\n",
              "      <td>0.540984</td>\n",
              "      <td>0.232323</td>\n",
              "      <td>0.111111</td>\n",
              "      <td>0.418778</td>\n",
              "      <td>0.038002</td>\n",
              "      <td>21</td>\n",
              "      <td>B</td>\n",
              "    </tr>\n",
              "    <tr>\n",
              "      <th>4</th>\n",
              "      <td>0.0</td>\n",
              "      <td>0.688442</td>\n",
              "      <td>0.327869</td>\n",
              "      <td>0.353535</td>\n",
              "      <td>0.198582</td>\n",
              "      <td>0.642325</td>\n",
              "      <td>0.943638</td>\n",
              "      <td>33</td>\n",
              "      <td>C</td>\n",
              "    </tr>\n",
              "  </tbody>\n",
              "</table>\n",
              "</div>"
            ],
            "text/plain": [
              "   Number_pregnant  Glucose_concentration  Blood_pressure  ...  Pedigree  Age  Group\n",
              "0              6.0               0.743719        0.590164  ...  0.234415   50      B\n",
              "1              1.0               0.427136        0.540984  ...  0.116567   31      C\n",
              "2              8.0               0.919598        0.524590  ...  0.253629   32      B\n",
              "3              1.0               0.447236        0.540984  ...  0.038002   21      B\n",
              "4              0.0               0.688442        0.327869  ...  0.943638   33      C\n",
              "\n",
              "[5 rows x 9 columns]"
            ]
          },
          "metadata": {
            "tags": []
          },
          "execution_count": 243
        }
      ]
    },
    {
      "cell_type": "code",
      "metadata": {
        "id": "HmwjEwsYnSJb",
        "colab_type": "code",
        "colab": {}
      },
      "source": [
        "labels = diabetes['Class']"
      ],
      "execution_count": 0,
      "outputs": []
    },
    {
      "cell_type": "code",
      "metadata": {
        "id": "sJeU2_ofmx6e",
        "colab_type": "code",
        "colab": {}
      },
      "source": [
        "from sklearn.model_selection import train_test_split"
      ],
      "execution_count": 0,
      "outputs": []
    },
    {
      "cell_type": "code",
      "metadata": {
        "id": "h8J5dbIdm55o",
        "colab_type": "code",
        "colab": {}
      },
      "source": [
        "X_train, X_test, y_train, y_test = train_test_split(x_data, labels, test_size=0.3, random_state=101)  "
      ],
      "execution_count": 0,
      "outputs": []
    },
    {
      "cell_type": "code",
      "metadata": {
        "id": "vbMboGwZnPwY",
        "colab_type": "code",
        "colab": {}
      },
      "source": [
        "input_func = tf.estimator.inputs.pandas_input_fn(x=X_train, y=y_train, batch_size=10, num_epochs=1000, shuffle=True)"
      ],
      "execution_count": 0,
      "outputs": []
    },
    {
      "cell_type": "code",
      "metadata": {
        "id": "KTZiI0KtoFEY",
        "colab_type": "code",
        "outputId": "103803c5-52d3-48d5-8a8f-0675c51e0129",
        "colab": {
          "base_uri": "https://localhost:8080/",
          "height": 34
        }
      },
      "source": [
        "model = tf.estimator.LinearClassifier(feature_columns=feat_cols, n_classes=2)"
      ],
      "execution_count": 0,
      "outputs": [
        {
          "output_type": "stream",
          "text": [
            "W0725 19:36:39.903706 139861148710784 estimator.py:1811] Using temporary folder as model directory: /tmp/tmpp49x5egp\n"
          ],
          "name": "stderr"
        }
      ]
    },
    {
      "cell_type": "code",
      "metadata": {
        "id": "J3rTIsGjoT7o",
        "colab_type": "code",
        "outputId": "40cbd72e-b616-4f3d-e909-f6428345ad38",
        "colab": {
          "base_uri": "https://localhost:8080/",
          "height": 34
        }
      },
      "source": [
        "model.train(input_fn=input_func, steps=1000)"
      ],
      "execution_count": 0,
      "outputs": [
        {
          "output_type": "execute_result",
          "data": {
            "text/plain": [
              "<tensorflow_estimator.python.estimator.canned.linear.LinearClassifier at 0x7f33b32c5b70>"
            ]
          },
          "metadata": {
            "tags": []
          },
          "execution_count": 249
        }
      ]
    },
    {
      "cell_type": "code",
      "metadata": {
        "id": "sQ8Fr7KCocx4",
        "colab_type": "code",
        "colab": {}
      },
      "source": [
        "eval_input_func = tf.estimator.inputs.pandas_input_fn(x=X_test, y=y_test,\n",
        "                                                      batch_size=10,\n",
        "                                                      num_epochs=1,\n",
        "                                                      shuffle=False)"
      ],
      "execution_count": 0,
      "outputs": []
    },
    {
      "cell_type": "code",
      "metadata": {
        "id": "CLJj4Yngpmot",
        "colab_type": "code",
        "outputId": "f74f56bf-e608-49b8-e2cb-4e51da8b0001",
        "colab": {
          "base_uri": "https://localhost:8080/",
          "height": 124
        }
      },
      "source": [
        "results = model.evaluate(input_fn=eval_input_func)"
      ],
      "execution_count": 0,
      "outputs": [
        {
          "output_type": "stream",
          "text": [
            "W0725 19:41:31.687772 139861148710784 deprecation.py:323] From /usr/local/lib/python3.6/dist-packages/tensorflow/python/ops/metrics_impl.py:2027: div (from tensorflow.python.ops.math_ops) is deprecated and will be removed in a future version.\n",
            "Instructions for updating:\n",
            "Deprecated in favor of operator or tf.math.divide.\n",
            "W0725 19:41:32.128681 139861148710784 metrics_impl.py:804] Trapezoidal rule is known to produce incorrect PR-AUCs; please switch to \"careful_interpolation\" instead.\n",
            "W0725 19:41:32.157534 139861148710784 metrics_impl.py:804] Trapezoidal rule is known to produce incorrect PR-AUCs; please switch to \"careful_interpolation\" instead.\n"
          ],
          "name": "stderr"
        }
      ]
    },
    {
      "cell_type": "code",
      "metadata": {
        "id": "d5QvJ2DMpxQJ",
        "colab_type": "code",
        "outputId": "a9e44914-293c-4326-ab85-5e7b0b8c1fe0",
        "colab": {
          "base_uri": "https://localhost:8080/",
          "height": 207
        }
      },
      "source": [
        "results"
      ],
      "execution_count": 0,
      "outputs": [
        {
          "output_type": "execute_result",
          "data": {
            "text/plain": [
              "{'accuracy': 0.74025977,\n",
              " 'accuracy_baseline': 0.64935064,\n",
              " 'auc': 0.79703707,\n",
              " 'auc_precision_recall': 0.6462447,\n",
              " 'average_loss': 0.53218305,\n",
              " 'global_step': 1000,\n",
              " 'label/mean': 0.35064936,\n",
              " 'loss': 5.122262,\n",
              " 'precision': 0.6296296,\n",
              " 'prediction/mean': 0.39988366,\n",
              " 'recall': 0.6296296}"
            ]
          },
          "metadata": {
            "tags": []
          },
          "execution_count": 252
        }
      ]
    },
    {
      "cell_type": "code",
      "metadata": {
        "id": "EMxNBe-JpzS4",
        "colab_type": "code",
        "colab": {}
      },
      "source": [
        "pred_input_func = tf.estimator.inputs.pandas_input_fn(x = X_test, batch_size=10, num_epochs=1, shuffle=False)"
      ],
      "execution_count": 0,
      "outputs": []
    },
    {
      "cell_type": "code",
      "metadata": {
        "id": "mpFzVx3CqEkV",
        "colab_type": "code",
        "colab": {}
      },
      "source": [
        "predictions = model.predict(pred_input_func)"
      ],
      "execution_count": 0,
      "outputs": []
    },
    {
      "cell_type": "code",
      "metadata": {
        "id": "_bIhGjWmqIp1",
        "colab_type": "code",
        "colab": {}
      },
      "source": [
        "my_pred = list(predictions)"
      ],
      "execution_count": 0,
      "outputs": []
    },
    {
      "cell_type": "code",
      "metadata": {
        "id": "RYWILtALqL3E",
        "colab_type": "code",
        "outputId": "409d22b1-7cf3-4f9f-8ec1-56de90408d95",
        "colab": {
          "base_uri": "https://localhost:8080/",
          "height": 54
        }
      },
      "source": [
        "print(my_pred)"
      ],
      "execution_count": 0,
      "outputs": [
        {
          "output_type": "stream",
          "text": [
            "[{'logits': array([0.10710561], dtype=float32), 'logistic': array([0.5267508], dtype=float32), 'probabilities': array([0.47324914, 0.5267508 ], dtype=float32), 'class_ids': array([1]), 'classes': array([b'1'], dtype=object), 'all_class_ids': array([0, 1], dtype=int32), 'all_classes': array([b'0', b'1'], dtype=object)}, {'logits': array([0.66128504], dtype=float32), 'logistic': array([0.659549], dtype=float32), 'probabilities': array([0.340451  , 0.65954894], dtype=float32), 'class_ids': array([1]), 'classes': array([b'1'], dtype=object), 'all_class_ids': array([0, 1], dtype=int32), 'all_classes': array([b'0', b'1'], dtype=object)}, {'logits': array([-0.13363552], dtype=float32), 'logistic': array([0.46664077], dtype=float32), 'probabilities': array([0.5333592 , 0.46664074], dtype=float32), 'class_ids': array([0]), 'classes': array([b'0'], dtype=object), 'all_class_ids': array([0, 1], dtype=int32), 'all_classes': array([b'0', b'1'], dtype=object)}, {'logits': array([-0.7962104], dtype=float32), 'logistic': array([0.31083676], dtype=float32), 'probabilities': array([0.68916327, 0.31083673], dtype=float32), 'class_ids': array([0]), 'classes': array([b'0'], dtype=object), 'all_class_ids': array([0, 1], dtype=int32), 'all_classes': array([b'0', b'1'], dtype=object)}, {'logits': array([-1.7194036], dtype=float32), 'logistic': array([0.151948], dtype=float32), 'probabilities': array([0.84805197, 0.15194799], dtype=float32), 'class_ids': array([0]), 'classes': array([b'0'], dtype=object), 'all_class_ids': array([0, 1], dtype=int32), 'all_classes': array([b'0', b'1'], dtype=object)}, {'logits': array([0.71763825], dtype=float32), 'logistic': array([0.6720867], dtype=float32), 'probabilities': array([0.32791325, 0.6720867 ], dtype=float32), 'class_ids': array([1]), 'classes': array([b'1'], dtype=object), 'all_class_ids': array([0, 1], dtype=int32), 'all_classes': array([b'0', b'1'], dtype=object)}, {'logits': array([0.4826541], dtype=float32), 'logistic': array([0.6183744], dtype=float32), 'probabilities': array([0.3816256, 0.6183744], dtype=float32), 'class_ids': array([1]), 'classes': array([b'1'], dtype=object), 'all_class_ids': array([0, 1], dtype=int32), 'all_classes': array([b'0', b'1'], dtype=object)}, {'logits': array([-0.5081987], dtype=float32), 'logistic': array([0.37561592], dtype=float32), 'probabilities': array([0.6243841, 0.3756159], dtype=float32), 'class_ids': array([0]), 'classes': array([b'0'], dtype=object), 'all_class_ids': array([0, 1], dtype=int32), 'all_classes': array([b'0', b'1'], dtype=object)}, {'logits': array([-1.1809008], dtype=float32), 'logistic': array([0.23489027], dtype=float32), 'probabilities': array([0.7651097 , 0.23489027], dtype=float32), 'class_ids': array([0]), 'classes': array([b'0'], dtype=object), 'all_class_ids': array([0, 1], dtype=int32), 'all_classes': array([b'0', b'1'], dtype=object)}, {'logits': array([-1.0792367], dtype=float32), 'logistic': array([0.2536505], dtype=float32), 'probabilities': array([0.7463495, 0.2536505], dtype=float32), 'class_ids': array([0]), 'classes': array([b'0'], dtype=object), 'all_class_ids': array([0, 1], dtype=int32), 'all_classes': array([b'0', b'1'], dtype=object)}, {'logits': array([-1.6206429], dtype=float32), 'logistic': array([0.16511622], dtype=float32), 'probabilities': array([0.83488375, 0.16511622], dtype=float32), 'class_ids': array([0]), 'classes': array([b'0'], dtype=object), 'all_class_ids': array([0, 1], dtype=int32), 'all_classes': array([b'0', b'1'], dtype=object)}, {'logits': array([-1.5211062], dtype=float32), 'logistic': array([0.17929867], dtype=float32), 'probabilities': array([0.8207013 , 0.17929867], dtype=float32), 'class_ids': array([0]), 'classes': array([b'0'], dtype=object), 'all_class_ids': array([0, 1], dtype=int32), 'all_classes': array([b'0', b'1'], dtype=object)}, {'logits': array([-0.61164427], dtype=float32), 'logistic': array([0.3516842], dtype=float32), 'probabilities': array([0.6483158, 0.3516842], dtype=float32), 'class_ids': array([0]), 'classes': array([b'0'], dtype=object), 'all_class_ids': array([0, 1], dtype=int32), 'all_classes': array([b'0', b'1'], dtype=object)}, {'logits': array([0.68765354], dtype=float32), 'logistic': array([0.66544473], dtype=float32), 'probabilities': array([0.33455527, 0.66544473], dtype=float32), 'class_ids': array([1]), 'classes': array([b'1'], dtype=object), 'all_class_ids': array([0, 1], dtype=int32), 'all_classes': array([b'0', b'1'], dtype=object)}, {'logits': array([-1.3360493], dtype=float32), 'logistic': array([0.20816049], dtype=float32), 'probabilities': array([0.7918395 , 0.20816049], dtype=float32), 'class_ids': array([0]), 'classes': array([b'0'], dtype=object), 'all_class_ids': array([0, 1], dtype=int32), 'all_classes': array([b'0', b'1'], dtype=object)}, {'logits': array([-0.5093168], dtype=float32), 'logistic': array([0.3753537], dtype=float32), 'probabilities': array([0.6246463, 0.3753537], dtype=float32), 'class_ids': array([0]), 'classes': array([b'0'], dtype=object), 'all_class_ids': array([0, 1], dtype=int32), 'all_classes': array([b'0', b'1'], dtype=object)}, {'logits': array([-0.34753382], dtype=float32), 'logistic': array([0.4139806], dtype=float32), 'probabilities': array([0.58601946, 0.4139806 ], dtype=float32), 'class_ids': array([0]), 'classes': array([b'0'], dtype=object), 'all_class_ids': array([0, 1], dtype=int32), 'all_classes': array([b'0', b'1'], dtype=object)}, {'logits': array([-1.6496751], dtype=float32), 'logistic': array([0.16115287], dtype=float32), 'probabilities': array([0.8388471 , 0.16115285], dtype=float32), 'class_ids': array([0]), 'classes': array([b'0'], dtype=object), 'all_class_ids': array([0, 1], dtype=int32), 'all_classes': array([b'0', b'1'], dtype=object)}, {'logits': array([-0.33564782], dtype=float32), 'logistic': array([0.41686708], dtype=float32), 'probabilities': array([0.583133  , 0.41686708], dtype=float32), 'class_ids': array([0]), 'classes': array([b'0'], dtype=object), 'all_class_ids': array([0, 1], dtype=int32), 'all_classes': array([b'0', b'1'], dtype=object)}, {'logits': array([-1.7409662], dtype=float32), 'logistic': array([0.14919025], dtype=float32), 'probabilities': array([0.85080975, 0.14919025], dtype=float32), 'class_ids': array([0]), 'classes': array([b'0'], dtype=object), 'all_class_ids': array([0, 1], dtype=int32), 'all_classes': array([b'0', b'1'], dtype=object)}, {'logits': array([-1.158452], dtype=float32), 'logistic': array([0.23894867], dtype=float32), 'probabilities': array([0.76105136, 0.23894867], dtype=float32), 'class_ids': array([0]), 'classes': array([b'0'], dtype=object), 'all_class_ids': array([0, 1], dtype=int32), 'all_classes': array([b'0', b'1'], dtype=object)}, {'logits': array([-0.8061477], dtype=float32), 'logistic': array([0.308712], dtype=float32), 'probabilities': array([0.69128793, 0.30871198], dtype=float32), 'class_ids': array([0]), 'classes': array([b'0'], dtype=object), 'all_class_ids': array([0, 1], dtype=int32), 'all_classes': array([b'0', b'1'], dtype=object)}, {'logits': array([0.64954865], dtype=float32), 'logistic': array([0.65690875], dtype=float32), 'probabilities': array([0.34309128, 0.65690875], dtype=float32), 'class_ids': array([1]), 'classes': array([b'1'], dtype=object), 'all_class_ids': array([0, 1], dtype=int32), 'all_classes': array([b'0', b'1'], dtype=object)}, {'logits': array([-1.2531691], dtype=float32), 'logistic': array([0.22215205], dtype=float32), 'probabilities': array([0.77784795, 0.22215204], dtype=float32), 'class_ids': array([0]), 'classes': array([b'0'], dtype=object), 'all_class_ids': array([0, 1], dtype=int32), 'all_classes': array([b'0', b'1'], dtype=object)}, {'logits': array([-1.3397155], dtype=float32), 'logistic': array([0.20755684], dtype=float32), 'probabilities': array([0.79244316, 0.20755686], dtype=float32), 'class_ids': array([0]), 'classes': array([b'0'], dtype=object), 'all_class_ids': array([0, 1], dtype=int32), 'all_classes': array([b'0', b'1'], dtype=object)}, {'logits': array([1.5028082], dtype=float32), 'logistic': array([0.8179929], dtype=float32), 'probabilities': array([0.18200707, 0.817993  ], dtype=float32), 'class_ids': array([1]), 'classes': array([b'1'], dtype=object), 'all_class_ids': array([0, 1], dtype=int32), 'all_classes': array([b'0', b'1'], dtype=object)}, {'logits': array([-1.4396958], dtype=float32), 'logistic': array([0.19159248], dtype=float32), 'probabilities': array([0.80840755, 0.19159245], dtype=float32), 'class_ids': array([0]), 'classes': array([b'0'], dtype=object), 'all_class_ids': array([0, 1], dtype=int32), 'all_classes': array([b'0', b'1'], dtype=object)}, {'logits': array([-0.6527122], dtype=float32), 'logistic': array([0.34237862], dtype=float32), 'probabilities': array([0.6576214, 0.3423786], dtype=float32), 'class_ids': array([0]), 'classes': array([b'0'], dtype=object), 'all_class_ids': array([0, 1], dtype=int32), 'all_classes': array([b'0', b'1'], dtype=object)}, {'logits': array([-1.9355531], dtype=float32), 'logistic': array([0.12613721], dtype=float32), 'probabilities': array([0.87386274, 0.12613721], dtype=float32), 'class_ids': array([0]), 'classes': array([b'0'], dtype=object), 'all_class_ids': array([0, 1], dtype=int32), 'all_classes': array([b'0', b'1'], dtype=object)}, {'logits': array([0.6755582], dtype=float32), 'logistic': array([0.6627466], dtype=float32), 'probabilities': array([0.33725336, 0.6627466 ], dtype=float32), 'class_ids': array([1]), 'classes': array([b'1'], dtype=object), 'all_class_ids': array([0, 1], dtype=int32), 'all_classes': array([b'0', b'1'], dtype=object)}, {'logits': array([2.722906], dtype=float32), 'logistic': array([0.93836486], dtype=float32), 'probabilities': array([0.06163517, 0.9383648 ], dtype=float32), 'class_ids': array([1]), 'classes': array([b'1'], dtype=object), 'all_class_ids': array([0, 1], dtype=int32), 'all_classes': array([b'0', b'1'], dtype=object)}, {'logits': array([-0.34372336], dtype=float32), 'logistic': array([0.4149053], dtype=float32), 'probabilities': array([0.5850947, 0.4149053], dtype=float32), 'class_ids': array([0]), 'classes': array([b'0'], dtype=object), 'all_class_ids': array([0, 1], dtype=int32), 'all_classes': array([b'0', b'1'], dtype=object)}, {'logits': array([-0.8192941], dtype=float32), 'logistic': array([0.30591357], dtype=float32), 'probabilities': array([0.69408643, 0.3059135 ], dtype=float32), 'class_ids': array([0]), 'classes': array([b'0'], dtype=object), 'all_class_ids': array([0, 1], dtype=int32), 'all_classes': array([b'0', b'1'], dtype=object)}, {'logits': array([0.6940371], dtype=float32), 'logistic': array([0.6668644], dtype=float32), 'probabilities': array([0.3331356, 0.6668644], dtype=float32), 'class_ids': array([1]), 'classes': array([b'1'], dtype=object), 'all_class_ids': array([0, 1], dtype=int32), 'all_classes': array([b'0', b'1'], dtype=object)}, {'logits': array([-0.95003796], dtype=float32), 'logistic': array([0.2788772], dtype=float32), 'probabilities': array([0.7211228, 0.2788772], dtype=float32), 'class_ids': array([0]), 'classes': array([b'0'], dtype=object), 'all_class_ids': array([0, 1], dtype=int32), 'all_classes': array([b'0', b'1'], dtype=object)}, {'logits': array([-0.04715502], dtype=float32), 'logistic': array([0.48821342], dtype=float32), 'probabilities': array([0.5117866 , 0.48821342], dtype=float32), 'class_ids': array([0]), 'classes': array([b'0'], dtype=object), 'all_class_ids': array([0, 1], dtype=int32), 'all_classes': array([b'0', b'1'], dtype=object)}, {'logits': array([0.19332516], dtype=float32), 'logistic': array([0.5481813], dtype=float32), 'probabilities': array([0.45181865, 0.5481813 ], dtype=float32), 'class_ids': array([1]), 'classes': array([b'1'], dtype=object), 'all_class_ids': array([0, 1], dtype=int32), 'all_classes': array([b'0', b'1'], dtype=object)}, {'logits': array([0.8688885], dtype=float32), 'logistic': array([0.7045144], dtype=float32), 'probabilities': array([0.29548562, 0.7045143 ], dtype=float32), 'class_ids': array([1]), 'classes': array([b'1'], dtype=object), 'all_class_ids': array([0, 1], dtype=int32), 'all_classes': array([b'0', b'1'], dtype=object)}, {'logits': array([1.4378613], dtype=float32), 'logistic': array([0.8081233], dtype=float32), 'probabilities': array([0.19187677, 0.8081233 ], dtype=float32), 'class_ids': array([1]), 'classes': array([b'1'], dtype=object), 'all_class_ids': array([0, 1], dtype=int32), 'all_classes': array([b'0', b'1'], dtype=object)}, {'logits': array([-0.67134416], dtype=float32), 'logistic': array([0.33819595], dtype=float32), 'probabilities': array([0.66180414, 0.33819595], dtype=float32), 'class_ids': array([0]), 'classes': array([b'0'], dtype=object), 'all_class_ids': array([0, 1], dtype=int32), 'all_classes': array([b'0', b'1'], dtype=object)}, {'logits': array([-1.332418], dtype=float32), 'logistic': array([0.2087597], dtype=float32), 'probabilities': array([0.79124033, 0.20875968], dtype=float32), 'class_ids': array([0]), 'classes': array([b'0'], dtype=object), 'all_class_ids': array([0, 1], dtype=int32), 'all_classes': array([b'0', b'1'], dtype=object)}, {'logits': array([0.5580493], dtype=float32), 'logistic': array([0.63600105], dtype=float32), 'probabilities': array([0.36399892, 0.63600105], dtype=float32), 'class_ids': array([1]), 'classes': array([b'1'], dtype=object), 'all_class_ids': array([0, 1], dtype=int32), 'all_classes': array([b'0', b'1'], dtype=object)}, {'logits': array([-1.3577288], dtype=float32), 'logistic': array([0.20460969], dtype=float32), 'probabilities': array([0.7953903 , 0.20460966], dtype=float32), 'class_ids': array([0]), 'classes': array([b'0'], dtype=object), 'all_class_ids': array([0, 1], dtype=int32), 'all_classes': array([b'0', b'1'], dtype=object)}, {'logits': array([0.14908886], dtype=float32), 'logistic': array([0.5372033], dtype=float32), 'probabilities': array([0.46279666, 0.5372033 ], dtype=float32), 'class_ids': array([1]), 'classes': array([b'1'], dtype=object), 'all_class_ids': array([0, 1], dtype=int32), 'all_classes': array([b'0', b'1'], dtype=object)}, {'logits': array([-1.5214756], dtype=float32), 'logistic': array([0.17924431], dtype=float32), 'probabilities': array([0.82075566, 0.17924434], dtype=float32), 'class_ids': array([0]), 'classes': array([b'0'], dtype=object), 'all_class_ids': array([0, 1], dtype=int32), 'all_classes': array([b'0', b'1'], dtype=object)}, {'logits': array([-1.8351762], dtype=float32), 'logistic': array([0.13762277], dtype=float32), 'probabilities': array([0.8623772 , 0.13762279], dtype=float32), 'class_ids': array([0]), 'classes': array([b'0'], dtype=object), 'all_class_ids': array([0, 1], dtype=int32), 'all_classes': array([b'0', b'1'], dtype=object)}, {'logits': array([0.5461756], dtype=float32), 'logistic': array([0.63324785], dtype=float32), 'probabilities': array([0.36675215, 0.63324785], dtype=float32), 'class_ids': array([1]), 'classes': array([b'1'], dtype=object), 'all_class_ids': array([0, 1], dtype=int32), 'all_classes': array([b'0', b'1'], dtype=object)}, {'logits': array([-1.4896166], dtype=float32), 'logistic': array([0.18397927], dtype=float32), 'probabilities': array([0.8160207 , 0.18397927], dtype=float32), 'class_ids': array([0]), 'classes': array([b'0'], dtype=object), 'all_class_ids': array([0, 1], dtype=int32), 'all_classes': array([b'0', b'1'], dtype=object)}, {'logits': array([-1.3110877], dtype=float32), 'logistic': array([0.21230489], dtype=float32), 'probabilities': array([0.7876951 , 0.21230488], dtype=float32), 'class_ids': array([0]), 'classes': array([b'0'], dtype=object), 'all_class_ids': array([0, 1], dtype=int32), 'all_classes': array([b'0', b'1'], dtype=object)}, {'logits': array([-1.6469159], dtype=float32), 'logistic': array([0.16152622], dtype=float32), 'probabilities': array([0.83847374, 0.1615262 ], dtype=float32), 'class_ids': array([0]), 'classes': array([b'0'], dtype=object), 'all_class_ids': array([0, 1], dtype=int32), 'all_classes': array([b'0', b'1'], dtype=object)}, {'logits': array([-1.5685916], dtype=float32), 'logistic': array([0.17241725], dtype=float32), 'probabilities': array([0.8275828 , 0.17241728], dtype=float32), 'class_ids': array([0]), 'classes': array([b'0'], dtype=object), 'all_class_ids': array([0, 1], dtype=int32), 'all_classes': array([b'0', b'1'], dtype=object)}, {'logits': array([-0.95482016], dtype=float32), 'logistic': array([0.2779165], dtype=float32), 'probabilities': array([0.7220835 , 0.27791646], dtype=float32), 'class_ids': array([0]), 'classes': array([b'0'], dtype=object), 'all_class_ids': array([0, 1], dtype=int32), 'all_classes': array([b'0', b'1'], dtype=object)}, {'logits': array([-1.1100386], dtype=float32), 'logistic': array([0.24786368], dtype=float32), 'probabilities': array([0.75213635, 0.24786368], dtype=float32), 'class_ids': array([0]), 'classes': array([b'0'], dtype=object), 'all_class_ids': array([0, 1], dtype=int32), 'all_classes': array([b'0', b'1'], dtype=object)}, {'logits': array([-0.376117], dtype=float32), 'logistic': array([0.40706378], dtype=float32), 'probabilities': array([0.5929362 , 0.40706375], dtype=float32), 'class_ids': array([0]), 'classes': array([b'0'], dtype=object), 'all_class_ids': array([0, 1], dtype=int32), 'all_classes': array([b'0', b'1'], dtype=object)}, {'logits': array([-1.8106941], dtype=float32), 'logistic': array([0.14055428], dtype=float32), 'probabilities': array([0.85944575, 0.14055426], dtype=float32), 'class_ids': array([0]), 'classes': array([b'0'], dtype=object), 'all_class_ids': array([0, 1], dtype=int32), 'all_classes': array([b'0', b'1'], dtype=object)}, {'logits': array([-1.2636333], dtype=float32), 'logistic': array([0.22034907], dtype=float32), 'probabilities': array([0.7796509 , 0.22034909], dtype=float32), 'class_ids': array([0]), 'classes': array([b'0'], dtype=object), 'all_class_ids': array([0, 1], dtype=int32), 'all_classes': array([b'0', b'1'], dtype=object)}, {'logits': array([-1.2154185], dtype=float32), 'logistic': array([0.22874376], dtype=float32), 'probabilities': array([0.77125627, 0.22874373], dtype=float32), 'class_ids': array([0]), 'classes': array([b'0'], dtype=object), 'all_class_ids': array([0, 1], dtype=int32), 'all_classes': array([b'0', b'1'], dtype=object)}, {'logits': array([-1.2169298], dtype=float32), 'logistic': array([0.22847721], dtype=float32), 'probabilities': array([0.77152276, 0.2284772 ], dtype=float32), 'class_ids': array([0]), 'classes': array([b'0'], dtype=object), 'all_class_ids': array([0, 1], dtype=int32), 'all_classes': array([b'0', b'1'], dtype=object)}, {'logits': array([0.3814788], dtype=float32), 'logistic': array([0.59422976], dtype=float32), 'probabilities': array([0.40577033, 0.59422976], dtype=float32), 'class_ids': array([1]), 'classes': array([b'1'], dtype=object), 'all_class_ids': array([0, 1], dtype=int32), 'all_classes': array([b'0', b'1'], dtype=object)}, {'logits': array([-1.6988528], dtype=float32), 'logistic': array([0.15461515], dtype=float32), 'probabilities': array([0.8453848 , 0.15461513], dtype=float32), 'class_ids': array([0]), 'classes': array([b'0'], dtype=object), 'all_class_ids': array([0, 1], dtype=int32), 'all_classes': array([b'0', b'1'], dtype=object)}, {'logits': array([-0.99853677], dtype=float32), 'logistic': array([0.26922923], dtype=float32), 'probabilities': array([0.7307708 , 0.26922923], dtype=float32), 'class_ids': array([0]), 'classes': array([b'0'], dtype=object), 'all_class_ids': array([0, 1], dtype=int32), 'all_classes': array([b'0', b'1'], dtype=object)}, {'logits': array([1.0131975], dtype=float32), 'logistic': array([0.73364544], dtype=float32), 'probabilities': array([0.2663546, 0.7336455], dtype=float32), 'class_ids': array([1]), 'classes': array([b'1'], dtype=object), 'all_class_ids': array([0, 1], dtype=int32), 'all_classes': array([b'0', b'1'], dtype=object)}, {'logits': array([0.7872971], dtype=float32), 'logistic': array([0.6872507], dtype=float32), 'probabilities': array([0.31274933, 0.6872507 ], dtype=float32), 'class_ids': array([1]), 'classes': array([b'1'], dtype=object), 'all_class_ids': array([0, 1], dtype=int32), 'all_classes': array([b'0', b'1'], dtype=object)}, {'logits': array([0.15756834], dtype=float32), 'logistic': array([0.53931075], dtype=float32), 'probabilities': array([0.4606892 , 0.53931075], dtype=float32), 'class_ids': array([1]), 'classes': array([b'1'], dtype=object), 'all_class_ids': array([0, 1], dtype=int32), 'all_classes': array([b'0', b'1'], dtype=object)}, {'logits': array([-0.6034062], dtype=float32), 'logistic': array([0.3535648], dtype=float32), 'probabilities': array([0.6464352, 0.3535648], dtype=float32), 'class_ids': array([0]), 'classes': array([b'0'], dtype=object), 'all_class_ids': array([0, 1], dtype=int32), 'all_classes': array([b'0', b'1'], dtype=object)}, {'logits': array([0.09105492], dtype=float32), 'logistic': array([0.522748], dtype=float32), 'probabilities': array([0.47725195, 0.522748  ], dtype=float32), 'class_ids': array([1]), 'classes': array([b'1'], dtype=object), 'all_class_ids': array([0, 1], dtype=int32), 'all_classes': array([b'0', b'1'], dtype=object)}, {'logits': array([-1.3692356], dtype=float32), 'logistic': array([0.20274338], dtype=float32), 'probabilities': array([0.7972566 , 0.20274337], dtype=float32), 'class_ids': array([0]), 'classes': array([b'0'], dtype=object), 'all_class_ids': array([0, 1], dtype=int32), 'all_classes': array([b'0', b'1'], dtype=object)}, {'logits': array([-1.3081417], dtype=float32), 'logistic': array([0.21279797], dtype=float32), 'probabilities': array([0.787202  , 0.21279797], dtype=float32), 'class_ids': array([0]), 'classes': array([b'0'], dtype=object), 'all_class_ids': array([0, 1], dtype=int32), 'all_classes': array([b'0', b'1'], dtype=object)}, {'logits': array([-1.5911908], dtype=float32), 'logistic': array([0.16921642], dtype=float32), 'probabilities': array([0.8307836 , 0.16921642], dtype=float32), 'class_ids': array([0]), 'classes': array([b'0'], dtype=object), 'all_class_ids': array([0, 1], dtype=int32), 'all_classes': array([b'0', b'1'], dtype=object)}, {'logits': array([-1.6118882], dtype=float32), 'logistic': array([0.16632664], dtype=float32), 'probabilities': array([0.83367336, 0.16632663], dtype=float32), 'class_ids': array([0]), 'classes': array([b'0'], dtype=object), 'all_class_ids': array([0, 1], dtype=int32), 'all_classes': array([b'0', b'1'], dtype=object)}, {'logits': array([0.75232995], dtype=float32), 'logistic': array([0.6796862], dtype=float32), 'probabilities': array([0.32031384, 0.6796862 ], dtype=float32), 'class_ids': array([1]), 'classes': array([b'1'], dtype=object), 'all_class_ids': array([0, 1], dtype=int32), 'all_classes': array([b'0', b'1'], dtype=object)}, {'logits': array([-1.020567], dtype=float32), 'logistic': array([0.26491696], dtype=float32), 'probabilities': array([0.73508304, 0.26491696], dtype=float32), 'class_ids': array([0]), 'classes': array([b'0'], dtype=object), 'all_class_ids': array([0, 1], dtype=int32), 'all_classes': array([b'0', b'1'], dtype=object)}, {'logits': array([-0.342588], dtype=float32), 'logistic': array([0.41518098], dtype=float32), 'probabilities': array([0.584819  , 0.41518095], dtype=float32), 'class_ids': array([0]), 'classes': array([b'0'], dtype=object), 'all_class_ids': array([0, 1], dtype=int32), 'all_classes': array([b'0', b'1'], dtype=object)}, {'logits': array([0.6017182], dtype=float32), 'logistic': array([0.6460493], dtype=float32), 'probabilities': array([0.3539507, 0.6460493], dtype=float32), 'class_ids': array([1]), 'classes': array([b'1'], dtype=object), 'all_class_ids': array([0, 1], dtype=int32), 'all_classes': array([b'0', b'1'], dtype=object)}, {'logits': array([-0.7877501], dtype=float32), 'logistic': array([0.31265196], dtype=float32), 'probabilities': array([0.68734807, 0.312652  ], dtype=float32), 'class_ids': array([0]), 'classes': array([b'0'], dtype=object), 'all_class_ids': array([0, 1], dtype=int32), 'all_classes': array([b'0', b'1'], dtype=object)}, {'logits': array([0.5150386], dtype=float32), 'logistic': array([0.6259869], dtype=float32), 'probabilities': array([0.3740131, 0.6259869], dtype=float32), 'class_ids': array([1]), 'classes': array([b'1'], dtype=object), 'all_class_ids': array([0, 1], dtype=int32), 'all_classes': array([b'0', b'1'], dtype=object)}, {'logits': array([-1.7669125], dtype=float32), 'logistic': array([0.14592671], dtype=float32), 'probabilities': array([0.8540733 , 0.14592671], dtype=float32), 'class_ids': array([0]), 'classes': array([b'0'], dtype=object), 'all_class_ids': array([0, 1], dtype=int32), 'all_classes': array([b'0', b'1'], dtype=object)}, {'logits': array([0.6552243], dtype=float32), 'logistic': array([0.6581868], dtype=float32), 'probabilities': array([0.3418132, 0.6581868], dtype=float32), 'class_ids': array([1]), 'classes': array([b'1'], dtype=object), 'all_class_ids': array([0, 1], dtype=int32), 'all_classes': array([b'0', b'1'], dtype=object)}, {'logits': array([-1.7835188], dtype=float32), 'logistic': array([0.14386918], dtype=float32), 'probabilities': array([0.85613084, 0.14386918], dtype=float32), 'class_ids': array([0]), 'classes': array([b'0'], dtype=object), 'all_class_ids': array([0, 1], dtype=int32), 'all_classes': array([b'0', b'1'], dtype=object)}, {'logits': array([0.36304307], dtype=float32), 'logistic': array([0.5897769], dtype=float32), 'probabilities': array([0.41022313, 0.5897769 ], dtype=float32), 'class_ids': array([1]), 'classes': array([b'1'], dtype=object), 'all_class_ids': array([0, 1], dtype=int32), 'all_classes': array([b'0', b'1'], dtype=object)}, {'logits': array([-0.40559405], dtype=float32), 'logistic': array([0.39996907], dtype=float32), 'probabilities': array([0.60003096, 0.39996904], dtype=float32), 'class_ids': array([0]), 'classes': array([b'0'], dtype=object), 'all_class_ids': array([0, 1], dtype=int32), 'all_classes': array([b'0', b'1'], dtype=object)}, {'logits': array([-1.4471209], dtype=float32), 'logistic': array([0.1904451], dtype=float32), 'probabilities': array([0.80955493, 0.19044505], dtype=float32), 'class_ids': array([0]), 'classes': array([b'0'], dtype=object), 'all_class_ids': array([0, 1], dtype=int32), 'all_classes': array([b'0', b'1'], dtype=object)}, {'logits': array([0.561337], dtype=float32), 'logistic': array([0.63676184], dtype=float32), 'probabilities': array([0.3632382 , 0.63676184], dtype=float32), 'class_ids': array([1]), 'classes': array([b'1'], dtype=object), 'all_class_ids': array([0, 1], dtype=int32), 'all_classes': array([b'0', b'1'], dtype=object)}, {'logits': array([0.40363657], dtype=float32), 'logistic': array([0.59956104], dtype=float32), 'probabilities': array([0.40043893, 0.5995611 ], dtype=float32), 'class_ids': array([1]), 'classes': array([b'1'], dtype=object), 'all_class_ids': array([0, 1], dtype=int32), 'all_classes': array([b'0', b'1'], dtype=object)}, {'logits': array([0.43906558], dtype=float32), 'logistic': array([0.60803634], dtype=float32), 'probabilities': array([0.39196366, 0.60803634], dtype=float32), 'class_ids': array([1]), 'classes': array([b'1'], dtype=object), 'all_class_ids': array([0, 1], dtype=int32), 'all_classes': array([b'0', b'1'], dtype=object)}, {'logits': array([-1.3986307], dtype=float32), 'logistic': array([0.19803351], dtype=float32), 'probabilities': array([0.8019665 , 0.19803347], dtype=float32), 'class_ids': array([0]), 'classes': array([b'0'], dtype=object), 'all_class_ids': array([0, 1], dtype=int32), 'all_classes': array([b'0', b'1'], dtype=object)}, {'logits': array([0.02142608], dtype=float32), 'logistic': array([0.5053563], dtype=float32), 'probabilities': array([0.4946437, 0.5053563], dtype=float32), 'class_ids': array([1]), 'classes': array([b'1'], dtype=object), 'all_class_ids': array([0, 1], dtype=int32), 'all_classes': array([b'0', b'1'], dtype=object)}, {'logits': array([-1.3677169], dtype=float32), 'logistic': array([0.20298895], dtype=float32), 'probabilities': array([0.797011  , 0.20298897], dtype=float32), 'class_ids': array([0]), 'classes': array([b'0'], dtype=object), 'all_class_ids': array([0, 1], dtype=int32), 'all_classes': array([b'0', b'1'], dtype=object)}, {'logits': array([1.149712], dtype=float32), 'logistic': array([0.7594583], dtype=float32), 'probabilities': array([0.24054171, 0.7594583 ], dtype=float32), 'class_ids': array([1]), 'classes': array([b'1'], dtype=object), 'all_class_ids': array([0, 1], dtype=int32), 'all_classes': array([b'0', b'1'], dtype=object)}, {'logits': array([1.59189], dtype=float32), 'logistic': array([0.83088183], dtype=float32), 'probabilities': array([0.16911815, 0.83088183], dtype=float32), 'class_ids': array([1]), 'classes': array([b'1'], dtype=object), 'all_class_ids': array([0, 1], dtype=int32), 'all_classes': array([b'0', b'1'], dtype=object)}, {'logits': array([0.7245544], dtype=float32), 'logistic': array([0.67360914], dtype=float32), 'probabilities': array([0.32639086, 0.67360914], dtype=float32), 'class_ids': array([1]), 'classes': array([b'1'], dtype=object), 'all_class_ids': array([0, 1], dtype=int32), 'all_classes': array([b'0', b'1'], dtype=object)}, {'logits': array([-1.249334], dtype=float32), 'logistic': array([0.22281548], dtype=float32), 'probabilities': array([0.77718455, 0.22281545], dtype=float32), 'class_ids': array([0]), 'classes': array([b'0'], dtype=object), 'all_class_ids': array([0, 1], dtype=int32), 'all_classes': array([b'0', b'1'], dtype=object)}, {'logits': array([0.24669576], dtype=float32), 'logistic': array([0.56136304], dtype=float32), 'probabilities': array([0.43863696, 0.56136304], dtype=float32), 'class_ids': array([1]), 'classes': array([b'1'], dtype=object), 'all_class_ids': array([0, 1], dtype=int32), 'all_classes': array([b'0', b'1'], dtype=object)}, {'logits': array([-0.4099629], dtype=float32), 'logistic': array([0.398921], dtype=float32), 'probabilities': array([0.601079  , 0.39892104], dtype=float32), 'class_ids': array([0]), 'classes': array([b'0'], dtype=object), 'all_class_ids': array([0, 1], dtype=int32), 'all_classes': array([b'0', b'1'], dtype=object)}, {'logits': array([-0.05240667], dtype=float32), 'logistic': array([0.48690134], dtype=float32), 'probabilities': array([0.51309866, 0.4869013 ], dtype=float32), 'class_ids': array([0]), 'classes': array([b'0'], dtype=object), 'all_class_ids': array([0, 1], dtype=int32), 'all_classes': array([b'0', b'1'], dtype=object)}, {'logits': array([-0.52540255], dtype=float32), 'logistic': array([0.3715898], dtype=float32), 'probabilities': array([0.62841016, 0.3715898 ], dtype=float32), 'class_ids': array([0]), 'classes': array([b'0'], dtype=object), 'all_class_ids': array([0, 1], dtype=int32), 'all_classes': array([b'0', b'1'], dtype=object)}, {'logits': array([-0.08908081], dtype=float32), 'logistic': array([0.47774452], dtype=float32), 'probabilities': array([0.5222555 , 0.47774452], dtype=float32), 'class_ids': array([0]), 'classes': array([b'0'], dtype=object), 'all_class_ids': array([0, 1], dtype=int32), 'all_classes': array([b'0', b'1'], dtype=object)}, {'logits': array([-1.4773715], dtype=float32), 'logistic': array([0.18582475], dtype=float32), 'probabilities': array([0.81417525, 0.18582477], dtype=float32), 'class_ids': array([0]), 'classes': array([b'0'], dtype=object), 'all_class_ids': array([0, 1], dtype=int32), 'all_classes': array([b'0', b'1'], dtype=object)}, {'logits': array([0.60731316], dtype=float32), 'logistic': array([0.64732766], dtype=float32), 'probabilities': array([0.35267237, 0.64732766], dtype=float32), 'class_ids': array([1]), 'classes': array([b'1'], dtype=object), 'all_class_ids': array([0, 1], dtype=int32), 'all_classes': array([b'0', b'1'], dtype=object)}, {'logits': array([0.63481426], dtype=float32), 'logistic': array([0.65358025], dtype=float32), 'probabilities': array([0.34641972, 0.65358025], dtype=float32), 'class_ids': array([1]), 'classes': array([b'1'], dtype=object), 'all_class_ids': array([0, 1], dtype=int32), 'all_classes': array([b'0', b'1'], dtype=object)}, {'logits': array([-1.1595607], dtype=float32), 'logistic': array([0.23874712], dtype=float32), 'probabilities': array([0.7612529 , 0.23874712], dtype=float32), 'class_ids': array([0]), 'classes': array([b'0'], dtype=object), 'all_class_ids': array([0, 1], dtype=int32), 'all_classes': array([b'0', b'1'], dtype=object)}, {'logits': array([-1.3888614], dtype=float32), 'logistic': array([0.19958958], dtype=float32), 'probabilities': array([0.80041045, 0.1995896 ], dtype=float32), 'class_ids': array([0]), 'classes': array([b'0'], dtype=object), 'all_class_ids': array([0, 1], dtype=int32), 'all_classes': array([b'0', b'1'], dtype=object)}, {'logits': array([-1.3733741], dtype=float32), 'logistic': array([0.20207527], dtype=float32), 'probabilities': array([0.7979247 , 0.20207524], dtype=float32), 'class_ids': array([0]), 'classes': array([b'0'], dtype=object), 'all_class_ids': array([0, 1], dtype=int32), 'all_classes': array([b'0', b'1'], dtype=object)}, {'logits': array([-1.0397413], dtype=float32), 'logistic': array([0.26119995], dtype=float32), 'probabilities': array([0.7388001 , 0.26119992], dtype=float32), 'class_ids': array([0]), 'classes': array([b'0'], dtype=object), 'all_class_ids': array([0, 1], dtype=int32), 'all_classes': array([b'0', b'1'], dtype=object)}, {'logits': array([-0.45694554], dtype=float32), 'logistic': array([0.3877107], dtype=float32), 'probabilities': array([0.6122893 , 0.38771066], dtype=float32), 'class_ids': array([0]), 'classes': array([b'0'], dtype=object), 'all_class_ids': array([0, 1], dtype=int32), 'all_classes': array([b'0', b'1'], dtype=object)}, {'logits': array([-1.6774914], dtype=float32), 'logistic': array([0.1574279], dtype=float32), 'probabilities': array([0.8425721 , 0.15742794], dtype=float32), 'class_ids': array([0]), 'classes': array([b'0'], dtype=object), 'all_class_ids': array([0, 1], dtype=int32), 'all_classes': array([b'0', b'1'], dtype=object)}, {'logits': array([-0.43514818], dtype=float32), 'logistic': array([0.39289767], dtype=float32), 'probabilities': array([0.60710233, 0.39289767], dtype=float32), 'class_ids': array([0]), 'classes': array([b'0'], dtype=object), 'all_class_ids': array([0, 1], dtype=int32), 'all_classes': array([b'0', b'1'], dtype=object)}, {'logits': array([-0.7542533], dtype=float32), 'logistic': array([0.31989527], dtype=float32), 'probabilities': array([0.68010473, 0.3198952 ], dtype=float32), 'class_ids': array([0]), 'classes': array([b'0'], dtype=object), 'all_class_ids': array([0, 1], dtype=int32), 'all_classes': array([b'0', b'1'], dtype=object)}, {'logits': array([-1.8995119], dtype=float32), 'logistic': array([0.13016373], dtype=float32), 'probabilities': array([0.8698363 , 0.13016371], dtype=float32), 'class_ids': array([0]), 'classes': array([b'0'], dtype=object), 'all_class_ids': array([0, 1], dtype=int32), 'all_classes': array([b'0', b'1'], dtype=object)}, {'logits': array([-1.7594038], dtype=float32), 'logistic': array([0.14686503], dtype=float32), 'probabilities': array([0.85313493, 0.14686503], dtype=float32), 'class_ids': array([0]), 'classes': array([b'0'], dtype=object), 'all_class_ids': array([0, 1], dtype=int32), 'all_classes': array([b'0', b'1'], dtype=object)}, {'logits': array([1.3443216], dtype=float32), 'logistic': array([0.7931998], dtype=float32), 'probabilities': array([0.20680028, 0.7931997 ], dtype=float32), 'class_ids': array([1]), 'classes': array([b'1'], dtype=object), 'all_class_ids': array([0, 1], dtype=int32), 'all_classes': array([b'0', b'1'], dtype=object)}, {'logits': array([-1.4501684], dtype=float32), 'logistic': array([0.18997565], dtype=float32), 'probabilities': array([0.8100243 , 0.18997565], dtype=float32), 'class_ids': array([0]), 'classes': array([b'0'], dtype=object), 'all_class_ids': array([0, 1], dtype=int32), 'all_classes': array([b'0', b'1'], dtype=object)}, {'logits': array([-1.6208012], dtype=float32), 'logistic': array([0.16509444], dtype=float32), 'probabilities': array([0.8349056, 0.1650944], dtype=float32), 'class_ids': array([0]), 'classes': array([b'0'], dtype=object), 'all_class_ids': array([0, 1], dtype=int32), 'all_classes': array([b'0', b'1'], dtype=object)}, {'logits': array([-1.4719431], dtype=float32), 'logistic': array([0.18664744], dtype=float32), 'probabilities': array([0.8133526 , 0.18664744], dtype=float32), 'class_ids': array([0]), 'classes': array([b'0'], dtype=object), 'all_class_ids': array([0, 1], dtype=int32), 'all_classes': array([b'0', b'1'], dtype=object)}, {'logits': array([0.34654987], dtype=float32), 'logistic': array([0.5857807], dtype=float32), 'probabilities': array([0.4142193, 0.5857807], dtype=float32), 'class_ids': array([1]), 'classes': array([b'1'], dtype=object), 'all_class_ids': array([0, 1], dtype=int32), 'all_classes': array([b'0', b'1'], dtype=object)}, {'logits': array([0.16853344], dtype=float32), 'logistic': array([0.5420339], dtype=float32), 'probabilities': array([0.45796606, 0.5420339 ], dtype=float32), 'class_ids': array([1]), 'classes': array([b'1'], dtype=object), 'all_class_ids': array([0, 1], dtype=int32), 'all_classes': array([b'0', b'1'], dtype=object)}, {'logits': array([-1.0695274], dtype=float32), 'logistic': array([0.255493], dtype=float32), 'probabilities': array([0.744507, 0.255493], dtype=float32), 'class_ids': array([0]), 'classes': array([b'0'], dtype=object), 'all_class_ids': array([0, 1], dtype=int32), 'all_classes': array([b'0', b'1'], dtype=object)}, {'logits': array([-0.22518718], dtype=float32), 'logistic': array([0.4439399], dtype=float32), 'probabilities': array([0.5560601, 0.4439399], dtype=float32), 'class_ids': array([0]), 'classes': array([b'0'], dtype=object), 'all_class_ids': array([0, 1], dtype=int32), 'all_classes': array([b'0', b'1'], dtype=object)}, {'logits': array([-1.2857602], dtype=float32), 'logistic': array([0.2165713], dtype=float32), 'probabilities': array([0.78342867, 0.2165713 ], dtype=float32), 'class_ids': array([0]), 'classes': array([b'0'], dtype=object), 'all_class_ids': array([0, 1], dtype=int32), 'all_classes': array([b'0', b'1'], dtype=object)}, {'logits': array([-1.1012228], dtype=float32), 'logistic': array([0.24951085], dtype=float32), 'probabilities': array([0.7504891 , 0.24951084], dtype=float32), 'class_ids': array([0]), 'classes': array([b'0'], dtype=object), 'all_class_ids': array([0, 1], dtype=int32), 'all_classes': array([b'0', b'1'], dtype=object)}, {'logits': array([0.01471961], dtype=float32), 'logistic': array([0.5036798], dtype=float32), 'probabilities': array([0.49632016, 0.5036798 ], dtype=float32), 'class_ids': array([1]), 'classes': array([b'1'], dtype=object), 'all_class_ids': array([0, 1], dtype=int32), 'all_classes': array([b'0', b'1'], dtype=object)}, {'logits': array([0.26241696], dtype=float32), 'logistic': array([0.5652303], dtype=float32), 'probabilities': array([0.43476963, 0.5652303 ], dtype=float32), 'class_ids': array([1]), 'classes': array([b'1'], dtype=object), 'all_class_ids': array([0, 1], dtype=int32), 'all_classes': array([b'0', b'1'], dtype=object)}, {'logits': array([-1.6893942], dtype=float32), 'logistic': array([0.1558555], dtype=float32), 'probabilities': array([0.84414446, 0.15585552], dtype=float32), 'class_ids': array([0]), 'classes': array([b'0'], dtype=object), 'all_class_ids': array([0, 1], dtype=int32), 'all_classes': array([b'0', b'1'], dtype=object)}, {'logits': array([-0.30393595], dtype=float32), 'logistic': array([0.4245956], dtype=float32), 'probabilities': array([0.5754044, 0.4245956], dtype=float32), 'class_ids': array([0]), 'classes': array([b'0'], dtype=object), 'all_class_ids': array([0, 1], dtype=int32), 'all_classes': array([b'0', b'1'], dtype=object)}, {'logits': array([1.0909597], dtype=float32), 'logistic': array([0.74856234], dtype=float32), 'probabilities': array([0.2514376, 0.7485624], dtype=float32), 'class_ids': array([1]), 'classes': array([b'1'], dtype=object), 'all_class_ids': array([0, 1], dtype=int32), 'all_classes': array([b'0', b'1'], dtype=object)}, {'logits': array([0.20456624], dtype=float32), 'logistic': array([0.55096394], dtype=float32), 'probabilities': array([0.44903603, 0.55096394], dtype=float32), 'class_ids': array([1]), 'classes': array([b'1'], dtype=object), 'all_class_ids': array([0, 1], dtype=int32), 'all_classes': array([b'0', b'1'], dtype=object)}, {'logits': array([-0.32098722], dtype=float32), 'logistic': array([0.4204352], dtype=float32), 'probabilities': array([0.5795648 , 0.42043516], dtype=float32), 'class_ids': array([0]), 'classes': array([b'0'], dtype=object), 'all_class_ids': array([0, 1], dtype=int32), 'all_classes': array([b'0', b'1'], dtype=object)}, {'logits': array([0.55126774], dtype=float32), 'logistic': array([0.6344297], dtype=float32), 'probabilities': array([0.36557034, 0.6344297 ], dtype=float32), 'class_ids': array([1]), 'classes': array([b'1'], dtype=object), 'all_class_ids': array([0, 1], dtype=int32), 'all_classes': array([b'0', b'1'], dtype=object)}, {'logits': array([-0.924617], dtype=float32), 'logistic': array([0.28401807], dtype=float32), 'probabilities': array([0.7159819, 0.2840181], dtype=float32), 'class_ids': array([0]), 'classes': array([b'0'], dtype=object), 'all_class_ids': array([0, 1], dtype=int32), 'all_classes': array([b'0', b'1'], dtype=object)}, {'logits': array([-1.2842706], dtype=float32), 'logistic': array([0.21682413], dtype=float32), 'probabilities': array([0.7831759 , 0.21682414], dtype=float32), 'class_ids': array([0]), 'classes': array([b'0'], dtype=object), 'all_class_ids': array([0, 1], dtype=int32), 'all_classes': array([b'0', b'1'], dtype=object)}, {'logits': array([-1.6983083], dtype=float32), 'logistic': array([0.1546863], dtype=float32), 'probabilities': array([0.84531367, 0.15468633], dtype=float32), 'class_ids': array([0]), 'classes': array([b'0'], dtype=object), 'all_class_ids': array([0, 1], dtype=int32), 'all_classes': array([b'0', b'1'], dtype=object)}, {'logits': array([-0.8527123], dtype=float32), 'logistic': array([0.29886425], dtype=float32), 'probabilities': array([0.7011358 , 0.29886422], dtype=float32), 'class_ids': array([0]), 'classes': array([b'0'], dtype=object), 'all_class_ids': array([0, 1], dtype=int32), 'all_classes': array([b'0', b'1'], dtype=object)}, {'logits': array([0.18539762], dtype=float32), 'logistic': array([0.5462171], dtype=float32), 'probabilities': array([0.45378295, 0.54621714], dtype=float32), 'class_ids': array([1]), 'classes': array([b'1'], dtype=object), 'all_class_ids': array([0, 1], dtype=int32), 'all_classes': array([b'0', b'1'], dtype=object)}, {'logits': array([0.9537784], dtype=float32), 'logistic': array([0.7218744], dtype=float32), 'probabilities': array([0.27812558, 0.7218744 ], dtype=float32), 'class_ids': array([1]), 'classes': array([b'1'], dtype=object), 'all_class_ids': array([0, 1], dtype=int32), 'all_classes': array([b'0', b'1'], dtype=object)}, {'logits': array([-1.089125], dtype=float32), 'logistic': array([0.25178307], dtype=float32), 'probabilities': array([0.7482169 , 0.25178307], dtype=float32), 'class_ids': array([0]), 'classes': array([b'0'], dtype=object), 'all_class_ids': array([0, 1], dtype=int32), 'all_classes': array([b'0', b'1'], dtype=object)}, {'logits': array([-1.4686437], dtype=float32), 'logistic': array([0.18714887], dtype=float32), 'probabilities': array([0.81285113, 0.18714885], dtype=float32), 'class_ids': array([0]), 'classes': array([b'0'], dtype=object), 'all_class_ids': array([0, 1], dtype=int32), 'all_classes': array([b'0', b'1'], dtype=object)}, {'logits': array([-0.14897048], dtype=float32), 'logistic': array([0.4628261], dtype=float32), 'probabilities': array([0.53717387, 0.46282607], dtype=float32), 'class_ids': array([0]), 'classes': array([b'0'], dtype=object), 'all_class_ids': array([0, 1], dtype=int32), 'all_classes': array([b'0', b'1'], dtype=object)}, {'logits': array([-1.1361779], dtype=float32), 'logistic': array([0.2430228], dtype=float32), 'probabilities': array([0.7569772 , 0.24302278], dtype=float32), 'class_ids': array([0]), 'classes': array([b'0'], dtype=object), 'all_class_ids': array([0, 1], dtype=int32), 'all_classes': array([b'0', b'1'], dtype=object)}, {'logits': array([-1.6492001], dtype=float32), 'logistic': array([0.1612171], dtype=float32), 'probabilities': array([0.8387829, 0.1612171], dtype=float32), 'class_ids': array([0]), 'classes': array([b'0'], dtype=object), 'all_class_ids': array([0, 1], dtype=int32), 'all_classes': array([b'0', b'1'], dtype=object)}, {'logits': array([-1.4453791], dtype=float32), 'logistic': array([0.19071375], dtype=float32), 'probabilities': array([0.80928624, 0.19071373], dtype=float32), 'class_ids': array([0]), 'classes': array([b'0'], dtype=object), 'all_class_ids': array([0, 1], dtype=int32), 'all_classes': array([b'0', b'1'], dtype=object)}, {'logits': array([-1.7359273], dtype=float32), 'logistic': array([0.14983097], dtype=float32), 'probabilities': array([0.85016906, 0.14983098], dtype=float32), 'class_ids': array([0]), 'classes': array([b'0'], dtype=object), 'all_class_ids': array([0, 1], dtype=int32), 'all_classes': array([b'0', b'1'], dtype=object)}, {'logits': array([-0.44406575], dtype=float32), 'logistic': array([0.39077264], dtype=float32), 'probabilities': array([0.6092274, 0.3907726], dtype=float32), 'class_ids': array([0]), 'classes': array([b'0'], dtype=object), 'all_class_ids': array([0, 1], dtype=int32), 'all_classes': array([b'0', b'1'], dtype=object)}, {'logits': array([1.4305443], dtype=float32), 'logistic': array([0.8069861], dtype=float32), 'probabilities': array([0.1930139 , 0.80698615], dtype=float32), 'class_ids': array([1]), 'classes': array([b'1'], dtype=object), 'all_class_ids': array([0, 1], dtype=int32), 'all_classes': array([b'0', b'1'], dtype=object)}, {'logits': array([1.4677666], dtype=float32), 'logistic': array([0.8127177], dtype=float32), 'probabilities': array([0.18728231, 0.8127177 ], dtype=float32), 'class_ids': array([1]), 'classes': array([b'1'], dtype=object), 'all_class_ids': array([0, 1], dtype=int32), 'all_classes': array([b'0', b'1'], dtype=object)}, {'logits': array([0.3908943], dtype=float32), 'logistic': array([0.59649795], dtype=float32), 'probabilities': array([0.40350205, 0.59649795], dtype=float32), 'class_ids': array([1]), 'classes': array([b'1'], dtype=object), 'all_class_ids': array([0, 1], dtype=int32), 'all_classes': array([b'0', b'1'], dtype=object)}, {'logits': array([0.2241255], dtype=float32), 'logistic': array([0.555798], dtype=float32), 'probabilities': array([0.444202, 0.555798], dtype=float32), 'class_ids': array([1]), 'classes': array([b'1'], dtype=object), 'all_class_ids': array([0, 1], dtype=int32), 'all_classes': array([b'0', b'1'], dtype=object)}, {'logits': array([0.5884578], dtype=float32), 'logistic': array([0.6430112], dtype=float32), 'probabilities': array([0.3569888, 0.6430112], dtype=float32), 'class_ids': array([1]), 'classes': array([b'1'], dtype=object), 'all_class_ids': array([0, 1], dtype=int32), 'all_classes': array([b'0', b'1'], dtype=object)}, {'logits': array([-1.9175572], dtype=float32), 'logistic': array([0.12813416], dtype=float32), 'probabilities': array([0.8718658 , 0.12813422], dtype=float32), 'class_ids': array([0]), 'classes': array([b'0'], dtype=object), 'all_class_ids': array([0, 1], dtype=int32), 'all_classes': array([b'0', b'1'], dtype=object)}, {'logits': array([0.1789658], dtype=float32), 'logistic': array([0.5446224], dtype=float32), 'probabilities': array([0.45537758, 0.5446224 ], dtype=float32), 'class_ids': array([1]), 'classes': array([b'1'], dtype=object), 'all_class_ids': array([0, 1], dtype=int32), 'all_classes': array([b'0', b'1'], dtype=object)}, {'logits': array([1.3002948], dtype=float32), 'logistic': array([0.7858846], dtype=float32), 'probabilities': array([0.21411541, 0.7858846 ], dtype=float32), 'class_ids': array([1]), 'classes': array([b'1'], dtype=object), 'all_class_ids': array([0, 1], dtype=int32), 'all_classes': array([b'0', b'1'], dtype=object)}, {'logits': array([0.18743432], dtype=float32), 'logistic': array([0.5467219], dtype=float32), 'probabilities': array([0.45327812, 0.5467219 ], dtype=float32), 'class_ids': array([1]), 'classes': array([b'1'], dtype=object), 'all_class_ids': array([0, 1], dtype=int32), 'all_classes': array([b'0', b'1'], dtype=object)}, {'logits': array([-0.72623724], dtype=float32), 'logistic': array([0.32602102], dtype=float32), 'probabilities': array([0.673979, 0.326021], dtype=float32), 'class_ids': array([0]), 'classes': array([b'0'], dtype=object), 'all_class_ids': array([0, 1], dtype=int32), 'all_classes': array([b'0', b'1'], dtype=object)}, {'logits': array([-0.21138203], dtype=float32), 'logistic': array([0.44735038], dtype=float32), 'probabilities': array([0.5526496 , 0.44735038], dtype=float32), 'class_ids': array([0]), 'classes': array([b'0'], dtype=object), 'all_class_ids': array([0, 1], dtype=int32), 'all_classes': array([b'0', b'1'], dtype=object)}, {'logits': array([0.7515029], dtype=float32), 'logistic': array([0.67950606], dtype=float32), 'probabilities': array([0.3204939 , 0.67950606], dtype=float32), 'class_ids': array([1]), 'classes': array([b'1'], dtype=object), 'all_class_ids': array([0, 1], dtype=int32), 'all_classes': array([b'0', b'1'], dtype=object)}, {'logits': array([-1.0781016], dtype=float32), 'logistic': array([0.25386545], dtype=float32), 'probabilities': array([0.7461346 , 0.25386542], dtype=float32), 'class_ids': array([0]), 'classes': array([b'0'], dtype=object), 'all_class_ids': array([0, 1], dtype=int32), 'all_classes': array([b'0', b'1'], dtype=object)}, {'logits': array([0.69244576], dtype=float32), 'logistic': array([0.66651076], dtype=float32), 'probabilities': array([0.3334892 , 0.66651076], dtype=float32), 'class_ids': array([1]), 'classes': array([b'1'], dtype=object), 'all_class_ids': array([0, 1], dtype=int32), 'all_classes': array([b'0', b'1'], dtype=object)}, {'logits': array([-0.1977619], dtype=float32), 'logistic': array([0.45072004], dtype=float32), 'probabilities': array([0.54928   , 0.45072004], dtype=float32), 'class_ids': array([0]), 'classes': array([b'0'], dtype=object), 'all_class_ids': array([0, 1], dtype=int32), 'all_classes': array([b'0', b'1'], dtype=object)}, {'logits': array([-0.02666533], dtype=float32), 'logistic': array([0.49333405], dtype=float32), 'probabilities': array([0.50666595, 0.49333408], dtype=float32), 'class_ids': array([0]), 'classes': array([b'0'], dtype=object), 'all_class_ids': array([0, 1], dtype=int32), 'all_classes': array([b'0', b'1'], dtype=object)}, {'logits': array([-1.5523577], dtype=float32), 'logistic': array([0.174746], dtype=float32), 'probabilities': array([0.825254  , 0.17474602], dtype=float32), 'class_ids': array([0]), 'classes': array([b'0'], dtype=object), 'all_class_ids': array([0, 1], dtype=int32), 'all_classes': array([b'0', b'1'], dtype=object)}, {'logits': array([-1.3463045], dtype=float32), 'logistic': array([0.2064752], dtype=float32), 'probabilities': array([0.7935248, 0.2064752], dtype=float32), 'class_ids': array([0]), 'classes': array([b'0'], dtype=object), 'all_class_ids': array([0, 1], dtype=int32), 'all_classes': array([b'0', b'1'], dtype=object)}, {'logits': array([-1.2696568], dtype=float32), 'logistic': array([0.219316], dtype=float32), 'probabilities': array([0.780684, 0.219316], dtype=float32), 'class_ids': array([0]), 'classes': array([b'0'], dtype=object), 'all_class_ids': array([0, 1], dtype=int32), 'all_classes': array([b'0', b'1'], dtype=object)}, {'logits': array([-0.13902593], dtype=float32), 'logistic': array([0.4652994], dtype=float32), 'probabilities': array([0.53470063, 0.4652994 ], dtype=float32), 'class_ids': array([0]), 'classes': array([b'0'], dtype=object), 'all_class_ids': array([0, 1], dtype=int32), 'all_classes': array([b'0', b'1'], dtype=object)}, {'logits': array([-1.6069568], dtype=float32), 'logistic': array([0.16701153], dtype=float32), 'probabilities': array([0.8329885 , 0.16701154], dtype=float32), 'class_ids': array([0]), 'classes': array([b'0'], dtype=object), 'all_class_ids': array([0, 1], dtype=int32), 'all_classes': array([b'0', b'1'], dtype=object)}, {'logits': array([1.1569182], dtype=float32), 'logistic': array([0.7607723], dtype=float32), 'probabilities': array([0.2392277, 0.7607722], dtype=float32), 'class_ids': array([1]), 'classes': array([b'1'], dtype=object), 'all_class_ids': array([0, 1], dtype=int32), 'all_classes': array([b'0', b'1'], dtype=object)}, {'logits': array([-1.3811381], dtype=float32), 'logistic': array([0.20082629], dtype=float32), 'probabilities': array([0.79917365, 0.20082627], dtype=float32), 'class_ids': array([0]), 'classes': array([b'0'], dtype=object), 'all_class_ids': array([0, 1], dtype=int32), 'all_classes': array([b'0', b'1'], dtype=object)}, {'logits': array([0.19999182], dtype=float32), 'logistic': array([0.549832], dtype=float32), 'probabilities': array([0.45016798, 0.5498319 ], dtype=float32), 'class_ids': array([1]), 'classes': array([b'1'], dtype=object), 'all_class_ids': array([0, 1], dtype=int32), 'all_classes': array([b'0', b'1'], dtype=object)}, {'logits': array([-1.5680317], dtype=float32), 'logistic': array([0.17249715], dtype=float32), 'probabilities': array([0.82750285, 0.17249718], dtype=float32), 'class_ids': array([0]), 'classes': array([b'0'], dtype=object), 'all_class_ids': array([0, 1], dtype=int32), 'all_classes': array([b'0', b'1'], dtype=object)}, {'logits': array([1.0575017], dtype=float32), 'logistic': array([0.7422128], dtype=float32), 'probabilities': array([0.2577872 , 0.74221283], dtype=float32), 'class_ids': array([1]), 'classes': array([b'1'], dtype=object), 'all_class_ids': array([0, 1], dtype=int32), 'all_classes': array([b'0', b'1'], dtype=object)}, {'logits': array([-0.6550745], dtype=float32), 'logistic': array([0.34184694], dtype=float32), 'probabilities': array([0.65815306, 0.34184694], dtype=float32), 'class_ids': array([0]), 'classes': array([b'0'], dtype=object), 'all_class_ids': array([0, 1], dtype=int32), 'all_classes': array([b'0', b'1'], dtype=object)}, {'logits': array([-1.4452062], dtype=float32), 'logistic': array([0.19074044], dtype=float32), 'probabilities': array([0.80925953, 0.19074044], dtype=float32), 'class_ids': array([0]), 'classes': array([b'0'], dtype=object), 'all_class_ids': array([0, 1], dtype=int32), 'all_classes': array([b'0', b'1'], dtype=object)}, {'logits': array([-0.46315408], dtype=float32), 'logistic': array([0.38623786], dtype=float32), 'probabilities': array([0.6137622, 0.3862379], dtype=float32), 'class_ids': array([0]), 'classes': array([b'0'], dtype=object), 'all_class_ids': array([0, 1], dtype=int32), 'all_classes': array([b'0', b'1'], dtype=object)}, {'logits': array([-0.7078606], dtype=float32), 'logistic': array([0.33007175], dtype=float32), 'probabilities': array([0.66992825, 0.33007175], dtype=float32), 'class_ids': array([0]), 'classes': array([b'0'], dtype=object), 'all_class_ids': array([0, 1], dtype=int32), 'all_classes': array([b'0', b'1'], dtype=object)}, {'logits': array([-1.4937692], dtype=float32), 'logistic': array([0.18335667], dtype=float32), 'probabilities': array([0.81664336, 0.18335669], dtype=float32), 'class_ids': array([0]), 'classes': array([b'0'], dtype=object), 'all_class_ids': array([0, 1], dtype=int32), 'all_classes': array([b'0', b'1'], dtype=object)}, {'logits': array([1.1044382], dtype=float32), 'logistic': array([0.75109076], dtype=float32), 'probabilities': array([0.24890922, 0.75109076], dtype=float32), 'class_ids': array([1]), 'classes': array([b'1'], dtype=object), 'all_class_ids': array([0, 1], dtype=int32), 'all_classes': array([b'0', b'1'], dtype=object)}, {'logits': array([-1.1729931], dtype=float32), 'logistic': array([0.23631439], dtype=float32), 'probabilities': array([0.7636856, 0.2363144], dtype=float32), 'class_ids': array([0]), 'classes': array([b'0'], dtype=object), 'all_class_ids': array([0, 1], dtype=int32), 'all_classes': array([b'0', b'1'], dtype=object)}, {'logits': array([-1.53679], dtype=float32), 'logistic': array([0.17700237], dtype=float32), 'probabilities': array([0.8229976, 0.1770024], dtype=float32), 'class_ids': array([0]), 'classes': array([b'0'], dtype=object), 'all_class_ids': array([0, 1], dtype=int32), 'all_classes': array([b'0', b'1'], dtype=object)}, {'logits': array([-0.79002], dtype=float32), 'logistic': array([0.31216437], dtype=float32), 'probabilities': array([0.68783563, 0.3121644 ], dtype=float32), 'class_ids': array([0]), 'classes': array([b'0'], dtype=object), 'all_class_ids': array([0, 1], dtype=int32), 'all_classes': array([b'0', b'1'], dtype=object)}, {'logits': array([-0.09264016], dtype=float32), 'logistic': array([0.4768565], dtype=float32), 'probabilities': array([0.5231435, 0.4768565], dtype=float32), 'class_ids': array([0]), 'classes': array([b'0'], dtype=object), 'all_class_ids': array([0, 1], dtype=int32), 'all_classes': array([b'0', b'1'], dtype=object)}, {'logits': array([-0.8314142], dtype=float32), 'logistic': array([0.30334613], dtype=float32), 'probabilities': array([0.6966539 , 0.30334613], dtype=float32), 'class_ids': array([0]), 'classes': array([b'0'], dtype=object), 'all_class_ids': array([0, 1], dtype=int32), 'all_classes': array([b'0', b'1'], dtype=object)}, {'logits': array([-1.8467147], dtype=float32), 'logistic': array([0.13625908], dtype=float32), 'probabilities': array([0.8637409, 0.1362591], dtype=float32), 'class_ids': array([0]), 'classes': array([b'0'], dtype=object), 'all_class_ids': array([0, 1], dtype=int32), 'all_classes': array([b'0', b'1'], dtype=object)}, {'logits': array([1.4694644], dtype=float32), 'logistic': array([0.812976], dtype=float32), 'probabilities': array([0.18702403, 0.81297594], dtype=float32), 'class_ids': array([1]), 'classes': array([b'1'], dtype=object), 'all_class_ids': array([0, 1], dtype=int32), 'all_classes': array([b'0', b'1'], dtype=object)}, {'logits': array([0.91065085], dtype=float32), 'logistic': array([0.71313334], dtype=float32), 'probabilities': array([0.28686666, 0.71313334], dtype=float32), 'class_ids': array([1]), 'classes': array([b'1'], dtype=object), 'all_class_ids': array([0, 1], dtype=int32), 'all_classes': array([b'0', b'1'], dtype=object)}, {'logits': array([0.5149139], dtype=float32), 'logistic': array([0.62595767], dtype=float32), 'probabilities': array([0.3740423 , 0.62595767], dtype=float32), 'class_ids': array([1]), 'classes': array([b'1'], dtype=object), 'all_class_ids': array([0, 1], dtype=int32), 'all_classes': array([b'0', b'1'], dtype=object)}, {'logits': array([1.3333768], dtype=float32), 'logistic': array([0.79139864], dtype=float32), 'probabilities': array([0.20860136, 0.79139864], dtype=float32), 'class_ids': array([1]), 'classes': array([b'1'], dtype=object), 'all_class_ids': array([0, 1], dtype=int32), 'all_classes': array([b'0', b'1'], dtype=object)}, {'logits': array([-1.620131], dtype=float32), 'logistic': array([0.16518682], dtype=float32), 'probabilities': array([0.83481324, 0.16518681], dtype=float32), 'class_ids': array([0]), 'classes': array([b'0'], dtype=object), 'all_class_ids': array([0, 1], dtype=int32), 'all_classes': array([b'0', b'1'], dtype=object)}, {'logits': array([-1.6387546], dtype=float32), 'logistic': array([0.16263458], dtype=float32), 'probabilities': array([0.83736545, 0.16263461], dtype=float32), 'class_ids': array([0]), 'classes': array([b'0'], dtype=object), 'all_class_ids': array([0, 1], dtype=int32), 'all_classes': array([b'0', b'1'], dtype=object)}, {'logits': array([-1.1304904], dtype=float32), 'logistic': array([0.24407062], dtype=float32), 'probabilities': array([0.75592935, 0.24407059], dtype=float32), 'class_ids': array([0]), 'classes': array([b'0'], dtype=object), 'all_class_ids': array([0, 1], dtype=int32), 'all_classes': array([b'0', b'1'], dtype=object)}, {'logits': array([-0.66816694], dtype=float32), 'logistic': array([0.33890742], dtype=float32), 'probabilities': array([0.6610926 , 0.33890742], dtype=float32), 'class_ids': array([0]), 'classes': array([b'0'], dtype=object), 'all_class_ids': array([0, 1], dtype=int32), 'all_classes': array([b'0', b'1'], dtype=object)}, {'logits': array([-0.56813085], dtype=float32), 'logistic': array([0.36166823], dtype=float32), 'probabilities': array([0.63833183, 0.36166826], dtype=float32), 'class_ids': array([0]), 'classes': array([b'0'], dtype=object), 'all_class_ids': array([0, 1], dtype=int32), 'all_classes': array([b'0', b'1'], dtype=object)}, {'logits': array([0.48230207], dtype=float32), 'logistic': array([0.6182913], dtype=float32), 'probabilities': array([0.38170865, 0.6182913 ], dtype=float32), 'class_ids': array([1]), 'classes': array([b'1'], dtype=object), 'all_class_ids': array([0, 1], dtype=int32), 'all_classes': array([b'0', b'1'], dtype=object)}, {'logits': array([0.41060388], dtype=float32), 'logistic': array([0.60123265], dtype=float32), 'probabilities': array([0.39876732, 0.60123265], dtype=float32), 'class_ids': array([1]), 'classes': array([b'1'], dtype=object), 'all_class_ids': array([0, 1], dtype=int32), 'all_classes': array([b'0', b'1'], dtype=object)}, {'logits': array([-0.15763938], dtype=float32), 'logistic': array([0.46067157], dtype=float32), 'probabilities': array([0.53932846, 0.46067157], dtype=float32), 'class_ids': array([0]), 'classes': array([b'0'], dtype=object), 'all_class_ids': array([0, 1], dtype=int32), 'all_classes': array([b'0', b'1'], dtype=object)}, {'logits': array([-0.44709194], dtype=float32), 'logistic': array([0.39005244], dtype=float32), 'probabilities': array([0.60994756, 0.39005238], dtype=float32), 'class_ids': array([0]), 'classes': array([b'0'], dtype=object), 'all_class_ids': array([0, 1], dtype=int32), 'all_classes': array([b'0', b'1'], dtype=object)}, {'logits': array([-0.33304602], dtype=float32), 'logistic': array([0.41749966], dtype=float32), 'probabilities': array([0.58250034, 0.41749966], dtype=float32), 'class_ids': array([0]), 'classes': array([b'0'], dtype=object), 'all_class_ids': array([0, 1], dtype=int32), 'all_classes': array([b'0', b'1'], dtype=object)}, {'logits': array([-1.5089889], dtype=float32), 'logistic': array([0.18108872], dtype=float32), 'probabilities': array([0.8189113, 0.1810887], dtype=float32), 'class_ids': array([0]), 'classes': array([b'0'], dtype=object), 'all_class_ids': array([0, 1], dtype=int32), 'all_classes': array([b'0', b'1'], dtype=object)}, {'logits': array([0.75602925], dtype=float32), 'logistic': array([0.68049103], dtype=float32), 'probabilities': array([0.31950897, 0.68049103], dtype=float32), 'class_ids': array([1]), 'classes': array([b'1'], dtype=object), 'all_class_ids': array([0, 1], dtype=int32), 'all_classes': array([b'0', b'1'], dtype=object)}, {'logits': array([-1.7028407], dtype=float32), 'logistic': array([0.1540946], dtype=float32), 'probabilities': array([0.8459053 , 0.15409462], dtype=float32), 'class_ids': array([0]), 'classes': array([b'0'], dtype=object), 'all_class_ids': array([0, 1], dtype=int32), 'all_classes': array([b'0', b'1'], dtype=object)}, {'logits': array([-0.8772993], dtype=float32), 'logistic': array([0.29373774], dtype=float32), 'probabilities': array([0.70626223, 0.29373774], dtype=float32), 'class_ids': array([0]), 'classes': array([b'0'], dtype=object), 'all_class_ids': array([0, 1], dtype=int32), 'all_classes': array([b'0', b'1'], dtype=object)}, {'logits': array([0.28021824], dtype=float32), 'logistic': array([0.56959975], dtype=float32), 'probabilities': array([0.43040028, 0.56959975], dtype=float32), 'class_ids': array([1]), 'classes': array([b'1'], dtype=object), 'all_class_ids': array([0, 1], dtype=int32), 'all_classes': array([b'0', b'1'], dtype=object)}, {'logits': array([-0.53293574], dtype=float32), 'logistic': array([0.36983243], dtype=float32), 'probabilities': array([0.6301676 , 0.36983246], dtype=float32), 'class_ids': array([0]), 'classes': array([b'0'], dtype=object), 'all_class_ids': array([0, 1], dtype=int32), 'all_classes': array([b'0', b'1'], dtype=object)}, {'logits': array([-1.374874], dtype=float32), 'logistic': array([0.20183352], dtype=float32), 'probabilities': array([0.79816645, 0.20183352], dtype=float32), 'class_ids': array([0]), 'classes': array([b'0'], dtype=object), 'all_class_ids': array([0, 1], dtype=int32), 'all_classes': array([b'0', b'1'], dtype=object)}, {'logits': array([-0.8095617], dtype=float32), 'logistic': array([0.3079839], dtype=float32), 'probabilities': array([0.69201607, 0.30798388], dtype=float32), 'class_ids': array([0]), 'classes': array([b'0'], dtype=object), 'all_class_ids': array([0, 1], dtype=int32), 'all_classes': array([b'0', b'1'], dtype=object)}, {'logits': array([-1.0917226], dtype=float32), 'logistic': array([0.25129402], dtype=float32), 'probabilities': array([0.748706  , 0.25129405], dtype=float32), 'class_ids': array([0]), 'classes': array([b'0'], dtype=object), 'all_class_ids': array([0, 1], dtype=int32), 'all_classes': array([b'0', b'1'], dtype=object)}, {'logits': array([-1.7528607], dtype=float32), 'logistic': array([0.14768672], dtype=float32), 'probabilities': array([0.8523133 , 0.14768675], dtype=float32), 'class_ids': array([0]), 'classes': array([b'0'], dtype=object), 'all_class_ids': array([0, 1], dtype=int32), 'all_classes': array([b'0', b'1'], dtype=object)}, {'logits': array([-1.0952128], dtype=float32), 'logistic': array([0.25063795], dtype=float32), 'probabilities': array([0.7493621 , 0.25063798], dtype=float32), 'class_ids': array([0]), 'classes': array([b'0'], dtype=object), 'all_class_ids': array([0, 1], dtype=int32), 'all_classes': array([b'0', b'1'], dtype=object)}, {'logits': array([0.71832573], dtype=float32), 'logistic': array([0.67223823], dtype=float32), 'probabilities': array([0.32776177, 0.67223823], dtype=float32), 'class_ids': array([1]), 'classes': array([b'1'], dtype=object), 'all_class_ids': array([0, 1], dtype=int32), 'all_classes': array([b'0', b'1'], dtype=object)}, {'logits': array([0.80808747], dtype=float32), 'logistic': array([0.69170177], dtype=float32), 'probabilities': array([0.30829817, 0.69170177], dtype=float32), 'class_ids': array([1]), 'classes': array([b'1'], dtype=object), 'all_class_ids': array([0, 1], dtype=int32), 'all_classes': array([b'0', b'1'], dtype=object)}, {'logits': array([0.79503715], dtype=float32), 'logistic': array([0.68891186], dtype=float32), 'probabilities': array([0.31108814, 0.6889119 ], dtype=float32), 'class_ids': array([1]), 'classes': array([b'1'], dtype=object), 'all_class_ids': array([0, 1], dtype=int32), 'all_classes': array([b'0', b'1'], dtype=object)}, {'logits': array([0.85499036], dtype=float32), 'logistic': array([0.70161295], dtype=float32), 'probabilities': array([0.29838705, 0.70161295], dtype=float32), 'class_ids': array([1]), 'classes': array([b'1'], dtype=object), 'all_class_ids': array([0, 1], dtype=int32), 'all_classes': array([b'0', b'1'], dtype=object)}, {'logits': array([0.00755537], dtype=float32), 'logistic': array([0.5018888], dtype=float32), 'probabilities': array([0.49811116, 0.5018888 ], dtype=float32), 'class_ids': array([1]), 'classes': array([b'1'], dtype=object), 'all_class_ids': array([0, 1], dtype=int32), 'all_classes': array([b'0', b'1'], dtype=object)}, {'logits': array([-0.6368256], dtype=float32), 'logistic': array([0.3459645], dtype=float32), 'probabilities': array([0.6540355 , 0.34596446], dtype=float32), 'class_ids': array([0]), 'classes': array([b'0'], dtype=object), 'all_class_ids': array([0, 1], dtype=int32), 'all_classes': array([b'0', b'1'], dtype=object)}, {'logits': array([0.07110572], dtype=float32), 'logistic': array([0.5177689], dtype=float32), 'probabilities': array([0.48223108, 0.517769  ], dtype=float32), 'class_ids': array([1]), 'classes': array([b'1'], dtype=object), 'all_class_ids': array([0, 1], dtype=int32), 'all_classes': array([b'0', b'1'], dtype=object)}, {'logits': array([-1.1412647], dtype=float32), 'logistic': array([0.24208826], dtype=float32), 'probabilities': array([0.75791174, 0.24208823], dtype=float32), 'class_ids': array([0]), 'classes': array([b'0'], dtype=object), 'all_class_ids': array([0, 1], dtype=int32), 'all_classes': array([b'0', b'1'], dtype=object)}, {'logits': array([-1.4490511], dtype=float32), 'logistic': array([0.19014761], dtype=float32), 'probabilities': array([0.80985236, 0.19014764], dtype=float32), 'class_ids': array([0]), 'classes': array([b'0'], dtype=object), 'all_class_ids': array([0, 1], dtype=int32), 'all_classes': array([b'0', b'1'], dtype=object)}, {'logits': array([-1.211995], dtype=float32), 'logistic': array([0.22934827], dtype=float32), 'probabilities': array([0.7706518 , 0.22934826], dtype=float32), 'class_ids': array([0]), 'classes': array([b'0'], dtype=object), 'all_class_ids': array([0, 1], dtype=int32), 'all_classes': array([b'0', b'1'], dtype=object)}, {'logits': array([0.06518412], dtype=float32), 'logistic': array([0.51629025], dtype=float32), 'probabilities': array([0.48370972, 0.51629025], dtype=float32), 'class_ids': array([1]), 'classes': array([b'1'], dtype=object), 'all_class_ids': array([0, 1], dtype=int32), 'all_classes': array([b'0', b'1'], dtype=object)}, {'logits': array([-2.6218538], dtype=float32), 'logistic': array([0.06774512], dtype=float32), 'probabilities': array([0.93225485, 0.06774512], dtype=float32), 'class_ids': array([0]), 'classes': array([b'0'], dtype=object), 'all_class_ids': array([0, 1], dtype=int32), 'all_classes': array([b'0', b'1'], dtype=object)}, {'logits': array([-0.84324396], dtype=float32), 'logistic': array([0.300852], dtype=float32), 'probabilities': array([0.69914794, 0.30085197], dtype=float32), 'class_ids': array([0]), 'classes': array([b'0'], dtype=object), 'all_class_ids': array([0, 1], dtype=int32), 'all_classes': array([b'0', b'1'], dtype=object)}, {'logits': array([-1.5081277], dtype=float32), 'logistic': array([0.18121643], dtype=float32), 'probabilities': array([0.8187836 , 0.18121645], dtype=float32), 'class_ids': array([0]), 'classes': array([b'0'], dtype=object), 'all_class_ids': array([0, 1], dtype=int32), 'all_classes': array([b'0', b'1'], dtype=object)}, {'logits': array([-0.87397087], dtype=float32), 'logistic': array([0.2944287], dtype=float32), 'probabilities': array([0.70557123, 0.2944287 ], dtype=float32), 'class_ids': array([0]), 'classes': array([b'0'], dtype=object), 'all_class_ids': array([0, 1], dtype=int32), 'all_classes': array([b'0', b'1'], dtype=object)}, {'logits': array([-0.93638194], dtype=float32), 'logistic': array([0.28163177], dtype=float32), 'probabilities': array([0.71836823, 0.28163174], dtype=float32), 'class_ids': array([0]), 'classes': array([b'0'], dtype=object), 'all_class_ids': array([0, 1], dtype=int32), 'all_classes': array([b'0', b'1'], dtype=object)}, {'logits': array([-0.8903382], dtype=float32), 'logistic': array([0.29104006], dtype=float32), 'probabilities': array([0.70895994, 0.29104006], dtype=float32), 'class_ids': array([0]), 'classes': array([b'0'], dtype=object), 'all_class_ids': array([0, 1], dtype=int32), 'all_classes': array([b'0', b'1'], dtype=object)}, {'logits': array([1.573939], dtype=float32), 'logistic': array([0.82834435], dtype=float32), 'probabilities': array([0.1716556, 0.8283444], dtype=float32), 'class_ids': array([1]), 'classes': array([b'1'], dtype=object), 'all_class_ids': array([0, 1], dtype=int32), 'all_classes': array([b'0', b'1'], dtype=object)}, {'logits': array([-1.3738034], dtype=float32), 'logistic': array([0.20200607], dtype=float32), 'probabilities': array([0.79799396, 0.20200604], dtype=float32), 'class_ids': array([0]), 'classes': array([b'0'], dtype=object), 'all_class_ids': array([0, 1], dtype=int32), 'all_classes': array([b'0', b'1'], dtype=object)}, {'logits': array([-1.7971361], dtype=float32), 'logistic': array([0.14220005], dtype=float32), 'probabilities': array([0.8578    , 0.14220005], dtype=float32), 'class_ids': array([0]), 'classes': array([b'0'], dtype=object), 'all_class_ids': array([0, 1], dtype=int32), 'all_classes': array([b'0', b'1'], dtype=object)}, {'logits': array([0.6594727], dtype=float32), 'logistic': array([0.6591419], dtype=float32), 'probabilities': array([0.34085807, 0.65914196], dtype=float32), 'class_ids': array([1]), 'classes': array([b'1'], dtype=object), 'all_class_ids': array([0, 1], dtype=int32), 'all_classes': array([b'0', b'1'], dtype=object)}, {'logits': array([0.10103309], dtype=float32), 'logistic': array([0.5252368], dtype=float32), 'probabilities': array([0.47476318, 0.5252368 ], dtype=float32), 'class_ids': array([1]), 'classes': array([b'1'], dtype=object), 'all_class_ids': array([0, 1], dtype=int32), 'all_classes': array([b'0', b'1'], dtype=object)}, {'logits': array([1.7982711], dtype=float32), 'logistic': array([0.8579384], dtype=float32), 'probabilities': array([0.14206165, 0.85793835], dtype=float32), 'class_ids': array([1]), 'classes': array([b'1'], dtype=object), 'all_class_ids': array([0, 1], dtype=int32), 'all_classes': array([b'0', b'1'], dtype=object)}, {'logits': array([0.52625287], dtype=float32), 'logistic': array([0.6286087], dtype=float32), 'probabilities': array([0.37139127, 0.6286087 ], dtype=float32), 'class_ids': array([1]), 'classes': array([b'1'], dtype=object), 'all_class_ids': array([0, 1], dtype=int32), 'all_classes': array([b'0', b'1'], dtype=object)}, {'logits': array([-1.7802235], dtype=float32), 'logistic': array([0.14427553], dtype=float32), 'probabilities': array([0.85572445, 0.14427555], dtype=float32), 'class_ids': array([0]), 'classes': array([b'0'], dtype=object), 'all_class_ids': array([0, 1], dtype=int32), 'all_classes': array([b'0', b'1'], dtype=object)}, {'logits': array([0.69631636], dtype=float32), 'logistic': array([0.66737056], dtype=float32), 'probabilities': array([0.33262944, 0.66737056], dtype=float32), 'class_ids': array([1]), 'classes': array([b'1'], dtype=object), 'all_class_ids': array([0, 1], dtype=int32), 'all_classes': array([b'0', b'1'], dtype=object)}]\n"
          ],
          "name": "stdout"
        }
      ]
    },
    {
      "cell_type": "markdown",
      "metadata": {
        "id": "snZKEoB7qMwE",
        "colab_type": "text"
      },
      "source": [
        "#Dense Neural Network Model for above given data"
      ]
    },
    {
      "cell_type": "code",
      "metadata": {
        "id": "T577OKzFq-F8",
        "colab_type": "code",
        "outputId": "673081f3-3d59-422b-f11c-8265f67ab1fd",
        "colab": {
          "base_uri": "https://localhost:8080/",
          "height": 34
        }
      },
      "source": [
        "dnn_model = tf.estimator.DNNClassifier(hidden_units=[10,10,10], feature_columns=feat_cols, n_classes=2)"
      ],
      "execution_count": 0,
      "outputs": [
        {
          "output_type": "stream",
          "text": [
            "W0725 19:48:08.598169 139861148710784 estimator.py:1811] Using temporary folder as model directory: /tmp/tmp_2wr049x\n"
          ],
          "name": "stderr"
        }
      ]
    },
    {
      "cell_type": "code",
      "metadata": {
        "id": "suiJsbw3rSU6",
        "colab_type": "code",
        "colab": {}
      },
      "source": [
        "embedded_group_col = tf.feature_column.embedding_column(assigned_group, dimension=4)"
      ],
      "execution_count": 0,
      "outputs": []
    },
    {
      "cell_type": "code",
      "metadata": {
        "id": "ANg5r19BrpXY",
        "colab_type": "code",
        "colab": {}
      },
      "source": [
        "feat_cols = [num_preg, plasma_gluc, dias_press, tricep, insulin, bmi, diabetes_pedigree, embedded_group_col, age_bucket]"
      ],
      "execution_count": 0,
      "outputs": []
    },
    {
      "cell_type": "code",
      "metadata": {
        "id": "Z6UYv2P7r-I4",
        "colab_type": "code",
        "colab": {}
      },
      "source": [
        "input_func = tf.estimator.inputs.pandas_input_fn(x=X_train,\n",
        "                                                y=y_train,\n",
        "                                                batch_size=10,\n",
        "                                                num_epochs=1000,\n",
        "                                                shuffle=True)"
      ],
      "execution_count": 0,
      "outputs": []
    },
    {
      "cell_type": "code",
      "metadata": {
        "id": "vZmtzWSesWkG",
        "colab_type": "code",
        "outputId": "549ff6aa-3ad7-4803-c3a3-a756b78d3a4c",
        "colab": {
          "base_uri": "https://localhost:8080/",
          "height": 34
        }
      },
      "source": [
        "dnn_model = tf.estimator.DNNClassifier(hidden_units=[10,20,20,10,10], feature_columns=feat_cols, n_classes=2)"
      ],
      "execution_count": 0,
      "outputs": [
        {
          "output_type": "stream",
          "text": [
            "W0725 19:59:15.642955 139861148710784 estimator.py:1811] Using temporary folder as model directory: /tmp/tmps4cuikb4\n"
          ],
          "name": "stderr"
        }
      ]
    },
    {
      "cell_type": "code",
      "metadata": {
        "id": "0E0mqZ6itB6U",
        "colab_type": "code",
        "outputId": "0b9adfd7-a00f-4ec4-9b75-73a3d828892f",
        "colab": {
          "base_uri": "https://localhost:8080/",
          "height": 34
        }
      },
      "source": [
        "dnn_model.train(input_fn=input_func, steps = 1000)"
      ],
      "execution_count": 0,
      "outputs": [
        {
          "output_type": "execute_result",
          "data": {
            "text/plain": [
              "<tensorflow_estimator.python.estimator.canned.dnn.DNNClassifier at 0x7f33a5aec828>"
            ]
          },
          "metadata": {
            "tags": []
          },
          "execution_count": 274
        }
      ]
    },
    {
      "cell_type": "code",
      "metadata": {
        "id": "16F4G5pNtHvk",
        "colab_type": "code",
        "colab": {}
      },
      "source": [
        "eval_input_func = tf.estimator.inputs.pandas_input_fn(x=X_test,\n",
        "                                                y=y_test,\n",
        "                                                batch_size=10,\n",
        "                                                num_epochs=1,\n",
        "                                                shuffle=False)"
      ],
      "execution_count": 0,
      "outputs": []
    },
    {
      "cell_type": "code",
      "metadata": {
        "id": "vv57IgIntbPL",
        "colab_type": "code",
        "outputId": "1fa77472-4c5f-4fa7-f7c3-19c8744ed697",
        "colab": {
          "base_uri": "https://localhost:8080/",
          "height": 72
        }
      },
      "source": [
        "result = dnn_model.evaluate(input_fn=eval_input_func)"
      ],
      "execution_count": 0,
      "outputs": [
        {
          "output_type": "stream",
          "text": [
            "W0725 19:59:27.320621 139861148710784 metrics_impl.py:804] Trapezoidal rule is known to produce incorrect PR-AUCs; please switch to \"careful_interpolation\" instead.\n",
            "W0725 19:59:27.350245 139861148710784 metrics_impl.py:804] Trapezoidal rule is known to produce incorrect PR-AUCs; please switch to \"careful_interpolation\" instead.\n"
          ],
          "name": "stderr"
        }
      ]
    },
    {
      "cell_type": "code",
      "metadata": {
        "id": "O7ZRLeHatgeH",
        "colab_type": "code",
        "outputId": "0029a68d-6411-4368-b626-e32484eacc92",
        "colab": {
          "base_uri": "https://localhost:8080/",
          "height": 207
        }
      },
      "source": [
        "result"
      ],
      "execution_count": 0,
      "outputs": [
        {
          "output_type": "execute_result",
          "data": {
            "text/plain": [
              "{'accuracy': 0.7532467,\n",
              " 'accuracy_baseline': 0.64935064,\n",
              " 'auc': 0.8405762,\n",
              " 'auc_precision_recall': 0.7226602,\n",
              " 'average_loss': 0.48972017,\n",
              " 'global_step': 1000,\n",
              " 'label/mean': 0.35064936,\n",
              " 'loss': 4.713557,\n",
              " 'precision': 0.61764705,\n",
              " 'prediction/mean': 0.43656528,\n",
              " 'recall': 0.7777778}"
            ]
          },
          "metadata": {
            "tags": []
          },
          "execution_count": 277
        }
      ]
    },
    {
      "cell_type": "code",
      "metadata": {
        "id": "mS7dOHrLtqMm",
        "colab_type": "code",
        "colab": {}
      },
      "source": [
        ""
      ],
      "execution_count": 0,
      "outputs": []
    },
    {
      "cell_type": "markdown",
      "metadata": {
        "id": "4v8SNKkL1pjW",
        "colab_type": "text"
      },
      "source": [
        "#TF Regression Exercise"
      ]
    },
    {
      "cell_type": "code",
      "metadata": {
        "id": "0YCjyM-A1wU3",
        "colab_type": "code",
        "colab": {}
      },
      "source": [
        "import pandas as pd\n",
        "import tensorflow as tf\n",
        "import matplotlib.pyplot as plt\n",
        "import numpy as np"
      ],
      "execution_count": 0,
      "outputs": []
    },
    {
      "cell_type": "code",
      "metadata": {
        "id": "Q5qzHWUR3P2c",
        "colab_type": "code",
        "colab": {}
      },
      "source": [
        "cal_house_clean = pd.read_csv('cal_housing_clean.csv')"
      ],
      "execution_count": 0,
      "outputs": []
    },
    {
      "cell_type": "code",
      "metadata": {
        "id": "cq-osBX53YHW",
        "colab_type": "code",
        "colab": {}
      },
      "source": [
        "from sklearn.model_selection import train_test_split"
      ],
      "execution_count": 0,
      "outputs": []
    },
    {
      "cell_type": "code",
      "metadata": {
        "id": "fwacGsQM3zMZ",
        "colab_type": "code",
        "outputId": "20815192-5196-4884-dc0b-f8585ff3fbea",
        "colab": {
          "base_uri": "https://localhost:8080/",
          "height": 69
        }
      },
      "source": [
        "cal_house_clean.columns"
      ],
      "execution_count": 0,
      "outputs": [
        {
          "output_type": "execute_result",
          "data": {
            "text/plain": [
              "Index(['housingMedianAge', 'totalRooms', 'totalBedrooms', 'population',\n",
              "       'households', 'medianIncome', 'medianHouseValue'],\n",
              "      dtype='object')"
            ]
          },
          "metadata": {
            "tags": []
          },
          "execution_count": 358
        }
      ]
    },
    {
      "cell_type": "code",
      "metadata": {
        "id": "BYItL3ip33_9",
        "colab_type": "code",
        "colab": {}
      },
      "source": [
        "feature_column = ['housingMedianAge', 'totalRooms', 'totalBedrooms', 'population',\n",
        "       'households', 'medianIncome']"
      ],
      "execution_count": 0,
      "outputs": []
    },
    {
      "cell_type": "code",
      "metadata": {
        "id": "DfMxiYD74Fio",
        "colab_type": "code",
        "colab": {}
      },
      "source": [
        "x_data = cal_house_clean[feature_column]\n",
        "labels = cal_house_clean['medianHouseValue']"
      ],
      "execution_count": 0,
      "outputs": []
    },
    {
      "cell_type": "code",
      "metadata": {
        "id": "c1kNIkym92cR",
        "colab_type": "code",
        "outputId": "bfe05ae5-1097-42b5-a1cc-bf57d3ce1939",
        "colab": {
          "base_uri": "https://localhost:8080/",
          "height": 121
        }
      },
      "source": [
        "labels.head()"
      ],
      "execution_count": 0,
      "outputs": [
        {
          "output_type": "execute_result",
          "data": {
            "text/plain": [
              "0    452600.0\n",
              "1    358500.0\n",
              "2    352100.0\n",
              "3    341300.0\n",
              "4    342200.0\n",
              "Name: medianHouseValue, dtype: float64"
            ]
          },
          "metadata": {
            "tags": []
          },
          "execution_count": 361
        }
      ]
    },
    {
      "cell_type": "code",
      "metadata": {
        "id": "FDTf2GMt3dnT",
        "colab_type": "code",
        "colab": {}
      },
      "source": [
        "X_train, X_test, y_train, y_test = train_test_split(x_data, labels, test_size=0.3, random_state=100) "
      ],
      "execution_count": 0,
      "outputs": []
    },
    {
      "cell_type": "code",
      "metadata": {
        "id": "GC7A9M64-UUx",
        "colab_type": "code",
        "outputId": "c339975d-75dc-47db-8a89-ca9eb14e90af",
        "colab": {
          "base_uri": "https://localhost:8080/",
          "height": 198
        }
      },
      "source": [
        "X_train.head()\n"
      ],
      "execution_count": 0,
      "outputs": [
        {
          "output_type": "execute_result",
          "data": {
            "text/html": [
              "<div>\n",
              "<style scoped>\n",
              "    .dataframe tbody tr th:only-of-type {\n",
              "        vertical-align: middle;\n",
              "    }\n",
              "\n",
              "    .dataframe tbody tr th {\n",
              "        vertical-align: top;\n",
              "    }\n",
              "\n",
              "    .dataframe thead th {\n",
              "        text-align: right;\n",
              "    }\n",
              "</style>\n",
              "<table border=\"1\" class=\"dataframe\">\n",
              "  <thead>\n",
              "    <tr style=\"text-align: right;\">\n",
              "      <th></th>\n",
              "      <th>housingMedianAge</th>\n",
              "      <th>totalRooms</th>\n",
              "      <th>totalBedrooms</th>\n",
              "      <th>population</th>\n",
              "      <th>households</th>\n",
              "      <th>medianIncome</th>\n",
              "    </tr>\n",
              "  </thead>\n",
              "  <tbody>\n",
              "    <tr>\n",
              "      <th>3472</th>\n",
              "      <td>26.0</td>\n",
              "      <td>4516.0</td>\n",
              "      <td>611.0</td>\n",
              "      <td>1714.0</td>\n",
              "      <td>581.0</td>\n",
              "      <td>9.2873</td>\n",
              "    </tr>\n",
              "    <tr>\n",
              "      <th>13593</th>\n",
              "      <td>39.0</td>\n",
              "      <td>1573.0</td>\n",
              "      <td>418.0</td>\n",
              "      <td>1258.0</td>\n",
              "      <td>359.0</td>\n",
              "      <td>1.4896</td>\n",
              "    </tr>\n",
              "    <tr>\n",
              "      <th>3507</th>\n",
              "      <td>33.0</td>\n",
              "      <td>1358.0</td>\n",
              "      <td>247.0</td>\n",
              "      <td>738.0</td>\n",
              "      <td>235.0</td>\n",
              "      <td>5.0947</td>\n",
              "    </tr>\n",
              "    <tr>\n",
              "      <th>6780</th>\n",
              "      <td>39.0</td>\n",
              "      <td>3856.0</td>\n",
              "      <td>867.0</td>\n",
              "      <td>1847.0</td>\n",
              "      <td>830.0</td>\n",
              "      <td>3.4559</td>\n",
              "    </tr>\n",
              "    <tr>\n",
              "      <th>8087</th>\n",
              "      <td>47.0</td>\n",
              "      <td>2347.0</td>\n",
              "      <td>437.0</td>\n",
              "      <td>1219.0</td>\n",
              "      <td>420.0</td>\n",
              "      <td>5.3096</td>\n",
              "    </tr>\n",
              "  </tbody>\n",
              "</table>\n",
              "</div>"
            ],
            "text/plain": [
              "       housingMedianAge  totalRooms  ...  households  medianIncome\n",
              "3472               26.0      4516.0  ...       581.0        9.2873\n",
              "13593              39.0      1573.0  ...       359.0        1.4896\n",
              "3507               33.0      1358.0  ...       235.0        5.0947\n",
              "6780               39.0      3856.0  ...       830.0        3.4559\n",
              "8087               47.0      2347.0  ...       420.0        5.3096\n",
              "\n",
              "[5 rows x 6 columns]"
            ]
          },
          "metadata": {
            "tags": []
          },
          "execution_count": 363
        }
      ]
    },
    {
      "cell_type": "code",
      "metadata": {
        "id": "FlSM8QjP-Y6M",
        "colab_type": "code",
        "outputId": "65f96a00-31cb-4c1e-fed9-d4719567e9a8",
        "colab": {
          "base_uri": "https://localhost:8080/",
          "height": 121
        }
      },
      "source": [
        "y_train.head()"
      ],
      "execution_count": 0,
      "outputs": [
        {
          "output_type": "execute_result",
          "data": {
            "text/plain": [
              "3472     431800.0\n",
              "13593     69500.0\n",
              "3507     210300.0\n",
              "6780     364900.0\n",
              "8087     209900.0\n",
              "Name: medianHouseValue, dtype: float64"
            ]
          },
          "metadata": {
            "tags": []
          },
          "execution_count": 364
        }
      ]
    },
    {
      "cell_type": "code",
      "metadata": {
        "id": "1Sv5wAIF4v_X",
        "colab_type": "code",
        "outputId": "59b7bbba-6074-4c52-a30c-f4741c3fab81",
        "colab": {
          "base_uri": "https://localhost:8080/",
          "height": 34
        }
      },
      "source": [
        "from sklearn.preprocessing import MinMaxScaler\n",
        "scaler = MinMaxScaler()\n",
        "print(scaler.fit(X_train))"
      ],
      "execution_count": 0,
      "outputs": [
        {
          "output_type": "stream",
          "text": [
            "MinMaxScaler(copy=True, feature_range=(0, 1))\n"
          ],
          "name": "stdout"
        }
      ]
    },
    {
      "cell_type": "code",
      "metadata": {
        "id": "6tw_0I-65HA1",
        "colab_type": "code",
        "outputId": "00c00fcc-bee7-44dc-d87d-2074d934c499",
        "colab": {
          "base_uri": "https://localhost:8080/",
          "height": 138
        }
      },
      "source": [
        "print(scaler.transform(X_train))"
      ],
      "execution_count": 0,
      "outputs": [
        {
          "output_type": "stream",
          "text": [
            "[[0.49019608 0.1146048  0.09438063 0.04795538 0.09508143 0.60601923]\n",
            " [0.74509804 0.03973645 0.06442099 0.03517475 0.05856226 0.06825423]\n",
            " [0.62745098 0.03426696 0.03787644 0.02060035 0.03816417 0.31687839]\n",
            " ...\n",
            " [0.03921569 0.46668702 0.3933561  0.23638555 0.38476723 0.35454683]\n",
            " [0.66666667 0.03620036 0.03880782 0.02102077 0.03701267 0.12974304]\n",
            " [0.92156863 0.04953064 0.05945359 0.03069032 0.06201678 0.28448573]]\n"
          ],
          "name": "stdout"
        }
      ]
    },
    {
      "cell_type": "code",
      "metadata": {
        "id": "OkOMUeRU5Vhw",
        "colab_type": "code",
        "colab": {}
      },
      "source": [
        "X_train = scaler.transform(X_train)"
      ],
      "execution_count": 0,
      "outputs": []
    },
    {
      "cell_type": "code",
      "metadata": {
        "id": "8R0nsxze5apB",
        "colab_type": "code",
        "colab": {}
      },
      "source": [
        "X_test = scaler.transform(X_test)"
      ],
      "execution_count": 0,
      "outputs": []
    },
    {
      "cell_type": "code",
      "metadata": {
        "id": "A5A2qVqI5lIb",
        "colab_type": "code",
        "colab": {}
      },
      "source": [
        "X_train = pd.DataFrame(X_train, columns=feature_column,  index=y_train.index)\n",
        "X_test = pd.DataFrame(X_test, columns=feature_column, index=y_test.index)"
      ],
      "execution_count": 0,
      "outputs": []
    },
    {
      "cell_type": "code",
      "metadata": {
        "id": "N4vDq6HX5vWq",
        "colab_type": "code",
        "outputId": "2964a73c-be76-47f5-fee2-d217f89b49d6",
        "colab": {
          "base_uri": "https://localhost:8080/",
          "height": 198
        }
      },
      "source": [
        "X_train.head()"
      ],
      "execution_count": 0,
      "outputs": [
        {
          "output_type": "execute_result",
          "data": {
            "text/html": [
              "<div>\n",
              "<style scoped>\n",
              "    .dataframe tbody tr th:only-of-type {\n",
              "        vertical-align: middle;\n",
              "    }\n",
              "\n",
              "    .dataframe tbody tr th {\n",
              "        vertical-align: top;\n",
              "    }\n",
              "\n",
              "    .dataframe thead th {\n",
              "        text-align: right;\n",
              "    }\n",
              "</style>\n",
              "<table border=\"1\" class=\"dataframe\">\n",
              "  <thead>\n",
              "    <tr style=\"text-align: right;\">\n",
              "      <th></th>\n",
              "      <th>housingMedianAge</th>\n",
              "      <th>totalRooms</th>\n",
              "      <th>totalBedrooms</th>\n",
              "      <th>population</th>\n",
              "      <th>households</th>\n",
              "      <th>medianIncome</th>\n",
              "    </tr>\n",
              "  </thead>\n",
              "  <tbody>\n",
              "    <tr>\n",
              "      <th>3472</th>\n",
              "      <td>0.490196</td>\n",
              "      <td>0.114605</td>\n",
              "      <td>0.094381</td>\n",
              "      <td>0.047955</td>\n",
              "      <td>0.095081</td>\n",
              "      <td>0.606019</td>\n",
              "    </tr>\n",
              "    <tr>\n",
              "      <th>13593</th>\n",
              "      <td>0.745098</td>\n",
              "      <td>0.039736</td>\n",
              "      <td>0.064421</td>\n",
              "      <td>0.035175</td>\n",
              "      <td>0.058562</td>\n",
              "      <td>0.068254</td>\n",
              "    </tr>\n",
              "    <tr>\n",
              "      <th>3507</th>\n",
              "      <td>0.627451</td>\n",
              "      <td>0.034267</td>\n",
              "      <td>0.037876</td>\n",
              "      <td>0.020600</td>\n",
              "      <td>0.038164</td>\n",
              "      <td>0.316878</td>\n",
              "    </tr>\n",
              "    <tr>\n",
              "      <th>6780</th>\n",
              "      <td>0.745098</td>\n",
              "      <td>0.097815</td>\n",
              "      <td>0.134120</td>\n",
              "      <td>0.051683</td>\n",
              "      <td>0.136042</td>\n",
              "      <td>0.203859</td>\n",
              "    </tr>\n",
              "    <tr>\n",
              "      <th>8087</th>\n",
              "      <td>0.901961</td>\n",
              "      <td>0.059427</td>\n",
              "      <td>0.067370</td>\n",
              "      <td>0.034082</td>\n",
              "      <td>0.068597</td>\n",
              "      <td>0.331699</td>\n",
              "    </tr>\n",
              "  </tbody>\n",
              "</table>\n",
              "</div>"
            ],
            "text/plain": [
              "       housingMedianAge  totalRooms  ...  households  medianIncome\n",
              "3472           0.490196    0.114605  ...    0.095081      0.606019\n",
              "13593          0.745098    0.039736  ...    0.058562      0.068254\n",
              "3507           0.627451    0.034267  ...    0.038164      0.316878\n",
              "6780           0.745098    0.097815  ...    0.136042      0.203859\n",
              "8087           0.901961    0.059427  ...    0.068597      0.331699\n",
              "\n",
              "[5 rows x 6 columns]"
            ]
          },
          "metadata": {
            "tags": []
          },
          "execution_count": 371
        }
      ]
    },
    {
      "cell_type": "code",
      "metadata": {
        "id": "3B1vP51i9uIQ",
        "colab_type": "code",
        "outputId": "de48952c-613a-4664-eacc-82001d291da0",
        "colab": {
          "base_uri": "https://localhost:8080/",
          "height": 121
        }
      },
      "source": [
        "y_train.head()"
      ],
      "execution_count": 0,
      "outputs": [
        {
          "output_type": "execute_result",
          "data": {
            "text/plain": [
              "3472     431800.0\n",
              "13593     69500.0\n",
              "3507     210300.0\n",
              "6780     364900.0\n",
              "8087     209900.0\n",
              "Name: medianHouseValue, dtype: float64"
            ]
          },
          "metadata": {
            "tags": []
          },
          "execution_count": 372
        }
      ]
    },
    {
      "cell_type": "code",
      "metadata": {
        "id": "UkjqOiqz5wrH",
        "colab_type": "code",
        "outputId": "34d21f13-5298-4817-d298-05e7269c2409",
        "colab": {
          "base_uri": "https://localhost:8080/",
          "height": 198
        }
      },
      "source": [
        "X_test.head()"
      ],
      "execution_count": 0,
      "outputs": [
        {
          "output_type": "execute_result",
          "data": {
            "text/html": [
              "<div>\n",
              "<style scoped>\n",
              "    .dataframe tbody tr th:only-of-type {\n",
              "        vertical-align: middle;\n",
              "    }\n",
              "\n",
              "    .dataframe tbody tr th {\n",
              "        vertical-align: top;\n",
              "    }\n",
              "\n",
              "    .dataframe thead th {\n",
              "        text-align: right;\n",
              "    }\n",
              "</style>\n",
              "<table border=\"1\" class=\"dataframe\">\n",
              "  <thead>\n",
              "    <tr style=\"text-align: right;\">\n",
              "      <th></th>\n",
              "      <th>housingMedianAge</th>\n",
              "      <th>totalRooms</th>\n",
              "      <th>totalBedrooms</th>\n",
              "      <th>population</th>\n",
              "      <th>households</th>\n",
              "      <th>medianIncome</th>\n",
              "    </tr>\n",
              "  </thead>\n",
              "  <tbody>\n",
              "    <tr>\n",
              "      <th>8151</th>\n",
              "      <td>0.686275</td>\n",
              "      <td>0.027983</td>\n",
              "      <td>0.028097</td>\n",
              "      <td>0.012360</td>\n",
              "      <td>0.028623</td>\n",
              "      <td>0.220907</td>\n",
              "    </tr>\n",
              "    <tr>\n",
              "      <th>53</th>\n",
              "      <td>1.000000</td>\n",
              "      <td>0.041186</td>\n",
              "      <td>0.070320</td>\n",
              "      <td>0.032484</td>\n",
              "      <td>0.065307</td>\n",
              "      <td>0.051558</td>\n",
              "    </tr>\n",
              "    <tr>\n",
              "      <th>3039</th>\n",
              "      <td>0.235294</td>\n",
              "      <td>0.114885</td>\n",
              "      <td>0.110214</td>\n",
              "      <td>0.060736</td>\n",
              "      <td>0.109886</td>\n",
              "      <td>0.298389</td>\n",
              "    </tr>\n",
              "    <tr>\n",
              "      <th>9484</th>\n",
              "      <td>0.352941</td>\n",
              "      <td>0.025821</td>\n",
              "      <td>0.031357</td>\n",
              "      <td>0.011800</td>\n",
              "      <td>0.024511</td>\n",
              "      <td>0.164370</td>\n",
              "    </tr>\n",
              "    <tr>\n",
              "      <th>9307</th>\n",
              "      <td>0.588235</td>\n",
              "      <td>0.166476</td>\n",
              "      <td>0.243403</td>\n",
              "      <td>0.082934</td>\n",
              "      <td>0.240336</td>\n",
              "      <td>0.164853</td>\n",
              "    </tr>\n",
              "  </tbody>\n",
              "</table>\n",
              "</div>"
            ],
            "text/plain": [
              "      housingMedianAge  totalRooms  ...  households  medianIncome\n",
              "8151          0.686275    0.027983  ...    0.028623      0.220907\n",
              "53            1.000000    0.041186  ...    0.065307      0.051558\n",
              "3039          0.235294    0.114885  ...    0.109886      0.298389\n",
              "9484          0.352941    0.025821  ...    0.024511      0.164370\n",
              "9307          0.588235    0.166476  ...    0.240336      0.164853\n",
              "\n",
              "[5 rows x 6 columns]"
            ]
          },
          "metadata": {
            "tags": []
          },
          "execution_count": 373
        }
      ]
    },
    {
      "cell_type": "code",
      "metadata": {
        "id": "1PkFQ3G67I1x",
        "colab_type": "code",
        "colab": {}
      },
      "source": [
        "housing_med_age = tf.feature_column.numeric_column(\"housingMedianAge\")\n",
        "total_rooms = tf.feature_column.numeric_column(\"totalRooms\")\n",
        "total_bedrooms = tf.feature_column.numeric_column(\"totalBedrooms\")\n",
        "populations = tf.feature_column.numeric_column(\"population\")\n",
        "house_holds = tf.feature_column.numeric_column(\"households\")\n",
        "median_income = tf.feature_column.numeric_column(\"medianIncome\")"
      ],
      "execution_count": 0,
      "outputs": []
    },
    {
      "cell_type": "code",
      "metadata": {
        "id": "m7wqznZC-2Ft",
        "colab_type": "code",
        "colab": {}
      },
      "source": [
        ""
      ],
      "execution_count": 0,
      "outputs": []
    },
    {
      "cell_type": "code",
      "metadata": {
        "id": "bEch1ggu7zFo",
        "colab_type": "code",
        "colab": {}
      },
      "source": [
        "input_func = tf.estimator.inputs.pandas_input_fn(x=X_train,\n",
        "                                                y=y_train,\n",
        "                                                batch_size=10,\n",
        "                                                num_epochs = 1000,\n",
        "                                                shuffle = True)"
      ],
      "execution_count": 0,
      "outputs": []
    },
    {
      "cell_type": "code",
      "metadata": {
        "id": "fN9CEzBP_6gX",
        "colab_type": "code",
        "colab": {}
      },
      "source": [
        "feat_cols = [housing_med_age, total_rooms, total_bedrooms, populations, house_holds, median_income]"
      ],
      "execution_count": 0,
      "outputs": []
    },
    {
      "cell_type": "code",
      "metadata": {
        "id": "5PQCryut_zC7",
        "colab_type": "code",
        "outputId": "d2a25a3e-cee5-4cb7-f09b-c0b886047527",
        "colab": {
          "base_uri": "https://localhost:8080/",
          "height": 34
        }
      },
      "source": [
        "model = tf.estimator.DNNRegressor(hidden_units= [6,6,6], feature_columns=feat_cols)"
      ],
      "execution_count": 0,
      "outputs": [
        {
          "output_type": "stream",
          "text": [
            "W0725 21:22:33.570083 139861148710784 estimator.py:1811] Using temporary folder as model directory: /tmp/tmp_v4r_rgc\n"
          ],
          "name": "stderr"
        }
      ]
    },
    {
      "cell_type": "code",
      "metadata": {
        "id": "jrBFMTBOAXDo",
        "colab_type": "code",
        "outputId": "1029660f-ff72-47aa-d111-53d6471f5635",
        "colab": {
          "base_uri": "https://localhost:8080/",
          "height": 34
        }
      },
      "source": [
        "model.train(input_fn=input_func, steps = 1000)"
      ],
      "execution_count": 0,
      "outputs": [
        {
          "output_type": "execute_result",
          "data": {
            "text/plain": [
              "<tensorflow_estimator.python.estimator.canned.dnn.DNNRegressor at 0x7f33b61384e0>"
            ]
          },
          "metadata": {
            "tags": []
          },
          "execution_count": 382
        }
      ]
    },
    {
      "cell_type": "code",
      "metadata": {
        "id": "KZJN627EAqmC",
        "colab_type": "code",
        "colab": {}
      },
      "source": [
        "test_input_func = tf.estimator.inputs.pandas_input_fn(x=X_test,\n",
        "                                                      y=y_test,\n",
        "                                                      batch_size=10,\n",
        "                                                      num_epochs=1,\n",
        "                                                      shuffle=False)"
      ],
      "execution_count": 0,
      "outputs": []
    },
    {
      "cell_type": "code",
      "metadata": {
        "id": "4o3LakKlBOZD",
        "colab_type": "code",
        "colab": {}
      },
      "source": [
        "result = model.evaluate(input_fn=test_input_func)"
      ],
      "execution_count": 0,
      "outputs": []
    },
    {
      "cell_type": "code",
      "metadata": {
        "id": "Nt66Zn1oBUIS",
        "colab_type": "code",
        "outputId": "5fd43a2c-cf1d-4246-bc35-4ae26904fe03",
        "colab": {
          "base_uri": "https://localhost:8080/",
          "height": 34
        }
      },
      "source": [
        "print(result)"
      ],
      "execution_count": 0,
      "outputs": [
        {
          "output_type": "stream",
          "text": [
            "{'average_loss': 14541388000.0, 'label/mean': 205064.9, 'loss': 145226250000.0, 'prediction/mean': 149691.34, 'global_step': 1000}\n"
          ],
          "name": "stdout"
        }
      ]
    },
    {
      "cell_type": "code",
      "metadata": {
        "id": "dZfri7MkBWAD",
        "colab_type": "code",
        "colab": {}
      },
      "source": [
        "predict_input_func = tf.estimator.inputs.pandas_input_fn(x=X_test,\n",
        "                                                      y=y_test,\n",
        "                                                      batch_size=10,\n",
        "                                                      num_epochs=1,\n",
        "                                                      shuffle=False)"
      ],
      "execution_count": 0,
      "outputs": []
    },
    {
      "cell_type": "code",
      "metadata": {
        "id": "1XDQCf8yB7Td",
        "colab_type": "code",
        "colab": {}
      },
      "source": [
        "predict_result = model.predict(input_fn=predict_input_func)"
      ],
      "execution_count": 0,
      "outputs": []
    },
    {
      "cell_type": "code",
      "metadata": {
        "id": "tV_LB_ekCCet",
        "colab_type": "code",
        "colab": {}
      },
      "source": [
        "predict_result = list(predict_result)"
      ],
      "execution_count": 0,
      "outputs": []
    },
    {
      "cell_type": "code",
      "metadata": {
        "id": "n45dbU65CEp7",
        "colab_type": "code",
        "outputId": "fbf555b7-2db6-42b0-ac8d-eea664289cfc",
        "colab": {
          "base_uri": "https://localhost:8080/",
          "height": 54
        }
      },
      "source": [
        "print(predict_result)"
      ],
      "execution_count": 0,
      "outputs": [
        {
          "output_type": "stream",
          "text": [
            "[{'predictions': array([146975.34], dtype=float32)}, {'predictions': array([164694.97], dtype=float32)}, {'predictions': array([142028.78], dtype=float32)}, {'predictions': array([119221.06], dtype=float32)}, {'predictions': array([180982.66], dtype=float32)}, {'predictions': array([141073.45], dtype=float32)}, {'predictions': array([164736.1], dtype=float32)}, {'predictions': array([150901.52], dtype=float32)}, {'predictions': array([132455.88], dtype=float32)}, {'predictions': array([211091.33], dtype=float32)}, {'predictions': array([137067.86], dtype=float32)}, {'predictions': array([204791.2], dtype=float32)}, {'predictions': array([150769.44], dtype=float32)}, {'predictions': array([144852.33], dtype=float32)}, {'predictions': array([161227.97], dtype=float32)}, {'predictions': array([118249.35], dtype=float32)}, {'predictions': array([162572.95], dtype=float32)}, {'predictions': array([177450.42], dtype=float32)}, {'predictions': array([139076.33], dtype=float32)}, {'predictions': array([167856.5], dtype=float32)}, {'predictions': array([146511.25], dtype=float32)}, {'predictions': array([117190.], dtype=float32)}, {'predictions': array([145836.97], dtype=float32)}, {'predictions': array([144967.98], dtype=float32)}, {'predictions': array([125039.914], dtype=float32)}, {'predictions': array([131416.97], dtype=float32)}, {'predictions': array([134678.4], dtype=float32)}, {'predictions': array([142367.02], dtype=float32)}, {'predictions': array([150879.31], dtype=float32)}, {'predictions': array([152051.62], dtype=float32)}, {'predictions': array([162042.02], dtype=float32)}, {'predictions': array([125680.18], dtype=float32)}, {'predictions': array([134294.7], dtype=float32)}, {'predictions': array([133556.61], dtype=float32)}, {'predictions': array([146015.5], dtype=float32)}, {'predictions': array([127534.58], dtype=float32)}, {'predictions': array([148780.2], dtype=float32)}, {'predictions': array([149075.3], dtype=float32)}, {'predictions': array([157862.25], dtype=float32)}, {'predictions': array([206255.73], dtype=float32)}, {'predictions': array([124200.48], dtype=float32)}, {'predictions': array([144073.28], dtype=float32)}, {'predictions': array([205962.02], dtype=float32)}, {'predictions': array([151288.69], dtype=float32)}, {'predictions': array([142759.95], dtype=float32)}, {'predictions': array([149419.39], dtype=float32)}, {'predictions': array([196867.67], dtype=float32)}, {'predictions': array([201911.98], dtype=float32)}, {'predictions': array([98463.29], dtype=float32)}, {'predictions': array([133316.72], dtype=float32)}, {'predictions': array([164128.2], dtype=float32)}, {'predictions': array([154673.34], dtype=float32)}, {'predictions': array([162552.83], dtype=float32)}, {'predictions': array([165130.95], dtype=float32)}, {'predictions': array([184115.61], dtype=float32)}, {'predictions': array([137040.86], dtype=float32)}, {'predictions': array([187882.9], dtype=float32)}, {'predictions': array([168306.9], dtype=float32)}, {'predictions': array([174245.98], dtype=float32)}, {'predictions': array([133202.78], dtype=float32)}, {'predictions': array([151971.38], dtype=float32)}, {'predictions': array([158645.67], dtype=float32)}, {'predictions': array([150849.22], dtype=float32)}, {'predictions': array([138702.03], dtype=float32)}, {'predictions': array([135069.33], dtype=float32)}, {'predictions': array([164959.78], dtype=float32)}, {'predictions': array([155138.52], dtype=float32)}, {'predictions': array([157417.5], dtype=float32)}, {'predictions': array([120819.95], dtype=float32)}, {'predictions': array([123718.016], dtype=float32)}, {'predictions': array([109930.37], dtype=float32)}, {'predictions': array([167791.89], dtype=float32)}, {'predictions': array([149309.27], dtype=float32)}, {'predictions': array([132104.16], dtype=float32)}, {'predictions': array([153346.03], dtype=float32)}, {'predictions': array([153841.02], dtype=float32)}, {'predictions': array([159874.78], dtype=float32)}, {'predictions': array([113894.93], dtype=float32)}, {'predictions': array([157960.36], dtype=float32)}, {'predictions': array([148410.58], dtype=float32)}, {'predictions': array([161656.4], dtype=float32)}, {'predictions': array([131074.98], dtype=float32)}, {'predictions': array([127561.15], dtype=float32)}, {'predictions': array([136000.27], dtype=float32)}, {'predictions': array([148442.17], dtype=float32)}, {'predictions': array([163837.83], dtype=float32)}, {'predictions': array([118831.97], dtype=float32)}, {'predictions': array([153114.64], dtype=float32)}, {'predictions': array([155032.25], dtype=float32)}, {'predictions': array([168095.19], dtype=float32)}, {'predictions': array([148103.12], dtype=float32)}, {'predictions': array([128647.64], dtype=float32)}, {'predictions': array([134005.39], dtype=float32)}, {'predictions': array([155347.44], dtype=float32)}, {'predictions': array([140535.47], dtype=float32)}, {'predictions': array([146836.61], dtype=float32)}, {'predictions': array([89362.305], dtype=float32)}, {'predictions': array([154083.7], dtype=float32)}, {'predictions': array([170315.06], dtype=float32)}, {'predictions': array([137453.77], dtype=float32)}, {'predictions': array([137326.94], dtype=float32)}, {'predictions': array([168668.23], dtype=float32)}, {'predictions': array([111989.43], dtype=float32)}, {'predictions': array([166178.16], dtype=float32)}, {'predictions': array([134154.81], dtype=float32)}, {'predictions': array([188372.47], dtype=float32)}, {'predictions': array([160686.98], dtype=float32)}, {'predictions': array([137167.34], dtype=float32)}, {'predictions': array([164047.66], dtype=float32)}, {'predictions': array([168843.2], dtype=float32)}, {'predictions': array([194197.16], dtype=float32)}, {'predictions': array([146475.17], dtype=float32)}, {'predictions': array([160930.6], dtype=float32)}, {'predictions': array([153863.5], dtype=float32)}, {'predictions': array([161532.16], dtype=float32)}, {'predictions': array([129004.76], dtype=float32)}, {'predictions': array([142765.81], dtype=float32)}, {'predictions': array([154943.12], dtype=float32)}, {'predictions': array([109524.97], dtype=float32)}, {'predictions': array([165460.8], dtype=float32)}, {'predictions': array([158666.44], dtype=float32)}, {'predictions': array([141622.14], dtype=float32)}, {'predictions': array([184937.36], dtype=float32)}, {'predictions': array([160855.84], dtype=float32)}, {'predictions': array([146046.61], dtype=float32)}, {'predictions': array([144133.86], dtype=float32)}, {'predictions': array([134169.8], dtype=float32)}, {'predictions': array([126195.21], dtype=float32)}, {'predictions': array([144935.17], dtype=float32)}, {'predictions': array([113303.164], dtype=float32)}, {'predictions': array([147644.72], dtype=float32)}, {'predictions': array([140021.83], dtype=float32)}, {'predictions': array([182753.95], dtype=float32)}, {'predictions': array([162319.89], dtype=float32)}, {'predictions': array([158574.67], dtype=float32)}, {'predictions': array([130483.79], dtype=float32)}, {'predictions': array([125820.3], dtype=float32)}, {'predictions': array([159523.2], dtype=float32)}, {'predictions': array([113838.336], dtype=float32)}, {'predictions': array([181764.84], dtype=float32)}, {'predictions': array([167875.31], dtype=float32)}, {'predictions': array([181465.86], dtype=float32)}, {'predictions': array([167958.44], dtype=float32)}, {'predictions': array([176746.03], dtype=float32)}, {'predictions': array([139558.19], dtype=float32)}, {'predictions': array([163290.45], dtype=float32)}, {'predictions': array([166510.5], dtype=float32)}, {'predictions': array([137957.66], dtype=float32)}, {'predictions': array([144451.14], dtype=float32)}, {'predictions': array([122375.26], dtype=float32)}, {'predictions': array([122153.54], dtype=float32)}, {'predictions': array([132812.], dtype=float32)}, {'predictions': array([141429.97], dtype=float32)}, {'predictions': array([153555.1], dtype=float32)}, {'predictions': array([146868.58], dtype=float32)}, {'predictions': array([127735.28], dtype=float32)}, {'predictions': array([156340.4], dtype=float32)}, {'predictions': array([123446.4], dtype=float32)}, {'predictions': array([113336.14], dtype=float32)}, {'predictions': array([146857.28], dtype=float32)}, {'predictions': array([174716.2], dtype=float32)}, {'predictions': array([150979.61], dtype=float32)}, {'predictions': array([172367.06], dtype=float32)}, {'predictions': array([165476.33], dtype=float32)}, {'predictions': array([175585.16], dtype=float32)}, {'predictions': array([140777.12], dtype=float32)}, {'predictions': array([138203.58], dtype=float32)}, {'predictions': array([136186.83], dtype=float32)}, {'predictions': array([161154.11], dtype=float32)}, {'predictions': array([163819.55], dtype=float32)}, {'predictions': array([182162.6], dtype=float32)}, {'predictions': array([169315.81], dtype=float32)}, {'predictions': array([146413.94], dtype=float32)}, {'predictions': array([157082.02], dtype=float32)}, {'predictions': array([160716.53], dtype=float32)}, {'predictions': array([166402.73], dtype=float32)}, {'predictions': array([183272.03], dtype=float32)}, {'predictions': array([169003.58], dtype=float32)}, {'predictions': array([121856.4], dtype=float32)}, {'predictions': array([127646.61], dtype=float32)}, {'predictions': array([113165.36], dtype=float32)}, {'predictions': array([152314.1], dtype=float32)}, {'predictions': array([137024.7], dtype=float32)}, {'predictions': array([158494.89], dtype=float32)}, {'predictions': array([178380.94], dtype=float32)}, {'predictions': array([158250.47], dtype=float32)}, {'predictions': array([131403.08], dtype=float32)}, {'predictions': array([128175.47], dtype=float32)}, {'predictions': array([179010.28], dtype=float32)}, {'predictions': array([147696.22], dtype=float32)}, {'predictions': array([163544.92], dtype=float32)}, {'predictions': array([141114.81], dtype=float32)}, {'predictions': array([162262.6], dtype=float32)}, {'predictions': array([148375.33], dtype=float32)}, {'predictions': array([179555.39], dtype=float32)}, {'predictions': array([114571.21], dtype=float32)}, {'predictions': array([134783.05], dtype=float32)}, {'predictions': array([184228.12], dtype=float32)}, {'predictions': array([135077.36], dtype=float32)}, {'predictions': array([156850.6], dtype=float32)}, {'predictions': array([141003.23], dtype=float32)}, {'predictions': array([141588.47], dtype=float32)}, {'predictions': array([135969.42], dtype=float32)}, {'predictions': array([174654.72], dtype=float32)}, {'predictions': array([155458.6], dtype=float32)}, {'predictions': array([121865.83], dtype=float32)}, {'predictions': array([149198.28], dtype=float32)}, {'predictions': array([161701.67], dtype=float32)}, {'predictions': array([176525.86], dtype=float32)}, {'predictions': array([138576.8], dtype=float32)}, {'predictions': array([158385.81], dtype=float32)}, {'predictions': array([217049.5], dtype=float32)}, {'predictions': array([176313.4], dtype=float32)}, {'predictions': array([178771.67], dtype=float32)}, {'predictions': array([146594.55], dtype=float32)}, {'predictions': array([145968.58], dtype=float32)}, {'predictions': array([166147.38], dtype=float32)}, {'predictions': array([147805.47], dtype=float32)}, {'predictions': array([123143.56], dtype=float32)}, {'predictions': array([133155.53], dtype=float32)}, {'predictions': array([150481.36], dtype=float32)}, {'predictions': array([117802.945], dtype=float32)}, {'predictions': array([156024.48], dtype=float32)}, {'predictions': array([147951.83], dtype=float32)}, {'predictions': array([165150.83], dtype=float32)}, {'predictions': array([145903.97], dtype=float32)}, {'predictions': array([121012.82], dtype=float32)}, {'predictions': array([128756.445], dtype=float32)}, {'predictions': array([161386.64], dtype=float32)}, {'predictions': array([157859.22], dtype=float32)}, {'predictions': array([169481.3], dtype=float32)}, {'predictions': array([141586.84], dtype=float32)}, {'predictions': array([151216.47], dtype=float32)}, {'predictions': array([156039.17], dtype=float32)}, {'predictions': array([152002.92], dtype=float32)}, {'predictions': array([131917.94], dtype=float32)}, {'predictions': array([171429.38], dtype=float32)}, {'predictions': array([131655.38], dtype=float32)}, {'predictions': array([156600.62], dtype=float32)}, {'predictions': array([147895.94], dtype=float32)}, {'predictions': array([148557.92], dtype=float32)}, {'predictions': array([153295.48], dtype=float32)}, {'predictions': array([143232.58], dtype=float32)}, {'predictions': array([162752.52], dtype=float32)}, {'predictions': array([156376.64], dtype=float32)}, {'predictions': array([151544.95], dtype=float32)}, {'predictions': array([161613.64], dtype=float32)}, {'predictions': array([174582.75], dtype=float32)}, {'predictions': array([149414.42], dtype=float32)}, {'predictions': array([123714.3], dtype=float32)}, {'predictions': array([161852.19], dtype=float32)}, {'predictions': array([125034.68], dtype=float32)}, {'predictions': array([138800.34], dtype=float32)}, {'predictions': array([237973.81], dtype=float32)}, {'predictions': array([161204.9], dtype=float32)}, {'predictions': array([178652.44], dtype=float32)}, {'predictions': array([145190.17], dtype=float32)}, {'predictions': array([133605.42], dtype=float32)}, {'predictions': array([164836.12], dtype=float32)}, {'predictions': array([148615.23], dtype=float32)}, {'predictions': array([123079.08], dtype=float32)}, {'predictions': array([146596.69], dtype=float32)}, {'predictions': array([157002.39], dtype=float32)}, {'predictions': array([125291.3], dtype=float32)}, {'predictions': array([174311.5], dtype=float32)}, {'predictions': array([139641.86], dtype=float32)}, {'predictions': array([145771.97], dtype=float32)}, {'predictions': array([119234.625], dtype=float32)}, {'predictions': array([141112.28], dtype=float32)}, {'predictions': array([148527.83], dtype=float32)}, {'predictions': array([128855.73], dtype=float32)}, {'predictions': array([153470.05], dtype=float32)}, {'predictions': array([153235.], dtype=float32)}, {'predictions': array([144956.56], dtype=float32)}, {'predictions': array([161291.88], dtype=float32)}, {'predictions': array([101996.336], dtype=float32)}, {'predictions': array([180663.55], dtype=float32)}, {'predictions': array([151262.72], dtype=float32)}, {'predictions': array([146414.56], dtype=float32)}, {'predictions': array([131668.8], dtype=float32)}, {'predictions': array([146372.53], dtype=float32)}, {'predictions': array([169771.56], dtype=float32)}, {'predictions': array([167124.27], dtype=float32)}, {'predictions': array([168472.94], dtype=float32)}, {'predictions': array([154215.98], dtype=float32)}, {'predictions': array([128381.1], dtype=float32)}, {'predictions': array([246591.89], dtype=float32)}, {'predictions': array([143217.31], dtype=float32)}, {'predictions': array([171117.3], dtype=float32)}, {'predictions': array([136858.48], dtype=float32)}, {'predictions': array([158348.27], dtype=float32)}, {'predictions': array([148924.7], dtype=float32)}, {'predictions': array([156251.45], dtype=float32)}, {'predictions': array([145248.58], dtype=float32)}, {'predictions': array([171861.08], dtype=float32)}, {'predictions': array([154124.78], dtype=float32)}, {'predictions': array([141317.44], dtype=float32)}, {'predictions': array([154452.31], dtype=float32)}, {'predictions': array([166118.73], dtype=float32)}, {'predictions': array([153491.9], dtype=float32)}, {'predictions': array([162441.66], dtype=float32)}, {'predictions': array([162965.56], dtype=float32)}, {'predictions': array([163280.9], dtype=float32)}, {'predictions': array([162216.33], dtype=float32)}, {'predictions': array([181262.97], dtype=float32)}, {'predictions': array([158452.95], dtype=float32)}, {'predictions': array([156416.62], dtype=float32)}, {'predictions': array([145618.2], dtype=float32)}, {'predictions': array([159525.88], dtype=float32)}, {'predictions': array([174827.67], dtype=float32)}, {'predictions': array([141040.02], dtype=float32)}, {'predictions': array([128656.58], dtype=float32)}, {'predictions': array([141239.31], dtype=float32)}, {'predictions': array([167741.58], dtype=float32)}, {'predictions': array([138275.7], dtype=float32)}, {'predictions': array([150031.83], dtype=float32)}, {'predictions': array([156094.44], dtype=float32)}, {'predictions': array([154835.39], dtype=float32)}, {'predictions': array([145803.56], dtype=float32)}, {'predictions': array([113033.836], dtype=float32)}, {'predictions': array([133133.05], dtype=float32)}, {'predictions': array([175742.86], dtype=float32)}, {'predictions': array([142466.95], dtype=float32)}, {'predictions': array([169754.75], dtype=float32)}, {'predictions': array([154893.1], dtype=float32)}, {'predictions': array([125201.93], dtype=float32)}, {'predictions': array([204982.95], dtype=float32)}, {'predictions': array([174249.89], dtype=float32)}, {'predictions': array([160503.7], dtype=float32)}, {'predictions': array([144339.7], dtype=float32)}, {'predictions': array([141632.78], dtype=float32)}, {'predictions': array([154038.08], dtype=float32)}, {'predictions': array([136531.64], dtype=float32)}, {'predictions': array([150159.05], dtype=float32)}, {'predictions': array([157294.62], dtype=float32)}, {'predictions': array([151386.53], dtype=float32)}, {'predictions': array([146885.38], dtype=float32)}, {'predictions': array([172521.6], dtype=float32)}, {'predictions': array([151523.03], dtype=float32)}, {'predictions': array([117973.79], dtype=float32)}, {'predictions': array([154514.34], dtype=float32)}, {'predictions': array([134480.52], dtype=float32)}, {'predictions': array([135483.55], dtype=float32)}, {'predictions': array([148141.17], dtype=float32)}, {'predictions': array([147140.], dtype=float32)}, {'predictions': array([179307.62], dtype=float32)}, {'predictions': array([130473.15], dtype=float32)}, {'predictions': array([128064.016], dtype=float32)}, {'predictions': array([137948.72], dtype=float32)}, {'predictions': array([152504.64], dtype=float32)}, {'predictions': array([164748.88], dtype=float32)}, {'predictions': array([173589.1], dtype=float32)}, {'predictions': array([105997.26], dtype=float32)}, {'predictions': array([151086.1], dtype=float32)}, {'predictions': array([175666.25], dtype=float32)}, {'predictions': array([137464.72], dtype=float32)}, {'predictions': array([165973.66], dtype=float32)}, {'predictions': array([133034.6], dtype=float32)}, {'predictions': array([154939.25], dtype=float32)}, {'predictions': array([106483.01], dtype=float32)}, {'predictions': array([171278.12], dtype=float32)}, {'predictions': array([177334.88], dtype=float32)}, {'predictions': array([152843.8], dtype=float32)}, {'predictions': array([153943.02], dtype=float32)}, {'predictions': array([116046.9], dtype=float32)}, {'predictions': array([128123.49], dtype=float32)}, {'predictions': array([145895.8], dtype=float32)}, {'predictions': array([155030.31], dtype=float32)}, {'predictions': array([133230.56], dtype=float32)}, {'predictions': array([143696.94], dtype=float32)}, {'predictions': array([166252.55], dtype=float32)}, {'predictions': array([146753.02], dtype=float32)}, {'predictions': array([164639.12], dtype=float32)}, {'predictions': array([148771.7], dtype=float32)}, {'predictions': array([145233.36], dtype=float32)}, {'predictions': array([157947.53], dtype=float32)}, {'predictions': array([164077.05], dtype=float32)}, {'predictions': array([182398.77], dtype=float32)}, {'predictions': array([149908.64], dtype=float32)}, {'predictions': array([156661.69], dtype=float32)}, {'predictions': array([136447.48], dtype=float32)}, {'predictions': array([129081.234], dtype=float32)}, {'predictions': array([179109.14], dtype=float32)}, {'predictions': array([153337.61], dtype=float32)}, {'predictions': array([127761.29], dtype=float32)}, {'predictions': array([145007.73], dtype=float32)}, {'predictions': array([193278.2], dtype=float32)}, {'predictions': array([156144.27], dtype=float32)}, {'predictions': array([134978.03], dtype=float32)}, {'predictions': array([171885.9], dtype=float32)}, {'predictions': array([143366.36], dtype=float32)}, {'predictions': array([129741.555], dtype=float32)}, {'predictions': array([149043.05], dtype=float32)}, {'predictions': array([172228.73], dtype=float32)}, {'predictions': array([164165.03], dtype=float32)}, {'predictions': array([111949.98], dtype=float32)}, {'predictions': array([145899.2], dtype=float32)}, {'predictions': array([138057.39], dtype=float32)}, {'predictions': array([163343.7], dtype=float32)}, {'predictions': array([137119.47], dtype=float32)}, {'predictions': array([110596.24], dtype=float32)}, {'predictions': array([158202.84], dtype=float32)}, {'predictions': array([156358.02], dtype=float32)}, {'predictions': array([222078.66], dtype=float32)}, {'predictions': array([170600.8], dtype=float32)}, {'predictions': array([160193.77], dtype=float32)}, {'predictions': array([133900.88], dtype=float32)}, {'predictions': array([163821.38], dtype=float32)}, {'predictions': array([142751.61], dtype=float32)}, {'predictions': array([112246.29], dtype=float32)}, {'predictions': array([156450.55], dtype=float32)}, {'predictions': array([132067.97], dtype=float32)}, {'predictions': array([143312.44], dtype=float32)}, {'predictions': array([150896.8], dtype=float32)}, {'predictions': array([156694.83], dtype=float32)}, {'predictions': array([163343.81], dtype=float32)}, {'predictions': array([154852.92], dtype=float32)}, {'predictions': array([168118.05], dtype=float32)}, {'predictions': array([144880.92], dtype=float32)}, {'predictions': array([171336.45], dtype=float32)}, {'predictions': array([144183.03], dtype=float32)}, {'predictions': array([149513.97], dtype=float32)}, {'predictions': array([151455.47], dtype=float32)}, {'predictions': array([139447.38], dtype=float32)}, {'predictions': array([128673.08], dtype=float32)}, {'predictions': array([152199.44], dtype=float32)}, {'predictions': array([135445.66], dtype=float32)}, {'predictions': array([153679.47], dtype=float32)}, {'predictions': array([158872.23], dtype=float32)}, {'predictions': array([148884.44], dtype=float32)}, {'predictions': array([120084.4], dtype=float32)}, {'predictions': array([141366.48], dtype=float32)}, {'predictions': array([144192.92], dtype=float32)}, {'predictions': array([121704.4], dtype=float32)}, {'predictions': array([117859.6], dtype=float32)}, {'predictions': array([158583.8], dtype=float32)}, {'predictions': array([140807.4], dtype=float32)}, {'predictions': array([121163.69], dtype=float32)}, {'predictions': array([120302.984], dtype=float32)}, {'predictions': array([138821.05], dtype=float32)}, {'predictions': array([219074.44], dtype=float32)}, {'predictions': array([194446.39], dtype=float32)}, {'predictions': array([149737.39], dtype=float32)}, {'predictions': array([137850.03], dtype=float32)}, {'predictions': array([181625.42], dtype=float32)}, {'predictions': array([132494.58], dtype=float32)}, {'predictions': array([130521.39], dtype=float32)}, {'predictions': array([110787.48], dtype=float32)}, {'predictions': array([120121.234], dtype=float32)}, {'predictions': array([158299.34], dtype=float32)}, {'predictions': array([169595.12], dtype=float32)}, {'predictions': array([173116.98], dtype=float32)}, {'predictions': array([143986.92], dtype=float32)}, {'predictions': array([132599.], dtype=float32)}, {'predictions': array([155072.94], dtype=float32)}, {'predictions': array([121949.9], dtype=float32)}, {'predictions': array([158892.17], dtype=float32)}, {'predictions': array([145840.06], dtype=float32)}, {'predictions': array([184382.17], dtype=float32)}, {'predictions': array([129460.125], dtype=float32)}, {'predictions': array([140820.44], dtype=float32)}, {'predictions': array([132004.75], dtype=float32)}, {'predictions': array([148968.83], dtype=float32)}, {'predictions': array([131939.52], dtype=float32)}, {'predictions': array([132536.98], dtype=float32)}, {'predictions': array([165328.06], dtype=float32)}, {'predictions': array([145390.23], dtype=float32)}, {'predictions': array([154632.61], dtype=float32)}, {'predictions': array([157810.11], dtype=float32)}, {'predictions': array([156414.52], dtype=float32)}, {'predictions': array([114557.04], dtype=float32)}, {'predictions': array([141682.42], dtype=float32)}, {'predictions': array([144599.86], dtype=float32)}, {'predictions': array([155058.25], dtype=float32)}, {'predictions': array([167121.31], dtype=float32)}, {'predictions': array([111371.87], dtype=float32)}, {'predictions': array([152948.3], dtype=float32)}, {'predictions': array([200565.16], dtype=float32)}, {'predictions': array([152755.55], dtype=float32)}, {'predictions': array([180550.45], dtype=float32)}, {'predictions': array([140006.5], dtype=float32)}, {'predictions': array([153169.25], dtype=float32)}, {'predictions': array([165236.22], dtype=float32)}, {'predictions': array([139565.12], dtype=float32)}, {'predictions': array([141812.17], dtype=float32)}, {'predictions': array([142993.95], dtype=float32)}, {'predictions': array([180074.23], dtype=float32)}, {'predictions': array([151902.48], dtype=float32)}, {'predictions': array([136197.8], dtype=float32)}, {'predictions': array([165224.22], dtype=float32)}, {'predictions': array([157710.98], dtype=float32)}, {'predictions': array([123246.984], dtype=float32)}, {'predictions': array([127278.46], dtype=float32)}, {'predictions': array([145865.2], dtype=float32)}, {'predictions': array([120072.2], dtype=float32)}, {'predictions': array([140797.89], dtype=float32)}, {'predictions': array([154324.23], dtype=float32)}, {'predictions': array([135953.39], dtype=float32)}, {'predictions': array([147545.97], dtype=float32)}, {'predictions': array([146030.16], dtype=float32)}, {'predictions': array([142378.45], dtype=float32)}, {'predictions': array([161291.23], dtype=float32)}, {'predictions': array([159259.47], dtype=float32)}, {'predictions': array([130431.12], dtype=float32)}, {'predictions': array([160001.34], dtype=float32)}, {'predictions': array([140659.52], dtype=float32)}, {'predictions': array([142097.53], dtype=float32)}, {'predictions': array([183180.16], dtype=float32)}, {'predictions': array([160326.22], dtype=float32)}, {'predictions': array([165153.58], dtype=float32)}, {'predictions': array([146781.5], dtype=float32)}, {'predictions': array([165346.2], dtype=float32)}, {'predictions': array([172257.06], dtype=float32)}, {'predictions': array([189253.28], dtype=float32)}, {'predictions': array([173918.94], dtype=float32)}, {'predictions': array([114439.305], dtype=float32)}, {'predictions': array([175272.77], dtype=float32)}, {'predictions': array([128787.71], dtype=float32)}, {'predictions': array([146843.27], dtype=float32)}, {'predictions': array([116036.09], dtype=float32)}, {'predictions': array([141535.22], dtype=float32)}, {'predictions': array([119467.86], dtype=float32)}, {'predictions': array([171838.95], dtype=float32)}, {'predictions': array([147273.66], dtype=float32)}, {'predictions': array([150836.19], dtype=float32)}, {'predictions': array([144882.22], dtype=float32)}, {'predictions': array([168786.42], dtype=float32)}, {'predictions': array([167007.4], dtype=float32)}, {'predictions': array([171928.44], dtype=float32)}, {'predictions': array([141996.66], dtype=float32)}, {'predictions': array([109240.6], dtype=float32)}, {'predictions': array([146854.69], dtype=float32)}, {'predictions': array([145437.42], dtype=float32)}, {'predictions': array([172006.94], dtype=float32)}, {'predictions': array([163710.61], dtype=float32)}, {'predictions': array([175806.11], dtype=float32)}, {'predictions': array([119091.52], dtype=float32)}, {'predictions': array([140727.06], dtype=float32)}, {'predictions': array([152343.3], dtype=float32)}, {'predictions': array([181014.84], dtype=float32)}, {'predictions': array([133889.7], dtype=float32)}, {'predictions': array([120992.97], dtype=float32)}, {'predictions': array([197753.81], dtype=float32)}, {'predictions': array([117305.58], dtype=float32)}, {'predictions': array([129710.23], dtype=float32)}, {'predictions': array([122065.74], dtype=float32)}, {'predictions': array([187221.48], dtype=float32)}, {'predictions': array([167891.], dtype=float32)}, {'predictions': array([139304.88], dtype=float32)}, {'predictions': array([124780.79], dtype=float32)}, {'predictions': array([141332.5], dtype=float32)}, {'predictions': array([126471.27], dtype=float32)}, {'predictions': array([168318.81], dtype=float32)}, {'predictions': array([150023.11], dtype=float32)}, {'predictions': array([182716.97], dtype=float32)}, {'predictions': array([156095.8], dtype=float32)}, {'predictions': array([149076.05], dtype=float32)}, {'predictions': array([153175.64], dtype=float32)}, {'predictions': array([151128.02], dtype=float32)}, {'predictions': array([140075.17], dtype=float32)}, {'predictions': array([170743.02], dtype=float32)}, {'predictions': array([141298.14], dtype=float32)}, {'predictions': array([187490.84], dtype=float32)}, {'predictions': array([157753.75], dtype=float32)}, {'predictions': array([151956.28], dtype=float32)}, {'predictions': array([146332.25], dtype=float32)}, {'predictions': array([124466.95], dtype=float32)}, {'predictions': array([141970.1], dtype=float32)}, {'predictions': array([160992.4], dtype=float32)}, {'predictions': array([169699.19], dtype=float32)}, {'predictions': array([120307.836], dtype=float32)}, {'predictions': array([147405.53], dtype=float32)}, {'predictions': array([175583.66], dtype=float32)}, {'predictions': array([178506.69], dtype=float32)}, {'predictions': array([176382.77], dtype=float32)}, {'predictions': array([156511.], dtype=float32)}, {'predictions': array([143457.19], dtype=float32)}, {'predictions': array([131698.48], dtype=float32)}, {'predictions': array([167042.47], dtype=float32)}, {'predictions': array([116517.07], dtype=float32)}, {'predictions': array([211903.55], dtype=float32)}, {'predictions': array([138689.11], dtype=float32)}, {'predictions': array([127691.38], dtype=float32)}, {'predictions': array([133735.64], dtype=float32)}, {'predictions': array([151683.75], dtype=float32)}, {'predictions': array([121798.125], dtype=float32)}, {'predictions': array([162537.83], dtype=float32)}, {'predictions': array([150608.44], dtype=float32)}, {'predictions': array([154203.83], dtype=float32)}, {'predictions': array([170019.88], dtype=float32)}, {'predictions': array([176311.36], dtype=float32)}, {'predictions': array([147415.5], dtype=float32)}, {'predictions': array([179052.83], dtype=float32)}, {'predictions': array([167248.06], dtype=float32)}, {'predictions': array([160390.92], dtype=float32)}, {'predictions': array([153964.31], dtype=float32)}, {'predictions': array([147453.06], dtype=float32)}, {'predictions': array([141581.05], dtype=float32)}, {'predictions': array([126250.34], dtype=float32)}, {'predictions': array([126252.91], dtype=float32)}, {'predictions': array([126855.47], dtype=float32)}, {'predictions': array([154004.36], dtype=float32)}, {'predictions': array([137252.05], dtype=float32)}, {'predictions': array([211173.88], dtype=float32)}, {'predictions': array([129239.34], dtype=float32)}, {'predictions': array([156339.81], dtype=float32)}, {'predictions': array([112686.64], dtype=float32)}, {'predictions': array([147101.53], dtype=float32)}, {'predictions': array([142529.48], dtype=float32)}, {'predictions': array([152209.98], dtype=float32)}, {'predictions': array([122668.73], dtype=float32)}, {'predictions': array([140232.94], dtype=float32)}, {'predictions': array([129960.07], dtype=float32)}, {'predictions': array([147036.6], dtype=float32)}, {'predictions': array([154690.64], dtype=float32)}, {'predictions': array([160965.39], dtype=float32)}, {'predictions': array([135048.6], dtype=float32)}, {'predictions': array([170975.98], dtype=float32)}, {'predictions': array([141153.89], dtype=float32)}, {'predictions': array([118395.94], dtype=float32)}, {'predictions': array([129546.25], dtype=float32)}, {'predictions': array([134209.12], dtype=float32)}, {'predictions': array([152567.45], dtype=float32)}, {'predictions': array([111291.48], dtype=float32)}, {'predictions': array([160779.67], dtype=float32)}, {'predictions': array([150894.19], dtype=float32)}, {'predictions': array([166494.14], dtype=float32)}, {'predictions': array([141225.77], dtype=float32)}, {'predictions': array([166431.5], dtype=float32)}, {'predictions': array([117477.16], dtype=float32)}, {'predictions': array([150517.06], dtype=float32)}, {'predictions': array([130518.11], dtype=float32)}, {'predictions': array([204192.16], dtype=float32)}, {'predictions': array([157028.77], dtype=float32)}, {'predictions': array([122215.55], dtype=float32)}, {'predictions': array([150712.98], dtype=float32)}, {'predictions': array([170193.92], dtype=float32)}, {'predictions': array([134865.62], dtype=float32)}, {'predictions': array([134228.5], dtype=float32)}, {'predictions': array([165247.1], dtype=float32)}, {'predictions': array([164568.34], dtype=float32)}, {'predictions': array([153040.95], dtype=float32)}, {'predictions': array([164249.55], dtype=float32)}, {'predictions': array([174550.64], dtype=float32)}, {'predictions': array([155650.11], dtype=float32)}, {'predictions': array([166176.64], dtype=float32)}, {'predictions': array([175201.3], dtype=float32)}, {'predictions': array([150810.38], dtype=float32)}, {'predictions': array([128005.61], dtype=float32)}, {'predictions': array([137318.39], dtype=float32)}, {'predictions': array([176722.47], dtype=float32)}, {'predictions': array([164756.77], dtype=float32)}, {'predictions': array([148022.78], dtype=float32)}, {'predictions': array([157696.31], dtype=float32)}, {'predictions': array([125938.164], dtype=float32)}, {'predictions': array([145164.69], dtype=float32)}, {'predictions': array([139643.4], dtype=float32)}, {'predictions': array([160076.11], dtype=float32)}, {'predictions': array([166285.88], dtype=float32)}, {'predictions': array([141058.78], dtype=float32)}, {'predictions': array([121925.33], dtype=float32)}, {'predictions': array([120289.87], dtype=float32)}, {'predictions': array([123843.766], dtype=float32)}, {'predictions': array([181088.08], dtype=float32)}, {'predictions': array([176744.22], dtype=float32)}, {'predictions': array([159370.94], dtype=float32)}, {'predictions': array([132544.8], dtype=float32)}, {'predictions': array([151686.27], dtype=float32)}, {'predictions': array([85713.67], dtype=float32)}, {'predictions': array([183304.55], dtype=float32)}, {'predictions': array([153628.53], dtype=float32)}, {'predictions': array([128519.22], dtype=float32)}, {'predictions': array([129734.695], dtype=float32)}, {'predictions': array([143488.28], dtype=float32)}, {'predictions': array([172949.42], dtype=float32)}, {'predictions': array([137222.78], dtype=float32)}, {'predictions': array([129152.43], dtype=float32)}, {'predictions': array([159168.47], dtype=float32)}, {'predictions': array([143138.81], dtype=float32)}, {'predictions': array([117285.78], dtype=float32)}, {'predictions': array([154379.34], dtype=float32)}, {'predictions': array([153116.12], dtype=float32)}, {'predictions': array([154476.22], dtype=float32)}, {'predictions': array([266208.25], dtype=float32)}, {'predictions': array([154907.7], dtype=float32)}, {'predictions': array([169096.22], dtype=float32)}, {'predictions': array([161838.75], dtype=float32)}, {'predictions': array([169610.8], dtype=float32)}, {'predictions': array([148805.31], dtype=float32)}, {'predictions': array([191639.84], dtype=float32)}, {'predictions': array([166509.34], dtype=float32)}, {'predictions': array([128472.086], dtype=float32)}, {'predictions': array([129620.445], dtype=float32)}, {'predictions': array([129421.61], dtype=float32)}, {'predictions': array([122626.27], dtype=float32)}, {'predictions': array([160376.69], dtype=float32)}, {'predictions': array([171068.56], dtype=float32)}, {'predictions': array([119605.42], dtype=float32)}, {'predictions': array([157626.53], dtype=float32)}, {'predictions': array([148166.98], dtype=float32)}, {'predictions': array([127578.875], dtype=float32)}, {'predictions': array([153474.02], dtype=float32)}, {'predictions': array([156593.17], dtype=float32)}, {'predictions': array([141718.48], dtype=float32)}, {'predictions': array([112093.24], dtype=float32)}, {'predictions': array([157544.28], dtype=float32)}, {'predictions': array([140674.9], dtype=float32)}, {'predictions': array([167647.67], dtype=float32)}, {'predictions': array([129972.49], dtype=float32)}, {'predictions': array([179989.56], dtype=float32)}, {'predictions': array([155857.97], dtype=float32)}, {'predictions': array([171102.97], dtype=float32)}, {'predictions': array([170094.94], dtype=float32)}, {'predictions': array([171304.6], dtype=float32)}, {'predictions': array([164071.1], dtype=float32)}, {'predictions': array([180040.88], dtype=float32)}, {'predictions': array([159083.14], dtype=float32)}, {'predictions': array([148675.55], dtype=float32)}, {'predictions': array([134276.16], dtype=float32)}, {'predictions': array([144024.61], dtype=float32)}, {'predictions': array([145771.61], dtype=float32)}, {'predictions': array([144349.45], dtype=float32)}, {'predictions': array([156681.89], dtype=float32)}, {'predictions': array([135878.23], dtype=float32)}, {'predictions': array([139876.23], dtype=float32)}, {'predictions': array([156476.66], dtype=float32)}, {'predictions': array([150125.64], dtype=float32)}, {'predictions': array([118614.72], dtype=float32)}, {'predictions': array([133385.27], dtype=float32)}, {'predictions': array([148332.47], dtype=float32)}, {'predictions': array([145946.53], dtype=float32)}, {'predictions': array([123558.86], dtype=float32)}, {'predictions': array([154057.6], dtype=float32)}, {'predictions': array([160013.94], dtype=float32)}, {'predictions': array([151469.77], dtype=float32)}, {'predictions': array([149341.61], dtype=float32)}, {'predictions': array([136473.38], dtype=float32)}, {'predictions': array([161552.53], dtype=float32)}, {'predictions': array([142446.42], dtype=float32)}, {'predictions': array([121430.414], dtype=float32)}, {'predictions': array([99752.71], dtype=float32)}, {'predictions': array([140242.38], dtype=float32)}, {'predictions': array([131692.5], dtype=float32)}, {'predictions': array([159707.84], dtype=float32)}, {'predictions': array([179384.73], dtype=float32)}, {'predictions': array([164750.75], dtype=float32)}, {'predictions': array([161599.11], dtype=float32)}, {'predictions': array([159901.6], dtype=float32)}, {'predictions': array([128116.48], dtype=float32)}, {'predictions': array([112597.26], dtype=float32)}, {'predictions': array([131258.47], dtype=float32)}, {'predictions': array([166394.11], dtype=float32)}, {'predictions': array([158674.42], dtype=float32)}, {'predictions': array([120361.59], dtype=float32)}, {'predictions': array([146159.25], dtype=float32)}, {'predictions': array([150020.53], dtype=float32)}, {'predictions': array([180704.05], dtype=float32)}, {'predictions': array([154313.86], dtype=float32)}, {'predictions': array([139734.62], dtype=float32)}, {'predictions': array([153950.95], dtype=float32)}, {'predictions': array([151170.94], dtype=float32)}, {'predictions': array([183842.03], dtype=float32)}, {'predictions': array([134660.1], dtype=float32)}, {'predictions': array([158127.58], dtype=float32)}, {'predictions': array([148708.25], dtype=float32)}, {'predictions': array([157714.75], dtype=float32)}, {'predictions': array([171289.56], dtype=float32)}, {'predictions': array([145015.2], dtype=float32)}, {'predictions': array([149937.1], dtype=float32)}, {'predictions': array([165697.14], dtype=float32)}, {'predictions': array([136897.69], dtype=float32)}, {'predictions': array([175475.55], dtype=float32)}, {'predictions': array([176137.58], dtype=float32)}, {'predictions': array([170796.31], dtype=float32)}, {'predictions': array([152967.11], dtype=float32)}, {'predictions': array([128594.12], dtype=float32)}, {'predictions': array([144154.58], dtype=float32)}, {'predictions': array([112237.86], dtype=float32)}, {'predictions': array([171766.27], dtype=float32)}, {'predictions': array([174651.77], dtype=float32)}, {'predictions': array([156898.55], dtype=float32)}, {'predictions': array([157583.73], dtype=float32)}, {'predictions': array([151548.72], dtype=float32)}, {'predictions': array([137194.92], dtype=float32)}, {'predictions': array([163826.02], dtype=float32)}, {'predictions': array([136966.1], dtype=float32)}, {'predictions': array([129639.13], dtype=float32)}, {'predictions': array([112342.836], dtype=float32)}, {'predictions': array([140482.19], dtype=float32)}, {'predictions': array([174177.28], dtype=float32)}, {'predictions': array([131946.1], dtype=float32)}, {'predictions': array([127510.98], dtype=float32)}, {'predictions': array([161691.83], dtype=float32)}, {'predictions': array([159099.94], dtype=float32)}, {'predictions': array([143153.25], dtype=float32)}, {'predictions': array([118898.23], dtype=float32)}, {'predictions': array([140035.38], dtype=float32)}, {'predictions': array([179265.92], dtype=float32)}, {'predictions': array([117937.29], dtype=float32)}, {'predictions': array([151110.14], dtype=float32)}, {'predictions': array([139846.86], dtype=float32)}, {'predictions': array([163254.9], dtype=float32)}, {'predictions': array([151810.9], dtype=float32)}, {'predictions': array([154231.28], dtype=float32)}, {'predictions': array([148061.55], dtype=float32)}, {'predictions': array([145537.92], dtype=float32)}, {'predictions': array([140487.33], dtype=float32)}, {'predictions': array([120617.484], dtype=float32)}, {'predictions': array([151150.61], dtype=float32)}, {'predictions': array([129170.7], dtype=float32)}, {'predictions': array([137685.47], dtype=float32)}, {'predictions': array([137226.14], dtype=float32)}, {'predictions': array([146998.97], dtype=float32)}, {'predictions': array([151132.08], dtype=float32)}, {'predictions': array([112796.38], dtype=float32)}, {'predictions': array([157538.47], dtype=float32)}, {'predictions': array([123953.484], dtype=float32)}, {'predictions': array([146343.02], dtype=float32)}, {'predictions': array([160638.05], dtype=float32)}, {'predictions': array([180230.34], dtype=float32)}, {'predictions': array([159078.6], dtype=float32)}, {'predictions': array([104323.88], dtype=float32)}, {'predictions': array([149745.9], dtype=float32)}, {'predictions': array([154622.88], dtype=float32)}, {'predictions': array([127208.09], dtype=float32)}, {'predictions': array([150060.12], dtype=float32)}, {'predictions': array([124202.5], dtype=float32)}, {'predictions': array([199898.], dtype=float32)}, {'predictions': array([120061.086], dtype=float32)}, {'predictions': array([157232.83], dtype=float32)}, {'predictions': array([151092.02], dtype=float32)}, {'predictions': array([153855.1], dtype=float32)}, {'predictions': array([209058.], dtype=float32)}, {'predictions': array([193132.55], dtype=float32)}, {'predictions': array([156185.22], dtype=float32)}, {'predictions': array([151329.45], dtype=float32)}, {'predictions': array([140189.23], dtype=float32)}, {'predictions': array([140111.73], dtype=float32)}, {'predictions': array([134832.64], dtype=float32)}, {'predictions': array([168013.98], dtype=float32)}, {'predictions': array([116315.91], dtype=float32)}, {'predictions': array([154483.66], dtype=float32)}, {'predictions': array([163953.34], dtype=float32)}, {'predictions': array([140819.1], dtype=float32)}, {'predictions': array([175872.17], dtype=float32)}, {'predictions': array([118717.734], dtype=float32)}, {'predictions': array([149614.2], dtype=float32)}, {'predictions': array([146845.67], dtype=float32)}, {'predictions': array([133985.92], dtype=float32)}, {'predictions': array([145880.72], dtype=float32)}, {'predictions': array([160227.89], dtype=float32)}, {'predictions': array([159525.73], dtype=float32)}, {'predictions': array([148760.69], dtype=float32)}, {'predictions': array([174367.58], dtype=float32)}, {'predictions': array([155973.16], dtype=float32)}, {'predictions': array([145991.69], dtype=float32)}, {'predictions': array([155222.02], dtype=float32)}, {'predictions': array([172051.17], dtype=float32)}, {'predictions': array([128074.32], dtype=float32)}, {'predictions': array([152977.69], dtype=float32)}, {'predictions': array([177372.25], dtype=float32)}, {'predictions': array([125620.69], dtype=float32)}, {'predictions': array([157304.97], dtype=float32)}, {'predictions': array([183358.27], dtype=float32)}, {'predictions': array([148510.33], dtype=float32)}, {'predictions': array([104987.37], dtype=float32)}, {'predictions': array([118121.31], dtype=float32)}, {'predictions': array([133857.03], dtype=float32)}, {'predictions': array([201787.38], dtype=float32)}, {'predictions': array([123465.99], dtype=float32)}, {'predictions': array([148256.8], dtype=float32)}, {'predictions': array([117120.97], dtype=float32)}, {'predictions': array([145067.5], dtype=float32)}, {'predictions': array([158620.8], dtype=float32)}, {'predictions': array([174932.6], dtype=float32)}, {'predictions': array([139691.03], dtype=float32)}, {'predictions': array([150333.45], dtype=float32)}, {'predictions': array([137373.66], dtype=float32)}, {'predictions': array([177530.53], dtype=float32)}, {'predictions': array([157508.34], dtype=float32)}, {'predictions': array([159385.95], dtype=float32)}, {'predictions': array([169528.11], dtype=float32)}, {'predictions': array([166935.14], dtype=float32)}, {'predictions': array([161509.7], dtype=float32)}, {'predictions': array([181417.3], dtype=float32)}, {'predictions': array([133787.42], dtype=float32)}, {'predictions': array([147327.39], dtype=float32)}, {'predictions': array([166865.95], dtype=float32)}, {'predictions': array([126074.], dtype=float32)}, {'predictions': array([147701.53], dtype=float32)}, {'predictions': array([172200.3], dtype=float32)}, {'predictions': array([112411.94], dtype=float32)}, {'predictions': array([173914.27], dtype=float32)}, {'predictions': array([163329.39], dtype=float32)}, {'predictions': array([149997.17], dtype=float32)}, {'predictions': array([160655.55], dtype=float32)}, {'predictions': array([128008.2], dtype=float32)}, {'predictions': array([140103.86], dtype=float32)}, {'predictions': array([162430.69], dtype=float32)}, {'predictions': array([170789.36], dtype=float32)}, {'predictions': array([180063.19], dtype=float32)}, {'predictions': array([152273.81], dtype=float32)}, {'predictions': array([194664.62], dtype=float32)}, {'predictions': array([134079.9], dtype=float32)}, {'predictions': array([133066.67], dtype=float32)}, {'predictions': array([144778.36], dtype=float32)}, {'predictions': array([185316.55], dtype=float32)}, {'predictions': array([184417.5], dtype=float32)}, {'predictions': array([136161.7], dtype=float32)}, {'predictions': array([124324.52], dtype=float32)}, {'predictions': array([131507.42], dtype=float32)}, {'predictions': array([152201.5], dtype=float32)}, {'predictions': array([169126.2], dtype=float32)}, {'predictions': array([164511.53], dtype=float32)}, {'predictions': array([128890.664], dtype=float32)}, {'predictions': array([144221.33], dtype=float32)}, {'predictions': array([137356.66], dtype=float32)}, {'predictions': array([151041.58], dtype=float32)}, {'predictions': array([175468.31], dtype=float32)}, {'predictions': array([137129.97], dtype=float32)}, {'predictions': array([168644.81], dtype=float32)}, {'predictions': array([153982.38], dtype=float32)}, {'predictions': array([143746.05], dtype=float32)}, {'predictions': array([155548.02], dtype=float32)}, {'predictions': array([168288.75], dtype=float32)}, {'predictions': array([139800.03], dtype=float32)}, {'predictions': array([162677.27], dtype=float32)}, {'predictions': array([164035.73], dtype=float32)}, {'predictions': array([167708.94], dtype=float32)}, {'predictions': array([123856.9], dtype=float32)}, {'predictions': array([128542.1], dtype=float32)}, {'predictions': array([126874.875], dtype=float32)}, {'predictions': array([137527.33], dtype=float32)}, {'predictions': array([150602.05], dtype=float32)}, {'predictions': array([146974.38], dtype=float32)}, {'predictions': array([149717.11], dtype=float32)}, {'predictions': array([133785.56], dtype=float32)}, {'predictions': array([137899.92], dtype=float32)}, {'predictions': array([159205.06], dtype=float32)}, {'predictions': array([156756.], dtype=float32)}, {'predictions': array([130201.97], dtype=float32)}, {'predictions': array([151695.97], dtype=float32)}, {'predictions': array([150543.31], dtype=float32)}, {'predictions': array([153627.88], dtype=float32)}, {'predictions': array([131074.33], dtype=float32)}, {'predictions': array([159603.27], dtype=float32)}, {'predictions': array([148389.52], dtype=float32)}, {'predictions': array([150786.14], dtype=float32)}, {'predictions': array([161592.95], dtype=float32)}, {'predictions': array([146232.22], dtype=float32)}, {'predictions': array([119516.234], dtype=float32)}, {'predictions': array([160822.47], dtype=float32)}, {'predictions': array([120238.12], dtype=float32)}, {'predictions': array([218985.77], dtype=float32)}, {'predictions': array([155322.4], dtype=float32)}, {'predictions': array([161242.14], dtype=float32)}, {'predictions': array([174479.78], dtype=float32)}, {'predictions': array([157941.5], dtype=float32)}, {'predictions': array([161739.34], dtype=float32)}, {'predictions': array([140973.28], dtype=float32)}, {'predictions': array([137799.8], dtype=float32)}, {'predictions': array([160050.28], dtype=float32)}, {'predictions': array([151124.42], dtype=float32)}, {'predictions': array([135582.9], dtype=float32)}, {'predictions': array([198722.03], dtype=float32)}, {'predictions': array([141973.11], dtype=float32)}, {'predictions': array([144665.38], dtype=float32)}, {'predictions': array([161000.16], dtype=float32)}, {'predictions': array([207279.77], dtype=float32)}, {'predictions': array([136542.92], dtype=float32)}, {'predictions': array([141896.34], dtype=float32)}, {'predictions': array([115900.2], dtype=float32)}, {'predictions': array([161382.9], dtype=float32)}, {'predictions': array([167919.73], dtype=float32)}, {'predictions': array([181430.92], dtype=float32)}, {'predictions': array([196217.11], dtype=float32)}, {'predictions': array([170265.48], dtype=float32)}, {'predictions': array([120939.78], dtype=float32)}, {'predictions': array([163636.8], dtype=float32)}, {'predictions': array([145009.14], dtype=float32)}, {'predictions': array([107570.33], dtype=float32)}, {'predictions': array([122946.195], dtype=float32)}, {'predictions': array([138325.25], dtype=float32)}, {'predictions': array([131130.66], dtype=float32)}, {'predictions': array([162613.92], dtype=float32)}, {'predictions': array([153327.19], dtype=float32)}, {'predictions': array([155344.4], dtype=float32)}, {'predictions': array([114798.375], dtype=float32)}, {'predictions': array([157659.62], dtype=float32)}, {'predictions': array([171044.83], dtype=float32)}, {'predictions': array([117927.23], dtype=float32)}, {'predictions': array([159904.94], dtype=float32)}, {'predictions': array([136442.97], dtype=float32)}, {'predictions': array([177970.36], dtype=float32)}, {'predictions': array([137774.8], dtype=float32)}, {'predictions': array([152341.06], dtype=float32)}, {'predictions': array([143737.58], dtype=float32)}, {'predictions': array([171526.42], dtype=float32)}, {'predictions': array([142699.69], dtype=float32)}, {'predictions': array([133442.11], dtype=float32)}, {'predictions': array([135788.27], dtype=float32)}, {'predictions': array([152533.95], dtype=float32)}, {'predictions': array([147854.11], dtype=float32)}, {'predictions': array([160383.98], dtype=float32)}, {'predictions': array([122381.79], dtype=float32)}, {'predictions': array([130256.52], dtype=float32)}, {'predictions': array([151466.58], dtype=float32)}, {'predictions': array([150484.1], dtype=float32)}, {'predictions': array([197758.69], dtype=float32)}, {'predictions': array([162146.53], dtype=float32)}, {'predictions': array([122126.055], dtype=float32)}, {'predictions': array([158503.5], dtype=float32)}, {'predictions': array([181534.16], dtype=float32)}, {'predictions': array([129580.04], dtype=float32)}, {'predictions': array([142063.73], dtype=float32)}, {'predictions': array([128234.164], dtype=float32)}, {'predictions': array([139416.84], dtype=float32)}, {'predictions': array([170405.45], dtype=float32)}, {'predictions': array([142795.17], dtype=float32)}, {'predictions': array([153302.77], dtype=float32)}, {'predictions': array([154741.73], dtype=float32)}, {'predictions': array([154936.03], dtype=float32)}, {'predictions': array([181302.23], dtype=float32)}, {'predictions': array([134800.03], dtype=float32)}, {'predictions': array([197415.75], dtype=float32)}, {'predictions': array([136153.98], dtype=float32)}, {'predictions': array([146821.78], dtype=float32)}, {'predictions': array([149070.45], dtype=float32)}, {'predictions': array([160548.73], dtype=float32)}, {'predictions': array([144497.75], dtype=float32)}, {'predictions': array([190960.33], dtype=float32)}, {'predictions': array([125924.586], dtype=float32)}, {'predictions': array([153022.53], dtype=float32)}, {'predictions': array([154224.55], dtype=float32)}, {'predictions': array([153404.47], dtype=float32)}, {'predictions': array([148615.03], dtype=float32)}, {'predictions': array([159452.06], dtype=float32)}, {'predictions': array([170632.11], dtype=float32)}, {'predictions': array([144150.31], dtype=float32)}, {'predictions': array([136833.58], dtype=float32)}, {'predictions': array([164837.86], dtype=float32)}, {'predictions': array([175580.31], dtype=float32)}, {'predictions': array([169371.05], dtype=float32)}, {'predictions': array([142223.62], dtype=float32)}, {'predictions': array([160081.45], dtype=float32)}, {'predictions': array([156299.78], dtype=float32)}, {'predictions': array([152064.69], dtype=float32)}, {'predictions': array([146151.22], dtype=float32)}, {'predictions': array([151828.48], dtype=float32)}, {'predictions': array([127695.25], dtype=float32)}, {'predictions': array([166885.89], dtype=float32)}, {'predictions': array([138218.77], dtype=float32)}, {'predictions': array([141498.22], dtype=float32)}, {'predictions': array([139685.97], dtype=float32)}, {'predictions': array([160206.31], dtype=float32)}, {'predictions': array([133395.66], dtype=float32)}, {'predictions': array([162802.2], dtype=float32)}, {'predictions': array([152035.47], dtype=float32)}, {'predictions': array([148052.42], dtype=float32)}, {'predictions': array([156345.14], dtype=float32)}, {'predictions': array([137892.31], dtype=float32)}, {'predictions': array([142291.56], dtype=float32)}, {'predictions': array([153673.97], dtype=float32)}, {'predictions': array([124773.914], dtype=float32)}, {'predictions': array([142750.34], dtype=float32)}, {'predictions': array([172784.7], dtype=float32)}, {'predictions': array([128409.984], dtype=float32)}, {'predictions': array([138119.27], dtype=float32)}, {'predictions': array([142918.6], dtype=float32)}, {'predictions': array([155789.06], dtype=float32)}, {'predictions': array([193123.72], dtype=float32)}, {'predictions': array([124516.58], dtype=float32)}, {'predictions': array([134676.72], dtype=float32)}, {'predictions': array([179109.83], dtype=float32)}, {'predictions': array([146277.84], dtype=float32)}, {'predictions': array([100415.016], dtype=float32)}, {'predictions': array([158694.53], dtype=float32)}, {'predictions': array([157236.], dtype=float32)}, {'predictions': array([171816.45], dtype=float32)}, {'predictions': array([147135.02], dtype=float32)}, {'predictions': array([121225.15], dtype=float32)}, {'predictions': array([131312.12], dtype=float32)}, {'predictions': array([130464.984], dtype=float32)}, {'predictions': array([122253.516], dtype=float32)}, {'predictions': array([130905.086], dtype=float32)}, {'predictions': array([115139.89], dtype=float32)}, {'predictions': array([137187.], dtype=float32)}, {'predictions': array([161719.31], dtype=float32)}, {'predictions': array([141177.88], dtype=float32)}, {'predictions': array([125011.055], dtype=float32)}, {'predictions': array([159888.23], dtype=float32)}, {'predictions': array([174429.97], dtype=float32)}, {'predictions': array([129200.49], dtype=float32)}, {'predictions': array([119840.], dtype=float32)}, {'predictions': array([133232.4], dtype=float32)}, {'predictions': array([170949.22], dtype=float32)}, {'predictions': array([159113.45], dtype=float32)}, {'predictions': array([144867.86], dtype=float32)}, {'predictions': array([150397.58], dtype=float32)}, {'predictions': array([139938.36], dtype=float32)}, {'predictions': array([130388.34], dtype=float32)}, {'predictions': array([152230.06], dtype=float32)}, {'predictions': array([119955.336], dtype=float32)}, {'predictions': array([180151.12], dtype=float32)}, {'predictions': array([165387.42], dtype=float32)}, {'predictions': array([167634.88], dtype=float32)}, {'predictions': array([155534.95], dtype=float32)}, {'predictions': array([162028.69], dtype=float32)}, {'predictions': array([102575.48], dtype=float32)}, {'predictions': array([121450.19], dtype=float32)}, {'predictions': array([149922.86], dtype=float32)}, {'predictions': array([140712.58], dtype=float32)}, {'predictions': array([174315.23], dtype=float32)}, {'predictions': array([157082.92], dtype=float32)}, {'predictions': array([152497.48], dtype=float32)}, {'predictions': array([163912.55], dtype=float32)}, {'predictions': array([160769.1], dtype=float32)}, {'predictions': array([208449.86], dtype=float32)}, {'predictions': array([161578.31], dtype=float32)}, {'predictions': array([161242.8], dtype=float32)}, {'predictions': array([117444.48], dtype=float32)}, {'predictions': array([153282.61], dtype=float32)}, {'predictions': array([160084.9], dtype=float32)}, {'predictions': array([159130.02], dtype=float32)}, {'predictions': array([127937.02], dtype=float32)}, {'predictions': array([160858.6], dtype=float32)}, {'predictions': array([160993.9], dtype=float32)}, {'predictions': array([125596.58], dtype=float32)}, {'predictions': array([131557.9], dtype=float32)}, {'predictions': array([150142.8], dtype=float32)}, {'predictions': array([150183.78], dtype=float32)}, {'predictions': array([172026.33], dtype=float32)}, {'predictions': array([140064.56], dtype=float32)}, {'predictions': array([156559.2], dtype=float32)}, {'predictions': array([135874.19], dtype=float32)}, {'predictions': array([141858.73], dtype=float32)}, {'predictions': array([140224.4], dtype=float32)}, {'predictions': array([168674.12], dtype=float32)}, {'predictions': array([174740.47], dtype=float32)}, {'predictions': array([150676.67], dtype=float32)}, {'predictions': array([147286.47], dtype=float32)}, {'predictions': array([128646.11], dtype=float32)}, {'predictions': array([125804.24], dtype=float32)}, {'predictions': array([160967.17], dtype=float32)}, {'predictions': array([166127.19], dtype=float32)}, {'predictions': array([139812.69], dtype=float32)}, {'predictions': array([142119.02], dtype=float32)}, {'predictions': array([124843.27], dtype=float32)}, {'predictions': array([146940.3], dtype=float32)}, {'predictions': array([165251.47], dtype=float32)}, {'predictions': array([145591.45], dtype=float32)}, {'predictions': array([162330.1], dtype=float32)}, {'predictions': array([163053.6], dtype=float32)}, {'predictions': array([158272.75], dtype=float32)}, {'predictions': array([144694.97], dtype=float32)}, {'predictions': array([175149.22], dtype=float32)}, {'predictions': array([173725.73], dtype=float32)}, {'predictions': array([123933.72], dtype=float32)}, {'predictions': array([160546.47], dtype=float32)}, {'predictions': array([143609.62], dtype=float32)}, {'predictions': array([155196.9], dtype=float32)}, {'predictions': array([171542.92], dtype=float32)}, {'predictions': array([131965.89], dtype=float32)}, {'predictions': array([115578.82], dtype=float32)}, {'predictions': array([125008.75], dtype=float32)}, {'predictions': array([142705.44], dtype=float32)}, {'predictions': array([142827.75], dtype=float32)}, {'predictions': array([174707.81], dtype=float32)}, {'predictions': array([143366.77], dtype=float32)}, {'predictions': array([146993.44], dtype=float32)}, {'predictions': array([161473.22], dtype=float32)}, {'predictions': array([114754.62], dtype=float32)}, {'predictions': array([142889.31], dtype=float32)}, {'predictions': array([172962.33], dtype=float32)}, {'predictions': array([168936.89], dtype=float32)}, {'predictions': array([150818.23], dtype=float32)}, {'predictions': array([149493.28], dtype=float32)}, {'predictions': array([196601.1], dtype=float32)}, {'predictions': array([172485.39], dtype=float32)}, {'predictions': array([158271.11], dtype=float32)}, {'predictions': array([124054.32], dtype=float32)}, {'predictions': array([122122.805], dtype=float32)}, {'predictions': array([146323.95], dtype=float32)}, {'predictions': array([148615.66], dtype=float32)}, {'predictions': array([134351.16], dtype=float32)}, {'predictions': array([139379.75], dtype=float32)}, {'predictions': array([151767.81], dtype=float32)}, {'predictions': array([163671.88], dtype=float32)}, {'predictions': array([222647.06], dtype=float32)}, {'predictions': array([148009.89], dtype=float32)}, {'predictions': array([149240.92], dtype=float32)}, {'predictions': array([147881.78], dtype=float32)}, {'predictions': array([150215.03], dtype=float32)}, {'predictions': array([124976.93], dtype=float32)}, {'predictions': array([147927.11], dtype=float32)}, {'predictions': array([163213.86], dtype=float32)}, {'predictions': array([183260.56], dtype=float32)}, {'predictions': array([151145.25], dtype=float32)}, {'predictions': array([134080.84], dtype=float32)}, {'predictions': array([116195.7], dtype=float32)}, {'predictions': array([145508.38], dtype=float32)}, {'predictions': array([155401.27], dtype=float32)}, {'predictions': array([130293.875], dtype=float32)}, {'predictions': array([158925.19], dtype=float32)}, {'predictions': array([156885.02], dtype=float32)}, {'predictions': array([136668.78], dtype=float32)}, {'predictions': array([136488.44], dtype=float32)}, {'predictions': array([147780.3], dtype=float32)}, {'predictions': array([158302.48], dtype=float32)}, {'predictions': array([162939.16], dtype=float32)}, {'predictions': array([135185.06], dtype=float32)}, {'predictions': array([138493.5], dtype=float32)}, {'predictions': array([141697.98], dtype=float32)}, {'predictions': array([166325.72], dtype=float32)}, {'predictions': array([154473.8], dtype=float32)}, {'predictions': array([163384.48], dtype=float32)}, {'predictions': array([143498.5], dtype=float32)}, {'predictions': array([144091.77], dtype=float32)}, {'predictions': array([117651.48], dtype=float32)}, {'predictions': array([123070.49], dtype=float32)}, {'predictions': array([123413.086], dtype=float32)}, {'predictions': array([115971.016], dtype=float32)}, {'predictions': array([189909.06], dtype=float32)}, {'predictions': array([149728.38], dtype=float32)}, {'predictions': array([126588.19], dtype=float32)}, {'predictions': array([129446.055], dtype=float32)}, {'predictions': array([153135.78], dtype=float32)}, {'predictions': array([140504.1], dtype=float32)}, {'predictions': array([118915.87], dtype=float32)}, {'predictions': array([155709.95], dtype=float32)}, {'predictions': array([152819.83], dtype=float32)}, {'predictions': array([126839.18], dtype=float32)}, {'predictions': array([135122.73], dtype=float32)}, {'predictions': array([169632.94], dtype=float32)}, {'predictions': array([143056.69], dtype=float32)}, {'predictions': array([135259.42], dtype=float32)}, {'predictions': array([168164.47], dtype=float32)}, {'predictions': array([135180.75], dtype=float32)}, {'predictions': array([172964.56], dtype=float32)}, {'predictions': array([134647.5], dtype=float32)}, {'predictions': array([137484.23], dtype=float32)}, {'predictions': array([149712.84], dtype=float32)}, {'predictions': array([192770.05], dtype=float32)}, {'predictions': array([144982.25], dtype=float32)}, {'predictions': array([184240.38], dtype=float32)}, {'predictions': array([119036.16], dtype=float32)}, {'predictions': array([156545.62], dtype=float32)}, {'predictions': array([152539.], dtype=float32)}, {'predictions': array([150489.67], dtype=float32)}, {'predictions': array([137127.78], dtype=float32)}, {'predictions': array([153213.22], dtype=float32)}, {'predictions': array([114238.59], dtype=float32)}, {'predictions': array([148058.02], dtype=float32)}, {'predictions': array([132224.11], dtype=float32)}, {'predictions': array([151555.62], dtype=float32)}, {'predictions': array([132913.34], dtype=float32)}, {'predictions': array([180102.75], dtype=float32)}, {'predictions': array([131444.42], dtype=float32)}, {'predictions': array([147204.14], dtype=float32)}, {'predictions': array([147028.97], dtype=float32)}, {'predictions': array([138695.56], dtype=float32)}, {'predictions': array([130534.76], dtype=float32)}, {'predictions': array([142632.31], dtype=float32)}, {'predictions': array([133470.98], dtype=float32)}, {'predictions': array([141218.94], dtype=float32)}, {'predictions': array([166945.33], dtype=float32)}, {'predictions': array([145972.89], dtype=float32)}, {'predictions': array([143545.89], dtype=float32)}, {'predictions': array([130368.266], dtype=float32)}, {'predictions': array([151381.56], dtype=float32)}, {'predictions': array([166279.62], dtype=float32)}, {'predictions': array([151051.61], dtype=float32)}, {'predictions': array([142708.06], dtype=float32)}, {'predictions': array([157360.38], dtype=float32)}, {'predictions': array([149903.16], dtype=float32)}, {'predictions': array([124997.15], dtype=float32)}, {'predictions': array([141013.39], dtype=float32)}, {'predictions': array([161653.23], dtype=float32)}, {'predictions': array([159414.62], dtype=float32)}, {'predictions': array([164767.84], dtype=float32)}, {'predictions': array([157671.03], dtype=float32)}, {'predictions': array([164650.56], dtype=float32)}, {'predictions': array([172995.11], dtype=float32)}, {'predictions': array([135807.86], dtype=float32)}, {'predictions': array([135653.34], dtype=float32)}, {'predictions': array([152538.72], dtype=float32)}, {'predictions': array([129001.805], dtype=float32)}, {'predictions': array([149142.61], dtype=float32)}, {'predictions': array([123812.79], dtype=float32)}, {'predictions': array([144165.19], dtype=float32)}, {'predictions': array([153903.64], dtype=float32)}, {'predictions': array([160647.92], dtype=float32)}, {'predictions': array([124300.25], dtype=float32)}, {'predictions': array([176669.19], dtype=float32)}, {'predictions': array([170642.38], dtype=float32)}, {'predictions': array([177375.52], dtype=float32)}, {'predictions': array([159055.22], dtype=float32)}, {'predictions': array([108338.85], dtype=float32)}, {'predictions': array([131296.06], dtype=float32)}, {'predictions': array([162706.03], dtype=float32)}, {'predictions': array([172793.28], dtype=float32)}, {'predictions': array([179803.7], dtype=float32)}, {'predictions': array([149037.45], dtype=float32)}, {'predictions': array([153214.33], dtype=float32)}, {'predictions': array([159826.86], dtype=float32)}, {'predictions': array([156795.22], dtype=float32)}, {'predictions': array([148068.44], dtype=float32)}, {'predictions': array([159068.12], dtype=float32)}, {'predictions': array([147626.8], dtype=float32)}, {'predictions': array([164856.78], dtype=float32)}, {'predictions': array([131927.66], dtype=float32)}, {'predictions': array([127461.234], dtype=float32)}, {'predictions': array([164054.53], dtype=float32)}, {'predictions': array([154006.14], dtype=float32)}, {'predictions': array([165597.75], dtype=float32)}, {'predictions': array([137021.81], dtype=float32)}, {'predictions': array([132748.16], dtype=float32)}, {'predictions': array([158695.86], dtype=float32)}, {'predictions': array([120651.62], dtype=float32)}, {'predictions': array([145294.56], dtype=float32)}, {'predictions': array([166329.53], dtype=float32)}, {'predictions': array([143452.5], dtype=float32)}, {'predictions': array([151876.31], dtype=float32)}, {'predictions': array([137011.84], dtype=float32)}, {'predictions': array([149330.02], dtype=float32)}, {'predictions': array([171707.73], dtype=float32)}, {'predictions': array([116829.02], dtype=float32)}, {'predictions': array([133356.52], dtype=float32)}, {'predictions': array([166396.45], dtype=float32)}, {'predictions': array([154382.94], dtype=float32)}, {'predictions': array([127136.77], dtype=float32)}, {'predictions': array([143845.02], dtype=float32)}, {'predictions': array([157968.98], dtype=float32)}, {'predictions': array([121667.02], dtype=float32)}, {'predictions': array([120499.76], dtype=float32)}, {'predictions': array([148422.19], dtype=float32)}, {'predictions': array([133295.72], dtype=float32)}, {'predictions': array([147522.3], dtype=float32)}, {'predictions': array([147930.31], dtype=float32)}, {'predictions': array([142893.33], dtype=float32)}, {'predictions': array([159167.84], dtype=float32)}, {'predictions': array([142801.02], dtype=float32)}, {'predictions': array([168452.66], dtype=float32)}, {'predictions': array([145088.62], dtype=float32)}, {'predictions': array([130088.88], dtype=float32)}, {'predictions': array([155850.64], dtype=float32)}, {'predictions': array([169236.94], dtype=float32)}, {'predictions': array([190299.22], dtype=float32)}, {'predictions': array([136936.56], dtype=float32)}, {'predictions': array([105728.82], dtype=float32)}, {'predictions': array([152267.45], dtype=float32)}, {'predictions': array([114044.67], dtype=float32)}, {'predictions': array([163676.92], dtype=float32)}, {'predictions': array([168413.], dtype=float32)}, {'predictions': array([137694.83], dtype=float32)}, {'predictions': array([137541.05], dtype=float32)}, {'predictions': array([162770.48], dtype=float32)}, {'predictions': array([124580.97], dtype=float32)}, {'predictions': array([174848.58], dtype=float32)}, {'predictions': array([134747.17], dtype=float32)}, {'predictions': array([104870.914], dtype=float32)}, {'predictions': array([116560.55], dtype=float32)}, {'predictions': array([165452.81], dtype=float32)}, {'predictions': array([155347.98], dtype=float32)}, {'predictions': array([133885.48], dtype=float32)}, {'predictions': array([153331.75], dtype=float32)}, {'predictions': array([161544.9], dtype=float32)}, {'predictions': array([108380.4], dtype=float32)}, {'predictions': array([150909.25], dtype=float32)}, {'predictions': array([172738.], dtype=float32)}, {'predictions': array([149705.98], dtype=float32)}, {'predictions': array([130269.91], dtype=float32)}, {'predictions': array([121907.766], dtype=float32)}, {'predictions': array([129958.984], dtype=float32)}, {'predictions': array([180884.33], dtype=float32)}, {'predictions': array([137308.08], dtype=float32)}, {'predictions': array([116202.22], dtype=float32)}, {'predictions': array([188118.48], dtype=float32)}, {'predictions': array([174149.33], dtype=float32)}, {'predictions': array([160550.2], dtype=float32)}, {'predictions': array([136633.62], dtype=float32)}, {'predictions': array([147566.98], dtype=float32)}, {'predictions': array([150558.23], dtype=float32)}, {'predictions': array([216842.03], dtype=float32)}, {'predictions': array([161498.38], dtype=float32)}, {'predictions': array([118004.71], dtype=float32)}, {'predictions': array([144807.98], dtype=float32)}, {'predictions': array([125610.7], dtype=float32)}, {'predictions': array([157878.77], dtype=float32)}, {'predictions': array([127626.016], dtype=float32)}, {'predictions': array([146471.62], dtype=float32)}, {'predictions': array([154784.53], dtype=float32)}, {'predictions': array([156533.7], dtype=float32)}, {'predictions': array([163757.56], dtype=float32)}, {'predictions': array([152593.33], dtype=float32)}, {'predictions': array([153607.64], dtype=float32)}, {'predictions': array([136803.56], dtype=float32)}, {'predictions': array([171383.92], dtype=float32)}, {'predictions': array([151139.84], dtype=float32)}, {'predictions': array([213015.34], dtype=float32)}, {'predictions': array([116248.18], dtype=float32)}, {'predictions': array([153371.9], dtype=float32)}, {'predictions': array([122829.04], dtype=float32)}, {'predictions': array([135205.08], dtype=float32)}, {'predictions': array([137062.4], dtype=float32)}, {'predictions': array([134775.88], dtype=float32)}, {'predictions': array([158031.34], dtype=float32)}, {'predictions': array([132792.06], dtype=float32)}, {'predictions': array([144071.64], dtype=float32)}, {'predictions': array([141445.55], dtype=float32)}, {'predictions': array([171119.89], dtype=float32)}, {'predictions': array([158779.61], dtype=float32)}, {'predictions': array([114181.305], dtype=float32)}, {'predictions': array([125944.99], dtype=float32)}, {'predictions': array([152468.9], dtype=float32)}, {'predictions': array([151929.12], dtype=float32)}, {'predictions': array([156691.2], dtype=float32)}, {'predictions': array([165323.75], dtype=float32)}, {'predictions': array([165863.8], dtype=float32)}, {'predictions': array([147112.55], dtype=float32)}, {'predictions': array([154566.95], dtype=float32)}, {'predictions': array([175938.6], dtype=float32)}, {'predictions': array([149093.58], dtype=float32)}, {'predictions': array([140456.61], dtype=float32)}, {'predictions': array([168704.86], dtype=float32)}, {'predictions': array([160357.27], dtype=float32)}, {'predictions': array([120327.65], dtype=float32)}, {'predictions': array([120079.21], dtype=float32)}, {'predictions': array([154749.66], dtype=float32)}, {'predictions': array([158964.1], dtype=float32)}, {'predictions': array([149311.67], dtype=float32)}, {'predictions': array([156530.97], dtype=float32)}, {'predictions': array([163247.08], dtype=float32)}, {'predictions': array([158699.02], dtype=float32)}, {'predictions': array([149760.44], dtype=float32)}, {'predictions': array([148075.4], dtype=float32)}, {'predictions': array([160007.44], dtype=float32)}, {'predictions': array([144684.4], dtype=float32)}, {'predictions': array([144944.23], dtype=float32)}, {'predictions': array([151955.7], dtype=float32)}, {'predictions': array([155149.75], dtype=float32)}, {'predictions': array([196419.8], dtype=float32)}, {'predictions': array([126789.88], dtype=float32)}, {'predictions': array([130361.125], dtype=float32)}, {'predictions': array([178347.22], dtype=float32)}, {'predictions': array([127639.34], dtype=float32)}, {'predictions': array([109986.875], dtype=float32)}, {'predictions': array([162777.25], dtype=float32)}, {'predictions': array([154554.36], dtype=float32)}, {'predictions': array([120758.414], dtype=float32)}, {'predictions': array([151621.23], dtype=float32)}, {'predictions': array([145342.17], dtype=float32)}, {'predictions': array([191716.28], dtype=float32)}, {'predictions': array([123270.43], dtype=float32)}, {'predictions': array([130465.48], dtype=float32)}, {'predictions': array([127749.625], dtype=float32)}, {'predictions': array([155179.], dtype=float32)}, {'predictions': array([160087.9], dtype=float32)}, {'predictions': array([144084.83], dtype=float32)}, {'predictions': array([128350.57], dtype=float32)}, {'predictions': array([137284.97], dtype=float32)}, {'predictions': array([172556.7], dtype=float32)}, {'predictions': array([141507.16], dtype=float32)}, {'predictions': array([139478.55], dtype=float32)}, {'predictions': array([165667.75], dtype=float32)}, {'predictions': array([143867.3], dtype=float32)}, {'predictions': array([170678.28], dtype=float32)}, {'predictions': array([153965.42], dtype=float32)}, {'predictions': array([166683.36], dtype=float32)}, {'predictions': array([164903.78], dtype=float32)}, {'predictions': array([170857.36], dtype=float32)}, {'predictions': array([163114.97], dtype=float32)}, {'predictions': array([134686.31], dtype=float32)}, {'predictions': array([180628.95], dtype=float32)}, {'predictions': array([134216.05], dtype=float32)}, {'predictions': array([161109.2], dtype=float32)}, {'predictions': array([139274.56], dtype=float32)}, {'predictions': array([158738.1], dtype=float32)}, {'predictions': array([144359.03], dtype=float32)}, {'predictions': array([130020.03], dtype=float32)}, {'predictions': array([163801.58], dtype=float32)}, {'predictions': array([148782.11], dtype=float32)}, {'predictions': array([147552.12], dtype=float32)}, {'predictions': array([124857.29], dtype=float32)}, {'predictions': array([136577.73], dtype=float32)}, {'predictions': array([121727.85], dtype=float32)}, {'predictions': array([149022.3], dtype=float32)}, {'predictions': array([115517.33], dtype=float32)}, {'predictions': array([169642.42], dtype=float32)}, {'predictions': array([161757.7], dtype=float32)}, {'predictions': array([153433.4], dtype=float32)}, {'predictions': array([153352.89], dtype=float32)}, {'predictions': array([146782.33], dtype=float32)}, {'predictions': array([165688.67], dtype=float32)}, {'predictions': array([187079.12], dtype=float32)}, {'predictions': array([179415.3], dtype=float32)}, {'predictions': array([141008.2], dtype=float32)}, {'predictions': array([141551.23], dtype=float32)}, {'predictions': array([168400.33], dtype=float32)}, {'predictions': array([137925.92], dtype=float32)}, {'predictions': array([163743.4], dtype=float32)}, {'predictions': array([150884.48], dtype=float32)}, {'predictions': array([169806.42], dtype=float32)}, {'predictions': array([116645.3], dtype=float32)}, {'predictions': array([163656.11], dtype=float32)}, {'predictions': array([147392.05], dtype=float32)}, {'predictions': array([131599.97], dtype=float32)}, {'predictions': array([130054.58], dtype=float32)}, {'predictions': array([130173.93], dtype=float32)}, {'predictions': array([136728.03], dtype=float32)}, {'predictions': array([154904.53], dtype=float32)}, {'predictions': array([131120.94], dtype=float32)}, {'predictions': array([152453.72], dtype=float32)}, {'predictions': array([155537.25], dtype=float32)}, {'predictions': array([165817.56], dtype=float32)}, {'predictions': array([259589.16], dtype=float32)}, {'predictions': array([167244.9], dtype=float32)}, {'predictions': array([159940.28], dtype=float32)}, {'predictions': array([150769.], dtype=float32)}, {'predictions': array([148471.4], dtype=float32)}, {'predictions': array([161440.78], dtype=float32)}, {'predictions': array([152637.31], dtype=float32)}, {'predictions': array([136286.], dtype=float32)}, {'predictions': array([163097.53], dtype=float32)}, {'predictions': array([148456.06], dtype=float32)}, {'predictions': array([200820.38], dtype=float32)}, {'predictions': array([148928.67], dtype=float32)}, {'predictions': array([161402.56], dtype=float32)}, {'predictions': array([170023.77], dtype=float32)}, {'predictions': array([155976.72], dtype=float32)}, {'predictions': array([158855.], dtype=float32)}, {'predictions': array([96145.445], dtype=float32)}, {'predictions': array([126122.8], dtype=float32)}, {'predictions': array([160351.56], dtype=float32)}, {'predictions': array([151588.72], dtype=float32)}, {'predictions': array([113385.78], dtype=float32)}, {'predictions': array([152497.08], dtype=float32)}, {'predictions': array([140724.28], dtype=float32)}, {'predictions': array([153409.03], dtype=float32)}, {'predictions': array([160005.42], dtype=float32)}, {'predictions': array([125118.84], dtype=float32)}, {'predictions': array([162816.16], dtype=float32)}, {'predictions': array([148274.12], dtype=float32)}, {'predictions': array([158750.45], dtype=float32)}, {'predictions': array([112913.555], dtype=float32)}, {'predictions': array([128528.24], dtype=float32)}, {'predictions': array([136669.39], dtype=float32)}, {'predictions': array([125444.12], dtype=float32)}, {'predictions': array([167311.12], dtype=float32)}, {'predictions': array([141545.83], dtype=float32)}, {'predictions': array([165100.92], dtype=float32)}, {'predictions': array([152075.77], dtype=float32)}, {'predictions': array([119457.9], dtype=float32)}, {'predictions': array([113811.375], dtype=float32)}, {'predictions': array([136342.44], dtype=float32)}, {'predictions': array([126353.33], dtype=float32)}, {'predictions': array([116351.32], dtype=float32)}, {'predictions': array([156015.14], dtype=float32)}, {'predictions': array([130185.43], dtype=float32)}, {'predictions': array([111405.055], dtype=float32)}, {'predictions': array([159688.12], dtype=float32)}, {'predictions': array([173128.28], dtype=float32)}, {'predictions': array([140497.3], dtype=float32)}, {'predictions': array([113371.49], dtype=float32)}, {'predictions': array([134797.06], dtype=float32)}, {'predictions': array([157420.6], dtype=float32)}, {'predictions': array([122925.23], dtype=float32)}, {'predictions': array([118115.69], dtype=float32)}, {'predictions': array([160304.28], dtype=float32)}, {'predictions': array([146112.25], dtype=float32)}, {'predictions': array([114736.266], dtype=float32)}, {'predictions': array([136253.64], dtype=float32)}, {'predictions': array([158817.38], dtype=float32)}, {'predictions': array([158504.28], dtype=float32)}, {'predictions': array([139131.64], dtype=float32)}, {'predictions': array([151046.77], dtype=float32)}, {'predictions': array([156068.5], dtype=float32)}, {'predictions': array([119852.04], dtype=float32)}, {'predictions': array([177409.78], dtype=float32)}, {'predictions': array([149698.77], dtype=float32)}, {'predictions': array([173858.3], dtype=float32)}, {'predictions': array([154330.56], dtype=float32)}, {'predictions': array([177212.72], dtype=float32)}, {'predictions': array([150152.25], dtype=float32)}, {'predictions': array([125611.37], dtype=float32)}, {'predictions': array([133223.61], dtype=float32)}, {'predictions': array([147388.78], dtype=float32)}, {'predictions': array([138867.2], dtype=float32)}, {'predictions': array([170528.06], dtype=float32)}, {'predictions': array([106750.17], dtype=float32)}, {'predictions': array([116676.02], dtype=float32)}, {'predictions': array([141433.6], dtype=float32)}, {'predictions': array([163186.03], dtype=float32)}, {'predictions': array([119815.84], dtype=float32)}, {'predictions': array([167177.33], dtype=float32)}, {'predictions': array([178325.97], dtype=float32)}, {'predictions': array([119347.65], dtype=float32)}, {'predictions': array([162054.39], dtype=float32)}, {'predictions': array([154342.12], dtype=float32)}, {'predictions': array([145310.36], dtype=float32)}, {'predictions': array([162413.69], dtype=float32)}, {'predictions': array([185467.16], dtype=float32)}, {'predictions': array([135907.2], dtype=float32)}, {'predictions': array([148274.58], dtype=float32)}, {'predictions': array([139016.6], dtype=float32)}, {'predictions': array([136789.16], dtype=float32)}, {'predictions': array([139926.03], dtype=float32)}, {'predictions': array([113335.8], dtype=float32)}, {'predictions': array([163590.95], dtype=float32)}, {'predictions': array([162818.56], dtype=float32)}, {'predictions': array([168886.14], dtype=float32)}, {'predictions': array([145303.75], dtype=float32)}, {'predictions': array([150272.45], dtype=float32)}, {'predictions': array([122202.48], dtype=float32)}, {'predictions': array([126792.055], dtype=float32)}, {'predictions': array([174572.95], dtype=float32)}, {'predictions': array([174705.28], dtype=float32)}, {'predictions': array([168658.64], dtype=float32)}, {'predictions': array([131148.6], dtype=float32)}, {'predictions': array([152078.61], dtype=float32)}, {'predictions': array([156147.3], dtype=float32)}, {'predictions': array([122935.3], dtype=float32)}, {'predictions': array([154217.75], dtype=float32)}, {'predictions': array([148325.02], dtype=float32)}, {'predictions': array([129262.86], dtype=float32)}, {'predictions': array([178283.92], dtype=float32)}, {'predictions': array([108825.55], dtype=float32)}, {'predictions': array([128955.97], dtype=float32)}, {'predictions': array([144735.03], dtype=float32)}, {'predictions': array([159246.], dtype=float32)}, {'predictions': array([144257.7], dtype=float32)}, {'predictions': array([160051.52], dtype=float32)}, {'predictions': array([173899.7], dtype=float32)}, {'predictions': array([159009.4], dtype=float32)}, {'predictions': array([164269.89], dtype=float32)}, {'predictions': array([167711.48], dtype=float32)}, {'predictions': array([180824.48], dtype=float32)}, {'predictions': array([142370.38], dtype=float32)}, {'predictions': array([155267.36], dtype=float32)}, {'predictions': array([120298.94], dtype=float32)}, {'predictions': array([155857.36], dtype=float32)}, {'predictions': array([141675.94], dtype=float32)}, {'predictions': array([127952.32], dtype=float32)}, {'predictions': array([167813.73], dtype=float32)}, {'predictions': array([157027.6], dtype=float32)}, {'predictions': array([151381.02], dtype=float32)}, {'predictions': array([151917.64], dtype=float32)}, {'predictions': array([146939.47], dtype=float32)}, {'predictions': array([122546.914], dtype=float32)}, {'predictions': array([123630.13], dtype=float32)}, {'predictions': array([174370.16], dtype=float32)}, {'predictions': array([193758.2], dtype=float32)}, {'predictions': array([156886.88], dtype=float32)}, {'predictions': array([139419.94], dtype=float32)}, {'predictions': array([163654.48], dtype=float32)}, {'predictions': array([120748.08], dtype=float32)}, {'predictions': array([156921.88], dtype=float32)}, {'predictions': array([117121.8], dtype=float32)}, {'predictions': array([164000.31], dtype=float32)}, {'predictions': array([143067.56], dtype=float32)}, {'predictions': array([119094.21], dtype=float32)}, {'predictions': array([128380.58], dtype=float32)}, {'predictions': array([152085.69], dtype=float32)}, {'predictions': array([150492.9], dtype=float32)}, {'predictions': array([128307.914], dtype=float32)}, {'predictions': array([143439.7], dtype=float32)}, {'predictions': array([125547.34], dtype=float32)}, {'predictions': array([148981.05], dtype=float32)}, {'predictions': array([147590.8], dtype=float32)}, {'predictions': array([156630.11], dtype=float32)}, {'predictions': array([166828.1], dtype=float32)}, {'predictions': array([173808.39], dtype=float32)}, {'predictions': array([171087.64], dtype=float32)}, {'predictions': array([145959.78], dtype=float32)}, {'predictions': array([131443.39], dtype=float32)}, {'predictions': array([152881.2], dtype=float32)}, {'predictions': array([132313.92], dtype=float32)}, {'predictions': array([154004.9], dtype=float32)}, {'predictions': array([163951.19], dtype=float32)}, {'predictions': array([169116.12], dtype=float32)}, {'predictions': array([146656.66], dtype=float32)}, {'predictions': array([158274.33], dtype=float32)}, {'predictions': array([128527.93], dtype=float32)}, {'predictions': array([125437.56], dtype=float32)}, {'predictions': array([167558.4], dtype=float32)}, {'predictions': array([138250.66], dtype=float32)}, {'predictions': array([166064.36], dtype=float32)}, {'predictions': array([144996.39], dtype=float32)}, {'predictions': array([118275.49], dtype=float32)}, {'predictions': array([159422.03], dtype=float32)}, {'predictions': array([171646.69], dtype=float32)}, {'predictions': array([152842.56], dtype=float32)}, {'predictions': array([163837.92], dtype=float32)}, {'predictions': array([166581.11], dtype=float32)}, {'predictions': array([118864.3], dtype=float32)}, {'predictions': array([179408.42], dtype=float32)}, {'predictions': array([124901.93], dtype=float32)}, {'predictions': array([144418.45], dtype=float32)}, {'predictions': array([100935.75], dtype=float32)}, {'predictions': array([152568.47], dtype=float32)}, {'predictions': array([158288.66], dtype=float32)}, {'predictions': array([172734.36], dtype=float32)}, {'predictions': array([163018.98], dtype=float32)}, {'predictions': array([159914.02], dtype=float32)}, {'predictions': array([175286.08], dtype=float32)}, {'predictions': array([143170.19], dtype=float32)}, {'predictions': array([126845.125], dtype=float32)}, {'predictions': array([165265.16], dtype=float32)}, {'predictions': array([163899.39], dtype=float32)}, {'predictions': array([169104.66], dtype=float32)}, {'predictions': array([156907.3], dtype=float32)}, {'predictions': array([148495.19], dtype=float32)}, {'predictions': array([151601.86], dtype=float32)}, {'predictions': array([159858.34], dtype=float32)}, {'predictions': array([151613.17], dtype=float32)}, {'predictions': array([159049.47], dtype=float32)}, {'predictions': array([161555.03], dtype=float32)}, {'predictions': array([157376.56], dtype=float32)}, {'predictions': array([129185.35], dtype=float32)}, {'predictions': array([150669.92], dtype=float32)}, {'predictions': array([154642.06], dtype=float32)}, {'predictions': array([177068.92], dtype=float32)}, {'predictions': array([152036.22], dtype=float32)}, {'predictions': array([144918.5], dtype=float32)}, {'predictions': array([158527.11], dtype=float32)}, {'predictions': array([144264.39], dtype=float32)}, {'predictions': array([146120.6], dtype=float32)}, {'predictions': array([153070.22], dtype=float32)}, {'predictions': array([123474.46], dtype=float32)}, {'predictions': array([160362.19], dtype=float32)}, {'predictions': array([161320.69], dtype=float32)}, {'predictions': array([119535.82], dtype=float32)}, {'predictions': array([147114.66], dtype=float32)}, {'predictions': array([145377.53], dtype=float32)}, {'predictions': array([168083.58], dtype=float32)}, {'predictions': array([127402.01], dtype=float32)}, {'predictions': array([171036.72], dtype=float32)}, {'predictions': array([110314.85], dtype=float32)}, {'predictions': array([133053.78], dtype=float32)}, {'predictions': array([184984.88], dtype=float32)}, {'predictions': array([134035.78], dtype=float32)}, {'predictions': array([158490.73], dtype=float32)}, {'predictions': array([170775.97], dtype=float32)}, {'predictions': array([147450.45], dtype=float32)}, {'predictions': array([129816.125], dtype=float32)}, {'predictions': array([152623.22], dtype=float32)}, {'predictions': array([173140.33], dtype=float32)}, {'predictions': array([170540.9], dtype=float32)}, {'predictions': array([145672.03], dtype=float32)}, {'predictions': array([143181.28], dtype=float32)}, {'predictions': array([246353.4], dtype=float32)}, {'predictions': array([122162.53], dtype=float32)}, {'predictions': array([164395.78], dtype=float32)}, {'predictions': array([131852.06], dtype=float32)}, {'predictions': array([150434.95], dtype=float32)}, {'predictions': array([134895.05], dtype=float32)}, {'predictions': array([186782.31], dtype=float32)}, {'predictions': array([166670.72], dtype=float32)}, {'predictions': array([140031.9], dtype=float32)}, {'predictions': array([141923.39], dtype=float32)}, {'predictions': array([149105.55], dtype=float32)}, {'predictions': array([127593.51], dtype=float32)}, {'predictions': array([119377.9], dtype=float32)}, {'predictions': array([155749.69], dtype=float32)}, {'predictions': array([138016.39], dtype=float32)}, {'predictions': array([132291.7], dtype=float32)}, {'predictions': array([136542.23], dtype=float32)}, {'predictions': array([156445.56], dtype=float32)}, {'predictions': array([158994.19], dtype=float32)}, {'predictions': array([136981.64], dtype=float32)}, {'predictions': array([134448.08], dtype=float32)}, {'predictions': array([126189.914], dtype=float32)}, {'predictions': array([157109.56], dtype=float32)}, {'predictions': array([123243.92], dtype=float32)}, {'predictions': array([156236.23], dtype=float32)}, {'predictions': array([136421.12], dtype=float32)}, {'predictions': array([144193.42], dtype=float32)}, {'predictions': array([165954.86], dtype=float32)}, {'predictions': array([154030.62], dtype=float32)}, {'predictions': array([145892.95], dtype=float32)}, {'predictions': array([141197.84], dtype=float32)}, {'predictions': array([177604.39], dtype=float32)}, {'predictions': array([128406.74], dtype=float32)}, {'predictions': array([137550.44], dtype=float32)}, {'predictions': array([115029.87], dtype=float32)}, {'predictions': array([166460.27], dtype=float32)}, {'predictions': array([126668.23], dtype=float32)}, {'predictions': array([140341.53], dtype=float32)}, {'predictions': array([180571.62], dtype=float32)}, {'predictions': array([166139.23], dtype=float32)}, {'predictions': array([115598.87], dtype=float32)}, {'predictions': array([151579.23], dtype=float32)}, {'predictions': array([191383.81], dtype=float32)}, {'predictions': array([166250.72], dtype=float32)}, {'predictions': array([151406.19], dtype=float32)}, {'predictions': array([159572.86], dtype=float32)}, {'predictions': array([145409.47], dtype=float32)}, {'predictions': array([145072.66], dtype=float32)}, {'predictions': array([158232.11], dtype=float32)}, {'predictions': array([118940.63], dtype=float32)}, {'predictions': array([150692.11], dtype=float32)}, {'predictions': array([150269.06], dtype=float32)}, {'predictions': array([149174.33], dtype=float32)}, {'predictions': array([147193.77], dtype=float32)}, {'predictions': array([157127.19], dtype=float32)}, {'predictions': array([150849.2], dtype=float32)}, {'predictions': array([131414.8], dtype=float32)}, {'predictions': array([152132.52], dtype=float32)}, {'predictions': array([120765.68], dtype=float32)}, {'predictions': array([138320.42], dtype=float32)}, {'predictions': array([166524.44], dtype=float32)}, {'predictions': array([147384.], dtype=float32)}, {'predictions': array([147248.78], dtype=float32)}, {'predictions': array([164859.44], dtype=float32)}, {'predictions': array([162346.8], dtype=float32)}, {'predictions': array([129711.98], dtype=float32)}, {'predictions': array([140299.94], dtype=float32)}, {'predictions': array([162545.02], dtype=float32)}, {'predictions': array([180762.08], dtype=float32)}, {'predictions': array([126772.42], dtype=float32)}, {'predictions': array([152783.95], dtype=float32)}, {'predictions': array([158402.78], dtype=float32)}, {'predictions': array([99776.61], dtype=float32)}, {'predictions': array([159041.4], dtype=float32)}, {'predictions': array([109479.31], dtype=float32)}, {'predictions': array([148507.81], dtype=float32)}, {'predictions': array([161765.73], dtype=float32)}, {'predictions': array([144503.45], dtype=float32)}, {'predictions': array([169138.4], dtype=float32)}, {'predictions': array([164420.8], dtype=float32)}, {'predictions': array([206480.17], dtype=float32)}, {'predictions': array([163745.67], dtype=float32)}, {'predictions': array([128809.85], dtype=float32)}, {'predictions': array([160511.19], dtype=float32)}, {'predictions': array([144062.], dtype=float32)}, {'predictions': array([142173.39], dtype=float32)}, {'predictions': array([114875.55], dtype=float32)}, {'predictions': array([142692.86], dtype=float32)}, {'predictions': array([117291.88], dtype=float32)}, {'predictions': array([188141.67], dtype=float32)}, {'predictions': array([139090.67], dtype=float32)}, {'predictions': array([167078.98], dtype=float32)}, {'predictions': array([145582.12], dtype=float32)}, {'predictions': array([188085.03], dtype=float32)}, {'predictions': array([150553.39], dtype=float32)}, {'predictions': array([167517.86], dtype=float32)}, {'predictions': array([149119.55], dtype=float32)}, {'predictions': array([143271.52], dtype=float32)}, {'predictions': array([188218.97], dtype=float32)}, {'predictions': array([142091.14], dtype=float32)}, {'predictions': array([148288.75], dtype=float32)}, {'predictions': array([150157.81], dtype=float32)}, {'predictions': array([147692.2], dtype=float32)}, {'predictions': array([127771.41], dtype=float32)}, {'predictions': array([141578.77], dtype=float32)}, {'predictions': array([118713.914], dtype=float32)}, {'predictions': array([177315.94], dtype=float32)}, {'predictions': array([183859.55], dtype=float32)}, {'predictions': array([136443.31], dtype=float32)}, {'predictions': array([135571.23], dtype=float32)}, {'predictions': array([122848.87], dtype=float32)}, {'predictions': array([154843.98], dtype=float32)}, {'predictions': array([154748.78], dtype=float32)}, {'predictions': array([146305.03], dtype=float32)}, {'predictions': array([143330.62], dtype=float32)}, {'predictions': array([136606.95], dtype=float32)}, {'predictions': array([152175.86], dtype=float32)}, {'predictions': array([135580.58], dtype=float32)}, {'predictions': array([121162.73], dtype=float32)}, {'predictions': array([132471.19], dtype=float32)}, {'predictions': array([166431.81], dtype=float32)}, {'predictions': array([151343.25], dtype=float32)}, {'predictions': array([167649.86], dtype=float32)}, {'predictions': array([151667.17], dtype=float32)}, {'predictions': array([126032.84], dtype=float32)}, {'predictions': array([118057.945], dtype=float32)}, {'predictions': array([126996.53], dtype=float32)}, {'predictions': array([151440.92], dtype=float32)}, {'predictions': array([152468.86], dtype=float32)}, {'predictions': array([162590.52], dtype=float32)}, {'predictions': array([176768.95], dtype=float32)}, {'predictions': array([182635.95], dtype=float32)}, {'predictions': array([114797.3], dtype=float32)}, {'predictions': array([148079.9], dtype=float32)}, {'predictions': array([143471.16], dtype=float32)}, {'predictions': array([122575.18], dtype=float32)}, {'predictions': array([151490.88], dtype=float32)}, {'predictions': array([135701.62], dtype=float32)}, {'predictions': array([130269.37], dtype=float32)}, {'predictions': array([148108.16], dtype=float32)}, {'predictions': array([148741.6], dtype=float32)}, {'predictions': array([150676.06], dtype=float32)}, {'predictions': array([131995.75], dtype=float32)}, {'predictions': array([130744.63], dtype=float32)}, {'predictions': array([155868.78], dtype=float32)}, {'predictions': array([155777.], dtype=float32)}, {'predictions': array([174233.3], dtype=float32)}, {'predictions': array([163729.1], dtype=float32)}, {'predictions': array([168862.89], dtype=float32)}, {'predictions': array([164823.28], dtype=float32)}, {'predictions': array([177400.98], dtype=float32)}, {'predictions': array([144307.3], dtype=float32)}, {'predictions': array([158093.3], dtype=float32)}, {'predictions': array([139150.55], dtype=float32)}, {'predictions': array([154640.75], dtype=float32)}, {'predictions': array([137891.7], dtype=float32)}, {'predictions': array([164596.67], dtype=float32)}, {'predictions': array([160550.62], dtype=float32)}, {'predictions': array([159475.69], dtype=float32)}, {'predictions': array([137895.06], dtype=float32)}, {'predictions': array([136373.39], dtype=float32)}, {'predictions': array([160742.16], dtype=float32)}, {'predictions': array([121684.5], dtype=float32)}, {'predictions': array([98181.87], dtype=float32)}, {'predictions': array([157065.33], dtype=float32)}, {'predictions': array([151565.53], dtype=float32)}, {'predictions': array([154559.23], dtype=float32)}, {'predictions': array([177071.81], dtype=float32)}, {'predictions': array([168017.55], dtype=float32)}, {'predictions': array([167793.03], dtype=float32)}, {'predictions': array([140667.33], dtype=float32)}, {'predictions': array([177739.7], dtype=float32)}, {'predictions': array([147229.55], dtype=float32)}, {'predictions': array([131744.02], dtype=float32)}, {'predictions': array([121130.75], dtype=float32)}, {'predictions': array([167568.1], dtype=float32)}, {'predictions': array([139449.05], dtype=float32)}, {'predictions': array([112612.12], dtype=float32)}, {'predictions': array([176422.16], dtype=float32)}, {'predictions': array([164516.34], dtype=float32)}, {'predictions': array([173843.38], dtype=float32)}, {'predictions': array([133341.22], dtype=float32)}, {'predictions': array([151967.4], dtype=float32)}, {'predictions': array([165962.52], dtype=float32)}, {'predictions': array([126514.2], dtype=float32)}, {'predictions': array([148007.31], dtype=float32)}, {'predictions': array([140815.77], dtype=float32)}, {'predictions': array([147396.8], dtype=float32)}, {'predictions': array([141951.02], dtype=float32)}, {'predictions': array([172842.62], dtype=float32)}, {'predictions': array([193533.44], dtype=float32)}, {'predictions': array([146508.83], dtype=float32)}, {'predictions': array([146051.05], dtype=float32)}, {'predictions': array([181049.61], dtype=float32)}, {'predictions': array([172366.8], dtype=float32)}, {'predictions': array([162254.84], dtype=float32)}, {'predictions': array([154027.62], dtype=float32)}, {'predictions': array([144494.73], dtype=float32)}, {'predictions': array([175096.34], dtype=float32)}, {'predictions': array([153100.92], dtype=float32)}, {'predictions': array([130348.945], dtype=float32)}, {'predictions': array([153826.31], dtype=float32)}, {'predictions': array([164615.56], dtype=float32)}, {'predictions': array([157035.72], dtype=float32)}, {'predictions': array([167912.23], dtype=float32)}, {'predictions': array([127520.54], dtype=float32)}, {'predictions': array([132858.19], dtype=float32)}, {'predictions': array([121803.07], dtype=float32)}, {'predictions': array([148045.12], dtype=float32)}, {'predictions': array([156305.1], dtype=float32)}, {'predictions': array([131888.69], dtype=float32)}, {'predictions': array([159185.06], dtype=float32)}, {'predictions': array([129388.02], dtype=float32)}, {'predictions': array([130785.43], dtype=float32)}, {'predictions': array([149367.83], dtype=float32)}, {'predictions': array([164240.7], dtype=float32)}, {'predictions': array([132259.34], dtype=float32)}, {'predictions': array([160766.25], dtype=float32)}, {'predictions': array([164878.92], dtype=float32)}, {'predictions': array([165014.75], dtype=float32)}, {'predictions': array([156374.48], dtype=float32)}, {'predictions': array([150647.27], dtype=float32)}, {'predictions': array([177000.97], dtype=float32)}, {'predictions': array([140510.89], dtype=float32)}, {'predictions': array([155101.45], dtype=float32)}, {'predictions': array([132220.1], dtype=float32)}, {'predictions': array([142738.19], dtype=float32)}, {'predictions': array([152804.56], dtype=float32)}, {'predictions': array([191302.11], dtype=float32)}, {'predictions': array([135851.19], dtype=float32)}, {'predictions': array([169331.86], dtype=float32)}, {'predictions': array([148302.42], dtype=float32)}, {'predictions': array([157141.11], dtype=float32)}, {'predictions': array([165003.55], dtype=float32)}, {'predictions': array([122268.37], dtype=float32)}, {'predictions': array([122721.6], dtype=float32)}, {'predictions': array([172357.75], dtype=float32)}, {'predictions': array([141892.4], dtype=float32)}, {'predictions': array([157028.69], dtype=float32)}, {'predictions': array([166068.97], dtype=float32)}, {'predictions': array([158307.88], dtype=float32)}, {'predictions': array([140897.25], dtype=float32)}, {'predictions': array([166858.12], dtype=float32)}, {'predictions': array([134183.81], dtype=float32)}, {'predictions': array([155774.42], dtype=float32)}, {'predictions': array([130472.39], dtype=float32)}, {'predictions': array([145398.58], dtype=float32)}, {'predictions': array([138822.16], dtype=float32)}, {'predictions': array([164262.78], dtype=float32)}, {'predictions': array([147102.94], dtype=float32)}, {'predictions': array([133721.], dtype=float32)}, {'predictions': array([165465.5], dtype=float32)}, {'predictions': array([144957.61], dtype=float32)}, {'predictions': array([161653.12], dtype=float32)}, {'predictions': array([125974.15], dtype=float32)}, {'predictions': array([154429.92], dtype=float32)}, {'predictions': array([134961.38], dtype=float32)}, {'predictions': array([133390.1], dtype=float32)}, {'predictions': array([147451.4], dtype=float32)}, {'predictions': array([158785.25], dtype=float32)}, {'predictions': array([124626.484], dtype=float32)}, {'predictions': array([154952.2], dtype=float32)}, {'predictions': array([167783.83], dtype=float32)}, {'predictions': array([161046.1], dtype=float32)}, {'predictions': array([147593.17], dtype=float32)}, {'predictions': array([143754.03], dtype=float32)}, {'predictions': array([153370.03], dtype=float32)}, {'predictions': array([143445.28], dtype=float32)}, {'predictions': array([117285.13], dtype=float32)}, {'predictions': array([140028.56], dtype=float32)}, {'predictions': array([141493.33], dtype=float32)}, {'predictions': array([176225.14], dtype=float32)}, {'predictions': array([122738.3], dtype=float32)}, {'predictions': array([222199.34], dtype=float32)}, {'predictions': array([163433.77], dtype=float32)}, {'predictions': array([154376.47], dtype=float32)}, {'predictions': array([156714.28], dtype=float32)}, {'predictions': array([80375.35], dtype=float32)}, {'predictions': array([123925.42], dtype=float32)}, {'predictions': array([140136.7], dtype=float32)}, {'predictions': array([160585.39], dtype=float32)}, {'predictions': array([167257.11], dtype=float32)}, {'predictions': array([125556.07], dtype=float32)}, {'predictions': array([153022.56], dtype=float32)}, {'predictions': array([151147.08], dtype=float32)}, {'predictions': array([159251.61], dtype=float32)}, {'predictions': array([132999.88], dtype=float32)}, {'predictions': array([177612.11], dtype=float32)}, {'predictions': array([188588.94], dtype=float32)}, {'predictions': array([136481.92], dtype=float32)}, {'predictions': array([157480.64], dtype=float32)}, {'predictions': array([171297.5], dtype=float32)}, {'predictions': array([160104.73], dtype=float32)}, {'predictions': array([155103.11], dtype=float32)}, {'predictions': array([191092.62], dtype=float32)}, {'predictions': array([247672.9], dtype=float32)}, {'predictions': array([151202.22], dtype=float32)}, {'predictions': array([148953.61], dtype=float32)}, {'predictions': array([177021.89], dtype=float32)}, {'predictions': array([147329.22], dtype=float32)}, {'predictions': array([188558.14], dtype=float32)}, {'predictions': array([121139.586], dtype=float32)}, {'predictions': array([128141.22], dtype=float32)}, {'predictions': array([157441.55], dtype=float32)}, {'predictions': array([166292.03], dtype=float32)}, {'predictions': array([137624.19], dtype=float32)}, {'predictions': array([158262.08], dtype=float32)}, {'predictions': array([152014.11], dtype=float32)}, {'predictions': array([165431.23], dtype=float32)}, {'predictions': array([148846.98], dtype=float32)}, {'predictions': array([177645.69], dtype=float32)}, {'predictions': array([148185.38], dtype=float32)}, {'predictions': array([187787.12], dtype=float32)}, {'predictions': array([157936.34], dtype=float32)}, {'predictions': array([189529.36], dtype=float32)}, {'predictions': array([138240.06], dtype=float32)}, {'predictions': array([150296.48], dtype=float32)}, {'predictions': array([143417.52], dtype=float32)}, {'predictions': array([171086.56], dtype=float32)}, {'predictions': array([131490.1], dtype=float32)}, {'predictions': array([133690.94], dtype=float32)}, {'predictions': array([132930.], dtype=float32)}, {'predictions': array([117120.22], dtype=float32)}, {'predictions': array([158914.83], dtype=float32)}, {'predictions': array([145121.28], dtype=float32)}, {'predictions': array([149007.28], dtype=float32)}, {'predictions': array([126945.03], dtype=float32)}, {'predictions': array([143504.61], dtype=float32)}, {'predictions': array([132681.28], dtype=float32)}, {'predictions': array([160575.8], dtype=float32)}, {'predictions': array([147102.05], dtype=float32)}, {'predictions': array([164304.92], dtype=float32)}, {'predictions': array([158596.11], dtype=float32)}, {'predictions': array([160232.28], dtype=float32)}, {'predictions': array([126928.96], dtype=float32)}, {'predictions': array([135877.12], dtype=float32)}, {'predictions': array([143291.62], dtype=float32)}, {'predictions': array([115308.73], dtype=float32)}, {'predictions': array([163410.23], dtype=float32)}, {'predictions': array([176620.08], dtype=float32)}, {'predictions': array([144538.48], dtype=float32)}, {'predictions': array([139550.69], dtype=float32)}, {'predictions': array([139939.72], dtype=float32)}, {'predictions': array([154288.56], dtype=float32)}, {'predictions': array([136247.98], dtype=float32)}, {'predictions': array([142966.67], dtype=float32)}, {'predictions': array([154151.14], dtype=float32)}, {'predictions': array([183594.47], dtype=float32)}, {'predictions': array([156177.34], dtype=float32)}, {'predictions': array([159241.77], dtype=float32)}, {'predictions': array([132494.97], dtype=float32)}, {'predictions': array([149283.12], dtype=float32)}, {'predictions': array([112140.88], dtype=float32)}, {'predictions': array([141285.05], dtype=float32)}, {'predictions': array([162541.86], dtype=float32)}, {'predictions': array([148034.45], dtype=float32)}, {'predictions': array([134754.2], dtype=float32)}, {'predictions': array([181507.62], dtype=float32)}, {'predictions': array([126944.664], dtype=float32)}, {'predictions': array([122961.28], dtype=float32)}, {'predictions': array([145494.86], dtype=float32)}, {'predictions': array([133083.25], dtype=float32)}, {'predictions': array([114374.83], dtype=float32)}, {'predictions': array([152216.14], dtype=float32)}, {'predictions': array([154094.89], dtype=float32)}, {'predictions': array([145237.53], dtype=float32)}, {'predictions': array([151316.45], dtype=float32)}, {'predictions': array([126320.766], dtype=float32)}, {'predictions': array([189116.48], dtype=float32)}, {'predictions': array([162936.22], dtype=float32)}, {'predictions': array([182209.58], dtype=float32)}, {'predictions': array([157717.14], dtype=float32)}, {'predictions': array([142807.97], dtype=float32)}, {'predictions': array([137184.23], dtype=float32)}, {'predictions': array([134190.84], dtype=float32)}, {'predictions': array([143400.06], dtype=float32)}, {'predictions': array([111710.414], dtype=float32)}, {'predictions': array([148909.67], dtype=float32)}, {'predictions': array([165938.98], dtype=float32)}, {'predictions': array([158162.78], dtype=float32)}, {'predictions': array([172770.27], dtype=float32)}, {'predictions': array([166423.75], dtype=float32)}, {'predictions': array([120499.14], dtype=float32)}, {'predictions': array([155487.58], dtype=float32)}, {'predictions': array([171813.64], dtype=float32)}, {'predictions': array([163346.67], dtype=float32)}, {'predictions': array([139208.23], dtype=float32)}, {'predictions': array([176493.42], dtype=float32)}, {'predictions': array([144085.77], dtype=float32)}, {'predictions': array([181706.45], dtype=float32)}, {'predictions': array([141312.11], dtype=float32)}, {'predictions': array([137632.8], dtype=float32)}, {'predictions': array([170617.28], dtype=float32)}, {'predictions': array([152134.45], dtype=float32)}, {'predictions': array([172440.1], dtype=float32)}, {'predictions': array([163396.], dtype=float32)}, {'predictions': array([105653.94], dtype=float32)}, {'predictions': array([184756.27], dtype=float32)}, {'predictions': array([146643.38], dtype=float32)}, {'predictions': array([168530.84], dtype=float32)}, {'predictions': array([120509.484], dtype=float32)}, {'predictions': array([147823.84], dtype=float32)}, {'predictions': array([134533.48], dtype=float32)}, {'predictions': array([144760.16], dtype=float32)}, {'predictions': array([135003.77], dtype=float32)}, {'predictions': array([147078.31], dtype=float32)}, {'predictions': array([111835.08], dtype=float32)}, {'predictions': array([174988.48], dtype=float32)}, {'predictions': array([112590.91], dtype=float32)}, {'predictions': array([129347.88], dtype=float32)}, {'predictions': array([155610.19], dtype=float32)}, {'predictions': array([167053.05], dtype=float32)}, {'predictions': array([148782.27], dtype=float32)}, {'predictions': array([115359.305], dtype=float32)}, {'predictions': array([142080.88], dtype=float32)}, {'predictions': array([122448.42], dtype=float32)}, {'predictions': array([136804.58], dtype=float32)}, {'predictions': array([167875.02], dtype=float32)}, {'predictions': array([153136.97], dtype=float32)}, {'predictions': array([164846.73], dtype=float32)}, {'predictions': array([175655.14], dtype=float32)}, {'predictions': array([118132.055], dtype=float32)}, {'predictions': array([143418.72], dtype=float32)}, {'predictions': array([134553.69], dtype=float32)}, {'predictions': array([151988.], dtype=float32)}, {'predictions': array([187759.56], dtype=float32)}, {'predictions': array([166344.86], dtype=float32)}, {'predictions': array([155525.4], dtype=float32)}, {'predictions': array([152395.05], dtype=float32)}, {'predictions': array([139534.23], dtype=float32)}, {'predictions': array([154245.47], dtype=float32)}, {'predictions': array([172134.3], dtype=float32)}, {'predictions': array([170051.95], dtype=float32)}, {'predictions': array([155406.16], dtype=float32)}, {'predictions': array([106693.07], dtype=float32)}, {'predictions': array([164195.28], dtype=float32)}, {'predictions': array([121552.875], dtype=float32)}, {'predictions': array([171622.72], dtype=float32)}, {'predictions': array([112319.49], dtype=float32)}, {'predictions': array([125147.9], dtype=float32)}, {'predictions': array([142078.3], dtype=float32)}, {'predictions': array([143811.55], dtype=float32)}, {'predictions': array([129983.79], dtype=float32)}, {'predictions': array([130939.195], dtype=float32)}, {'predictions': array([141073.42], dtype=float32)}, {'predictions': array([140858.22], dtype=float32)}, {'predictions': array([130516.195], dtype=float32)}, {'predictions': array([146502.23], dtype=float32)}, {'predictions': array([165685.36], dtype=float32)}, {'predictions': array([128608.24], dtype=float32)}, {'predictions': array([125680.09], dtype=float32)}, {'predictions': array([152738.45], dtype=float32)}, {'predictions': array([127833.07], dtype=float32)}, {'predictions': array([143343.19], dtype=float32)}, {'predictions': array([155400.42], dtype=float32)}, {'predictions': array([150686.89], dtype=float32)}, {'predictions': array([139250.08], dtype=float32)}, {'predictions': array([169711.2], dtype=float32)}, {'predictions': array([228675.53], dtype=float32)}, {'predictions': array([151916.64], dtype=float32)}, {'predictions': array([155413.95], dtype=float32)}, {'predictions': array([150537.98], dtype=float32)}, {'predictions': array([159244.55], dtype=float32)}, {'predictions': array([131734.06], dtype=float32)}, {'predictions': array([142731.9], dtype=float32)}, {'predictions': array([151535.34], dtype=float32)}, {'predictions': array([153764.12], dtype=float32)}, {'predictions': array([146490.64], dtype=float32)}, {'predictions': array([168967.83], dtype=float32)}, {'predictions': array([135924.14], dtype=float32)}, {'predictions': array([163126.2], dtype=float32)}, {'predictions': array([146840.14], dtype=float32)}, {'predictions': array([167409.06], dtype=float32)}, {'predictions': array([167648.86], dtype=float32)}, {'predictions': array([148936.05], dtype=float32)}, {'predictions': array([177297.89], dtype=float32)}, {'predictions': array([137159.94], dtype=float32)}, {'predictions': array([111774.54], dtype=float32)}, {'predictions': array([141905.16], dtype=float32)}, {'predictions': array([136282.66], dtype=float32)}, {'predictions': array([146764.45], dtype=float32)}, {'predictions': array([143799.28], dtype=float32)}, {'predictions': array([125804.57], dtype=float32)}, {'predictions': array([170599.45], dtype=float32)}, {'predictions': array([134610.47], dtype=float32)}, {'predictions': array([144372.38], dtype=float32)}, {'predictions': array([146817.61], dtype=float32)}, {'predictions': array([162357.53], dtype=float32)}, {'predictions': array([146728.23], dtype=float32)}, {'predictions': array([179878.31], dtype=float32)}, {'predictions': array([121305.4], dtype=float32)}, {'predictions': array([180711.53], dtype=float32)}, {'predictions': array([101406.055], dtype=float32)}, {'predictions': array([105521.24], dtype=float32)}, {'predictions': array([128467.445], dtype=float32)}, {'predictions': array([161698.14], dtype=float32)}, {'predictions': array([131038.484], dtype=float32)}, {'predictions': array([150332.34], dtype=float32)}, {'predictions': array([143874.44], dtype=float32)}, {'predictions': array([142169.38], dtype=float32)}, {'predictions': array([156556.], dtype=float32)}, {'predictions': array([145850.2], dtype=float32)}, {'predictions': array([155987.14], dtype=float32)}, {'predictions': array([159448.08], dtype=float32)}, {'predictions': array([163352.64], dtype=float32)}, {'predictions': array([149365.17], dtype=float32)}, {'predictions': array([197565.66], dtype=float32)}, {'predictions': array([142161.11], dtype=float32)}, {'predictions': array([146660.48], dtype=float32)}, {'predictions': array([148967.03], dtype=float32)}, {'predictions': array([128352.305], dtype=float32)}, {'predictions': array([152063.61], dtype=float32)}, {'predictions': array([164803.5], dtype=float32)}, {'predictions': array([157237.22], dtype=float32)}, {'predictions': array([170822.77], dtype=float32)}, {'predictions': array([196497.62], dtype=float32)}, {'predictions': array([167019.92], dtype=float32)}, {'predictions': array([181082.94], dtype=float32)}, {'predictions': array([143366.83], dtype=float32)}, {'predictions': array([154143.14], dtype=float32)}, {'predictions': array([166875.12], dtype=float32)}, {'predictions': array([121710.75], dtype=float32)}, {'predictions': array([173619.7], dtype=float32)}, {'predictions': array([222063.16], dtype=float32)}, {'predictions': array([132827.8], dtype=float32)}, {'predictions': array([174799.8], dtype=float32)}, {'predictions': array([194683.1], dtype=float32)}, {'predictions': array([178359.05], dtype=float32)}, {'predictions': array([159307.55], dtype=float32)}, {'predictions': array([156596.17], dtype=float32)}, {'predictions': array([145080.6], dtype=float32)}, {'predictions': array([163897.97], dtype=float32)}, {'predictions': array([144473.42], dtype=float32)}, {'predictions': array([154010.97], dtype=float32)}, {'predictions': array([161420.42], dtype=float32)}, {'predictions': array([137370.56], dtype=float32)}, {'predictions': array([235663.17], dtype=float32)}, {'predictions': array([140132.22], dtype=float32)}, {'predictions': array([136469.9], dtype=float32)}, {'predictions': array([132803.56], dtype=float32)}, {'predictions': array([162281.38], dtype=float32)}, {'predictions': array([148380.97], dtype=float32)}, {'predictions': array([166852.23], dtype=float32)}, {'predictions': array([146317.48], dtype=float32)}, {'predictions': array([165306.88], dtype=float32)}, {'predictions': array([157030.72], dtype=float32)}, {'predictions': array([145013.03], dtype=float32)}, {'predictions': array([133401.06], dtype=float32)}, {'predictions': array([155424.36], dtype=float32)}, {'predictions': array([174394.61], dtype=float32)}, {'predictions': array([165181.47], dtype=float32)}, {'predictions': array([176640.81], dtype=float32)}, {'predictions': array([160018.19], dtype=float32)}, {'predictions': array([127038.57], dtype=float32)}, {'predictions': array([139458.11], dtype=float32)}, {'predictions': array([137080.28], dtype=float32)}, {'predictions': array([160189.4], dtype=float32)}, {'predictions': array([189670.11], dtype=float32)}, {'predictions': array([168952.17], dtype=float32)}, {'predictions': array([128145.7], dtype=float32)}, {'predictions': array([147920.86], dtype=float32)}, {'predictions': array([148077.33], dtype=float32)}, {'predictions': array([138585.5], dtype=float32)}, {'predictions': array([143580.97], dtype=float32)}, {'predictions': array([178746.1], dtype=float32)}, {'predictions': array([141750.25], dtype=float32)}, {'predictions': array([138233.78], dtype=float32)}, {'predictions': array([149801.62], dtype=float32)}, {'predictions': array([247172.1], dtype=float32)}, {'predictions': array([132401.36], dtype=float32)}, {'predictions': array([128944.086], dtype=float32)}, {'predictions': array([140155.06], dtype=float32)}, {'predictions': array([160405.14], dtype=float32)}, {'predictions': array([155554.47], dtype=float32)}, {'predictions': array([160200.27], dtype=float32)}, {'predictions': array([131506.52], dtype=float32)}, {'predictions': array([152964.72], dtype=float32)}, {'predictions': array([167076.75], dtype=float32)}, {'predictions': array([136029.84], dtype=float32)}, {'predictions': array([178616.08], dtype=float32)}, {'predictions': array([120184.82], dtype=float32)}, {'predictions': array([149552.05], dtype=float32)}, {'predictions': array([155213.62], dtype=float32)}, {'predictions': array([156179.94], dtype=float32)}, {'predictions': array([159760.86], dtype=float32)}, {'predictions': array([135888.], dtype=float32)}, {'predictions': array([124021.27], dtype=float32)}, {'predictions': array([111611.22], dtype=float32)}, {'predictions': array([161243.92], dtype=float32)}, {'predictions': array([147071.64], dtype=float32)}, {'predictions': array([160931.98], dtype=float32)}, {'predictions': array([188011.23], dtype=float32)}, {'predictions': array([149324.53], dtype=float32)}, {'predictions': array([157944.27], dtype=float32)}, {'predictions': array([155329.31], dtype=float32)}, {'predictions': array([160231.44], dtype=float32)}, {'predictions': array([105338.055], dtype=float32)}, {'predictions': array([165840.94], dtype=float32)}, {'predictions': array([155819.14], dtype=float32)}, {'predictions': array([141797.38], dtype=float32)}, {'predictions': array([157013.95], dtype=float32)}, {'predictions': array([179710.67], dtype=float32)}, {'predictions': array([141712.25], dtype=float32)}, {'predictions': array([151503.5], dtype=float32)}, {'predictions': array([115685.63], dtype=float32)}, {'predictions': array([135286.58], dtype=float32)}, {'predictions': array([120040.58], dtype=float32)}, {'predictions': array([149256.2], dtype=float32)}, {'predictions': array([137907.23], dtype=float32)}, {'predictions': array([151198.58], dtype=float32)}, {'predictions': array([160231.8], dtype=float32)}, {'predictions': array([130882.664], dtype=float32)}, {'predictions': array([135676.98], dtype=float32)}, {'predictions': array([151669.53], dtype=float32)}, {'predictions': array([141318.8], dtype=float32)}, {'predictions': array([161146.1], dtype=float32)}, {'predictions': array([164980.75], dtype=float32)}, {'predictions': array([152628.39], dtype=float32)}, {'predictions': array([159933.98], dtype=float32)}, {'predictions': array([115722.984], dtype=float32)}, {'predictions': array([147122.75], dtype=float32)}, {'predictions': array([122402.6], dtype=float32)}, {'predictions': array([155766.69], dtype=float32)}, {'predictions': array([139706.58], dtype=float32)}, {'predictions': array([120921.1], dtype=float32)}, {'predictions': array([119508.734], dtype=float32)}, {'predictions': array([153719.4], dtype=float32)}, {'predictions': array([173700.05], dtype=float32)}, {'predictions': array([148841.47], dtype=float32)}, {'predictions': array([143391.48], dtype=float32)}, {'predictions': array([138259.34], dtype=float32)}, {'predictions': array([143522.66], dtype=float32)}, {'predictions': array([161002.27], dtype=float32)}, {'predictions': array([142430.39], dtype=float32)}, {'predictions': array([157393.58], dtype=float32)}, {'predictions': array([167973.3], dtype=float32)}, {'predictions': array([157741.98], dtype=float32)}, {'predictions': array([123564.92], dtype=float32)}, {'predictions': array([112414.92], dtype=float32)}, {'predictions': array([130658.43], dtype=float32)}, {'predictions': array([137021.27], dtype=float32)}, {'predictions': array([158590.28], dtype=float32)}, {'predictions': array([156785.67], dtype=float32)}, {'predictions': array([169886.19], dtype=float32)}, {'predictions': array([162561.86], dtype=float32)}, {'predictions': array([147605.83], dtype=float32)}, {'predictions': array([175466.17], dtype=float32)}, {'predictions': array([138061.33], dtype=float32)}, {'predictions': array([165004.83], dtype=float32)}, {'predictions': array([176675.69], dtype=float32)}, {'predictions': array([120492.53], dtype=float32)}, {'predictions': array([184448.56], dtype=float32)}, {'predictions': array([160171.52], dtype=float32)}, {'predictions': array([174286.45], dtype=float32)}, {'predictions': array([133632.27], dtype=float32)}, {'predictions': array([140687.03], dtype=float32)}, {'predictions': array([146356.2], dtype=float32)}, {'predictions': array([145795.98], dtype=float32)}, {'predictions': array([155746.56], dtype=float32)}, {'predictions': array([224510.94], dtype=float32)}, {'predictions': array([163918.72], dtype=float32)}, {'predictions': array([161295.14], dtype=float32)}, {'predictions': array([142004.58], dtype=float32)}, {'predictions': array([138622.47], dtype=float32)}, {'predictions': array([152453.48], dtype=float32)}, {'predictions': array([159619.94], dtype=float32)}, {'predictions': array([123712.484], dtype=float32)}, {'predictions': array([135680.67], dtype=float32)}, {'predictions': array([163937.73], dtype=float32)}, {'predictions': array([161690.92], dtype=float32)}, {'predictions': array([155251.33], dtype=float32)}, {'predictions': array([123130.66], dtype=float32)}, {'predictions': array([171437.66], dtype=float32)}, {'predictions': array([121915.195], dtype=float32)}, {'predictions': array([151578.61], dtype=float32)}, {'predictions': array([139410.77], dtype=float32)}, {'predictions': array([146501.55], dtype=float32)}, {'predictions': array([153868.12], dtype=float32)}, {'predictions': array([140098.28], dtype=float32)}, {'predictions': array([190512.34], dtype=float32)}, {'predictions': array([186927.83], dtype=float32)}, {'predictions': array([158574.69], dtype=float32)}, {'predictions': array([107658.64], dtype=float32)}, {'predictions': array([169859.98], dtype=float32)}, {'predictions': array([143493.42], dtype=float32)}, {'predictions': array([150298.88], dtype=float32)}, {'predictions': array([174306.28], dtype=float32)}, {'predictions': array([171062.16], dtype=float32)}, {'predictions': array([136291.27], dtype=float32)}, {'predictions': array([135025.45], dtype=float32)}, {'predictions': array([154938.84], dtype=float32)}, {'predictions': array([152422.22], dtype=float32)}, {'predictions': array([147314.1], dtype=float32)}, {'predictions': array([163931.83], dtype=float32)}, {'predictions': array([148870.03], dtype=float32)}, {'predictions': array([143404.02], dtype=float32)}, {'predictions': array([142262.62], dtype=float32)}, {'predictions': array([154550.77], dtype=float32)}, {'predictions': array([147792.92], dtype=float32)}, {'predictions': array([105713.26], dtype=float32)}, {'predictions': array([146827.6], dtype=float32)}, {'predictions': array([127018.79], dtype=float32)}, {'predictions': array([106261.83], dtype=float32)}, {'predictions': array([128128.945], dtype=float32)}, {'predictions': array([146826.9], dtype=float32)}, {'predictions': array([128239.914], dtype=float32)}, {'predictions': array([182092.23], dtype=float32)}, {'predictions': array([169968.55], dtype=float32)}, {'predictions': array([161536.02], dtype=float32)}, {'predictions': array([124130.984], dtype=float32)}, {'predictions': array([114596.25], dtype=float32)}, {'predictions': array([147957.62], dtype=float32)}, {'predictions': array([130311.195], dtype=float32)}, {'predictions': array([112564.914], dtype=float32)}, {'predictions': array([147570.12], dtype=float32)}, {'predictions': array([125730.19], dtype=float32)}, {'predictions': array([158425.25], dtype=float32)}, {'predictions': array([139696.67], dtype=float32)}, {'predictions': array([174206.72], dtype=float32)}, {'predictions': array([133217.83], dtype=float32)}, {'predictions': array([153372.33], dtype=float32)}, {'predictions': array([147641.72], dtype=float32)}, {'predictions': array([115568.56], dtype=float32)}, {'predictions': array([156874.2], dtype=float32)}, {'predictions': array([118532.555], dtype=float32)}, {'predictions': array([155845.02], dtype=float32)}, {'predictions': array([138836.27], dtype=float32)}, {'predictions': array([123084.26], dtype=float32)}, {'predictions': array([174264.97], dtype=float32)}, {'predictions': array([181128.33], dtype=float32)}, {'predictions': array([144278.5], dtype=float32)}, {'predictions': array([150302.67], dtype=float32)}, {'predictions': array([190043.02], dtype=float32)}, {'predictions': array([172990.72], dtype=float32)}, {'predictions': array([137501.44], dtype=float32)}, {'predictions': array([153146.8], dtype=float32)}, {'predictions': array([183892.27], dtype=float32)}, {'predictions': array([146514.02], dtype=float32)}, {'predictions': array([153461.67], dtype=float32)}, {'predictions': array([156760.19], dtype=float32)}, {'predictions': array([115560.875], dtype=float32)}, {'predictions': array([121055.93], dtype=float32)}, {'predictions': array([138987.2], dtype=float32)}, {'predictions': array([155643.44], dtype=float32)}, {'predictions': array([164681.1], dtype=float32)}, {'predictions': array([150483.69], dtype=float32)}, {'predictions': array([119547.305], dtype=float32)}, {'predictions': array([168879.31], dtype=float32)}, {'predictions': array([121790.77], dtype=float32)}, {'predictions': array([128042.54], dtype=float32)}, {'predictions': array([139946.44], dtype=float32)}, {'predictions': array([110837.29], dtype=float32)}, {'predictions': array([203994.14], dtype=float32)}, {'predictions': array([161331.81], dtype=float32)}, {'predictions': array([152973.86], dtype=float32)}, {'predictions': array([134606.44], dtype=float32)}, {'predictions': array([152979.7], dtype=float32)}, {'predictions': array([170935.12], dtype=float32)}, {'predictions': array([172152.66], dtype=float32)}, {'predictions': array([193730.03], dtype=float32)}, {'predictions': array([139185.31], dtype=float32)}, {'predictions': array([134236.58], dtype=float32)}, {'predictions': array([128128.41], dtype=float32)}, {'predictions': array([149059.3], dtype=float32)}, {'predictions': array([159537.05], dtype=float32)}, {'predictions': array([126932.14], dtype=float32)}, {'predictions': array([129241.875], dtype=float32)}, {'predictions': array([107708.875], dtype=float32)}, {'predictions': array([141759.39], dtype=float32)}, {'predictions': array([168454.52], dtype=float32)}, {'predictions': array([162623.69], dtype=float32)}, {'predictions': array([133159.88], dtype=float32)}, {'predictions': array([119121.47], dtype=float32)}, {'predictions': array([147863.42], dtype=float32)}, {'predictions': array([116320.74], dtype=float32)}, {'predictions': array([152297.61], dtype=float32)}, {'predictions': array([131767.92], dtype=float32)}, {'predictions': array([158442.48], dtype=float32)}, {'predictions': array([138854.88], dtype=float32)}, {'predictions': array([171784.34], dtype=float32)}, {'predictions': array([121490.99], dtype=float32)}, {'predictions': array([130642.14], dtype=float32)}, {'predictions': array([190220.56], dtype=float32)}, {'predictions': array([125369.94], dtype=float32)}, {'predictions': array([148040.78], dtype=float32)}, {'predictions': array([147926.6], dtype=float32)}, {'predictions': array([172297.48], dtype=float32)}, {'predictions': array([132963.44], dtype=float32)}, {'predictions': array([147454.64], dtype=float32)}, {'predictions': array([143668.89], dtype=float32)}, {'predictions': array([164363.77], dtype=float32)}, {'predictions': array([121278.72], dtype=float32)}, {'predictions': array([168724.44], dtype=float32)}, {'predictions': array([166082.19], dtype=float32)}, {'predictions': array([147043.83], dtype=float32)}, {'predictions': array([125665.086], dtype=float32)}, {'predictions': array([133316.7], dtype=float32)}, {'predictions': array([151670.36], dtype=float32)}, {'predictions': array([121733.53], dtype=float32)}, {'predictions': array([162938.44], dtype=float32)}, {'predictions': array([193157.45], dtype=float32)}, {'predictions': array([162007.22], dtype=float32)}, {'predictions': array([140247.6], dtype=float32)}, {'predictions': array([145672.94], dtype=float32)}, {'predictions': array([105739.79], dtype=float32)}, {'predictions': array([115472.266], dtype=float32)}, {'predictions': array([176720.89], dtype=float32)}, {'predictions': array([130966.83], dtype=float32)}, {'predictions': array([256676.7], dtype=float32)}, {'predictions': array([143297.03], dtype=float32)}, {'predictions': array([129836.28], dtype=float32)}, {'predictions': array([155787.66], dtype=float32)}, {'predictions': array([138259.42], dtype=float32)}, {'predictions': array([166719.12], dtype=float32)}, {'predictions': array([139454.83], dtype=float32)}, {'predictions': array([133557.19], dtype=float32)}, {'predictions': array([142797.8], dtype=float32)}, {'predictions': array([154329.8], dtype=float32)}, {'predictions': array([154980.73], dtype=float32)}, {'predictions': array([168067.08], dtype=float32)}, {'predictions': array([162811.19], dtype=float32)}, {'predictions': array([131356.02], dtype=float32)}, {'predictions': array([156470.66], dtype=float32)}, {'predictions': array([122895.914], dtype=float32)}, {'predictions': array([224105.78], dtype=float32)}, {'predictions': array([153332.36], dtype=float32)}, {'predictions': array([154195.67], dtype=float32)}, {'predictions': array([151868.61], dtype=float32)}, {'predictions': array([141294.44], dtype=float32)}, {'predictions': array([146943.66], dtype=float32)}, {'predictions': array([128938.85], dtype=float32)}, {'predictions': array([117577.4], dtype=float32)}, {'predictions': array([144649.94], dtype=float32)}, {'predictions': array([169114.97], dtype=float32)}, {'predictions': array([179250.23], dtype=float32)}, {'predictions': array([149086.56], dtype=float32)}, {'predictions': array([140379.45], dtype=float32)}, {'predictions': array([135342.5], dtype=float32)}, {'predictions': array([121417.02], dtype=float32)}, {'predictions': array([141277.12], dtype=float32)}, {'predictions': array([151618.53], dtype=float32)}, {'predictions': array([114315.8], dtype=float32)}, {'predictions': array([152989.05], dtype=float32)}, {'predictions': array([155017.84], dtype=float32)}, {'predictions': array([149586.36], dtype=float32)}, {'predictions': array([161883.83], dtype=float32)}, {'predictions': array([159727.31], dtype=float32)}, {'predictions': array([168734.03], dtype=float32)}, {'predictions': array([143016.], dtype=float32)}, {'predictions': array([118801.02], dtype=float32)}, {'predictions': array([148781.62], dtype=float32)}, {'predictions': array([154667.05], dtype=float32)}, {'predictions': array([153649.73], dtype=float32)}, {'predictions': array([156009.66], dtype=float32)}, {'predictions': array([145157.94], dtype=float32)}, {'predictions': array([147934.47], dtype=float32)}, {'predictions': array([125811.94], dtype=float32)}, {'predictions': array([131298.81], dtype=float32)}, {'predictions': array([121625.81], dtype=float32)}, {'predictions': array([119105.484], dtype=float32)}, {'predictions': array([157897.97], dtype=float32)}, {'predictions': array([147632.02], dtype=float32)}, {'predictions': array([153857.69], dtype=float32)}, {'predictions': array([125689.83], dtype=float32)}, {'predictions': array([133405.28], dtype=float32)}, {'predictions': array([131615.36], dtype=float32)}, {'predictions': array([135710.4], dtype=float32)}, {'predictions': array([160823.6], dtype=float32)}, {'predictions': array([159465.78], dtype=float32)}, {'predictions': array([168021.8], dtype=float32)}, {'predictions': array([182244.61], dtype=float32)}, {'predictions': array([156928.3], dtype=float32)}, {'predictions': array([125448.37], dtype=float32)}, {'predictions': array([147423.5], dtype=float32)}, {'predictions': array([189830.23], dtype=float32)}, {'predictions': array([151811.1], dtype=float32)}, {'predictions': array([149377.89], dtype=float32)}, {'predictions': array([158537.88], dtype=float32)}, {'predictions': array([140703.39], dtype=float32)}, {'predictions': array([232498.89], dtype=float32)}, {'predictions': array([194356.75], dtype=float32)}, {'predictions': array([165045.47], dtype=float32)}, {'predictions': array([110758.14], dtype=float32)}, {'predictions': array([155871.97], dtype=float32)}, {'predictions': array([150421.44], dtype=float32)}, {'predictions': array([139619.34], dtype=float32)}, {'predictions': array([144197.89], dtype=float32)}, {'predictions': array([120971.59], dtype=float32)}, {'predictions': array([120125.85], dtype=float32)}, {'predictions': array([177212.1], dtype=float32)}, {'predictions': array([138253.58], dtype=float32)}, {'predictions': array([153556.38], dtype=float32)}, {'predictions': array([142846.44], dtype=float32)}, {'predictions': array([155348.28], dtype=float32)}, {'predictions': array([158775.17], dtype=float32)}, {'predictions': array([153417.2], dtype=float32)}, {'predictions': array([164661.22], dtype=float32)}, {'predictions': array([140246.84], dtype=float32)}, {'predictions': array([153636.33], dtype=float32)}, {'predictions': array([153542.61], dtype=float32)}, {'predictions': array([159440.61], dtype=float32)}, {'predictions': array([160985.72], dtype=float32)}, {'predictions': array([149490.36], dtype=float32)}, {'predictions': array([100804.125], dtype=float32)}, {'predictions': array([183657.78], dtype=float32)}, {'predictions': array([221438.92], dtype=float32)}, {'predictions': array([176261.98], dtype=float32)}, {'predictions': array([149578.98], dtype=float32)}, {'predictions': array([151223.97], dtype=float32)}, {'predictions': array([151671.75], dtype=float32)}, {'predictions': array([139560.1], dtype=float32)}, {'predictions': array([127321.484], dtype=float32)}, {'predictions': array([160258.34], dtype=float32)}, {'predictions': array([160343.36], dtype=float32)}, {'predictions': array([133788.94], dtype=float32)}, {'predictions': array([164165.2], dtype=float32)}, {'predictions': array([172754.83], dtype=float32)}, {'predictions': array([120859.41], dtype=float32)}, {'predictions': array([135395.69], dtype=float32)}, {'predictions': array([158667.81], dtype=float32)}, {'predictions': array([157549.08], dtype=float32)}, {'predictions': array([132677.58], dtype=float32)}, {'predictions': array([145550.95], dtype=float32)}, {'predictions': array([158273.52], dtype=float32)}, {'predictions': array([151937.69], dtype=float32)}, {'predictions': array([186207.69], dtype=float32)}, {'predictions': array([143405.31], dtype=float32)}, {'predictions': array([183878.8], dtype=float32)}, {'predictions': array([170840.89], dtype=float32)}, {'predictions': array([125141.53], dtype=float32)}, {'predictions': array([178116.55], dtype=float32)}, {'predictions': array([120315.19], dtype=float32)}, {'predictions': array([148853.7], dtype=float32)}, {'predictions': array([135589.86], dtype=float32)}, {'predictions': array([144926.03], dtype=float32)}, {'predictions': array([141618.5], dtype=float32)}, {'predictions': array([118777.82], dtype=float32)}, {'predictions': array([133431.22], dtype=float32)}, {'predictions': array([181476.03], dtype=float32)}, {'predictions': array([155666.7], dtype=float32)}, {'predictions': array([171802.45], dtype=float32)}, {'predictions': array([166462.61], dtype=float32)}, {'predictions': array([137061.62], dtype=float32)}, {'predictions': array([141824.77], dtype=float32)}, {'predictions': array([145761.67], dtype=float32)}, {'predictions': array([145801.], dtype=float32)}, {'predictions': array([143445.61], dtype=float32)}, {'predictions': array([135227.12], dtype=float32)}, {'predictions': array([132588.92], dtype=float32)}, {'predictions': array([135230.55], dtype=float32)}, {'predictions': array([145051.03], dtype=float32)}, {'predictions': array([157423.33], dtype=float32)}, {'predictions': array([154749.72], dtype=float32)}, {'predictions': array([121708.6], dtype=float32)}, {'predictions': array([152032.55], dtype=float32)}, {'predictions': array([128604.37], dtype=float32)}, {'predictions': array([174906.77], dtype=float32)}, {'predictions': array([164478.45], dtype=float32)}, {'predictions': array([158124.5], dtype=float32)}, {'predictions': array([155757.17], dtype=float32)}, {'predictions': array([131328.61], dtype=float32)}, {'predictions': array([127319.97], dtype=float32)}, {'predictions': array([167333.6], dtype=float32)}, {'predictions': array([154446.1], dtype=float32)}, {'predictions': array([97321.62], dtype=float32)}, {'predictions': array([178508.7], dtype=float32)}, {'predictions': array([178891.12], dtype=float32)}, {'predictions': array([116795.14], dtype=float32)}, {'predictions': array([131194.8], dtype=float32)}, {'predictions': array([142946.98], dtype=float32)}, {'predictions': array([180033.05], dtype=float32)}, {'predictions': array([135845.28], dtype=float32)}, {'predictions': array([119026.28], dtype=float32)}, {'predictions': array([165510.4], dtype=float32)}, {'predictions': array([149129.06], dtype=float32)}, {'predictions': array([153954.08], dtype=float32)}, {'predictions': array([155562.34], dtype=float32)}, {'predictions': array([155980.6], dtype=float32)}, {'predictions': array([160525.88], dtype=float32)}, {'predictions': array([148311.7], dtype=float32)}, {'predictions': array([165152.53], dtype=float32)}, {'predictions': array([137951.83], dtype=float32)}, {'predictions': array([160604.34], dtype=float32)}, {'predictions': array([116510.43], dtype=float32)}, {'predictions': array([156502.73], dtype=float32)}, {'predictions': array([149853.62], dtype=float32)}, {'predictions': array([120870.52], dtype=float32)}, {'predictions': array([131368.88], dtype=float32)}, {'predictions': array([151454.31], dtype=float32)}, {'predictions': array([127892.805], dtype=float32)}, {'predictions': array([154047.39], dtype=float32)}, {'predictions': array([127216.61], dtype=float32)}, {'predictions': array([129475.47], dtype=float32)}, {'predictions': array([149734.06], dtype=float32)}, {'predictions': array([147212.45], dtype=float32)}, {'predictions': array([140020.72], dtype=float32)}, {'predictions': array([179762.92], dtype=float32)}, {'predictions': array([136427.58], dtype=float32)}, {'predictions': array([151393.75], dtype=float32)}, {'predictions': array([162745.17], dtype=float32)}, {'predictions': array([169513.55], dtype=float32)}, {'predictions': array([147278.66], dtype=float32)}, {'predictions': array([133026.22], dtype=float32)}, {'predictions': array([178101.66], dtype=float32)}, {'predictions': array([127975.65], dtype=float32)}, {'predictions': array([148264.42], dtype=float32)}, {'predictions': array([160576.8], dtype=float32)}, {'predictions': array([125052.01], dtype=float32)}, {'predictions': array([158707.52], dtype=float32)}, {'predictions': array([160901.83], dtype=float32)}, {'predictions': array([145515.12], dtype=float32)}, {'predictions': array([153753.75], dtype=float32)}, {'predictions': array([151715.52], dtype=float32)}, {'predictions': array([158151.08], dtype=float32)}, {'predictions': array([137030.98], dtype=float32)}, {'predictions': array([135712.66], dtype=float32)}, {'predictions': array([155783.69], dtype=float32)}, {'predictions': array([121079.25], dtype=float32)}, {'predictions': array([140436.17], dtype=float32)}, {'predictions': array([151719.61], dtype=float32)}, {'predictions': array([141142.73], dtype=float32)}, {'predictions': array([145080.06], dtype=float32)}, {'predictions': array([128662.57], dtype=float32)}, {'predictions': array([139285.16], dtype=float32)}, {'predictions': array([167325.56], dtype=float32)}, {'predictions': array([141920.42], dtype=float32)}, {'predictions': array([132431.69], dtype=float32)}, {'predictions': array([158824.], dtype=float32)}, {'predictions': array([145605.55], dtype=float32)}, {'predictions': array([141295.52], dtype=float32)}, {'predictions': array([154882.02], dtype=float32)}, {'predictions': array([154294.03], dtype=float32)}, {'predictions': array([203814.83], dtype=float32)}, {'predictions': array([147696.98], dtype=float32)}, {'predictions': array([123472.93], dtype=float32)}, {'predictions': array([144860.5], dtype=float32)}, {'predictions': array([168307.16], dtype=float32)}, {'predictions': array([169005.5], dtype=float32)}, {'predictions': array([164598.47], dtype=float32)}, {'predictions': array([147299.81], dtype=float32)}, {'predictions': array([133530.69], dtype=float32)}, {'predictions': array([160515.47], dtype=float32)}, {'predictions': array([152816.03], dtype=float32)}, {'predictions': array([144451.11], dtype=float32)}, {'predictions': array([138656.56], dtype=float32)}, {'predictions': array([151609.3], dtype=float32)}, {'predictions': array([130900.734], dtype=float32)}, {'predictions': array([157274.39], dtype=float32)}, {'predictions': array([162192.08], dtype=float32)}, {'predictions': array([173513.44], dtype=float32)}, {'predictions': array([159594.23], dtype=float32)}, {'predictions': array([136753.78], dtype=float32)}, {'predictions': array([123973.664], dtype=float32)}, {'predictions': array([183536.62], dtype=float32)}, {'predictions': array([157483.95], dtype=float32)}, {'predictions': array([161730.42], dtype=float32)}, {'predictions': array([146989.75], dtype=float32)}, {'predictions': array([134190.33], dtype=float32)}, {'predictions': array([129095.98], dtype=float32)}, {'predictions': array([144038.81], dtype=float32)}, {'predictions': array([132761.47], dtype=float32)}, {'predictions': array([152052.83], dtype=float32)}, {'predictions': array([129515.516], dtype=float32)}, {'predictions': array([139290.33], dtype=float32)}, {'predictions': array([131719.94], dtype=float32)}, {'predictions': array([147946.58], dtype=float32)}, {'predictions': array([116530.8], dtype=float32)}, {'predictions': array([153312.83], dtype=float32)}, {'predictions': array([144998.44], dtype=float32)}, {'predictions': array([162324.84], dtype=float32)}, {'predictions': array([129695.63], dtype=float32)}, {'predictions': array([190407.52], dtype=float32)}, {'predictions': array([152171.61], dtype=float32)}, {'predictions': array([194533.92], dtype=float32)}, {'predictions': array([155406.86], dtype=float32)}, {'predictions': array([155339.31], dtype=float32)}, {'predictions': array([125816.14], dtype=float32)}, {'predictions': array([138047.67], dtype=float32)}, {'predictions': array([153087.12], dtype=float32)}, {'predictions': array([139223.1], dtype=float32)}, {'predictions': array([150942.34], dtype=float32)}, {'predictions': array([151721.27], dtype=float32)}, {'predictions': array([141236.17], dtype=float32)}, {'predictions': array([131382.92], dtype=float32)}, {'predictions': array([132948.47], dtype=float32)}, {'predictions': array([157336.4], dtype=float32)}, {'predictions': array([154660.7], dtype=float32)}, {'predictions': array([176958.7], dtype=float32)}, {'predictions': array([169228.06], dtype=float32)}, {'predictions': array([157200.75], dtype=float32)}, {'predictions': array([160653.94], dtype=float32)}, {'predictions': array([151956.77], dtype=float32)}, {'predictions': array([158373.73], dtype=float32)}, {'predictions': array([161111.67], dtype=float32)}, {'predictions': array([166798.8], dtype=float32)}, {'predictions': array([193476.33], dtype=float32)}, {'predictions': array([154588.14], dtype=float32)}, {'predictions': array([169237.97], dtype=float32)}, {'predictions': array([151534.86], dtype=float32)}, {'predictions': array([132570.77], dtype=float32)}, {'predictions': array([177243.4], dtype=float32)}, {'predictions': array([139907.1], dtype=float32)}, {'predictions': array([158114.52], dtype=float32)}, {'predictions': array([123878.6], dtype=float32)}, {'predictions': array([134025.55], dtype=float32)}, {'predictions': array([152702.05], dtype=float32)}, {'predictions': array([141560.47], dtype=float32)}, {'predictions': array([136773.9], dtype=float32)}, {'predictions': array([142442.8], dtype=float32)}, {'predictions': array([162116.38], dtype=float32)}, {'predictions': array([126457.33], dtype=float32)}, {'predictions': array([115206.37], dtype=float32)}, {'predictions': array([127039.164], dtype=float32)}, {'predictions': array([149840.17], dtype=float32)}, {'predictions': array([178826.86], dtype=float32)}, {'predictions': array([165204.89], dtype=float32)}, {'predictions': array([155102.45], dtype=float32)}, {'predictions': array([150607.83], dtype=float32)}, {'predictions': array([153808.23], dtype=float32)}, {'predictions': array([153088.7], dtype=float32)}, {'predictions': array([153753.03], dtype=float32)}, {'predictions': array([134010.84], dtype=float32)}, {'predictions': array([156534.92], dtype=float32)}, {'predictions': array([142794.05], dtype=float32)}, {'predictions': array([151252.6], dtype=float32)}, {'predictions': array([160245.66], dtype=float32)}, {'predictions': array([143100.08], dtype=float32)}, {'predictions': array([117607.055], dtype=float32)}, {'predictions': array([162001.77], dtype=float32)}, {'predictions': array([175711.92], dtype=float32)}, {'predictions': array([159279.34], dtype=float32)}, {'predictions': array([142655.38], dtype=float32)}, {'predictions': array([157572.81], dtype=float32)}, {'predictions': array([135174.58], dtype=float32)}, {'predictions': array([132097.25], dtype=float32)}, {'predictions': array([125706.31], dtype=float32)}, {'predictions': array([118300.16], dtype=float32)}, {'predictions': array([127546.05], dtype=float32)}, {'predictions': array([147380.44], dtype=float32)}, {'predictions': array([129376.54], dtype=float32)}, {'predictions': array([142285.11], dtype=float32)}, {'predictions': array([112733.05], dtype=float32)}, {'predictions': array([136538.67], dtype=float32)}, {'predictions': array([131039.81], dtype=float32)}, {'predictions': array([136370.66], dtype=float32)}, {'predictions': array([142481.98], dtype=float32)}, {'predictions': array([156241.44], dtype=float32)}, {'predictions': array([164347.3], dtype=float32)}, {'predictions': array([113082.38], dtype=float32)}, {'predictions': array([167739.6], dtype=float32)}, {'predictions': array([124571.84], dtype=float32)}, {'predictions': array([115035.47], dtype=float32)}, {'predictions': array([134594.08], dtype=float32)}, {'predictions': array([147909.12], dtype=float32)}, {'predictions': array([110629.79], dtype=float32)}, {'predictions': array([129250.53], dtype=float32)}, {'predictions': array([136557.25], dtype=float32)}, {'predictions': array([145960.62], dtype=float32)}, {'predictions': array([115250.84], dtype=float32)}, {'predictions': array([177841.6], dtype=float32)}, {'predictions': array([157436.94], dtype=float32)}, {'predictions': array([147499.44], dtype=float32)}, {'predictions': array([128577.29], dtype=float32)}, {'predictions': array([144582.31], dtype=float32)}, {'predictions': array([146152.02], dtype=float32)}, {'predictions': array([150855.77], dtype=float32)}, {'predictions': array([155037.], dtype=float32)}, {'predictions': array([164963.], dtype=float32)}, {'predictions': array([153888.75], dtype=float32)}, {'predictions': array([184118.81], dtype=float32)}, {'predictions': array([155018.86], dtype=float32)}, {'predictions': array([146683.27], dtype=float32)}, {'predictions': array([123314.86], dtype=float32)}, {'predictions': array([156212.33], dtype=float32)}, {'predictions': array([164715.69], dtype=float32)}, {'predictions': array([143413.73], dtype=float32)}, {'predictions': array([162166.98], dtype=float32)}, {'predictions': array([169699.78], dtype=float32)}, {'predictions': array([148323.36], dtype=float32)}, {'predictions': array([164719.77], dtype=float32)}, {'predictions': array([218701.84], dtype=float32)}, {'predictions': array([163775.73], dtype=float32)}, {'predictions': array([137571.7], dtype=float32)}, {'predictions': array([166571.38], dtype=float32)}, {'predictions': array([134055.88], dtype=float32)}, {'predictions': array([187559.22], dtype=float32)}, {'predictions': array([141651.33], dtype=float32)}, {'predictions': array([166234.23], dtype=float32)}, {'predictions': array([160827.], dtype=float32)}, {'predictions': array([162114.31], dtype=float32)}, {'predictions': array([153938.94], dtype=float32)}, {'predictions': array([156108.6], dtype=float32)}, {'predictions': array([152402.81], dtype=float32)}, {'predictions': array([118286.71], dtype=float32)}, {'predictions': array([160294.84], dtype=float32)}, {'predictions': array([125573.19], dtype=float32)}, {'predictions': array([189830.58], dtype=float32)}, {'predictions': array([166693.98], dtype=float32)}, {'predictions': array([160962.83], dtype=float32)}, {'predictions': array([144840.12], dtype=float32)}, {'predictions': array([144741.17], dtype=float32)}, {'predictions': array([144988.89], dtype=float32)}, {'predictions': array([122651.65], dtype=float32)}, {'predictions': array([119455.22], dtype=float32)}, {'predictions': array([160805.95], dtype=float32)}, {'predictions': array([144035.78], dtype=float32)}, {'predictions': array([152266.39], dtype=float32)}, {'predictions': array([155471.9], dtype=float32)}, {'predictions': array([154464.89], dtype=float32)}, {'predictions': array([127738.695], dtype=float32)}, {'predictions': array([137103.7], dtype=float32)}, {'predictions': array([129023.3], dtype=float32)}, {'predictions': array([146785.95], dtype=float32)}, {'predictions': array([115371.98], dtype=float32)}, {'predictions': array([149288.19], dtype=float32)}, {'predictions': array([153391.27], dtype=float32)}, {'predictions': array([139529.55], dtype=float32)}, {'predictions': array([147066.31], dtype=float32)}, {'predictions': array([123701.445], dtype=float32)}, {'predictions': array([176643.94], dtype=float32)}, {'predictions': array([142160.05], dtype=float32)}, {'predictions': array([147319.23], dtype=float32)}, {'predictions': array([147952.47], dtype=float32)}, {'predictions': array([139108.52], dtype=float32)}, {'predictions': array([155012.48], dtype=float32)}, {'predictions': array([152944.61], dtype=float32)}, {'predictions': array([132260.08], dtype=float32)}, {'predictions': array([136869.89], dtype=float32)}, {'predictions': array([155597.67], dtype=float32)}, {'predictions': array([178565.66], dtype=float32)}, {'predictions': array([154233.6], dtype=float32)}, {'predictions': array([159388.77], dtype=float32)}, {'predictions': array([217187.48], dtype=float32)}, {'predictions': array([166825.64], dtype=float32)}, {'predictions': array([119665.164], dtype=float32)}, {'predictions': array([154790.1], dtype=float32)}, {'predictions': array([154628.2], dtype=float32)}, {'predictions': array([169781.17], dtype=float32)}, {'predictions': array([154069.14], dtype=float32)}, {'predictions': array([144783.34], dtype=float32)}, {'predictions': array([125636.47], dtype=float32)}, {'predictions': array([174175.4], dtype=float32)}, {'predictions': array([151231.44], dtype=float32)}, {'predictions': array([159590.05], dtype=float32)}, {'predictions': array([149547.98], dtype=float32)}, {'predictions': array([166010.22], dtype=float32)}, {'predictions': array([142429.84], dtype=float32)}, {'predictions': array([142894.78], dtype=float32)}, {'predictions': array([151194.28], dtype=float32)}, {'predictions': array([126929.13], dtype=float32)}, {'predictions': array([168758.02], dtype=float32)}, {'predictions': array([137487.38], dtype=float32)}, {'predictions': array([168666.2], dtype=float32)}, {'predictions': array([134816.95], dtype=float32)}, {'predictions': array([126915.16], dtype=float32)}, {'predictions': array([143399.83], dtype=float32)}, {'predictions': array([191332.19], dtype=float32)}, {'predictions': array([148927.44], dtype=float32)}, {'predictions': array([135986.73], dtype=float32)}, {'predictions': array([154856.39], dtype=float32)}, {'predictions': array([185236.48], dtype=float32)}, {'predictions': array([158595.42], dtype=float32)}, {'predictions': array([114857.62], dtype=float32)}, {'predictions': array([149717.95], dtype=float32)}, {'predictions': array([183467.78], dtype=float32)}, {'predictions': array([144562.84], dtype=float32)}, {'predictions': array([157578.95], dtype=float32)}, {'predictions': array([158147.98], dtype=float32)}, {'predictions': array([155038.92], dtype=float32)}, {'predictions': array([135960.88], dtype=float32)}, {'predictions': array([156870.89], dtype=float32)}, {'predictions': array([145103.98], dtype=float32)}, {'predictions': array([160396.7], dtype=float32)}, {'predictions': array([153083.86], dtype=float32)}, {'predictions': array([174717.28], dtype=float32)}, {'predictions': array([132930.28], dtype=float32)}, {'predictions': array([147824.42], dtype=float32)}, {'predictions': array([111180.79], dtype=float32)}, {'predictions': array([150506.97], dtype=float32)}, {'predictions': array([125595.875], dtype=float32)}, {'predictions': array([152956.72], dtype=float32)}, {'predictions': array([141220.48], dtype=float32)}, {'predictions': array([171305.36], dtype=float32)}, {'predictions': array([159881.88], dtype=float32)}, {'predictions': array([146427.64], dtype=float32)}, {'predictions': array([192853.72], dtype=float32)}, {'predictions': array([131703.53], dtype=float32)}, {'predictions': array([186146.55], dtype=float32)}, {'predictions': array([120735.03], dtype=float32)}, {'predictions': array([153224.3], dtype=float32)}, {'predictions': array([148488.38], dtype=float32)}, {'predictions': array([151423.75], dtype=float32)}, {'predictions': array([166672.53], dtype=float32)}, {'predictions': array([141721.33], dtype=float32)}, {'predictions': array([157413.47], dtype=float32)}, {'predictions': array([163743.44], dtype=float32)}, {'predictions': array([153154.78], dtype=float32)}, {'predictions': array([114541.055], dtype=float32)}, {'predictions': array([155770.36], dtype=float32)}, {'predictions': array([158772.28], dtype=float32)}, {'predictions': array([141193.88], dtype=float32)}, {'predictions': array([128001.46], dtype=float32)}, {'predictions': array([163460.19], dtype=float32)}, {'predictions': array([155730.16], dtype=float32)}, {'predictions': array([159449.95], dtype=float32)}, {'predictions': array([138531.78], dtype=float32)}, {'predictions': array([136353.48], dtype=float32)}, {'predictions': array([161045.73], dtype=float32)}, {'predictions': array([125380.51], dtype=float32)}, {'predictions': array([122756.46], dtype=float32)}, {'predictions': array([148112.12], dtype=float32)}, {'predictions': array([168101.73], dtype=float32)}, {'predictions': array([159039.33], dtype=float32)}, {'predictions': array([153984.05], dtype=float32)}, {'predictions': array([155118.89], dtype=float32)}, {'predictions': array([154096.27], dtype=float32)}, {'predictions': array([157178.72], dtype=float32)}, {'predictions': array([148775.66], dtype=float32)}, {'predictions': array([162785.1], dtype=float32)}, {'predictions': array([128926.055], dtype=float32)}, {'predictions': array([139972.56], dtype=float32)}, {'predictions': array([157767.44], dtype=float32)}, {'predictions': array([133090.75], dtype=float32)}, {'predictions': array([184063.44], dtype=float32)}, {'predictions': array([128982.58], dtype=float32)}, {'predictions': array([167109.55], dtype=float32)}, {'predictions': array([137476.53], dtype=float32)}, {'predictions': array([131974.83], dtype=float32)}, {'predictions': array([171800.58], dtype=float32)}, {'predictions': array([144193.11], dtype=float32)}, {'predictions': array([144715.8], dtype=float32)}, {'predictions': array([130829.39], dtype=float32)}, {'predictions': array([154611.36], dtype=float32)}, {'predictions': array([138011.11], dtype=float32)}, {'predictions': array([168597.28], dtype=float32)}, {'predictions': array([152140.36], dtype=float32)}, {'predictions': array([160726.86], dtype=float32)}, {'predictions': array([160396.06], dtype=float32)}, {'predictions': array([135087.69], dtype=float32)}, {'predictions': array([158015.95], dtype=float32)}, {'predictions': array([152960.73], dtype=float32)}, {'predictions': array([162243.97], dtype=float32)}, {'predictions': array([181053.39], dtype=float32)}, {'predictions': array([131936.06], dtype=float32)}, {'predictions': array([129791.484], dtype=float32)}, {'predictions': array([122951.22], dtype=float32)}, {'predictions': array([118363.56], dtype=float32)}, {'predictions': array([156707.3], dtype=float32)}, {'predictions': array([118933.96], dtype=float32)}, {'predictions': array([151694.81], dtype=float32)}, {'predictions': array([156034.92], dtype=float32)}, {'predictions': array([160986.94], dtype=float32)}, {'predictions': array([157069.16], dtype=float32)}, {'predictions': array([129248.17], dtype=float32)}, {'predictions': array([139232.42], dtype=float32)}, {'predictions': array([141840.84], dtype=float32)}, {'predictions': array([147276.45], dtype=float32)}, {'predictions': array([161167.38], dtype=float32)}, {'predictions': array([151263.77], dtype=float32)}, {'predictions': array([143126.38], dtype=float32)}, {'predictions': array([164474.36], dtype=float32)}, {'predictions': array([135097.11], dtype=float32)}, {'predictions': array([179533.25], dtype=float32)}, {'predictions': array([134139.75], dtype=float32)}, {'predictions': array([159653.5], dtype=float32)}, {'predictions': array([131308.36], dtype=float32)}, {'predictions': array([139283.94], dtype=float32)}, {'predictions': array([126363.86], dtype=float32)}, {'predictions': array([153627.8], dtype=float32)}, {'predictions': array([138928.19], dtype=float32)}, {'predictions': array([155288.58], dtype=float32)}, {'predictions': array([114177.23], dtype=float32)}, {'predictions': array([123305.29], dtype=float32)}, {'predictions': array([135836.22], dtype=float32)}, {'predictions': array([118432.56], dtype=float32)}, {'predictions': array([165089.4], dtype=float32)}, {'predictions': array([252951.06], dtype=float32)}, {'predictions': array([174791.4], dtype=float32)}, {'predictions': array([111418.31], dtype=float32)}, {'predictions': array([175688.84], dtype=float32)}, {'predictions': array([159309.66], dtype=float32)}, {'predictions': array([124128.42], dtype=float32)}, {'predictions': array([188634.72], dtype=float32)}, {'predictions': array([149377.2], dtype=float32)}, {'predictions': array([194793.], dtype=float32)}, {'predictions': array([154744.66], dtype=float32)}, {'predictions': array([153670.69], dtype=float32)}, {'predictions': array([135879.58], dtype=float32)}, {'predictions': array([114913.65], dtype=float32)}, {'predictions': array([175869.98], dtype=float32)}, {'predictions': array([136958.39], dtype=float32)}, {'predictions': array([152750.16], dtype=float32)}, {'predictions': array([135021.05], dtype=float32)}, {'predictions': array([150755.03], dtype=float32)}, {'predictions': array([156557.27], dtype=float32)}, {'predictions': array([152645.44], dtype=float32)}, {'predictions': array([173772.56], dtype=float32)}, {'predictions': array([173213.38], dtype=float32)}, {'predictions': array([149764.69], dtype=float32)}, {'predictions': array([177047.78], dtype=float32)}, {'predictions': array([155743.98], dtype=float32)}, {'predictions': array([155052.31], dtype=float32)}, {'predictions': array([150832.03], dtype=float32)}, {'predictions': array([139897.88], dtype=float32)}, {'predictions': array([162222.72], dtype=float32)}, {'predictions': array([168486.08], dtype=float32)}, {'predictions': array([146716.17], dtype=float32)}, {'predictions': array([134402.38], dtype=float32)}, {'predictions': array([138050.69], dtype=float32)}, {'predictions': array([165227.36], dtype=float32)}, {'predictions': array([143181.69], dtype=float32)}, {'predictions': array([148282.], dtype=float32)}, {'predictions': array([180792.8], dtype=float32)}, {'predictions': array([145527.9], dtype=float32)}, {'predictions': array([139548.67], dtype=float32)}, {'predictions': array([143759.9], dtype=float32)}, {'predictions': array([134996.95], dtype=float32)}, {'predictions': array([120433.74], dtype=float32)}, {'predictions': array([137110.5], dtype=float32)}, {'predictions': array([121627.695], dtype=float32)}, {'predictions': array([130122.36], dtype=float32)}, {'predictions': array([153398.27], dtype=float32)}, {'predictions': array([169908.75], dtype=float32)}, {'predictions': array([162482.06], dtype=float32)}, {'predictions': array([171105.4], dtype=float32)}, {'predictions': array([118147.66], dtype=float32)}, {'predictions': array([152062.58], dtype=float32)}, {'predictions': array([161327.58], dtype=float32)}, {'predictions': array([149655.45], dtype=float32)}, {'predictions': array([126063.74], dtype=float32)}, {'predictions': array([163197.78], dtype=float32)}, {'predictions': array([146476.8], dtype=float32)}, {'predictions': array([146592.4], dtype=float32)}, {'predictions': array([165983.95], dtype=float32)}, {'predictions': array([164097.23], dtype=float32)}, {'predictions': array([186385.03], dtype=float32)}, {'predictions': array([131378.48], dtype=float32)}, {'predictions': array([158525.36], dtype=float32)}, {'predictions': array([141519.7], dtype=float32)}, {'predictions': array([127693.586], dtype=float32)}, {'predictions': array([142713.47], dtype=float32)}, {'predictions': array([162698.03], dtype=float32)}, {'predictions': array([145209.], dtype=float32)}, {'predictions': array([134731.11], dtype=float32)}, {'predictions': array([137739.27], dtype=float32)}, {'predictions': array([147377.98], dtype=float32)}, {'predictions': array([177344.17], dtype=float32)}, {'predictions': array([179679.7], dtype=float32)}, {'predictions': array([135400.22], dtype=float32)}, {'predictions': array([174256.94], dtype=float32)}, {'predictions': array([165191.97], dtype=float32)}, {'predictions': array([135716.22], dtype=float32)}, {'predictions': array([128254.84], dtype=float32)}, {'predictions': array([158790.92], dtype=float32)}, {'predictions': array([164088.52], dtype=float32)}, {'predictions': array([174204.27], dtype=float32)}, {'predictions': array([128966.06], dtype=float32)}, {'predictions': array([180015.8], dtype=float32)}, {'predictions': array([124255.03], dtype=float32)}, {'predictions': array([158073.], dtype=float32)}, {'predictions': array([135270.55], dtype=float32)}, {'predictions': array([165346.98], dtype=float32)}, {'predictions': array([154142.8], dtype=float32)}, {'predictions': array([152843.95], dtype=float32)}, {'predictions': array([148994.27], dtype=float32)}, {'predictions': array([150143.92], dtype=float32)}, {'predictions': array([135010.97], dtype=float32)}, {'predictions': array([150845.27], dtype=float32)}, {'predictions': array([125728.57], dtype=float32)}, {'predictions': array([152611.58], dtype=float32)}, {'predictions': array([195537.12], dtype=float32)}, {'predictions': array([148637.73], dtype=float32)}, {'predictions': array([111883.85], dtype=float32)}, {'predictions': array([156898.27], dtype=float32)}, {'predictions': array([159421.61], dtype=float32)}, {'predictions': array([107623.63], dtype=float32)}, {'predictions': array([131284.53], dtype=float32)}, {'predictions': array([153218.69], dtype=float32)}, {'predictions': array([160371.27], dtype=float32)}, {'predictions': array([133031.23], dtype=float32)}, {'predictions': array([139106.19], dtype=float32)}, {'predictions': array([153066.64], dtype=float32)}, {'predictions': array([157355.3], dtype=float32)}, {'predictions': array([149256.64], dtype=float32)}, {'predictions': array([157666.64], dtype=float32)}, {'predictions': array([187388.03], dtype=float32)}, {'predictions': array([141611.25], dtype=float32)}, {'predictions': array([143724.61], dtype=float32)}, {'predictions': array([170318.55], dtype=float32)}, {'predictions': array([144800.39], dtype=float32)}, {'predictions': array([136370.03], dtype=float32)}, {'predictions': array([131613.23], dtype=float32)}, {'predictions': array([144364.56], dtype=float32)}, {'predictions': array([158656.52], dtype=float32)}, {'predictions': array([107497.68], dtype=float32)}, {'predictions': array([145578.17], dtype=float32)}, {'predictions': array([151931.44], dtype=float32)}, {'predictions': array([116212.16], dtype=float32)}, {'predictions': array([114752.23], dtype=float32)}, {'predictions': array([183364.95], dtype=float32)}, {'predictions': array([143162.75], dtype=float32)}, {'predictions': array([176996.42], dtype=float32)}, {'predictions': array([223384.84], dtype=float32)}, {'predictions': array([138497.27], dtype=float32)}, {'predictions': array([158858.34], dtype=float32)}, {'predictions': array([112160.336], dtype=float32)}, {'predictions': array([167076.7], dtype=float32)}, {'predictions': array([149270.92], dtype=float32)}, {'predictions': array([176223.48], dtype=float32)}, {'predictions': array([129383.77], dtype=float32)}, {'predictions': array([144749.36], dtype=float32)}, {'predictions': array([160925.88], dtype=float32)}, {'predictions': array([173070.14], dtype=float32)}, {'predictions': array([134009.05], dtype=float32)}, {'predictions': array([153781.47], dtype=float32)}, {'predictions': array([142170.58], dtype=float32)}, {'predictions': array([144591.28], dtype=float32)}, {'predictions': array([157363.72], dtype=float32)}, {'predictions': array([139000.53], dtype=float32)}, {'predictions': array([123650.33], dtype=float32)}, {'predictions': array([163396.03], dtype=float32)}, {'predictions': array([154671.12], dtype=float32)}, {'predictions': array([127989.88], dtype=float32)}, {'predictions': array([153137.28], dtype=float32)}, {'predictions': array([146794.78], dtype=float32)}, {'predictions': array([168563.2], dtype=float32)}, {'predictions': array([146689.22], dtype=float32)}, {'predictions': array([177346.78], dtype=float32)}, {'predictions': array([155428.9], dtype=float32)}, {'predictions': array([125994.26], dtype=float32)}, {'predictions': array([145942.3], dtype=float32)}, {'predictions': array([139626.61], dtype=float32)}, {'predictions': array([124881.34], dtype=float32)}, {'predictions': array([128331.695], dtype=float32)}, {'predictions': array([132815.14], dtype=float32)}, {'predictions': array([150653.17], dtype=float32)}, {'predictions': array([142449.78], dtype=float32)}, {'predictions': array([143638.42], dtype=float32)}, {'predictions': array([148769.1], dtype=float32)}, {'predictions': array([168431.], dtype=float32)}, {'predictions': array([119402.445], dtype=float32)}, {'predictions': array([126879.1], dtype=float32)}, {'predictions': array([155837.25], dtype=float32)}, {'predictions': array([119913.6], dtype=float32)}, {'predictions': array([160075.67], dtype=float32)}, {'predictions': array([157248.16], dtype=float32)}, {'predictions': array([140099.42], dtype=float32)}, {'predictions': array([144903.34], dtype=float32)}, {'predictions': array([143830.17], dtype=float32)}, {'predictions': array([125466.9], dtype=float32)}, {'predictions': array([161526.38], dtype=float32)}, {'predictions': array([147342.3], dtype=float32)}, {'predictions': array([150891.92], dtype=float32)}, {'predictions': array([148877.33], dtype=float32)}, {'predictions': array([139085.34], dtype=float32)}, {'predictions': array([136399.58], dtype=float32)}, {'predictions': array([154709.38], dtype=float32)}, {'predictions': array([127229.23], dtype=float32)}, {'predictions': array([161538.5], dtype=float32)}, {'predictions': array([138127.36], dtype=float32)}, {'predictions': array([196654.36], dtype=float32)}, {'predictions': array([146852.78], dtype=float32)}, {'predictions': array([138379.31], dtype=float32)}, {'predictions': array([134774.5], dtype=float32)}, {'predictions': array([132063.61], dtype=float32)}, {'predictions': array([115291.414], dtype=float32)}, {'predictions': array([127094.12], dtype=float32)}, {'predictions': array([135821.92], dtype=float32)}, {'predictions': array([144900.95], dtype=float32)}, {'predictions': array([156200.5], dtype=float32)}, {'predictions': array([155529.12], dtype=float32)}, {'predictions': array([133084.81], dtype=float32)}, {'predictions': array([184142.22], dtype=float32)}, {'predictions': array([162442.34], dtype=float32)}, {'predictions': array([136434.64], dtype=float32)}, {'predictions': array([113801.914], dtype=float32)}, {'predictions': array([181781.81], dtype=float32)}, {'predictions': array([154808.39], dtype=float32)}, {'predictions': array([150406.95], dtype=float32)}, {'predictions': array([158602.12], dtype=float32)}, {'predictions': array([162826.], dtype=float32)}, {'predictions': array([125148.78], dtype=float32)}, {'predictions': array([153952.66], dtype=float32)}, {'predictions': array([147142.53], dtype=float32)}, {'predictions': array([162306.67], dtype=float32)}, {'predictions': array([159344.16], dtype=float32)}, {'predictions': array([171454.55], dtype=float32)}, {'predictions': array([148081.6], dtype=float32)}, {'predictions': array([121468.84], dtype=float32)}, {'predictions': array([130068.65], dtype=float32)}, {'predictions': array([153820.47], dtype=float32)}, {'predictions': array([112924.25], dtype=float32)}, {'predictions': array([129869.5], dtype=float32)}, {'predictions': array([207057.33], dtype=float32)}, {'predictions': array([145855.52], dtype=float32)}, {'predictions': array([125547.664], dtype=float32)}, {'predictions': array([149124.9], dtype=float32)}, {'predictions': array([143665.95], dtype=float32)}, {'predictions': array([150846.27], dtype=float32)}, {'predictions': array([182201.97], dtype=float32)}, {'predictions': array([145396.17], dtype=float32)}, {'predictions': array([128540.09], dtype=float32)}, {'predictions': array([147715.42], dtype=float32)}, {'predictions': array([132338.81], dtype=float32)}, {'predictions': array([170757.86], dtype=float32)}, {'predictions': array([169287.34], dtype=float32)}, {'predictions': array([130492.26], dtype=float32)}, {'predictions': array([181704.66], dtype=float32)}, {'predictions': array([168049.95], dtype=float32)}, {'predictions': array([148052.34], dtype=float32)}, {'predictions': array([151301.11], dtype=float32)}, {'predictions': array([129271.555], dtype=float32)}, {'predictions': array([192904.6], dtype=float32)}, {'predictions': array([172033.16], dtype=float32)}, {'predictions': array([153299.22], dtype=float32)}, {'predictions': array([167119.48], dtype=float32)}, {'predictions': array([160937.12], dtype=float32)}, {'predictions': array([135244.72], dtype=float32)}, {'predictions': array([153606.5], dtype=float32)}, {'predictions': array([148127.64], dtype=float32)}, {'predictions': array([167751.75], dtype=float32)}, {'predictions': array([211513.27], dtype=float32)}, {'predictions': array([155370.2], dtype=float32)}, {'predictions': array([190119.23], dtype=float32)}, {'predictions': array([166491.75], dtype=float32)}, {'predictions': array([129952.05], dtype=float32)}, {'predictions': array([167955.88], dtype=float32)}, {'predictions': array([146623.1], dtype=float32)}, {'predictions': array([129597.55], dtype=float32)}, {'predictions': array([144557.78], dtype=float32)}, {'predictions': array([156623.45], dtype=float32)}, {'predictions': array([161206.56], dtype=float32)}, {'predictions': array([147270.73], dtype=float32)}, {'predictions': array([210281.62], dtype=float32)}, {'predictions': array([154646.69], dtype=float32)}, {'predictions': array([155728.66], dtype=float32)}, {'predictions': array([146135.12], dtype=float32)}, {'predictions': array([135019.83], dtype=float32)}, {'predictions': array([180311.47], dtype=float32)}, {'predictions': array([209199.92], dtype=float32)}, {'predictions': array([150571.11], dtype=float32)}, {'predictions': array([136116.25], dtype=float32)}, {'predictions': array([162380.], dtype=float32)}, {'predictions': array([158515.61], dtype=float32)}, {'predictions': array([155405.34], dtype=float32)}, {'predictions': array([160415.84], dtype=float32)}, {'predictions': array([129209.27], dtype=float32)}, {'predictions': array([168690.61], dtype=float32)}, {'predictions': array([159619.9], dtype=float32)}, {'predictions': array([181612.67], dtype=float32)}, {'predictions': array([185827.6], dtype=float32)}, {'predictions': array([117734.75], dtype=float32)}, {'predictions': array([155391.66], dtype=float32)}, {'predictions': array([154934.81], dtype=float32)}, {'predictions': array([177145.66], dtype=float32)}, {'predictions': array([156052.52], dtype=float32)}, {'predictions': array([112983.41], dtype=float32)}, {'predictions': array([147687.48], dtype=float32)}, {'predictions': array([152657.48], dtype=float32)}, {'predictions': array([156867.1], dtype=float32)}, {'predictions': array([110668.68], dtype=float32)}, {'predictions': array([155518.39], dtype=float32)}, {'predictions': array([144209.48], dtype=float32)}, {'predictions': array([188063.38], dtype=float32)}, {'predictions': array([122826.88], dtype=float32)}, {'predictions': array([153870.5], dtype=float32)}, {'predictions': array([148011.42], dtype=float32)}, {'predictions': array([156844.69], dtype=float32)}, {'predictions': array([133701.27], dtype=float32)}, {'predictions': array([131171.31], dtype=float32)}, {'predictions': array([169150.2], dtype=float32)}, {'predictions': array([110182.34], dtype=float32)}, {'predictions': array([167637.75], dtype=float32)}, {'predictions': array([179513.05], dtype=float32)}, {'predictions': array([142095.86], dtype=float32)}, {'predictions': array([162272.3], dtype=float32)}, {'predictions': array([152811.47], dtype=float32)}, {'predictions': array([123850.85], dtype=float32)}, {'predictions': array([151661.3], dtype=float32)}, {'predictions': array([156897.66], dtype=float32)}, {'predictions': array([141933.66], dtype=float32)}, {'predictions': array([135616.33], dtype=float32)}, {'predictions': array([139294.66], dtype=float32)}, {'predictions': array([151107.78], dtype=float32)}, {'predictions': array([152118.45], dtype=float32)}, {'predictions': array([152617.3], dtype=float32)}, {'predictions': array([163528.08], dtype=float32)}, {'predictions': array([157150.69], dtype=float32)}, {'predictions': array([108292.93], dtype=float32)}, {'predictions': array([193192.62], dtype=float32)}, {'predictions': array([117571.42], dtype=float32)}, {'predictions': array([163599.23], dtype=float32)}, {'predictions': array([134452.06], dtype=float32)}, {'predictions': array([142876.38], dtype=float32)}, {'predictions': array([149692.16], dtype=float32)}, {'predictions': array([154500.62], dtype=float32)}, {'predictions': array([140572.48], dtype=float32)}, {'predictions': array([157858.1], dtype=float32)}, {'predictions': array([105096.46], dtype=float32)}, {'predictions': array([124038.984], dtype=float32)}, {'predictions': array([158443.16], dtype=float32)}, {'predictions': array([165048.69], dtype=float32)}, {'predictions': array([139276.86], dtype=float32)}, {'predictions': array([144092.75], dtype=float32)}, {'predictions': array([176790.84], dtype=float32)}, {'predictions': array([132747.11], dtype=float32)}, {'predictions': array([186941.8], dtype=float32)}, {'predictions': array([155522.75], dtype=float32)}, {'predictions': array([122653.14], dtype=float32)}, {'predictions': array([141975.98], dtype=float32)}, {'predictions': array([154922.02], dtype=float32)}, {'predictions': array([151082.31], dtype=float32)}, {'predictions': array([168670.94], dtype=float32)}, {'predictions': array([129119.48], dtype=float32)}, {'predictions': array([162519.08], dtype=float32)}, {'predictions': array([130856.836], dtype=float32)}, {'predictions': array([130700.305], dtype=float32)}, {'predictions': array([153966.14], dtype=float32)}, {'predictions': array([157379.75], dtype=float32)}, {'predictions': array([155184.6], dtype=float32)}, {'predictions': array([146815.28], dtype=float32)}, {'predictions': array([165409.95], dtype=float32)}, {'predictions': array([170551.56], dtype=float32)}, {'predictions': array([142582.19], dtype=float32)}, {'predictions': array([158653.55], dtype=float32)}, {'predictions': array([108592.8], dtype=float32)}, {'predictions': array([169956.06], dtype=float32)}, {'predictions': array([157501.69], dtype=float32)}, {'predictions': array([164732.31], dtype=float32)}, {'predictions': array([146709.58], dtype=float32)}, {'predictions': array([162867.72], dtype=float32)}, {'predictions': array([154886.62], dtype=float32)}, {'predictions': array([170768.52], dtype=float32)}, {'predictions': array([153494.03], dtype=float32)}, {'predictions': array([137469.02], dtype=float32)}, {'predictions': array([119203.56], dtype=float32)}, {'predictions': array([101699.64], dtype=float32)}, {'predictions': array([133416.23], dtype=float32)}, {'predictions': array([186925.9], dtype=float32)}, {'predictions': array([217642.98], dtype=float32)}, {'predictions': array([151522.25], dtype=float32)}, {'predictions': array([115293.92], dtype=float32)}, {'predictions': array([125650.38], dtype=float32)}, {'predictions': array([116464.24], dtype=float32)}, {'predictions': array([176965.34], dtype=float32)}, {'predictions': array([154136.42], dtype=float32)}, {'predictions': array([155647.98], dtype=float32)}, {'predictions': array([119808.95], dtype=float32)}, {'predictions': array([158363.33], dtype=float32)}, {'predictions': array([140526.94], dtype=float32)}, {'predictions': array([142714.77], dtype=float32)}, {'predictions': array([112242.58], dtype=float32)}, {'predictions': array([164643.02], dtype=float32)}, {'predictions': array([161789.47], dtype=float32)}, {'predictions': array([206003.56], dtype=float32)}, {'predictions': array([159813.25], dtype=float32)}, {'predictions': array([147209.36], dtype=float32)}, {'predictions': array([151029.75], dtype=float32)}, {'predictions': array([129686.51], dtype=float32)}, {'predictions': array([127459.73], dtype=float32)}, {'predictions': array([133369.58], dtype=float32)}, {'predictions': array([173892.9], dtype=float32)}, {'predictions': array([136181.94], dtype=float32)}, {'predictions': array([133264.12], dtype=float32)}, {'predictions': array([143636.81], dtype=float32)}, {'predictions': array([155661.53], dtype=float32)}, {'predictions': array([150039.52], dtype=float32)}, {'predictions': array([145055.06], dtype=float32)}, {'predictions': array([145470.53], dtype=float32)}, {'predictions': array([138888.55], dtype=float32)}, {'predictions': array([127206.27], dtype=float32)}, {'predictions': array([143263.72], dtype=float32)}, {'predictions': array([174966.2], dtype=float32)}, {'predictions': array([200474.69], dtype=float32)}, {'predictions': array([131142.3], dtype=float32)}, {'predictions': array([152838.27], dtype=float32)}, {'predictions': array([201518.16], dtype=float32)}, {'predictions': array([116518.414], dtype=float32)}, {'predictions': array([160350.5], dtype=float32)}, {'predictions': array([151477.98], dtype=float32)}, {'predictions': array([142174.8], dtype=float32)}, {'predictions': array([132573.47], dtype=float32)}, {'predictions': array([162439.06], dtype=float32)}, {'predictions': array([166078.81], dtype=float32)}, {'predictions': array([149771.47], dtype=float32)}, {'predictions': array([151344.78], dtype=float32)}, {'predictions': array([115546.88], dtype=float32)}, {'predictions': array([168866.14], dtype=float32)}, {'predictions': array([157136.73], dtype=float32)}, {'predictions': array([176148.86], dtype=float32)}, {'predictions': array([151018.16], dtype=float32)}, {'predictions': array([138193.2], dtype=float32)}, {'predictions': array([122629.16], dtype=float32)}, {'predictions': array([155909.73], dtype=float32)}, {'predictions': array([148575.7], dtype=float32)}, {'predictions': array([163748.06], dtype=float32)}, {'predictions': array([139210.52], dtype=float32)}, {'predictions': array([155660.89], dtype=float32)}, {'predictions': array([146942.28], dtype=float32)}, {'predictions': array([186333.73], dtype=float32)}, {'predictions': array([144211.72], dtype=float32)}, {'predictions': array([136961.52], dtype=float32)}, {'predictions': array([123520.125], dtype=float32)}, {'predictions': array([183833.67], dtype=float32)}, {'predictions': array([150279.31], dtype=float32)}, {'predictions': array([150182.16], dtype=float32)}, {'predictions': array([172321.56], dtype=float32)}, {'predictions': array([154848.58], dtype=float32)}, {'predictions': array([152335.45], dtype=float32)}, {'predictions': array([161637.62], dtype=float32)}, {'predictions': array([152344.95], dtype=float32)}, {'predictions': array([157806.55], dtype=float32)}, {'predictions': array([160833.86], dtype=float32)}, {'predictions': array([142661.16], dtype=float32)}, {'predictions': array([186589.73], dtype=float32)}, {'predictions': array([181899.55], dtype=float32)}, {'predictions': array([113468.836], dtype=float32)}, {'predictions': array([155253.12], dtype=float32)}, {'predictions': array([133044.69], dtype=float32)}, {'predictions': array([148169.1], dtype=float32)}, {'predictions': array([205654.34], dtype=float32)}, {'predictions': array([155296.77], dtype=float32)}, {'predictions': array([130401.984], dtype=float32)}, {'predictions': array([151497.7], dtype=float32)}, {'predictions': array([161758.53], dtype=float32)}, {'predictions': array([172167.73], dtype=float32)}, {'predictions': array([147155.3], dtype=float32)}, {'predictions': array([147070.12], dtype=float32)}, {'predictions': array([145007.23], dtype=float32)}, {'predictions': array([147071.67], dtype=float32)}, {'predictions': array([142837.31], dtype=float32)}, {'predictions': array([144261.72], dtype=float32)}, {'predictions': array([191847.52], dtype=float32)}, {'predictions': array([154903.8], dtype=float32)}, {'predictions': array([136863.42], dtype=float32)}, {'predictions': array([142749.67], dtype=float32)}, {'predictions': array([162301.84], dtype=float32)}, {'predictions': array([142722.67], dtype=float32)}, {'predictions': array([143623.95], dtype=float32)}, {'predictions': array([160357.9], dtype=float32)}, {'predictions': array([130586.56], dtype=float32)}, {'predictions': array([151005.94], dtype=float32)}, {'predictions': array([167780.53], dtype=float32)}, {'predictions': array([169408.19], dtype=float32)}, {'predictions': array([125646.445], dtype=float32)}, {'predictions': array([154983.31], dtype=float32)}, {'predictions': array([154061.95], dtype=float32)}, {'predictions': array([164843.9], dtype=float32)}, {'predictions': array([120603.61], dtype=float32)}, {'predictions': array([173866.67], dtype=float32)}, {'predictions': array([123651.05], dtype=float32)}, {'predictions': array([133612.17], dtype=float32)}, {'predictions': array([139360.25], dtype=float32)}, {'predictions': array([159849.12], dtype=float32)}, {'predictions': array([120258.74], dtype=float32)}, {'predictions': array([148008.89], dtype=float32)}, {'predictions': array([159365.95], dtype=float32)}, {'predictions': array([169067.45], dtype=float32)}, {'predictions': array([150092.73], dtype=float32)}, {'predictions': array([160636.16], dtype=float32)}, {'predictions': array([120780.42], dtype=float32)}, {'predictions': array([138284.83], dtype=float32)}, {'predictions': array([115924.83], dtype=float32)}, {'predictions': array([158101.17], dtype=float32)}, {'predictions': array([149195.45], dtype=float32)}, {'predictions': array([155202.55], dtype=float32)}, {'predictions': array([160308.73], dtype=float32)}, {'predictions': array([291489.22], dtype=float32)}, {'predictions': array([157879.28], dtype=float32)}, {'predictions': array([188584.], dtype=float32)}, {'predictions': array([125093.66], dtype=float32)}, {'predictions': array([158665.62], dtype=float32)}, {'predictions': array([150041.33], dtype=float32)}, {'predictions': array([148057.98], dtype=float32)}, {'predictions': array([140060.64], dtype=float32)}, {'predictions': array([158949.44], dtype=float32)}, {'predictions': array([136281.69], dtype=float32)}, {'predictions': array([132032.14], dtype=float32)}, {'predictions': array([168374.19], dtype=float32)}, {'predictions': array([171254.9], dtype=float32)}, {'predictions': array([174293.98], dtype=float32)}, {'predictions': array([153628.23], dtype=float32)}, {'predictions': array([154927.86], dtype=float32)}, {'predictions': array([155719.69], dtype=float32)}, {'predictions': array([153265.47], dtype=float32)}, {'predictions': array([151493.45], dtype=float32)}, {'predictions': array([157056.48], dtype=float32)}, {'predictions': array([149856.8], dtype=float32)}, {'predictions': array([146785.05], dtype=float32)}, {'predictions': array([150337.58], dtype=float32)}, {'predictions': array([124562.04], dtype=float32)}, {'predictions': array([125830.33], dtype=float32)}, {'predictions': array([120743.69], dtype=float32)}, {'predictions': array([154142.7], dtype=float32)}, {'predictions': array([129445.45], dtype=float32)}, {'predictions': array([103420.695], dtype=float32)}, {'predictions': array([171425.84], dtype=float32)}, {'predictions': array([166282.89], dtype=float32)}, {'predictions': array([129321.74], dtype=float32)}, {'predictions': array([183553.06], dtype=float32)}, {'predictions': array([134987.36], dtype=float32)}, {'predictions': array([150926.48], dtype=float32)}, {'predictions': array([156895.95], dtype=float32)}, {'predictions': array([142569.73], dtype=float32)}, {'predictions': array([144731.5], dtype=float32)}, {'predictions': array([164472.94], dtype=float32)}, {'predictions': array([114939.17], dtype=float32)}, {'predictions': array([130683.48], dtype=float32)}, {'predictions': array([169877.1], dtype=float32)}, {'predictions': array([160178.27], dtype=float32)}, {'predictions': array([155660.62], dtype=float32)}, {'predictions': array([148872.27], dtype=float32)}, {'predictions': array([140697.44], dtype=float32)}, {'predictions': array([183415.14], dtype=float32)}, {'predictions': array([146250.42], dtype=float32)}, {'predictions': array([171046.6], dtype=float32)}, {'predictions': array([122120.02], dtype=float32)}, {'predictions': array([152079.36], dtype=float32)}, {'predictions': array([140232.03], dtype=float32)}, {'predictions': array([139253.9], dtype=float32)}, {'predictions': array([150766.7], dtype=float32)}, {'predictions': array([126128.24], dtype=float32)}, {'predictions': array([156526.56], dtype=float32)}, {'predictions': array([173357.25], dtype=float32)}, {'predictions': array([162189.62], dtype=float32)}, {'predictions': array([119265.44], dtype=float32)}, {'predictions': array([121130.99], dtype=float32)}, {'predictions': array([159805.8], dtype=float32)}, {'predictions': array([127351.06], dtype=float32)}, {'predictions': array([161428.92], dtype=float32)}, {'predictions': array([166307.69], dtype=float32)}, {'predictions': array([167117.97], dtype=float32)}, {'predictions': array([147788.81], dtype=float32)}, {'predictions': array([137789.36], dtype=float32)}, {'predictions': array([155504.72], dtype=float32)}, {'predictions': array([152477.47], dtype=float32)}, {'predictions': array([176965.39], dtype=float32)}, {'predictions': array([131732.56], dtype=float32)}, {'predictions': array([132126.67], dtype=float32)}, {'predictions': array([137277.34], dtype=float32)}, {'predictions': array([138377.02], dtype=float32)}, {'predictions': array([151716.16], dtype=float32)}, {'predictions': array([247149.88], dtype=float32)}, {'predictions': array([153786.56], dtype=float32)}, {'predictions': array([132732.06], dtype=float32)}, {'predictions': array([192017.16], dtype=float32)}, {'predictions': array([121849.13], dtype=float32)}, {'predictions': array([167098.98], dtype=float32)}, {'predictions': array([164294.25], dtype=float32)}, {'predictions': array([184005.17], dtype=float32)}, {'predictions': array([143430.02], dtype=float32)}, {'predictions': array([156377.97], dtype=float32)}, {'predictions': array([122470.73], dtype=float32)}, {'predictions': array([164037.58], dtype=float32)}, {'predictions': array([166885.19], dtype=float32)}, {'predictions': array([145141.36], dtype=float32)}, {'predictions': array([122588.58], dtype=float32)}, {'predictions': array([92039.92], dtype=float32)}, {'predictions': array([157145.9], dtype=float32)}, {'predictions': array([154686.62], dtype=float32)}, {'predictions': array([178971.23], dtype=float32)}, {'predictions': array([155612.27], dtype=float32)}, {'predictions': array([158269.28], dtype=float32)}, {'predictions': array([163339.31], dtype=float32)}, {'predictions': array([155231.25], dtype=float32)}, {'predictions': array([137778.77], dtype=float32)}, {'predictions': array([119992.12], dtype=float32)}, {'predictions': array([161115.31], dtype=float32)}, {'predictions': array([118053.71], dtype=float32)}, {'predictions': array([120588.96], dtype=float32)}, {'predictions': array([136769.23], dtype=float32)}, {'predictions': array([121938.445], dtype=float32)}, {'predictions': array([135995.67], dtype=float32)}, {'predictions': array([137075.75], dtype=float32)}, {'predictions': array([150433.48], dtype=float32)}, {'predictions': array([144215.66], dtype=float32)}, {'predictions': array([134891.42], dtype=float32)}, {'predictions': array([161794.67], dtype=float32)}, {'predictions': array([149710.19], dtype=float32)}, {'predictions': array([176170.44], dtype=float32)}, {'predictions': array([138904.61], dtype=float32)}, {'predictions': array([133235.62], dtype=float32)}, {'predictions': array([146817.45], dtype=float32)}, {'predictions': array([153983.44], dtype=float32)}, {'predictions': array([164102.73], dtype=float32)}, {'predictions': array([146308.38], dtype=float32)}, {'predictions': array([123298.83], dtype=float32)}, {'predictions': array([164653.73], dtype=float32)}, {'predictions': array([154429.77], dtype=float32)}, {'predictions': array([147525.39], dtype=float32)}, {'predictions': array([142443.47], dtype=float32)}, {'predictions': array([121075.164], dtype=float32)}, {'predictions': array([106838.44], dtype=float32)}, {'predictions': array([157261.78], dtype=float32)}, {'predictions': array([134429.62], dtype=float32)}, {'predictions': array([154385.6], dtype=float32)}, {'predictions': array([154319.6], dtype=float32)}, {'predictions': array([165412.98], dtype=float32)}, {'predictions': array([137478.7], dtype=float32)}, {'predictions': array([157397.17], dtype=float32)}, {'predictions': array([166546.06], dtype=float32)}, {'predictions': array([153454.52], dtype=float32)}, {'predictions': array([157101.83], dtype=float32)}, {'predictions': array([156008.42], dtype=float32)}, {'predictions': array([147546.89], dtype=float32)}, {'predictions': array([159201.16], dtype=float32)}, {'predictions': array([154370.69], dtype=float32)}, {'predictions': array([141431.39], dtype=float32)}, {'predictions': array([122703.32], dtype=float32)}, {'predictions': array([130142.695], dtype=float32)}, {'predictions': array([185417.05], dtype=float32)}, {'predictions': array([170325.55], dtype=float32)}, {'predictions': array([147301.89], dtype=float32)}, {'predictions': array([218429.38], dtype=float32)}, {'predictions': array([161637.7], dtype=float32)}, {'predictions': array([183116.77], dtype=float32)}, {'predictions': array([149429.52], dtype=float32)}, {'predictions': array([177276.9], dtype=float32)}, {'predictions': array([155859.12], dtype=float32)}, {'predictions': array([192163.92], dtype=float32)}, {'predictions': array([133783.27], dtype=float32)}, {'predictions': array([177417.88], dtype=float32)}, {'predictions': array([163004.94], dtype=float32)}, {'predictions': array([165398.31], dtype=float32)}, {'predictions': array([146885.84], dtype=float32)}, {'predictions': array([140842.92], dtype=float32)}, {'predictions': array([178117.92], dtype=float32)}, {'predictions': array([129317.18], dtype=float32)}, {'predictions': array([172856.52], dtype=float32)}, {'predictions': array([142761.06], dtype=float32)}, {'predictions': array([150603.97], dtype=float32)}, {'predictions': array([149067.9], dtype=float32)}, {'predictions': array([138853.25], dtype=float32)}, {'predictions': array([140575.8], dtype=float32)}, {'predictions': array([163156.83], dtype=float32)}, {'predictions': array([124581.766], dtype=float32)}, {'predictions': array([150276.84], dtype=float32)}, {'predictions': array([175954.], dtype=float32)}, {'predictions': array([165860.97], dtype=float32)}, {'predictions': array([155224.73], dtype=float32)}, {'predictions': array([153401.64], dtype=float32)}, {'predictions': array([99609.95], dtype=float32)}, {'predictions': array([136762.19], dtype=float32)}, {'predictions': array([132018.42], dtype=float32)}, {'predictions': array([129339.11], dtype=float32)}, {'predictions': array([145624.61], dtype=float32)}, {'predictions': array([161034.5], dtype=float32)}, {'predictions': array([164206.69], dtype=float32)}, {'predictions': array([161243.95], dtype=float32)}, {'predictions': array([130438.36], dtype=float32)}, {'predictions': array([124914.84], dtype=float32)}, {'predictions': array([149519.52], dtype=float32)}, {'predictions': array([211129.66], dtype=float32)}, {'predictions': array([164079.08], dtype=float32)}, {'predictions': array([140689.6], dtype=float32)}, {'predictions': array([145186.12], dtype=float32)}, {'predictions': array([161130.33], dtype=float32)}, {'predictions': array([166030.62], dtype=float32)}, {'predictions': array([146164.11], dtype=float32)}, {'predictions': array([126850.625], dtype=float32)}, {'predictions': array([109340.95], dtype=float32)}, {'predictions': array([109755.2], dtype=float32)}, {'predictions': array([144892.77], dtype=float32)}, {'predictions': array([145652.62], dtype=float32)}, {'predictions': array([135032.42], dtype=float32)}, {'predictions': array([164302.12], dtype=float32)}, {'predictions': array([162975.83], dtype=float32)}, {'predictions': array([156161.14], dtype=float32)}, {'predictions': array([109980.555], dtype=float32)}, {'predictions': array([148510.66], dtype=float32)}, {'predictions': array([138653.53], dtype=float32)}, {'predictions': array([100069.836], dtype=float32)}, {'predictions': array([117475.01], dtype=float32)}, {'predictions': array([153116.73], dtype=float32)}, {'predictions': array([128645.03], dtype=float32)}, {'predictions': array([141088.33], dtype=float32)}, {'predictions': array([132821.7], dtype=float32)}, {'predictions': array([153966.22], dtype=float32)}, {'predictions': array([130156.33], dtype=float32)}, {'predictions': array([110147.18], dtype=float32)}, {'predictions': array([190143.44], dtype=float32)}, {'predictions': array([188183.73], dtype=float32)}, {'predictions': array([145030.12], dtype=float32)}, {'predictions': array([149496.84], dtype=float32)}, {'predictions': array([126913.1], dtype=float32)}, {'predictions': array([151019.58], dtype=float32)}, {'predictions': array([145767.81], dtype=float32)}, {'predictions': array([133608.05], dtype=float32)}, {'predictions': array([154309.81], dtype=float32)}, {'predictions': array([160815.2], dtype=float32)}, {'predictions': array([152289.53], dtype=float32)}, {'predictions': array([127946.195], dtype=float32)}, {'predictions': array([146081.95], dtype=float32)}, {'predictions': array([147615.55], dtype=float32)}, {'predictions': array([157654.02], dtype=float32)}, {'predictions': array([160358.98], dtype=float32)}, {'predictions': array([173372.6], dtype=float32)}, {'predictions': array([128573.62], dtype=float32)}, {'predictions': array([166200.23], dtype=float32)}, {'predictions': array([168134.], dtype=float32)}, {'predictions': array([144592.22], dtype=float32)}, {'predictions': array([147667.55], dtype=float32)}, {'predictions': array([154770.39], dtype=float32)}, {'predictions': array([124898.65], dtype=float32)}, {'predictions': array([141632.52], dtype=float32)}, {'predictions': array([157163.55], dtype=float32)}, {'predictions': array([185630.06], dtype=float32)}, {'predictions': array([128595.1], dtype=float32)}, {'predictions': array([159176.88], dtype=float32)}, {'predictions': array([141901.6], dtype=float32)}, {'predictions': array([122020.94], dtype=float32)}, {'predictions': array([195426.44], dtype=float32)}, {'predictions': array([159780.95], dtype=float32)}, {'predictions': array([138680.42], dtype=float32)}, {'predictions': array([93437.77], dtype=float32)}, {'predictions': array([167560.58], dtype=float32)}, {'predictions': array([146934.94], dtype=float32)}, {'predictions': array([145890.14], dtype=float32)}, {'predictions': array([149700.92], dtype=float32)}, {'predictions': array([186209.11], dtype=float32)}, {'predictions': array([139385.4], dtype=float32)}, {'predictions': array([139118.], dtype=float32)}, {'predictions': array([134148.3], dtype=float32)}, {'predictions': array([160519.67], dtype=float32)}, {'predictions': array([139850.67], dtype=float32)}, {'predictions': array([149842.5], dtype=float32)}, {'predictions': array([140228.42], dtype=float32)}, {'predictions': array([115791.4], dtype=float32)}, {'predictions': array([158078.25], dtype=float32)}, {'predictions': array([155786.84], dtype=float32)}, {'predictions': array([164183.94], dtype=float32)}, {'predictions': array([135495.33], dtype=float32)}, {'predictions': array([151126.31], dtype=float32)}, {'predictions': array([139601.38], dtype=float32)}, {'predictions': array([127006.91], dtype=float32)}, {'predictions': array([158329.53], dtype=float32)}, {'predictions': array([124336.41], dtype=float32)}, {'predictions': array([129885.27], dtype=float32)}, {'predictions': array([131191.62], dtype=float32)}, {'predictions': array([138903.73], dtype=float32)}, {'predictions': array([140150.23], dtype=float32)}, {'predictions': array([153445.8], dtype=float32)}, {'predictions': array([154896.19], dtype=float32)}, {'predictions': array([151654.53], dtype=float32)}, {'predictions': array([155914.89], dtype=float32)}, {'predictions': array([187905.94], dtype=float32)}, {'predictions': array([150951.7], dtype=float32)}, {'predictions': array([141536.28], dtype=float32)}, {'predictions': array([152579.95], dtype=float32)}, {'predictions': array([124238.88], dtype=float32)}, {'predictions': array([149005.95], dtype=float32)}, {'predictions': array([184987.62], dtype=float32)}, {'predictions': array([153245.23], dtype=float32)}, {'predictions': array([137101.66], dtype=float32)}, {'predictions': array([149488.33], dtype=float32)}, {'predictions': array([139189.67], dtype=float32)}, {'predictions': array([158892.73], dtype=float32)}, {'predictions': array([122954.91], dtype=float32)}, {'predictions': array([158945.16], dtype=float32)}, {'predictions': array([170407.84], dtype=float32)}, {'predictions': array([152305.17], dtype=float32)}, {'predictions': array([154738.52], dtype=float32)}, {'predictions': array([125254.52], dtype=float32)}, {'predictions': array([139949.03], dtype=float32)}, {'predictions': array([125794.87], dtype=float32)}, {'predictions': array([120799.46], dtype=float32)}, {'predictions': array([160104.64], dtype=float32)}, {'predictions': array([145178.66], dtype=float32)}, {'predictions': array([157356.66], dtype=float32)}, {'predictions': array([190873.2], dtype=float32)}, {'predictions': array([164229.86], dtype=float32)}, {'predictions': array([148472.88], dtype=float32)}, {'predictions': array([138476.7], dtype=float32)}, {'predictions': array([130079.72], dtype=float32)}, {'predictions': array([135837.62], dtype=float32)}, {'predictions': array([148420.4], dtype=float32)}, {'predictions': array([116848.695], dtype=float32)}, {'predictions': array([163993.88], dtype=float32)}, {'predictions': array([138532.88], dtype=float32)}, {'predictions': array([176936.48], dtype=float32)}, {'predictions': array([139147.66], dtype=float32)}, {'predictions': array([169233.89], dtype=float32)}, {'predictions': array([160733.44], dtype=float32)}, {'predictions': array([153222.4], dtype=float32)}, {'predictions': array([117188.66], dtype=float32)}, {'predictions': array([143697.08], dtype=float32)}, {'predictions': array([151627.84], dtype=float32)}, {'predictions': array([130852.6], dtype=float32)}, {'predictions': array([144549.78], dtype=float32)}, {'predictions': array([139796.19], dtype=float32)}, {'predictions': array([144664.58], dtype=float32)}, {'predictions': array([174485.62], dtype=float32)}, {'predictions': array([162461.89], dtype=float32)}, {'predictions': array([159272.3], dtype=float32)}, {'predictions': array([106136.72], dtype=float32)}, {'predictions': array([157405.8], dtype=float32)}, {'predictions': array([152268.36], dtype=float32)}, {'predictions': array([143521.16], dtype=float32)}, {'predictions': array([164773.06], dtype=float32)}, {'predictions': array([132730.33], dtype=float32)}, {'predictions': array([143120.95], dtype=float32)}, {'predictions': array([143749.36], dtype=float32)}, {'predictions': array([157222.12], dtype=float32)}, {'predictions': array([145469.1], dtype=float32)}, {'predictions': array([143073.45], dtype=float32)}, {'predictions': array([159112.16], dtype=float32)}, {'predictions': array([157743.44], dtype=float32)}, {'predictions': array([203025.27], dtype=float32)}, {'predictions': array([130993.28], dtype=float32)}, {'predictions': array([134532.42], dtype=float32)}, {'predictions': array([168056.7], dtype=float32)}, {'predictions': array([153470.38], dtype=float32)}, {'predictions': array([155764.28], dtype=float32)}, {'predictions': array([143819.14], dtype=float32)}, {'predictions': array([129498.67], dtype=float32)}, {'predictions': array([118566.195], dtype=float32)}, {'predictions': array([128345.04], dtype=float32)}, {'predictions': array([112793.81], dtype=float32)}, {'predictions': array([113631.555], dtype=float32)}, {'predictions': array([138314.89], dtype=float32)}, {'predictions': array([195424.61], dtype=float32)}, {'predictions': array([152892.94], dtype=float32)}, {'predictions': array([166196.89], dtype=float32)}, {'predictions': array([122874.93], dtype=float32)}, {'predictions': array([200341.1], dtype=float32)}, {'predictions': array([159349.86], dtype=float32)}, {'predictions': array([147929.7], dtype=float32)}, {'predictions': array([136855.92], dtype=float32)}, {'predictions': array([153099.78], dtype=float32)}, {'predictions': array([159855.16], dtype=float32)}, {'predictions': array([143329.1], dtype=float32)}, {'predictions': array([152689.1], dtype=float32)}, {'predictions': array([168615.36], dtype=float32)}, {'predictions': array([162147.53], dtype=float32)}, {'predictions': array([146174.06], dtype=float32)}, {'predictions': array([167254.8], dtype=float32)}, {'predictions': array([128782.43], dtype=float32)}, {'predictions': array([122063.4], dtype=float32)}, {'predictions': array([137608.22], dtype=float32)}, {'predictions': array([122844.45], dtype=float32)}, {'predictions': array([140286.27], dtype=float32)}, {'predictions': array([121656.766], dtype=float32)}, {'predictions': array([156500.73], dtype=float32)}, {'predictions': array([165069.5], dtype=float32)}, {'predictions': array([149679.33], dtype=float32)}, {'predictions': array([175754.94], dtype=float32)}, {'predictions': array([161052.62], dtype=float32)}, {'predictions': array([154160.72], dtype=float32)}, {'predictions': array([155070.45], dtype=float32)}, {'predictions': array([144873.02], dtype=float32)}, {'predictions': array([164872.14], dtype=float32)}, {'predictions': array([134648.11], dtype=float32)}, {'predictions': array([138175.73], dtype=float32)}, {'predictions': array([153336.66], dtype=float32)}, {'predictions': array([134687.22], dtype=float32)}, {'predictions': array([142288.9], dtype=float32)}, {'predictions': array([156622.], dtype=float32)}, {'predictions': array([135273.47], dtype=float32)}, {'predictions': array([196748.42], dtype=float32)}, {'predictions': array([148019.88], dtype=float32)}, {'predictions': array([144046.53], dtype=float32)}, {'predictions': array([124729.484], dtype=float32)}, {'predictions': array([162163.56], dtype=float32)}, {'predictions': array([144530.17], dtype=float32)}, {'predictions': array([146354.03], dtype=float32)}, {'predictions': array([156126.5], dtype=float32)}, {'predictions': array([141533.02], dtype=float32)}, {'predictions': array([142444.23], dtype=float32)}, {'predictions': array([129472.86], dtype=float32)}, {'predictions': array([129542.086], dtype=float32)}, {'predictions': array([152714.84], dtype=float32)}, {'predictions': array([160568.9], dtype=float32)}, {'predictions': array([151788.6], dtype=float32)}, {'predictions': array([170184.9], dtype=float32)}, {'predictions': array([159720.86], dtype=float32)}, {'predictions': array([129186.45], dtype=float32)}, {'predictions': array([120236.266], dtype=float32)}, {'predictions': array([147034.12], dtype=float32)}, {'predictions': array([144249.31], dtype=float32)}, {'predictions': array([128200.72], dtype=float32)}, {'predictions': array([147729.17], dtype=float32)}, {'predictions': array([181513.78], dtype=float32)}, {'predictions': array([212681.34], dtype=float32)}, {'predictions': array([179615.8], dtype=float32)}, {'predictions': array([128676.766], dtype=float32)}, {'predictions': array([180529.25], dtype=float32)}, {'predictions': array([127872.89], dtype=float32)}, {'predictions': array([144814.3], dtype=float32)}, {'predictions': array([142375.1], dtype=float32)}, {'predictions': array([146585.12], dtype=float32)}, {'predictions': array([192611.17], dtype=float32)}, {'predictions': array([161718.5], dtype=float32)}, {'predictions': array([163337.58], dtype=float32)}, {'predictions': array([168788.06], dtype=float32)}, {'predictions': array([179302.45], dtype=float32)}, {'predictions': array([132963.08], dtype=float32)}, {'predictions': array([155730.97], dtype=float32)}, {'predictions': array([103001.67], dtype=float32)}, {'predictions': array([151341.64], dtype=float32)}, {'predictions': array([144276.61], dtype=float32)}, {'predictions': array([109946.586], dtype=float32)}, {'predictions': array([186800.45], dtype=float32)}, {'predictions': array([169508.67], dtype=float32)}, {'predictions': array([112484.4], dtype=float32)}, {'predictions': array([133319.08], dtype=float32)}, {'predictions': array([133140.89], dtype=float32)}, {'predictions': array([160350.52], dtype=float32)}, {'predictions': array([131922.23], dtype=float32)}, {'predictions': array([151920.67], dtype=float32)}, {'predictions': array([159348.27], dtype=float32)}, {'predictions': array([114442.49], dtype=float32)}, {'predictions': array([150897.06], dtype=float32)}, {'predictions': array([129338.1], dtype=float32)}, {'predictions': array([136255.62], dtype=float32)}, {'predictions': array([132758.03], dtype=float32)}, {'predictions': array([186027.5], dtype=float32)}, {'predictions': array([199829.11], dtype=float32)}, {'predictions': array([143326.22], dtype=float32)}, {'predictions': array([156920.34], dtype=float32)}, {'predictions': array([153315.55], dtype=float32)}, {'predictions': array([164334.42], dtype=float32)}, {'predictions': array([157898.53], dtype=float32)}, {'predictions': array([158029.58], dtype=float32)}, {'predictions': array([142144.47], dtype=float32)}, {'predictions': array([146795.64], dtype=float32)}, {'predictions': array([157262.42], dtype=float32)}, {'predictions': array([126944.58], dtype=float32)}, {'predictions': array([148620.77], dtype=float32)}, {'predictions': array([168114.77], dtype=float32)}, {'predictions': array([133101.27], dtype=float32)}, {'predictions': array([151524.3], dtype=float32)}, {'predictions': array([163261.94], dtype=float32)}, {'predictions': array([152949.61], dtype=float32)}, {'predictions': array([165807.92], dtype=float32)}, {'predictions': array([116874.15], dtype=float32)}, {'predictions': array([138077.88], dtype=float32)}, {'predictions': array([153415.42], dtype=float32)}, {'predictions': array([127595.99], dtype=float32)}, {'predictions': array([157906.08], dtype=float32)}, {'predictions': array([131947.66], dtype=float32)}, {'predictions': array([178428.36], dtype=float32)}, {'predictions': array([147852.69], dtype=float32)}, {'predictions': array([122978.92], dtype=float32)}, {'predictions': array([155704.12], dtype=float32)}, {'predictions': array([165492.14], dtype=float32)}, {'predictions': array([158145.77], dtype=float32)}, {'predictions': array([165761.47], dtype=float32)}, {'predictions': array([156554.44], dtype=float32)}, {'predictions': array([174262.06], dtype=float32)}, {'predictions': array([172341.3], dtype=float32)}, {'predictions': array([153384.38], dtype=float32)}, {'predictions': array([143894.92], dtype=float32)}, {'predictions': array([141751.17], dtype=float32)}, {'predictions': array([160165.1], dtype=float32)}, {'predictions': array([156161.88], dtype=float32)}, {'predictions': array([135082.02], dtype=float32)}, {'predictions': array([130110.03], dtype=float32)}, {'predictions': array([137422.14], dtype=float32)}, {'predictions': array([156025.05], dtype=float32)}, {'predictions': array([130223.7], dtype=float32)}, {'predictions': array([141364.77], dtype=float32)}, {'predictions': array([144676.1], dtype=float32)}, {'predictions': array([108694.18], dtype=float32)}, {'predictions': array([145878.75], dtype=float32)}, {'predictions': array([130505.266], dtype=float32)}, {'predictions': array([122477.11], dtype=float32)}, {'predictions': array([145849.28], dtype=float32)}, {'predictions': array([177652.58], dtype=float32)}, {'predictions': array([162975.95], dtype=float32)}, {'predictions': array([125280.79], dtype=float32)}, {'predictions': array([156828.06], dtype=float32)}, {'predictions': array([144748.25], dtype=float32)}, {'predictions': array([146394.66], dtype=float32)}, {'predictions': array([98566.664], dtype=float32)}, {'predictions': array([192999.27], dtype=float32)}, {'predictions': array([224996.67], dtype=float32)}, {'predictions': array([165019.2], dtype=float32)}, {'predictions': array([153877.44], dtype=float32)}, {'predictions': array([110109.75], dtype=float32)}, {'predictions': array([127979.414], dtype=float32)}, {'predictions': array([140216.08], dtype=float32)}, {'predictions': array([118003.12], dtype=float32)}, {'predictions': array([129410.695], dtype=float32)}, {'predictions': array([139410.55], dtype=float32)}, {'predictions': array([136154.56], dtype=float32)}, {'predictions': array([96016.64], dtype=float32)}, {'predictions': array([165114.4], dtype=float32)}, {'predictions': array([155132.88], dtype=float32)}, {'predictions': array([131492.86], dtype=float32)}, {'predictions': array([124734.414], dtype=float32)}, {'predictions': array([147274.23], dtype=float32)}, {'predictions': array([146173.4], dtype=float32)}, {'predictions': array([150214.56], dtype=float32)}, {'predictions': array([137542.48], dtype=float32)}, {'predictions': array([170257.11], dtype=float32)}, {'predictions': array([139150.22], dtype=float32)}, {'predictions': array([138515.89], dtype=float32)}, {'predictions': array([138556.53], dtype=float32)}, {'predictions': array([146231.81], dtype=float32)}, {'predictions': array([147491.48], dtype=float32)}, {'predictions': array([162885.38], dtype=float32)}, {'predictions': array([202334.39], dtype=float32)}, {'predictions': array([189114.31], dtype=float32)}, {'predictions': array([147743.02], dtype=float32)}, {'predictions': array([133979.72], dtype=float32)}, {'predictions': array([159175.14], dtype=float32)}, {'predictions': array([149318.1], dtype=float32)}, {'predictions': array([159548.72], dtype=float32)}, {'predictions': array([157409.3], dtype=float32)}, {'predictions': array([131013.39], dtype=float32)}, {'predictions': array([155100.2], dtype=float32)}, {'predictions': array([171765.5], dtype=float32)}, {'predictions': array([155876.39], dtype=float32)}, {'predictions': array([148956.11], dtype=float32)}, {'predictions': array([118090.49], dtype=float32)}, {'predictions': array([147611.47], dtype=float32)}, {'predictions': array([162741.31], dtype=float32)}, {'predictions': array([154648.22], dtype=float32)}, {'predictions': array([112984.914], dtype=float32)}, {'predictions': array([161242.17], dtype=float32)}, {'predictions': array([170769.16], dtype=float32)}, {'predictions': array([125092.89], dtype=float32)}, {'predictions': array([136346.33], dtype=float32)}, {'predictions': array([125259.1], dtype=float32)}, {'predictions': array([129051.93], dtype=float32)}, {'predictions': array([127161.664], dtype=float32)}, {'predictions': array([157931.48], dtype=float32)}, {'predictions': array([157606.73], dtype=float32)}, {'predictions': array([146083.58], dtype=float32)}, {'predictions': array([125336.01], dtype=float32)}, {'predictions': array([120506.23], dtype=float32)}, {'predictions': array([130477.04], dtype=float32)}, {'predictions': array([128111.07], dtype=float32)}, {'predictions': array([148904.52], dtype=float32)}, {'predictions': array([161444.17], dtype=float32)}, {'predictions': array([133531.], dtype=float32)}, {'predictions': array([149640.39], dtype=float32)}, {'predictions': array([160480.94], dtype=float32)}, {'predictions': array([142601.56], dtype=float32)}, {'predictions': array([144702.5], dtype=float32)}, {'predictions': array([158160.92], dtype=float32)}, {'predictions': array([121701.52], dtype=float32)}, {'predictions': array([132487.08], dtype=float32)}, {'predictions': array([155389.69], dtype=float32)}, {'predictions': array([127431.945], dtype=float32)}, {'predictions': array([155852.92], dtype=float32)}, {'predictions': array([158325.28], dtype=float32)}, {'predictions': array([152133.81], dtype=float32)}, {'predictions': array([122694.01], dtype=float32)}, {'predictions': array([161114.8], dtype=float32)}, {'predictions': array([148505.31], dtype=float32)}, {'predictions': array([123065.62], dtype=float32)}, {'predictions': array([152719.03], dtype=float32)}, {'predictions': array([140469.52], dtype=float32)}, {'predictions': array([173489.55], dtype=float32)}, {'predictions': array([147463.78], dtype=float32)}, {'predictions': array([156104.45], dtype=float32)}, {'predictions': array([143842.75], dtype=float32)}, {'predictions': array([164619.06], dtype=float32)}, {'predictions': array([126049.15], dtype=float32)}, {'predictions': array([157151.6], dtype=float32)}, {'predictions': array([148491.19], dtype=float32)}, {'predictions': array([141578.9], dtype=float32)}, {'predictions': array([156275.6], dtype=float32)}, {'predictions': array([156366.52], dtype=float32)}, {'predictions': array([121694.61], dtype=float32)}, {'predictions': array([156411.73], dtype=float32)}, {'predictions': array([159506.86], dtype=float32)}, {'predictions': array([146080.19], dtype=float32)}, {'predictions': array([130590.234], dtype=float32)}, {'predictions': array([160797.], dtype=float32)}, {'predictions': array([144941.69], dtype=float32)}, {'predictions': array([169023.62], dtype=float32)}, {'predictions': array([134448.77], dtype=float32)}, {'predictions': array([133673.16], dtype=float32)}, {'predictions': array([160301.34], dtype=float32)}, {'predictions': array([155262.92], dtype=float32)}, {'predictions': array([129626.68], dtype=float32)}, {'predictions': array([130606.64], dtype=float32)}, {'predictions': array([147897.53], dtype=float32)}, {'predictions': array([157538.77], dtype=float32)}, {'predictions': array([155337.2], dtype=float32)}, {'predictions': array([151584.03], dtype=float32)}, {'predictions': array([112983.91], dtype=float32)}, {'predictions': array([179768.83], dtype=float32)}, {'predictions': array([150963.95], dtype=float32)}, {'predictions': array([122704.57], dtype=float32)}, {'predictions': array([147656.05], dtype=float32)}, {'predictions': array([151691.06], dtype=float32)}, {'predictions': array([151121.67], dtype=float32)}, {'predictions': array([134931.44], dtype=float32)}, {'predictions': array([137262.81], dtype=float32)}, {'predictions': array([155592.83], dtype=float32)}, {'predictions': array([156496.08], dtype=float32)}, {'predictions': array([123808.08], dtype=float32)}, {'predictions': array([151019.61], dtype=float32)}, {'predictions': array([172289.19], dtype=float32)}, {'predictions': array([125415.69], dtype=float32)}, {'predictions': array([130533.516], dtype=float32)}, {'predictions': array([146732.44], dtype=float32)}, {'predictions': array([162756.52], dtype=float32)}, {'predictions': array([187824.84], dtype=float32)}, {'predictions': array([150144.03], dtype=float32)}, {'predictions': array([167210.58], dtype=float32)}, {'predictions': array([147713.08], dtype=float32)}, {'predictions': array([139555.64], dtype=float32)}, {'predictions': array([187602.53], dtype=float32)}, {'predictions': array([178288.25], dtype=float32)}, {'predictions': array([166790.67], dtype=float32)}, {'predictions': array([141497.31], dtype=float32)}, {'predictions': array([179455.47], dtype=float32)}, {'predictions': array([142945.6], dtype=float32)}, {'predictions': array([149117.23], dtype=float32)}, {'predictions': array([134254.81], dtype=float32)}, {'predictions': array([134795.16], dtype=float32)}, {'predictions': array([157678.17], dtype=float32)}, {'predictions': array([110980.734], dtype=float32)}, {'predictions': array([137263.36], dtype=float32)}, {'predictions': array([166090.39], dtype=float32)}, {'predictions': array([157925.98], dtype=float32)}, {'predictions': array([139427.86], dtype=float32)}, {'predictions': array([147783.39], dtype=float32)}, {'predictions': array([174483.14], dtype=float32)}, {'predictions': array([165850.11], dtype=float32)}, {'predictions': array([158262.77], dtype=float32)}, {'predictions': array([129222.21], dtype=float32)}, {'predictions': array([160370.44], dtype=float32)}, {'predictions': array([133492.83], dtype=float32)}, {'predictions': array([128669.04], dtype=float32)}, {'predictions': array([132740.33], dtype=float32)}, {'predictions': array([178501.2], dtype=float32)}, {'predictions': array([163835.36], dtype=float32)}, {'predictions': array([116446.49], dtype=float32)}, {'predictions': array([136071.56], dtype=float32)}, {'predictions': array([169155.62], dtype=float32)}, {'predictions': array([139183.67], dtype=float32)}, {'predictions': array([154029.3], dtype=float32)}, {'predictions': array([156415.77], dtype=float32)}, {'predictions': array([125275.37], dtype=float32)}, {'predictions': array([158322.12], dtype=float32)}, {'predictions': array([160355.2], dtype=float32)}, {'predictions': array([127203.89], dtype=float32)}, {'predictions': array([147704.48], dtype=float32)}, {'predictions': array([139957.23], dtype=float32)}, {'predictions': array([180256.42], dtype=float32)}, {'predictions': array([156244.42], dtype=float32)}, {'predictions': array([150980.55], dtype=float32)}, {'predictions': array([153893.61], dtype=float32)}, {'predictions': array([155028.89], dtype=float32)}, {'predictions': array([126125.766], dtype=float32)}, {'predictions': array([138882.69], dtype=float32)}, {'predictions': array([122344.9], dtype=float32)}, {'predictions': array([157691.14], dtype=float32)}, {'predictions': array([153535.19], dtype=float32)}, {'predictions': array([140675.14], dtype=float32)}, {'predictions': array([122644.09], dtype=float32)}, {'predictions': array([151479.05], dtype=float32)}, {'predictions': array([149942.53], dtype=float32)}, {'predictions': array([158723.89], dtype=float32)}, {'predictions': array([154544.73], dtype=float32)}, {'predictions': array([146256.06], dtype=float32)}, {'predictions': array([131745.58], dtype=float32)}, {'predictions': array([103783.27], dtype=float32)}, {'predictions': array([150877.38], dtype=float32)}, {'predictions': array([158067.83], dtype=float32)}, {'predictions': array([137789.67], dtype=float32)}, {'predictions': array([153774.3], dtype=float32)}, {'predictions': array([81501.766], dtype=float32)}, {'predictions': array([141358.8], dtype=float32)}, {'predictions': array([143217.44], dtype=float32)}, {'predictions': array([145881.86], dtype=float32)}, {'predictions': array([156069.39], dtype=float32)}, {'predictions': array([126451.67], dtype=float32)}, {'predictions': array([136884.84], dtype=float32)}, {'predictions': array([160000.47], dtype=float32)}, {'predictions': array([148016.78], dtype=float32)}, {'predictions': array([133302.6], dtype=float32)}, {'predictions': array([127803.445], dtype=float32)}, {'predictions': array([134079.94], dtype=float32)}, {'predictions': array([147429.52], dtype=float32)}, {'predictions': array([124281.234], dtype=float32)}, {'predictions': array([144013.98], dtype=float32)}, {'predictions': array([188888.4], dtype=float32)}, {'predictions': array([163767.3], dtype=float32)}, {'predictions': array([110865.95], dtype=float32)}, {'predictions': array([137887.88], dtype=float32)}, {'predictions': array([125948.5], dtype=float32)}, {'predictions': array([143004.39], dtype=float32)}, {'predictions': array([134928.42], dtype=float32)}, {'predictions': array([136731.], dtype=float32)}, {'predictions': array([118128.89], dtype=float32)}, {'predictions': array([186834.23], dtype=float32)}, {'predictions': array([136716.6], dtype=float32)}, {'predictions': array([173677.95], dtype=float32)}, {'predictions': array([101404.34], dtype=float32)}, {'predictions': array([135785.42], dtype=float32)}, {'predictions': array([157013.3], dtype=float32)}, {'predictions': array([138941.66], dtype=float32)}, {'predictions': array([149637.75], dtype=float32)}, {'predictions': array([164151.11], dtype=float32)}, {'predictions': array([171206.84], dtype=float32)}, {'predictions': array([163864.17], dtype=float32)}, {'predictions': array([163800.19], dtype=float32)}, {'predictions': array([173204.52], dtype=float32)}, {'predictions': array([164068.66], dtype=float32)}, {'predictions': array([147502.22], dtype=float32)}, {'predictions': array([165058.8], dtype=float32)}, {'predictions': array([141526.94], dtype=float32)}, {'predictions': array([158923.44], dtype=float32)}, {'predictions': array([140582.8], dtype=float32)}, {'predictions': array([167274.64], dtype=float32)}, {'predictions': array([150593.11], dtype=float32)}, {'predictions': array([150929.2], dtype=float32)}, {'predictions': array([137543.69], dtype=float32)}, {'predictions': array([170066.8], dtype=float32)}, {'predictions': array([128536.85], dtype=float32)}, {'predictions': array([132646.69], dtype=float32)}, {'predictions': array([156405.23], dtype=float32)}, {'predictions': array([123437.35], dtype=float32)}, {'predictions': array([145582.6], dtype=float32)}, {'predictions': array([139141.47], dtype=float32)}, {'predictions': array([161998.73], dtype=float32)}, {'predictions': array([166251.97], dtype=float32)}, {'predictions': array([163883.48], dtype=float32)}, {'predictions': array([158969.67], dtype=float32)}, {'predictions': array([168404.08], dtype=float32)}, {'predictions': array([159040.38], dtype=float32)}, {'predictions': array([126813.06], dtype=float32)}, {'predictions': array([180442.66], dtype=float32)}, {'predictions': array([169970.03], dtype=float32)}, {'predictions': array([130910.48], dtype=float32)}, {'predictions': array([154217.77], dtype=float32)}, {'predictions': array([128187.48], dtype=float32)}, {'predictions': array([148303.95], dtype=float32)}, {'predictions': array([127290.695], dtype=float32)}, {'predictions': array([137460.86], dtype=float32)}, {'predictions': array([146456.97], dtype=float32)}, {'predictions': array([107635.5], dtype=float32)}, {'predictions': array([127266.87], dtype=float32)}, {'predictions': array([127735.84], dtype=float32)}, {'predictions': array([120996.44], dtype=float32)}, {'predictions': array([181978.17], dtype=float32)}, {'predictions': array([130165.08], dtype=float32)}, {'predictions': array([174392.52], dtype=float32)}, {'predictions': array([144330.53], dtype=float32)}, {'predictions': array([141297.56], dtype=float32)}, {'predictions': array([170101.2], dtype=float32)}, {'predictions': array([138772.95], dtype=float32)}, {'predictions': array([163110.6], dtype=float32)}, {'predictions': array([147626.7], dtype=float32)}, {'predictions': array([158890.39], dtype=float32)}, {'predictions': array([158981.72], dtype=float32)}, {'predictions': array([117606.14], dtype=float32)}, {'predictions': array([202029.69], dtype=float32)}, {'predictions': array([164588.9], dtype=float32)}, {'predictions': array([128758.17], dtype=float32)}, {'predictions': array([156635.69], dtype=float32)}, {'predictions': array([174718.39], dtype=float32)}, {'predictions': array([150158.69], dtype=float32)}, {'predictions': array([135042.28], dtype=float32)}, {'predictions': array([163618.17], dtype=float32)}, {'predictions': array([149460.19], dtype=float32)}, {'predictions': array([160255.44], dtype=float32)}, {'predictions': array([113374.78], dtype=float32)}, {'predictions': array([159456.95], dtype=float32)}, {'predictions': array([143335.66], dtype=float32)}, {'predictions': array([139864.53], dtype=float32)}, {'predictions': array([147368.94], dtype=float32)}, {'predictions': array([152621.92], dtype=float32)}, {'predictions': array([175398.39], dtype=float32)}, {'predictions': array([163281.4], dtype=float32)}, {'predictions': array([163592.55], dtype=float32)}, {'predictions': array([132979.48], dtype=float32)}, {'predictions': array([165155.12], dtype=float32)}, {'predictions': array([165332.66], dtype=float32)}, {'predictions': array([171236.5], dtype=float32)}, {'predictions': array([139132.83], dtype=float32)}, {'predictions': array([148962.7], dtype=float32)}, {'predictions': array([178935.27], dtype=float32)}, {'predictions': array([137001.11], dtype=float32)}, {'predictions': array([141939.23], dtype=float32)}, {'predictions': array([185209.14], dtype=float32)}, {'predictions': array([151376.86], dtype=float32)}, {'predictions': array([160110.23], dtype=float32)}, {'predictions': array([153729.62], dtype=float32)}, {'predictions': array([115769.35], dtype=float32)}, {'predictions': array([156903.8], dtype=float32)}, {'predictions': array([142831.27], dtype=float32)}, {'predictions': array([167206.95], dtype=float32)}, {'predictions': array([155691.94], dtype=float32)}, {'predictions': array([151171.95], dtype=float32)}, {'predictions': array([189248.7], dtype=float32)}, {'predictions': array([149625.33], dtype=float32)}, {'predictions': array([139698.67], dtype=float32)}, {'predictions': array([201610.11], dtype=float32)}, {'predictions': array([178121.08], dtype=float32)}, {'predictions': array([163979.86], dtype=float32)}, {'predictions': array([178539.98], dtype=float32)}, {'predictions': array([155456.45], dtype=float32)}, {'predictions': array([185103.7], dtype=float32)}, {'predictions': array([127109.57], dtype=float32)}, {'predictions': array([117116.15], dtype=float32)}, {'predictions': array([156710.22], dtype=float32)}, {'predictions': array([163211.31], dtype=float32)}, {'predictions': array([150676.84], dtype=float32)}, {'predictions': array([146736.34], dtype=float32)}, {'predictions': array([139240.27], dtype=float32)}, {'predictions': array([127708.98], dtype=float32)}, {'predictions': array([158737.25], dtype=float32)}, {'predictions': array([146116.08], dtype=float32)}, {'predictions': array([111780.2], dtype=float32)}, {'predictions': array([164890.08], dtype=float32)}, {'predictions': array([187656.], dtype=float32)}, {'predictions': array([173813.9], dtype=float32)}, {'predictions': array([139302.97], dtype=float32)}, {'predictions': array([145625.88], dtype=float32)}, {'predictions': array([124195.29], dtype=float32)}, {'predictions': array([165260.64], dtype=float32)}, {'predictions': array([170002.81], dtype=float32)}, {'predictions': array([124465.766], dtype=float32)}, {'predictions': array([127108.8], dtype=float32)}, {'predictions': array([133393.27], dtype=float32)}, {'predictions': array([160811.94], dtype=float32)}, {'predictions': array([152195.08], dtype=float32)}, {'predictions': array([148731.94], dtype=float32)}, {'predictions': array([167977.03], dtype=float32)}, {'predictions': array([146290.42], dtype=float32)}, {'predictions': array([137292.55], dtype=float32)}, {'predictions': array([139500.84], dtype=float32)}, {'predictions': array([134066.22], dtype=float32)}, {'predictions': array([152325.23], dtype=float32)}, {'predictions': array([161954.55], dtype=float32)}, {'predictions': array([155146.9], dtype=float32)}, {'predictions': array([146983.8], dtype=float32)}, {'predictions': array([165265.4], dtype=float32)}, {'predictions': array([187607.28], dtype=float32)}, {'predictions': array([153287.92], dtype=float32)}, {'predictions': array([147783.5], dtype=float32)}, {'predictions': array([183256.4], dtype=float32)}, {'predictions': array([135033.1], dtype=float32)}, {'predictions': array([139771.78], dtype=float32)}, {'predictions': array([169525.6], dtype=float32)}, {'predictions': array([150064.14], dtype=float32)}, {'predictions': array([159129.33], dtype=float32)}, {'predictions': array([182335.12], dtype=float32)}, {'predictions': array([120215.49], dtype=float32)}, {'predictions': array([119142.07], dtype=float32)}, {'predictions': array([159639.75], dtype=float32)}, {'predictions': array([143964.86], dtype=float32)}, {'predictions': array([150248.52], dtype=float32)}, {'predictions': array([176622.28], dtype=float32)}, {'predictions': array([159946.75], dtype=float32)}, {'predictions': array([139350.53], dtype=float32)}, {'predictions': array([136283.44], dtype=float32)}, {'predictions': array([159245.64], dtype=float32)}, {'predictions': array([115888.92], dtype=float32)}, {'predictions': array([148490.38], dtype=float32)}, {'predictions': array([168997.31], dtype=float32)}, {'predictions': array([150018.9], dtype=float32)}, {'predictions': array([176379.11], dtype=float32)}, {'predictions': array([139758.16], dtype=float32)}, {'predictions': array([167576.27], dtype=float32)}, {'predictions': array([132069.97], dtype=float32)}, {'predictions': array([143730.3], dtype=float32)}, {'predictions': array([153501.06], dtype=float32)}, {'predictions': array([139748.69], dtype=float32)}, {'predictions': array([152319.61], dtype=float32)}, {'predictions': array([157051.78], dtype=float32)}, {'predictions': array([157324.98], dtype=float32)}, {'predictions': array([152189.19], dtype=float32)}, {'predictions': array([144678.83], dtype=float32)}, {'predictions': array([149550.98], dtype=float32)}, {'predictions': array([151982.67], dtype=float32)}, {'predictions': array([163518.9], dtype=float32)}, {'predictions': array([144621.23], dtype=float32)}, {'predictions': array([149564.28], dtype=float32)}, {'predictions': array([149579.89], dtype=float32)}, {'predictions': array([143116.84], dtype=float32)}, {'predictions': array([120830.87], dtype=float32)}, {'predictions': array([141079.16], dtype=float32)}, {'predictions': array([181855.08], dtype=float32)}, {'predictions': array([132415.86], dtype=float32)}, {'predictions': array([130217.99], dtype=float32)}, {'predictions': array([130099.91], dtype=float32)}, {'predictions': array([179368.69], dtype=float32)}, {'predictions': array([198493.36], dtype=float32)}, {'predictions': array([147517.98], dtype=float32)}, {'predictions': array([144344.58], dtype=float32)}, {'predictions': array([135517.81], dtype=float32)}, {'predictions': array([127817.07], dtype=float32)}, {'predictions': array([138502.9], dtype=float32)}, {'predictions': array([146932.38], dtype=float32)}, {'predictions': array([159876.84], dtype=float32)}, {'predictions': array([172968.08], dtype=float32)}, {'predictions': array([151609.42], dtype=float32)}, {'predictions': array([166101.4], dtype=float32)}, {'predictions': array([141687.02], dtype=float32)}, {'predictions': array([149002.02], dtype=float32)}, {'predictions': array([138091.], dtype=float32)}, {'predictions': array([159962.69], dtype=float32)}, {'predictions': array([144828.72], dtype=float32)}, {'predictions': array([148232.97], dtype=float32)}, {'predictions': array([150802.97], dtype=float32)}, {'predictions': array([118939.86], dtype=float32)}, {'predictions': array([162878.14], dtype=float32)}, {'predictions': array([138775.03], dtype=float32)}, {'predictions': array([183073.4], dtype=float32)}, {'predictions': array([165055.39], dtype=float32)}, {'predictions': array([162238.1], dtype=float32)}, {'predictions': array([153262.6], dtype=float32)}, {'predictions': array([156548.2], dtype=float32)}, {'predictions': array([123838.23], dtype=float32)}, {'predictions': array([177689.33], dtype=float32)}, {'predictions': array([181082.47], dtype=float32)}, {'predictions': array([139111.17], dtype=float32)}, {'predictions': array([156522.44], dtype=float32)}, {'predictions': array([151792.5], dtype=float32)}, {'predictions': array([123596.1], dtype=float32)}, {'predictions': array([158405.06], dtype=float32)}, {'predictions': array([201712.48], dtype=float32)}, {'predictions': array([136371.95], dtype=float32)}, {'predictions': array([138998.5], dtype=float32)}, {'predictions': array([127711.12], dtype=float32)}, {'predictions': array([139511.45], dtype=float32)}, {'predictions': array([164750.98], dtype=float32)}, {'predictions': array([122750.82], dtype=float32)}, {'predictions': array([163538.69], dtype=float32)}, {'predictions': array([153940.12], dtype=float32)}, {'predictions': array([183613.67], dtype=float32)}, {'predictions': array([140319.89], dtype=float32)}, {'predictions': array([130887.12], dtype=float32)}, {'predictions': array([123157.32], dtype=float32)}, {'predictions': array([148208.53], dtype=float32)}, {'predictions': array([167831.61], dtype=float32)}, {'predictions': array([164364.98], dtype=float32)}, {'predictions': array([183985.22], dtype=float32)}, {'predictions': array([195203.81], dtype=float32)}, {'predictions': array([156130.61], dtype=float32)}, {'predictions': array([188752.44], dtype=float32)}, {'predictions': array([136965.53], dtype=float32)}, {'predictions': array([157497.4], dtype=float32)}, {'predictions': array([149078.11], dtype=float32)}, {'predictions': array([147144.36], dtype=float32)}, {'predictions': array([114199.15], dtype=float32)}, {'predictions': array([133659.02], dtype=float32)}, {'predictions': array([131969.22], dtype=float32)}, {'predictions': array([129057.76], dtype=float32)}, {'predictions': array([158354.78], dtype=float32)}, {'predictions': array([171065.34], dtype=float32)}, {'predictions': array([136801.97], dtype=float32)}, {'predictions': array([141454.38], dtype=float32)}, {'predictions': array([155956.73], dtype=float32)}, {'predictions': array([162456.22], dtype=float32)}, {'predictions': array([166168.11], dtype=float32)}, {'predictions': array([135033.02], dtype=float32)}, {'predictions': array([127532.164], dtype=float32)}, {'predictions': array([129759.664], dtype=float32)}, {'predictions': array([136532.83], dtype=float32)}, {'predictions': array([165264.52], dtype=float32)}, {'predictions': array([125159.086], dtype=float32)}, {'predictions': array([152660.27], dtype=float32)}, {'predictions': array([115529.13], dtype=float32)}, {'predictions': array([157356.95], dtype=float32)}, {'predictions': array([153285.92], dtype=float32)}, {'predictions': array([149862.33], dtype=float32)}, {'predictions': array([152726.6], dtype=float32)}, {'predictions': array([129110.17], dtype=float32)}, {'predictions': array([151416.11], dtype=float32)}, {'predictions': array([184576.52], dtype=float32)}, {'predictions': array([137864.47], dtype=float32)}, {'predictions': array([140949.92], dtype=float32)}, {'predictions': array([111247.016], dtype=float32)}, {'predictions': array([127663.41], dtype=float32)}, {'predictions': array([160021.22], dtype=float32)}, {'predictions': array([161585.81], dtype=float32)}, {'predictions': array([140599.33], dtype=float32)}, {'predictions': array([159868.19], dtype=float32)}, {'predictions': array([137344.7], dtype=float32)}, {'predictions': array([159951.05], dtype=float32)}, {'predictions': array([153095.67], dtype=float32)}, {'predictions': array([106958.26], dtype=float32)}, {'predictions': array([130754.19], dtype=float32)}, {'predictions': array([163395.23], dtype=float32)}, {'predictions': array([146522.94], dtype=float32)}, {'predictions': array([129161.62], dtype=float32)}, {'predictions': array([163970.69], dtype=float32)}, {'predictions': array([137125.78], dtype=float32)}, {'predictions': array([158224.92], dtype=float32)}, {'predictions': array([139123.4], dtype=float32)}, {'predictions': array([133611.86], dtype=float32)}, {'predictions': array([220455.66], dtype=float32)}, {'predictions': array([180397.4], dtype=float32)}, {'predictions': array([121853.34], dtype=float32)}, {'predictions': array([129540.06], dtype=float32)}, {'predictions': array([138037.62], dtype=float32)}, {'predictions': array([144820.98], dtype=float32)}, {'predictions': array([133048.31], dtype=float32)}, {'predictions': array([172169.25], dtype=float32)}, {'predictions': array([147309.12], dtype=float32)}, {'predictions': array([132571.44], dtype=float32)}, {'predictions': array([145288.53], dtype=float32)}, {'predictions': array([150666.6], dtype=float32)}, {'predictions': array([146146.22], dtype=float32)}, {'predictions': array([126781.45], dtype=float32)}, {'predictions': array([145027.61], dtype=float32)}, {'predictions': array([161820.53], dtype=float32)}, {'predictions': array([172941.05], dtype=float32)}, {'predictions': array([147235.62], dtype=float32)}, {'predictions': array([142689.28], dtype=float32)}, {'predictions': array([133401.1], dtype=float32)}, {'predictions': array([156079.55], dtype=float32)}, {'predictions': array([131579.83], dtype=float32)}, {'predictions': array([166479.47], dtype=float32)}, {'predictions': array([148171.11], dtype=float32)}, {'predictions': array([141526.52], dtype=float32)}, {'predictions': array([161621.98], dtype=float32)}, {'predictions': array([162602.66], dtype=float32)}, {'predictions': array([139219.88], dtype=float32)}, {'predictions': array([171682.77], dtype=float32)}, {'predictions': array([200010.55], dtype=float32)}, {'predictions': array([131352.64], dtype=float32)}, {'predictions': array([164850.28], dtype=float32)}, {'predictions': array([158347.6], dtype=float32)}, {'predictions': array([151845.64], dtype=float32)}, {'predictions': array([182044.8], dtype=float32)}, {'predictions': array([182938.67], dtype=float32)}, {'predictions': array([133858.38], dtype=float32)}, {'predictions': array([148990.34], dtype=float32)}, {'predictions': array([150818.3], dtype=float32)}, {'predictions': array([164184.2], dtype=float32)}, {'predictions': array([117515.36], dtype=float32)}, {'predictions': array([157070.61], dtype=float32)}, {'predictions': array([149349.03], dtype=float32)}, {'predictions': array([133620.08], dtype=float32)}, {'predictions': array([168936.69], dtype=float32)}, {'predictions': array([158242.67], dtype=float32)}, {'predictions': array([158915.47], dtype=float32)}, {'predictions': array([162967.94], dtype=float32)}, {'predictions': array([124959.11], dtype=float32)}, {'predictions': array([145820.11], dtype=float32)}, {'predictions': array([130402.27], dtype=float32)}, {'predictions': array([185320.5], dtype=float32)}, {'predictions': array([151597.88], dtype=float32)}, {'predictions': array([149492.77], dtype=float32)}, {'predictions': array([166518.11], dtype=float32)}, {'predictions': array([122414.88], dtype=float32)}, {'predictions': array([151678.55], dtype=float32)}, {'predictions': array([138561.11], dtype=float32)}, {'predictions': array([132213.95], dtype=float32)}, {'predictions': array([132320.84], dtype=float32)}, {'predictions': array([179162.73], dtype=float32)}, {'predictions': array([157063.23], dtype=float32)}, {'predictions': array([151172.52], dtype=float32)}, {'predictions': array([147828.98], dtype=float32)}, {'predictions': array([154458.47], dtype=float32)}, {'predictions': array([114556.71], dtype=float32)}, {'predictions': array([126452.805], dtype=float32)}, {'predictions': array([153589.69], dtype=float32)}, {'predictions': array([133616.4], dtype=float32)}, {'predictions': array([128503.1], dtype=float32)}, {'predictions': array([150057.22], dtype=float32)}, {'predictions': array([131352.69], dtype=float32)}, {'predictions': array([161329.72], dtype=float32)}, {'predictions': array([175682.53], dtype=float32)}, {'predictions': array([118161.61], dtype=float32)}, {'predictions': array([138091.11], dtype=float32)}, {'predictions': array([143883.86], dtype=float32)}, {'predictions': array([139030.14], dtype=float32)}, {'predictions': array([133820.4], dtype=float32)}, {'predictions': array([145939.9], dtype=float32)}, {'predictions': array([167336.61], dtype=float32)}, {'predictions': array([151951.67], dtype=float32)}, {'predictions': array([156545.45], dtype=float32)}, {'predictions': array([140687.83], dtype=float32)}, {'predictions': array([105837.67], dtype=float32)}, {'predictions': array([129096.22], dtype=float32)}, {'predictions': array([164028.98], dtype=float32)}, {'predictions': array([110220.96], dtype=float32)}, {'predictions': array([135195.53], dtype=float32)}, {'predictions': array([138851.58], dtype=float32)}, {'predictions': array([176385.73], dtype=float32)}, {'predictions': array([122265.83], dtype=float32)}, {'predictions': array([118431.32], dtype=float32)}, {'predictions': array([184328.77], dtype=float32)}, {'predictions': array([204681.98], dtype=float32)}, {'predictions': array([167665.25], dtype=float32)}, {'predictions': array([141838.22], dtype=float32)}, {'predictions': array([169856.27], dtype=float32)}, {'predictions': array([161516.14], dtype=float32)}, {'predictions': array([150050.25], dtype=float32)}, {'predictions': array([153893.73], dtype=float32)}, {'predictions': array([157880.66], dtype=float32)}, {'predictions': array([150626.05], dtype=float32)}, {'predictions': array([149040.78], dtype=float32)}, {'predictions': array([197560.19], dtype=float32)}, {'predictions': array([147807.11], dtype=float32)}, {'predictions': array([127201.53], dtype=float32)}, {'predictions': array([128748.086], dtype=float32)}, {'predictions': array([191447.], dtype=float32)}, {'predictions': array([199867.95], dtype=float32)}, {'predictions': array([127044.89], dtype=float32)}, {'predictions': array([134564.25], dtype=float32)}, {'predictions': array([155367.44], dtype=float32)}, {'predictions': array([170353.23], dtype=float32)}, {'predictions': array([150959.88], dtype=float32)}, {'predictions': array([128525.29], dtype=float32)}, {'predictions': array([132900.22], dtype=float32)}, {'predictions': array([162133.12], dtype=float32)}, {'predictions': array([158101.86], dtype=float32)}, {'predictions': array([157366.83], dtype=float32)}, {'predictions': array([144091.27], dtype=float32)}, {'predictions': array([162131.61], dtype=float32)}, {'predictions': array([143910.], dtype=float32)}, {'predictions': array([175686.62], dtype=float32)}, {'predictions': array([124828.05], dtype=float32)}, {'predictions': array([148234.56], dtype=float32)}, {'predictions': array([150124.52], dtype=float32)}, {'predictions': array([158034.45], dtype=float32)}, {'predictions': array([105086.38], dtype=float32)}, {'predictions': array([122343.016], dtype=float32)}, {'predictions': array([134165.25], dtype=float32)}, {'predictions': array([133480.1], dtype=float32)}, {'predictions': array([147832.33], dtype=float32)}, {'predictions': array([160365.3], dtype=float32)}, {'predictions': array([147807.64], dtype=float32)}, {'predictions': array([120382.234], dtype=float32)}, {'predictions': array([124623.52], dtype=float32)}, {'predictions': array([244142.3], dtype=float32)}, {'predictions': array([126914.7], dtype=float32)}, {'predictions': array([126649.17], dtype=float32)}, {'predictions': array([129749.91], dtype=float32)}, {'predictions': array([98667.17], dtype=float32)}, {'predictions': array([132442.8], dtype=float32)}, {'predictions': array([160698.47], dtype=float32)}, {'predictions': array([156679.67], dtype=float32)}, {'predictions': array([160937.12], dtype=float32)}, {'predictions': array([125509.42], dtype=float32)}, {'predictions': array([153385.88], dtype=float32)}, {'predictions': array([174231.31], dtype=float32)}, {'predictions': array([131297.31], dtype=float32)}, {'predictions': array([165830.14], dtype=float32)}, {'predictions': array([136288.44], dtype=float32)}, {'predictions': array([155529.78], dtype=float32)}, {'predictions': array([149729.92], dtype=float32)}, {'predictions': array([115387.01], dtype=float32)}, {'predictions': array([147152.92], dtype=float32)}, {'predictions': array([128029.26], dtype=float32)}, {'predictions': array([153608.1], dtype=float32)}, {'predictions': array([149749.02], dtype=float32)}, {'predictions': array([209296.83], dtype=float32)}, {'predictions': array([156689.89], dtype=float32)}, {'predictions': array([182192.25], dtype=float32)}, {'predictions': array([166917.7], dtype=float32)}, {'predictions': array([129720.164], dtype=float32)}, {'predictions': array([181881.23], dtype=float32)}, {'predictions': array([156119.14], dtype=float32)}, {'predictions': array([169193.45], dtype=float32)}, {'predictions': array([164123.98], dtype=float32)}, {'predictions': array([126395.14], dtype=float32)}, {'predictions': array([150885.83], dtype=float32)}, {'predictions': array([139847.2], dtype=float32)}, {'predictions': array([152811.19], dtype=float32)}, {'predictions': array([134040.27], dtype=float32)}, {'predictions': array([133033.89], dtype=float32)}, {'predictions': array([203079.69], dtype=float32)}, {'predictions': array([171864.77], dtype=float32)}, {'predictions': array([166406.55], dtype=float32)}, {'predictions': array([156875.61], dtype=float32)}, {'predictions': array([153640.66], dtype=float32)}, {'predictions': array([154412.9], dtype=float32)}, {'predictions': array([173197.88], dtype=float32)}, {'predictions': array([154680.73], dtype=float32)}, {'predictions': array([150281.48], dtype=float32)}, {'predictions': array([159329.97], dtype=float32)}, {'predictions': array([181569.2], dtype=float32)}, {'predictions': array([208556.98], dtype=float32)}, {'predictions': array([147764.89], dtype=float32)}, {'predictions': array([214546.03], dtype=float32)}, {'predictions': array([137390.06], dtype=float32)}, {'predictions': array([183910.86], dtype=float32)}, {'predictions': array([123282.96], dtype=float32)}, {'predictions': array([152566.8], dtype=float32)}, {'predictions': array([159522.31], dtype=float32)}, {'predictions': array([164149.44], dtype=float32)}, {'predictions': array([127862.555], dtype=float32)}, {'predictions': array([153931.47], dtype=float32)}, {'predictions': array([181659.16], dtype=float32)}, {'predictions': array([153204.81], dtype=float32)}, {'predictions': array([145823.67], dtype=float32)}, {'predictions': array([138653.45], dtype=float32)}, {'predictions': array([142783.61], dtype=float32)}, {'predictions': array([133089.83], dtype=float32)}, {'predictions': array([147717.19], dtype=float32)}, {'predictions': array([147368.95], dtype=float32)}, {'predictions': array([149006.94], dtype=float32)}, {'predictions': array([162049.64], dtype=float32)}, {'predictions': array([145413.7], dtype=float32)}, {'predictions': array([148544.61], dtype=float32)}, {'predictions': array([133989.42], dtype=float32)}, {'predictions': array([138407.05], dtype=float32)}, {'predictions': array([141031.11], dtype=float32)}, {'predictions': array([155338.86], dtype=float32)}, {'predictions': array([133538.6], dtype=float32)}, {'predictions': array([164721.2], dtype=float32)}, {'predictions': array([179574.08], dtype=float32)}, {'predictions': array([146684.31], dtype=float32)}, {'predictions': array([101257.58], dtype=float32)}, {'predictions': array([157163.56], dtype=float32)}, {'predictions': array([139823.45], dtype=float32)}, {'predictions': array([164700.], dtype=float32)}, {'predictions': array([141853.06], dtype=float32)}, {'predictions': array([287650.06], dtype=float32)}, {'predictions': array([126659.74], dtype=float32)}, {'predictions': array([145999.73], dtype=float32)}, {'predictions': array([176402.92], dtype=float32)}, {'predictions': array([178569.47], dtype=float32)}, {'predictions': array([150241.31], dtype=float32)}, {'predictions': array([185677.25], dtype=float32)}, {'predictions': array([148084.42], dtype=float32)}, {'predictions': array([173353.3], dtype=float32)}, {'predictions': array([164706.22], dtype=float32)}, {'predictions': array([159386.1], dtype=float32)}, {'predictions': array([160392.78], dtype=float32)}, {'predictions': array([119555.34], dtype=float32)}, {'predictions': array([161635.9], dtype=float32)}, {'predictions': array([166257.94], dtype=float32)}, {'predictions': array([155325.97], dtype=float32)}, {'predictions': array([126765.78], dtype=float32)}, {'predictions': array([170395.9], dtype=float32)}, {'predictions': array([178388.03], dtype=float32)}, {'predictions': array([137499.39], dtype=float32)}, {'predictions': array([158370.55], dtype=float32)}, {'predictions': array([194270.11], dtype=float32)}, {'predictions': array([145261.9], dtype=float32)}, {'predictions': array([163842.1], dtype=float32)}, {'predictions': array([190949.52], dtype=float32)}, {'predictions': array([157345.06], dtype=float32)}, {'predictions': array([149688.58], dtype=float32)}, {'predictions': array([132942.22], dtype=float32)}, {'predictions': array([129859.49], dtype=float32)}, {'predictions': array([138447.19], dtype=float32)}, {'predictions': array([124585.22], dtype=float32)}, {'predictions': array([173374.06], dtype=float32)}, {'predictions': array([138787.89], dtype=float32)}, {'predictions': array([105007.83], dtype=float32)}, {'predictions': array([238696.78], dtype=float32)}, {'predictions': array([157149.92], dtype=float32)}, {'predictions': array([182742.28], dtype=float32)}, {'predictions': array([147204.69], dtype=float32)}, {'predictions': array([227082.12], dtype=float32)}, {'predictions': array([145411.39], dtype=float32)}, {'predictions': array([170969.36], dtype=float32)}, {'predictions': array([144635.64], dtype=float32)}, {'predictions': array([139992.39], dtype=float32)}, {'predictions': array([163421.5], dtype=float32)}, {'predictions': array([191867.61], dtype=float32)}, {'predictions': array([153065.45], dtype=float32)}, {'predictions': array([103560.68], dtype=float32)}, {'predictions': array([139973.69], dtype=float32)}, {'predictions': array([145565.67], dtype=float32)}, {'predictions': array([161690.7], dtype=float32)}, {'predictions': array([161419.73], dtype=float32)}, {'predictions': array([180781.45], dtype=float32)}, {'predictions': array([152579.84], dtype=float32)}, {'predictions': array([128023.69], dtype=float32)}, {'predictions': array([172190.34], dtype=float32)}, {'predictions': array([148661.38], dtype=float32)}, {'predictions': array([146364.05], dtype=float32)}, {'predictions': array([144366.97], dtype=float32)}, {'predictions': array([162717.28], dtype=float32)}, {'predictions': array([136806.73], dtype=float32)}, {'predictions': array([146489.92], dtype=float32)}, {'predictions': array([143886.19], dtype=float32)}, {'predictions': array([157663.56], dtype=float32)}, {'predictions': array([131512.05], dtype=float32)}, {'predictions': array([154953.89], dtype=float32)}, {'predictions': array([158659.73], dtype=float32)}, {'predictions': array([176532.36], dtype=float32)}, {'predictions': array([187359.44], dtype=float32)}, {'predictions': array([140164.27], dtype=float32)}, {'predictions': array([115647.15], dtype=float32)}, {'predictions': array([148144.75], dtype=float32)}, {'predictions': array([151650.84], dtype=float32)}, {'predictions': array([156977.31], dtype=float32)}, {'predictions': array([169973.83], dtype=float32)}, {'predictions': array([154500.73], dtype=float32)}, {'predictions': array([145231.02], dtype=float32)}, {'predictions': array([147606.42], dtype=float32)}, {'predictions': array([157978.7], dtype=float32)}, {'predictions': array([131237.36], dtype=float32)}, {'predictions': array([164063.31], dtype=float32)}, {'predictions': array([155041.97], dtype=float32)}, {'predictions': array([163437.48], dtype=float32)}, {'predictions': array([144988.56], dtype=float32)}, {'predictions': array([128263.39], dtype=float32)}, {'predictions': array([163994.34], dtype=float32)}, {'predictions': array([133319.34], dtype=float32)}, {'predictions': array([161628.97], dtype=float32)}, {'predictions': array([153175.16], dtype=float32)}, {'predictions': array([146219.69], dtype=float32)}, {'predictions': array([152410.39], dtype=float32)}, {'predictions': array([156914.47], dtype=float32)}, {'predictions': array([163131.28], dtype=float32)}, {'predictions': array([136702.62], dtype=float32)}, {'predictions': array([141375.14], dtype=float32)}, {'predictions': array([161921.4], dtype=float32)}, {'predictions': array([154510.77], dtype=float32)}, {'predictions': array([125779.15], dtype=float32)}, {'predictions': array([145472.7], dtype=float32)}, {'predictions': array([128844.67], dtype=float32)}, {'predictions': array([162215.36], dtype=float32)}, {'predictions': array([158214.05], dtype=float32)}, {'predictions': array([180711.97], dtype=float32)}, {'predictions': array([146727.33], dtype=float32)}, {'predictions': array([145139.14], dtype=float32)}, {'predictions': array([157867.1], dtype=float32)}, {'predictions': array([157174.52], dtype=float32)}, {'predictions': array([175592.89], dtype=float32)}, {'predictions': array([155261.9], dtype=float32)}, {'predictions': array([165965.84], dtype=float32)}, {'predictions': array([171008.7], dtype=float32)}, {'predictions': array([148603.48], dtype=float32)}, {'predictions': array([141214.4], dtype=float32)}, {'predictions': array([112366.125], dtype=float32)}, {'predictions': array([190708.38], dtype=float32)}, {'predictions': array([167741.75], dtype=float32)}, {'predictions': array([149093.05], dtype=float32)}, {'predictions': array([164835.23], dtype=float32)}, {'predictions': array([152006.47], dtype=float32)}, {'predictions': array([98944.72], dtype=float32)}, {'predictions': array([130165.9], dtype=float32)}, {'predictions': array([174452.25], dtype=float32)}, {'predictions': array([120275.83], dtype=float32)}, {'predictions': array([148854.84], dtype=float32)}, {'predictions': array([158324.66], dtype=float32)}, {'predictions': array([163387.], dtype=float32)}, {'predictions': array([135858.42], dtype=float32)}, {'predictions': array([138451.62], dtype=float32)}, {'predictions': array([146152.34], dtype=float32)}, {'predictions': array([143097.28], dtype=float32)}, {'predictions': array([159403.11], dtype=float32)}, {'predictions': array([146187.11], dtype=float32)}, {'predictions': array([154312.42], dtype=float32)}, {'predictions': array([143198.42], dtype=float32)}, {'predictions': array([175904.75], dtype=float32)}, {'predictions': array([116456.21], dtype=float32)}, {'predictions': array([174064.78], dtype=float32)}, {'predictions': array([160401.06], dtype=float32)}, {'predictions': array([123609.29], dtype=float32)}, {'predictions': array([170789.6], dtype=float32)}, {'predictions': array([146824.92], dtype=float32)}, {'predictions': array([168728.94], dtype=float32)}, {'predictions': array([216748.55], dtype=float32)}, {'predictions': array([166208.97], dtype=float32)}, {'predictions': array([147512.83], dtype=float32)}, {'predictions': array([174495.86], dtype=float32)}, {'predictions': array([155740.69], dtype=float32)}, {'predictions': array([140615.64], dtype=float32)}, {'predictions': array([148182.86], dtype=float32)}, {'predictions': array([152118.12], dtype=float32)}, {'predictions': array([174386.33], dtype=float32)}, {'predictions': array([136145.08], dtype=float32)}, {'predictions': array([165877.08], dtype=float32)}, {'predictions': array([151409.16], dtype=float32)}, {'predictions': array([127943.89], dtype=float32)}, {'predictions': array([162036.72], dtype=float32)}, {'predictions': array([162994.86], dtype=float32)}, {'predictions': array([122723.195], dtype=float32)}, {'predictions': array([168787.69], dtype=float32)}, {'predictions': array([146107.22], dtype=float32)}, {'predictions': array([173659.5], dtype=float32)}, {'predictions': array([124456.484], dtype=float32)}, {'predictions': array([160849.98], dtype=float32)}, {'predictions': array([188135.2], dtype=float32)}, {'predictions': array([172096.45], dtype=float32)}, {'predictions': array([150729.25], dtype=float32)}, {'predictions': array([171271.08], dtype=float32)}, {'predictions': array([112016.44], dtype=float32)}, {'predictions': array([139416.34], dtype=float32)}, {'predictions': array([150846.89], dtype=float32)}, {'predictions': array([154880.77], dtype=float32)}, {'predictions': array([119258.555], dtype=float32)}, {'predictions': array([138119.28], dtype=float32)}, {'predictions': array([152637.31], dtype=float32)}, {'predictions': array([154558.08], dtype=float32)}, {'predictions': array([131172.98], dtype=float32)}, {'predictions': array([165091.52], dtype=float32)}, {'predictions': array([161687.48], dtype=float32)}, {'predictions': array([127836.31], dtype=float32)}, {'predictions': array([178855.66], dtype=float32)}, {'predictions': array([135083.66], dtype=float32)}, {'predictions': array([152091.27], dtype=float32)}, {'predictions': array([125908.12], dtype=float32)}, {'predictions': array([128863.83], dtype=float32)}, {'predictions': array([136956.28], dtype=float32)}, {'predictions': array([124718.73], dtype=float32)}, {'predictions': array([134012.89], dtype=float32)}, {'predictions': array([173324.45], dtype=float32)}, {'predictions': array([187750.08], dtype=float32)}, {'predictions': array([149058.94], dtype=float32)}, {'predictions': array([151633.95], dtype=float32)}, {'predictions': array([158568.8], dtype=float32)}, {'predictions': array([163255.45], dtype=float32)}, {'predictions': array([130172.91], dtype=float32)}, {'predictions': array([163372.28], dtype=float32)}, {'predictions': array([162767.81], dtype=float32)}, {'predictions': array([147468.36], dtype=float32)}, {'predictions': array([184394.34], dtype=float32)}, {'predictions': array([146778.38], dtype=float32)}, {'predictions': array([151332.19], dtype=float32)}, {'predictions': array([160049.5], dtype=float32)}, {'predictions': array([151086.98], dtype=float32)}, {'predictions': array([168734.75], dtype=float32)}, {'predictions': array([158521.84], dtype=float32)}, {'predictions': array([129235.96], dtype=float32)}, {'predictions': array([134544.66], dtype=float32)}, {'predictions': array([151675.97], dtype=float32)}, {'predictions': array([141052.72], dtype=float32)}, {'predictions': array([175764.16], dtype=float32)}, {'predictions': array([122082.76], dtype=float32)}, {'predictions': array([119233.43], dtype=float32)}, {'predictions': array([141522.12], dtype=float32)}, {'predictions': array([150310.47], dtype=float32)}, {'predictions': array([145690.92], dtype=float32)}, {'predictions': array([104315.555], dtype=float32)}, {'predictions': array([148219.83], dtype=float32)}, {'predictions': array([183862.16], dtype=float32)}, {'predictions': array([162653.48], dtype=float32)}, {'predictions': array([131560.62], dtype=float32)}, {'predictions': array([148749.38], dtype=float32)}, {'predictions': array([141657.61], dtype=float32)}, {'predictions': array([167447.73], dtype=float32)}, {'predictions': array([184880.36], dtype=float32)}, {'predictions': array([152902.38], dtype=float32)}, {'predictions': array([138420.52], dtype=float32)}, {'predictions': array([126684.125], dtype=float32)}, {'predictions': array([128695.914], dtype=float32)}, {'predictions': array([114293.03], dtype=float32)}, {'predictions': array([147406.7], dtype=float32)}, {'predictions': array([154058.25], dtype=float32)}, {'predictions': array([137488.55], dtype=float32)}, {'predictions': array([137718.98], dtype=float32)}, {'predictions': array([152821.36], dtype=float32)}, {'predictions': array([152611.66], dtype=float32)}, {'predictions': array([134151.11], dtype=float32)}, {'predictions': array([160817.97], dtype=float32)}, {'predictions': array([147810.53], dtype=float32)}, {'predictions': array([158328.45], dtype=float32)}, {'predictions': array([145645.86], dtype=float32)}, {'predictions': array([149623.19], dtype=float32)}, {'predictions': array([180051.08], dtype=float32)}, {'predictions': array([166249.84], dtype=float32)}, {'predictions': array([158157.66], dtype=float32)}, {'predictions': array([151403.36], dtype=float32)}, {'predictions': array([142513.39], dtype=float32)}, {'predictions': array([181204.47], dtype=float32)}, {'predictions': array([163195.62], dtype=float32)}, {'predictions': array([175573.9], dtype=float32)}, {'predictions': array([126650.11], dtype=float32)}, {'predictions': array([176673.34], dtype=float32)}, {'predictions': array([154513.12], dtype=float32)}, {'predictions': array([162237.17], dtype=float32)}, {'predictions': array([137200.67], dtype=float32)}, {'predictions': array([165328.94], dtype=float32)}, {'predictions': array([173348.61], dtype=float32)}, {'predictions': array([131934.95], dtype=float32)}, {'predictions': array([132676.47], dtype=float32)}, {'predictions': array([133426.8], dtype=float32)}, {'predictions': array([182208.02], dtype=float32)}, {'predictions': array([138680.88], dtype=float32)}, {'predictions': array([145930.16], dtype=float32)}, {'predictions': array([147093.84], dtype=float32)}, {'predictions': array([116186.67], dtype=float32)}, {'predictions': array([149394.44], dtype=float32)}, {'predictions': array([169266.66], dtype=float32)}, {'predictions': array([131677.6], dtype=float32)}, {'predictions': array([164616.8], dtype=float32)}, {'predictions': array([123727.38], dtype=float32)}, {'predictions': array([156712.86], dtype=float32)}, {'predictions': array([147024.4], dtype=float32)}, {'predictions': array([142329.69], dtype=float32)}, {'predictions': array([118018.48], dtype=float32)}, {'predictions': array([119876.67], dtype=float32)}, {'predictions': array([124952.42], dtype=float32)}, {'predictions': array([171434.7], dtype=float32)}, {'predictions': array([137640.61], dtype=float32)}, {'predictions': array([147366.12], dtype=float32)}, {'predictions': array([143394.39], dtype=float32)}, {'predictions': array([172347.58], dtype=float32)}, {'predictions': array([165251.69], dtype=float32)}, {'predictions': array([152378.73], dtype=float32)}, {'predictions': array([167603.62], dtype=float32)}, {'predictions': array([155479.64], dtype=float32)}, {'predictions': array([162544.83], dtype=float32)}, {'predictions': array([141460.38], dtype=float32)}, {'predictions': array([126491.46], dtype=float32)}, {'predictions': array([142105.42], dtype=float32)}, {'predictions': array([148033.72], dtype=float32)}, {'predictions': array([134985.52], dtype=float32)}, {'predictions': array([156537.3], dtype=float32)}, {'predictions': array([123823.26], dtype=float32)}, {'predictions': array([134868.06], dtype=float32)}, {'predictions': array([133004.92], dtype=float32)}, {'predictions': array([161453.62], dtype=float32)}, {'predictions': array([159019.03], dtype=float32)}, {'predictions': array([150073.38], dtype=float32)}, {'predictions': array([161675.12], dtype=float32)}, {'predictions': array([157553.19], dtype=float32)}, {'predictions': array([142526.5], dtype=float32)}, {'predictions': array([167076.83], dtype=float32)}, {'predictions': array([151102.25], dtype=float32)}, {'predictions': array([141736.12], dtype=float32)}, {'predictions': array([169165.72], dtype=float32)}, {'predictions': array([144300.72], dtype=float32)}, {'predictions': array([149882.78], dtype=float32)}, {'predictions': array([132320.25], dtype=float32)}, {'predictions': array([155605.95], dtype=float32)}, {'predictions': array([155586.3], dtype=float32)}, {'predictions': array([148995.92], dtype=float32)}, {'predictions': array([144569.88], dtype=float32)}, {'predictions': array([142597.77], dtype=float32)}, {'predictions': array([154568.69], dtype=float32)}, {'predictions': array([148896.62], dtype=float32)}, {'predictions': array([146049.55], dtype=float32)}, {'predictions': array([133038.52], dtype=float32)}, {'predictions': array([177288.48], dtype=float32)}, {'predictions': array([139390.89], dtype=float32)}, {'predictions': array([166497.92], dtype=float32)}, {'predictions': array([163915.98], dtype=float32)}, {'predictions': array([128032.125], dtype=float32)}, {'predictions': array([155311.98], dtype=float32)}, {'predictions': array([148898.73], dtype=float32)}, {'predictions': array([160652.05], dtype=float32)}, {'predictions': array([194580.52], dtype=float32)}, {'predictions': array([122350.58], dtype=float32)}, {'predictions': array([200409.9], dtype=float32)}, {'predictions': array([133930.06], dtype=float32)}, {'predictions': array([156295.86], dtype=float32)}, {'predictions': array([143724.02], dtype=float32)}, {'predictions': array([145074.], dtype=float32)}, {'predictions': array([142405.17], dtype=float32)}, {'predictions': array([154398.7], dtype=float32)}, {'predictions': array([134256.17], dtype=float32)}, {'predictions': array([134250.84], dtype=float32)}, {'predictions': array([159633.98], dtype=float32)}, {'predictions': array([110746.734], dtype=float32)}, {'predictions': array([157725.95], dtype=float32)}, {'predictions': array([133071.69], dtype=float32)}, {'predictions': array([132610.14], dtype=float32)}, {'predictions': array([166127.73], dtype=float32)}, {'predictions': array([147498.36], dtype=float32)}, {'predictions': array([172700.12], dtype=float32)}, {'predictions': array([163032.47], dtype=float32)}, {'predictions': array([155786.05], dtype=float32)}, {'predictions': array([145285.45], dtype=float32)}, {'predictions': array([164000.78], dtype=float32)}, {'predictions': array([127842.62], dtype=float32)}, {'predictions': array([188401.58], dtype=float32)}, {'predictions': array([164693.02], dtype=float32)}, {'predictions': array([168093.16], dtype=float32)}, {'predictions': array([137853.61], dtype=float32)}, {'predictions': array([154879.14], dtype=float32)}, {'predictions': array([179807.88], dtype=float32)}, {'predictions': array([147552.55], dtype=float32)}, {'predictions': array([203424.16], dtype=float32)}, {'predictions': array([113710.95], dtype=float32)}, {'predictions': array([139238.47], dtype=float32)}, {'predictions': array([176572.72], dtype=float32)}, {'predictions': array([169730.34], dtype=float32)}, {'predictions': array([136003.3], dtype=float32)}, {'predictions': array([140738.67], dtype=float32)}, {'predictions': array([161276.1], dtype=float32)}, {'predictions': array([121360.52], dtype=float32)}, {'predictions': array([158540.72], dtype=float32)}, {'predictions': array([135153.67], dtype=float32)}, {'predictions': array([157697.4], dtype=float32)}, {'predictions': array([154133.28], dtype=float32)}, {'predictions': array([129801.234], dtype=float32)}, {'predictions': array([134917.34], dtype=float32)}, {'predictions': array([120635.22], dtype=float32)}, {'predictions': array([148689.25], dtype=float32)}, {'predictions': array([139942.7], dtype=float32)}, {'predictions': array([141015.47], dtype=float32)}, {'predictions': array([146286.58], dtype=float32)}, {'predictions': array([177970.12], dtype=float32)}, {'predictions': array([136494.16], dtype=float32)}, {'predictions': array([111830.73], dtype=float32)}, {'predictions': array([139295.34], dtype=float32)}, {'predictions': array([156072.03], dtype=float32)}, {'predictions': array([207623.77], dtype=float32)}, {'predictions': array([154471.36], dtype=float32)}, {'predictions': array([162967.6], dtype=float32)}, {'predictions': array([162427.11], dtype=float32)}, {'predictions': array([141536.52], dtype=float32)}, {'predictions': array([136038.66], dtype=float32)}, {'predictions': array([159667.11], dtype=float32)}, {'predictions': array([145869.62], dtype=float32)}, {'predictions': array([106037.98], dtype=float32)}, {'predictions': array([153056.72], dtype=float32)}, {'predictions': array([188575.22], dtype=float32)}, {'predictions': array([124952.945], dtype=float32)}, {'predictions': array([152022.27], dtype=float32)}, {'predictions': array([157860.05], dtype=float32)}, {'predictions': array([136090.55], dtype=float32)}, {'predictions': array([141255.05], dtype=float32)}, {'predictions': array([167955.17], dtype=float32)}, {'predictions': array([146100.23], dtype=float32)}, {'predictions': array([149417.61], dtype=float32)}, {'predictions': array([136233.14], dtype=float32)}, {'predictions': array([155240.19], dtype=float32)}, {'predictions': array([175354.36], dtype=float32)}, {'predictions': array([146167.81], dtype=float32)}, {'predictions': array([128981.125], dtype=float32)}, {'predictions': array([133741.84], dtype=float32)}, {'predictions': array([150453.98], dtype=float32)}, {'predictions': array([145133.47], dtype=float32)}, {'predictions': array([147583.38], dtype=float32)}, {'predictions': array([154445.48], dtype=float32)}, {'predictions': array([127815.05], dtype=float32)}, {'predictions': array([163041.89], dtype=float32)}, {'predictions': array([124663.59], dtype=float32)}, {'predictions': array([156853.19], dtype=float32)}, {'predictions': array([148995.81], dtype=float32)}, {'predictions': array([131711.84], dtype=float32)}, {'predictions': array([139597.17], dtype=float32)}, {'predictions': array([115671.94], dtype=float32)}, {'predictions': array([161575.77], dtype=float32)}, {'predictions': array([177051.64], dtype=float32)}, {'predictions': array([155929.83], dtype=float32)}, {'predictions': array([132966.73], dtype=float32)}, {'predictions': array([190621.14], dtype=float32)}, {'predictions': array([163956.53], dtype=float32)}, {'predictions': array([175121.75], dtype=float32)}, {'predictions': array([141400.31], dtype=float32)}, {'predictions': array([161849.61], dtype=float32)}, {'predictions': array([166976.47], dtype=float32)}, {'predictions': array([190293.48], dtype=float32)}, {'predictions': array([178387.72], dtype=float32)}, {'predictions': array([160985.17], dtype=float32)}, {'predictions': array([131118.05], dtype=float32)}, {'predictions': array([107668.02], dtype=float32)}, {'predictions': array([136983.16], dtype=float32)}, {'predictions': array([151995.9], dtype=float32)}, {'predictions': array([132030.72], dtype=float32)}, {'predictions': array([148081.45], dtype=float32)}, {'predictions': array([120387.66], dtype=float32)}, {'predictions': array([123354.125], dtype=float32)}, {'predictions': array([157100.9], dtype=float32)}, {'predictions': array([164745.83], dtype=float32)}, {'predictions': array([175223.92], dtype=float32)}, {'predictions': array([161883.17], dtype=float32)}, {'predictions': array([138017.17], dtype=float32)}, {'predictions': array([124112.33], dtype=float32)}, {'predictions': array([152513.55], dtype=float32)}, {'predictions': array([148523.73], dtype=float32)}, {'predictions': array([106877.586], dtype=float32)}, {'predictions': array([144096.27], dtype=float32)}, {'predictions': array([144998.8], dtype=float32)}, {'predictions': array([159651.12], dtype=float32)}, {'predictions': array([155203.58], dtype=float32)}, {'predictions': array([161879.36], dtype=float32)}, {'predictions': array([154296.48], dtype=float32)}, {'predictions': array([127905.61], dtype=float32)}, {'predictions': array([158218.19], dtype=float32)}, {'predictions': array([133298.92], dtype=float32)}, {'predictions': array([121022.93], dtype=float32)}, {'predictions': array([139177.95], dtype=float32)}, {'predictions': array([181475.08], dtype=float32)}, {'predictions': array([166461.9], dtype=float32)}, {'predictions': array([133474.9], dtype=float32)}, {'predictions': array([139924.45], dtype=float32)}, {'predictions': array([171828.78], dtype=float32)}, {'predictions': array([160472.8], dtype=float32)}, {'predictions': array([168152.84], dtype=float32)}, {'predictions': array([179334.05], dtype=float32)}, {'predictions': array([125756.164], dtype=float32)}, {'predictions': array([155352.8], dtype=float32)}, {'predictions': array([141098.38], dtype=float32)}, {'predictions': array([106475.47], dtype=float32)}, {'predictions': array([161269.55], dtype=float32)}, {'predictions': array([150499.08], dtype=float32)}, {'predictions': array([146418.38], dtype=float32)}, {'predictions': array([153248.77], dtype=float32)}, {'predictions': array([174491.42], dtype=float32)}, {'predictions': array([149246.05], dtype=float32)}, {'predictions': array([167769.77], dtype=float32)}, {'predictions': array([178761.88], dtype=float32)}, {'predictions': array([117674.25], dtype=float32)}, {'predictions': array([136099.27], dtype=float32)}, {'predictions': array([136002.19], dtype=float32)}, {'predictions': array([153605.19], dtype=float32)}, {'predictions': array([146552.44], dtype=float32)}, {'predictions': array([111778.24], dtype=float32)}, {'predictions': array([151210.64], dtype=float32)}, {'predictions': array([144160.48], dtype=float32)}, {'predictions': array([161616.66], dtype=float32)}, {'predictions': array([129216.195], dtype=float32)}, {'predictions': array([159546.1], dtype=float32)}, {'predictions': array([151723.72], dtype=float32)}, {'predictions': array([158291.52], dtype=float32)}, {'predictions': array([143546.75], dtype=float32)}, {'predictions': array([125198.96], dtype=float32)}, {'predictions': array([154350.22], dtype=float32)}, {'predictions': array([111524.52], dtype=float32)}, {'predictions': array([135353.86], dtype=float32)}, {'predictions': array([164330.94], dtype=float32)}, {'predictions': array([170506.84], dtype=float32)}, {'predictions': array([168130.61], dtype=float32)}, {'predictions': array([165772.1], dtype=float32)}, {'predictions': array([155702.9], dtype=float32)}, {'predictions': array([156562.61], dtype=float32)}, {'predictions': array([187885.36], dtype=float32)}, {'predictions': array([128712.14], dtype=float32)}, {'predictions': array([157646.86], dtype=float32)}, {'predictions': array([161551.47], dtype=float32)}, {'predictions': array([145712.36], dtype=float32)}, {'predictions': array([184815.47], dtype=float32)}, {'predictions': array([121084.55], dtype=float32)}, {'predictions': array([163594.83], dtype=float32)}, {'predictions': array([119846.64], dtype=float32)}, {'predictions': array([176495.39], dtype=float32)}, {'predictions': array([166525.47], dtype=float32)}, {'predictions': array([138045.72], dtype=float32)}, {'predictions': array([140420.88], dtype=float32)}, {'predictions': array([135649.77], dtype=float32)}, {'predictions': array([136407.1], dtype=float32)}, {'predictions': array([149510.52], dtype=float32)}, {'predictions': array([177589.8], dtype=float32)}, {'predictions': array([170790.19], dtype=float32)}, {'predictions': array([122790.6], dtype=float32)}, {'predictions': array([161545.06], dtype=float32)}, {'predictions': array([145413.89], dtype=float32)}, {'predictions': array([148176.72], dtype=float32)}, {'predictions': array([154480.08], dtype=float32)}, {'predictions': array([128650.06], dtype=float32)}, {'predictions': array([205361.97], dtype=float32)}, {'predictions': array([162682.44], dtype=float32)}, {'predictions': array([152122.75], dtype=float32)}, {'predictions': array([157623.12], dtype=float32)}, {'predictions': array([165531.12], dtype=float32)}, {'predictions': array([153812.31], dtype=float32)}, {'predictions': array([138070.69], dtype=float32)}, {'predictions': array([150124.44], dtype=float32)}, {'predictions': array([184021.31], dtype=float32)}, {'predictions': array([175747.25], dtype=float32)}, {'predictions': array([171865.5], dtype=float32)}, {'predictions': array([163348.6], dtype=float32)}, {'predictions': array([151058.64], dtype=float32)}, {'predictions': array([157768.2], dtype=float32)}, {'predictions': array([172888.2], dtype=float32)}, {'predictions': array([138337.77], dtype=float32)}, {'predictions': array([184054.61], dtype=float32)}, {'predictions': array([119119.055], dtype=float32)}, {'predictions': array([169068.94], dtype=float32)}, {'predictions': array([131171.78], dtype=float32)}, {'predictions': array([161967.72], dtype=float32)}, {'predictions': array([163603.73], dtype=float32)}, {'predictions': array([129971.52], dtype=float32)}, {'predictions': array([170845.62], dtype=float32)}, {'predictions': array([139891.27], dtype=float32)}, {'predictions': array([125467.78], dtype=float32)}, {'predictions': array([141083.08], dtype=float32)}, {'predictions': array([171590.9], dtype=float32)}, {'predictions': array([149022.66], dtype=float32)}, {'predictions': array([146288.12], dtype=float32)}, {'predictions': array([125538.26], dtype=float32)}, {'predictions': array([141889.28], dtype=float32)}, {'predictions': array([164505.06], dtype=float32)}, {'predictions': array([163830.78], dtype=float32)}, {'predictions': array([156844.58], dtype=float32)}, {'predictions': array([130999.75], dtype=float32)}, {'predictions': array([138716.64], dtype=float32)}, {'predictions': array([134945.6], dtype=float32)}, {'predictions': array([124302.37], dtype=float32)}, {'predictions': array([128691.02], dtype=float32)}, {'predictions': array([165560.02], dtype=float32)}, {'predictions': array([129223.95], dtype=float32)}, {'predictions': array([129172.625], dtype=float32)}, {'predictions': array([134899.1], dtype=float32)}, {'predictions': array([166395.39], dtype=float32)}, {'predictions': array([122849.86], dtype=float32)}, {'predictions': array([160698.88], dtype=float32)}, {'predictions': array([116327.1], dtype=float32)}, {'predictions': array([127622.02], dtype=float32)}, {'predictions': array([152118.42], dtype=float32)}, {'predictions': array([176418.42], dtype=float32)}, {'predictions': array([150954.], dtype=float32)}, {'predictions': array([178250.33], dtype=float32)}, {'predictions': array([140240.98], dtype=float32)}, {'predictions': array([122332.15], dtype=float32)}, {'predictions': array([113860.98], dtype=float32)}, {'predictions': array([147687.27], dtype=float32)}, {'predictions': array([146400.06], dtype=float32)}, {'predictions': array([169015.53], dtype=float32)}, {'predictions': array([153372.3], dtype=float32)}, {'predictions': array([168059.05], dtype=float32)}, {'predictions': array([168765.69], dtype=float32)}, {'predictions': array([151449.56], dtype=float32)}, {'predictions': array([180753.97], dtype=float32)}, {'predictions': array([141300.61], dtype=float32)}, {'predictions': array([134351.55], dtype=float32)}, {'predictions': array([142951.69], dtype=float32)}, {'predictions': array([160004.92], dtype=float32)}, {'predictions': array([156338.88], dtype=float32)}, {'predictions': array([177023.16], dtype=float32)}, {'predictions': array([147343.47], dtype=float32)}, {'predictions': array([158082.12], dtype=float32)}, {'predictions': array([147918.64], dtype=float32)}, {'predictions': array([168542.17], dtype=float32)}, {'predictions': array([127814.78], dtype=float32)}, {'predictions': array([147333.4], dtype=float32)}, {'predictions': array([146481.47], dtype=float32)}, {'predictions': array([185706.27], dtype=float32)}, {'predictions': array([125990.45], dtype=float32)}, {'predictions': array([152274.72], dtype=float32)}, {'predictions': array([143266.69], dtype=float32)}, {'predictions': array([132462.52], dtype=float32)}, {'predictions': array([175337.53], dtype=float32)}, {'predictions': array([185216.05], dtype=float32)}, {'predictions': array([131532.86], dtype=float32)}, {'predictions': array([113246.82], dtype=float32)}, {'predictions': array([157538.], dtype=float32)}, {'predictions': array([169272.03], dtype=float32)}, {'predictions': array([138004.44], dtype=float32)}, {'predictions': array([130402.13], dtype=float32)}, {'predictions': array([163941.55], dtype=float32)}, {'predictions': array([140476.34], dtype=float32)}, {'predictions': array([156723.97], dtype=float32)}, {'predictions': array([125147.52], dtype=float32)}, {'predictions': array([136812.5], dtype=float32)}, {'predictions': array([108776.19], dtype=float32)}, {'predictions': array([179306.1], dtype=float32)}, {'predictions': array([167566.38], dtype=float32)}, {'predictions': array([145545.48], dtype=float32)}, {'predictions': array([125857.01], dtype=float32)}, {'predictions': array([149092.5], dtype=float32)}, {'predictions': array([162874.72], dtype=float32)}, {'predictions': array([179176.78], dtype=float32)}, {'predictions': array([143325.73], dtype=float32)}, {'predictions': array([147921.77], dtype=float32)}, {'predictions': array([127579.65], dtype=float32)}, {'predictions': array([139657.33], dtype=float32)}, {'predictions': array([123939.516], dtype=float32)}, {'predictions': array([122448.625], dtype=float32)}, {'predictions': array([132454.22], dtype=float32)}, {'predictions': array([154624.05], dtype=float32)}, {'predictions': array([162218.], dtype=float32)}, {'predictions': array([143845.], dtype=float32)}, {'predictions': array([136668.47], dtype=float32)}, {'predictions': array([171893.19], dtype=float32)}, {'predictions': array([143342.22], dtype=float32)}, {'predictions': array([125481.516], dtype=float32)}, {'predictions': array([173062.05], dtype=float32)}, {'predictions': array([118510.055], dtype=float32)}, {'predictions': array([159406.7], dtype=float32)}, {'predictions': array([157248.55], dtype=float32)}, {'predictions': array([146262.56], dtype=float32)}, {'predictions': array([150717.11], dtype=float32)}, {'predictions': array([157674.64], dtype=float32)}, {'predictions': array([100423.29], dtype=float32)}, {'predictions': array([150866.39], dtype=float32)}, {'predictions': array([151991.73], dtype=float32)}, {'predictions': array([157472.19], dtype=float32)}, {'predictions': array([176207.42], dtype=float32)}, {'predictions': array([115524.234], dtype=float32)}, {'predictions': array([142908.72], dtype=float32)}, {'predictions': array([164204.4], dtype=float32)}, {'predictions': array([157154.52], dtype=float32)}, {'predictions': array([168227.02], dtype=float32)}, {'predictions': array([167277.9], dtype=float32)}, {'predictions': array([161149.31], dtype=float32)}, {'predictions': array([160041.05], dtype=float32)}, {'predictions': array([145035.05], dtype=float32)}, {'predictions': array([147780.22], dtype=float32)}, {'predictions': array([148264.2], dtype=float32)}, {'predictions': array([151989.06], dtype=float32)}, {'predictions': array([141091.69], dtype=float32)}, {'predictions': array([125681.27], dtype=float32)}, {'predictions': array([133510.5], dtype=float32)}, {'predictions': array([112461.766], dtype=float32)}, {'predictions': array([194782.19], dtype=float32)}, {'predictions': array([153118.55], dtype=float32)}, {'predictions': array([153145.02], dtype=float32)}, {'predictions': array([140971.33], dtype=float32)}, {'predictions': array([163624.83], dtype=float32)}, {'predictions': array([145305.5], dtype=float32)}, {'predictions': array([125595.586], dtype=float32)}, {'predictions': array([160158.48], dtype=float32)}, {'predictions': array([129509.56], dtype=float32)}, {'predictions': array([159385.12], dtype=float32)}, {'predictions': array([132976.16], dtype=float32)}, {'predictions': array([155527.19], dtype=float32)}, {'predictions': array([140307.61], dtype=float32)}, {'predictions': array([153398.14], dtype=float32)}, {'predictions': array([158684.6], dtype=float32)}, {'predictions': array([125449.97], dtype=float32)}, {'predictions': array([168802.47], dtype=float32)}, {'predictions': array([100024.3], dtype=float32)}, {'predictions': array([143365.44], dtype=float32)}, {'predictions': array([172758.22], dtype=float32)}, {'predictions': array([162887.3], dtype=float32)}, {'predictions': array([156615.97], dtype=float32)}, {'predictions': array([129068.56], dtype=float32)}, {'predictions': array([138875.11], dtype=float32)}, {'predictions': array([146747.92], dtype=float32)}, {'predictions': array([155546.45], dtype=float32)}, {'predictions': array([163496.25], dtype=float32)}, {'predictions': array([147549.67], dtype=float32)}, {'predictions': array([127903.664], dtype=float32)}, {'predictions': array([145562.45], dtype=float32)}, {'predictions': array([128323.99], dtype=float32)}, {'predictions': array([150881.48], dtype=float32)}, {'predictions': array([148959.22], dtype=float32)}, {'predictions': array([158417.94], dtype=float32)}, {'predictions': array([132583.], dtype=float32)}, {'predictions': array([160561.84], dtype=float32)}, {'predictions': array([174599.64], dtype=float32)}, {'predictions': array([147808.05], dtype=float32)}, {'predictions': array([130768.03], dtype=float32)}, {'predictions': array([150890.12], dtype=float32)}, {'predictions': array([139061.47], dtype=float32)}, {'predictions': array([159062.19], dtype=float32)}, {'predictions': array([144685.47], dtype=float32)}, {'predictions': array([142298.83], dtype=float32)}, {'predictions': array([104375.086], dtype=float32)}, {'predictions': array([126025.1], dtype=float32)}, {'predictions': array([138968.08], dtype=float32)}, {'predictions': array([154171.47], dtype=float32)}, {'predictions': array([161042.94], dtype=float32)}, {'predictions': array([169933.06], dtype=float32)}, {'predictions': array([102355.414], dtype=float32)}, {'predictions': array([176957.8], dtype=float32)}, {'predictions': array([140456.98], dtype=float32)}, {'predictions': array([144761.27], dtype=float32)}, {'predictions': array([183184.56], dtype=float32)}, {'predictions': array([132507.58], dtype=float32)}, {'predictions': array([185195.92], dtype=float32)}, {'predictions': array([172416.94], dtype=float32)}, {'predictions': array([150545.36], dtype=float32)}, {'predictions': array([149411.72], dtype=float32)}, {'predictions': array([147515.12], dtype=float32)}, {'predictions': array([132299.55], dtype=float32)}, {'predictions': array([173275.5], dtype=float32)}, {'predictions': array([168139.61], dtype=float32)}, {'predictions': array([133893.45], dtype=float32)}, {'predictions': array([148760.28], dtype=float32)}, {'predictions': array([117887.87], dtype=float32)}, {'predictions': array([145173.98], dtype=float32)}, {'predictions': array([165269.17], dtype=float32)}, {'predictions': array([135765.97], dtype=float32)}, {'predictions': array([144106.72], dtype=float32)}, {'predictions': array([141859.17], dtype=float32)}, {'predictions': array([173697.34], dtype=float32)}, {'predictions': array([147664.12], dtype=float32)}, {'predictions': array([139896.8], dtype=float32)}, {'predictions': array([157007.36], dtype=float32)}, {'predictions': array([162698.66], dtype=float32)}, {'predictions': array([138112.31], dtype=float32)}, {'predictions': array([156799.97], dtype=float32)}, {'predictions': array([143518.88], dtype=float32)}, {'predictions': array([149733.06], dtype=float32)}, {'predictions': array([165891.53], dtype=float32)}, {'predictions': array([126152.58], dtype=float32)}, {'predictions': array([151235.28], dtype=float32)}, {'predictions': array([159471.08], dtype=float32)}, {'predictions': array([168563.6], dtype=float32)}, {'predictions': array([171470.97], dtype=float32)}, {'predictions': array([175032.86], dtype=float32)}, {'predictions': array([135953.61], dtype=float32)}, {'predictions': array([143024.67], dtype=float32)}, {'predictions': array([159851.69], dtype=float32)}, {'predictions': array([122666.25], dtype=float32)}, {'predictions': array([121189.21], dtype=float32)}, {'predictions': array([104216.56], dtype=float32)}, {'predictions': array([142812.52], dtype=float32)}, {'predictions': array([164373.16], dtype=float32)}, {'predictions': array([150058.52], dtype=float32)}, {'predictions': array([150735.08], dtype=float32)}, {'predictions': array([188738.11], dtype=float32)}, {'predictions': array([143713.92], dtype=float32)}, {'predictions': array([127808.22], dtype=float32)}, {'predictions': array([136500.31], dtype=float32)}, {'predictions': array([148249.03], dtype=float32)}, {'predictions': array([153994.72], dtype=float32)}, {'predictions': array([155376.58], dtype=float32)}, {'predictions': array([140362.39], dtype=float32)}, {'predictions': array([147127.8], dtype=float32)}, {'predictions': array([141604.89], dtype=float32)}, {'predictions': array([153604.06], dtype=float32)}, {'predictions': array([126231.07], dtype=float32)}, {'predictions': array([153261.1], dtype=float32)}, {'predictions': array([148173.08], dtype=float32)}, {'predictions': array([111519.36], dtype=float32)}, {'predictions': array([151879.19], dtype=float32)}, {'predictions': array([143804.5], dtype=float32)}, {'predictions': array([173322.7], dtype=float32)}, {'predictions': array([156799.78], dtype=float32)}, {'predictions': array([169620.16], dtype=float32)}, {'predictions': array([144847.34], dtype=float32)}, {'predictions': array([154052.36], dtype=float32)}, {'predictions': array([123058.15], dtype=float32)}, {'predictions': array([150744.06], dtype=float32)}, {'predictions': array([140055.7], dtype=float32)}, {'predictions': array([183612.14], dtype=float32)}, {'predictions': array([119977.4], dtype=float32)}, {'predictions': array([131297.75], dtype=float32)}, {'predictions': array([126904.21], dtype=float32)}, {'predictions': array([151256.42], dtype=float32)}, {'predictions': array([141353.4], dtype=float32)}, {'predictions': array([141309.52], dtype=float32)}, {'predictions': array([136338.88], dtype=float32)}, {'predictions': array([223951.72], dtype=float32)}, {'predictions': array([142870.05], dtype=float32)}, {'predictions': array([172669.61], dtype=float32)}, {'predictions': array([152054.5], dtype=float32)}, {'predictions': array([133384.77], dtype=float32)}, {'predictions': array([146606.38], dtype=float32)}, {'predictions': array([208320.22], dtype=float32)}, {'predictions': array([182663.28], dtype=float32)}, {'predictions': array([150891.69], dtype=float32)}, {'predictions': array([163801.36], dtype=float32)}, {'predictions': array([161955.11], dtype=float32)}, {'predictions': array([151221.47], dtype=float32)}, {'predictions': array([184149.73], dtype=float32)}, {'predictions': array([134899.03], dtype=float32)}, {'predictions': array([174212.88], dtype=float32)}, {'predictions': array([170385.4], dtype=float32)}, {'predictions': array([148531.45], dtype=float32)}, {'predictions': array([122809.695], dtype=float32)}, {'predictions': array([127297.14], dtype=float32)}, {'predictions': array([134085.55], dtype=float32)}, {'predictions': array([175614.34], dtype=float32)}, {'predictions': array([152247.64], dtype=float32)}, {'predictions': array([141038.39], dtype=float32)}, {'predictions': array([153491.81], dtype=float32)}, {'predictions': array([151178.47], dtype=float32)}, {'predictions': array([157811.06], dtype=float32)}, {'predictions': array([131134.19], dtype=float32)}, {'predictions': array([164784.36], dtype=float32)}, {'predictions': array([135209.95], dtype=float32)}, {'predictions': array([162533.12], dtype=float32)}, {'predictions': array([197662.25], dtype=float32)}, {'predictions': array([156057.92], dtype=float32)}, {'predictions': array([171953.84], dtype=float32)}, {'predictions': array([137641.2], dtype=float32)}, {'predictions': array([132092.16], dtype=float32)}, {'predictions': array([142882.72], dtype=float32)}, {'predictions': array([164520.88], dtype=float32)}, {'predictions': array([135736.9], dtype=float32)}, {'predictions': array([151243.55], dtype=float32)}, {'predictions': array([155492.14], dtype=float32)}, {'predictions': array([165788.73], dtype=float32)}, {'predictions': array([123948.03], dtype=float32)}, {'predictions': array([150203.98], dtype=float32)}, {'predictions': array([124967.664], dtype=float32)}, {'predictions': array([163396.42], dtype=float32)}, {'predictions': array([118483.875], dtype=float32)}, {'predictions': array([146999.78], dtype=float32)}, {'predictions': array([212383.2], dtype=float32)}, {'predictions': array([151585.45], dtype=float32)}, {'predictions': array([206288.8], dtype=float32)}, {'predictions': array([137833.02], dtype=float32)}, {'predictions': array([169419.94], dtype=float32)}, {'predictions': array([167760.83], dtype=float32)}, {'predictions': array([134839.12], dtype=float32)}, {'predictions': array([157202.61], dtype=float32)}, {'predictions': array([156106.08], dtype=float32)}, {'predictions': array([119300.32], dtype=float32)}, {'predictions': array([145944.16], dtype=float32)}, {'predictions': array([149701.38], dtype=float32)}, {'predictions': array([125381.48], dtype=float32)}, {'predictions': array([142818.45], dtype=float32)}, {'predictions': array([175437.9], dtype=float32)}, {'predictions': array([153371.98], dtype=float32)}, {'predictions': array([151302.36], dtype=float32)}, {'predictions': array([142015.92], dtype=float32)}, {'predictions': array([149698.48], dtype=float32)}, {'predictions': array([149801.97], dtype=float32)}, {'predictions': array([147579.84], dtype=float32)}, {'predictions': array([127287.805], dtype=float32)}, {'predictions': array([119659.55], dtype=float32)}, {'predictions': array([117086.62], dtype=float32)}, {'predictions': array([161384.83], dtype=float32)}, {'predictions': array([180350.03], dtype=float32)}, {'predictions': array([156922.7], dtype=float32)}, {'predictions': array([122478.305], dtype=float32)}, {'predictions': array([180180.67], dtype=float32)}, {'predictions': array([117359.13], dtype=float32)}, {'predictions': array([172421.19], dtype=float32)}, {'predictions': array([147189.73], dtype=float32)}, {'predictions': array([139835.78], dtype=float32)}, {'predictions': array([143715.16], dtype=float32)}, {'predictions': array([146081.7], dtype=float32)}, {'predictions': array([153667.14], dtype=float32)}, {'predictions': array([217318.5], dtype=float32)}, {'predictions': array([152760.2], dtype=float32)}, {'predictions': array([158228.81], dtype=float32)}, {'predictions': array([176923.03], dtype=float32)}, {'predictions': array([128522.83], dtype=float32)}, {'predictions': array([171244.11], dtype=float32)}, {'predictions': array([177680.45], dtype=float32)}, {'predictions': array([170282.17], dtype=float32)}, {'predictions': array([122122.94], dtype=float32)}, {'predictions': array([146453.61], dtype=float32)}, {'predictions': array([146220.2], dtype=float32)}, {'predictions': array([169424.98], dtype=float32)}, {'predictions': array([116468.125], dtype=float32)}, {'predictions': array([163217.61], dtype=float32)}, {'predictions': array([158878.48], dtype=float32)}, {'predictions': array([133465.88], dtype=float32)}, {'predictions': array([149069.98], dtype=float32)}, {'predictions': array([193948.42], dtype=float32)}, {'predictions': array([95199.234], dtype=float32)}, {'predictions': array([119578.45], dtype=float32)}, {'predictions': array([129872.1], dtype=float32)}, {'predictions': array([157137.4], dtype=float32)}, {'predictions': array([147905.83], dtype=float32)}, {'predictions': array([147584.75], dtype=float32)}, {'predictions': array([129468.07], dtype=float32)}, {'predictions': array([133573.27], dtype=float32)}, {'predictions': array([152849.02], dtype=float32)}, {'predictions': array([117889.38], dtype=float32)}, {'predictions': array([113398.664], dtype=float32)}, {'predictions': array([155438.], dtype=float32)}, {'predictions': array([143631.67], dtype=float32)}, {'predictions': array([167415.02], dtype=float32)}, {'predictions': array([122337.19], dtype=float32)}, {'predictions': array([144206.72], dtype=float32)}, {'predictions': array([172541.72], dtype=float32)}, {'predictions': array([125568.31], dtype=float32)}, {'predictions': array([139783.56], dtype=float32)}, {'predictions': array([136130.16], dtype=float32)}, {'predictions': array([120824.41], dtype=float32)}, {'predictions': array([162349.36], dtype=float32)}, {'predictions': array([133078.7], dtype=float32)}, {'predictions': array([146856.55], dtype=float32)}, {'predictions': array([163595.6], dtype=float32)}, {'predictions': array([176119.64], dtype=float32)}, {'predictions': array([163131.16], dtype=float32)}, {'predictions': array([147230.9], dtype=float32)}, {'predictions': array([188973.55], dtype=float32)}, {'predictions': array([143458.61], dtype=float32)}, {'predictions': array([154008.89], dtype=float32)}, {'predictions': array([123177.6], dtype=float32)}, {'predictions': array([113458.93], dtype=float32)}, {'predictions': array([166417.3], dtype=float32)}, {'predictions': array([178437.5], dtype=float32)}, {'predictions': array([184338.47], dtype=float32)}, {'predictions': array([137725.42], dtype=float32)}, {'predictions': array([168393.75], dtype=float32)}, {'predictions': array([149883.25], dtype=float32)}, {'predictions': array([144246.33], dtype=float32)}, {'predictions': array([129510.56], dtype=float32)}, {'predictions': array([146928.12], dtype=float32)}, {'predictions': array([166752.05], dtype=float32)}, {'predictions': array([140266.77], dtype=float32)}, {'predictions': array([150719.84], dtype=float32)}, {'predictions': array([156215.17], dtype=float32)}, {'predictions': array([130103.72], dtype=float32)}, {'predictions': array([117525.33], dtype=float32)}, {'predictions': array([158907.73], dtype=float32)}, {'predictions': array([157881.19], dtype=float32)}, {'predictions': array([120649.05], dtype=float32)}, {'predictions': array([145697.72], dtype=float32)}, {'predictions': array([153932.44], dtype=float32)}, {'predictions': array([156768.2], dtype=float32)}, {'predictions': array([135606.02], dtype=float32)}, {'predictions': array([172715.64], dtype=float32)}, {'predictions': array([140796.69], dtype=float32)}, {'predictions': array([130817.89], dtype=float32)}, {'predictions': array([157946.97], dtype=float32)}, {'predictions': array([164359.5], dtype=float32)}, {'predictions': array([168284.17], dtype=float32)}, {'predictions': array([139467.42], dtype=float32)}, {'predictions': array([138465.7], dtype=float32)}, {'predictions': array([143839.98], dtype=float32)}, {'predictions': array([176398.8], dtype=float32)}, {'predictions': array([151847.83], dtype=float32)}, {'predictions': array([145978.03], dtype=float32)}, {'predictions': array([132734.33], dtype=float32)}, {'predictions': array([150261.95], dtype=float32)}, {'predictions': array([179555.2], dtype=float32)}, {'predictions': array([165806.58], dtype=float32)}, {'predictions': array([133302.4], dtype=float32)}, {'predictions': array([138913.48], dtype=float32)}, {'predictions': array([168765.08], dtype=float32)}, {'predictions': array([153702.2], dtype=float32)}, {'predictions': array([114052.79], dtype=float32)}, {'predictions': array([145096.12], dtype=float32)}, {'predictions': array([127181.95], dtype=float32)}, {'predictions': array([158666.64], dtype=float32)}, {'predictions': array([160295.5], dtype=float32)}, {'predictions': array([150611.92], dtype=float32)}, {'predictions': array([157321.73], dtype=float32)}, {'predictions': array([140521.66], dtype=float32)}, {'predictions': array([156943.6], dtype=float32)}, {'predictions': array([157114.53], dtype=float32)}, {'predictions': array([156525.61], dtype=float32)}, {'predictions': array([171830.62], dtype=float32)}, {'predictions': array([173059.94], dtype=float32)}, {'predictions': array([148546.42], dtype=float32)}, {'predictions': array([161294.66], dtype=float32)}, {'predictions': array([132009.58], dtype=float32)}, {'predictions': array([163548.36], dtype=float32)}, {'predictions': array([128580.76], dtype=float32)}, {'predictions': array([142249.83], dtype=float32)}, {'predictions': array([129393.34], dtype=float32)}, {'predictions': array([176108.94], dtype=float32)}, {'predictions': array([143606.39], dtype=float32)}, {'predictions': array([157627.47], dtype=float32)}, {'predictions': array([226091.53], dtype=float32)}, {'predictions': array([177840.03], dtype=float32)}, {'predictions': array([128330.97], dtype=float32)}, {'predictions': array([141859.78], dtype=float32)}, {'predictions': array([158636.12], dtype=float32)}, {'predictions': array([150243.67], dtype=float32)}, {'predictions': array([136648.78], dtype=float32)}, {'predictions': array([155828.28], dtype=float32)}, {'predictions': array([144667.92], dtype=float32)}, {'predictions': array([123813.984], dtype=float32)}, {'predictions': array([141025.02], dtype=float32)}, {'predictions': array([165868.97], dtype=float32)}, {'predictions': array([142513.9], dtype=float32)}, {'predictions': array([128051.945], dtype=float32)}, {'predictions': array([138222.27], dtype=float32)}, {'predictions': array([161956.52], dtype=float32)}, {'predictions': array([153587.1], dtype=float32)}, {'predictions': array([143819.33], dtype=float32)}, {'predictions': array([155231.9], dtype=float32)}, {'predictions': array([137275.72], dtype=float32)}, {'predictions': array([135075.4], dtype=float32)}, {'predictions': array([129883.445], dtype=float32)}, {'predictions': array([154035.95], dtype=float32)}, {'predictions': array([168042.84], dtype=float32)}, {'predictions': array([141756.98], dtype=float32)}, {'predictions': array([111981.65], dtype=float32)}, {'predictions': array([130277.59], dtype=float32)}, {'predictions': array([155936.23], dtype=float32)}, {'predictions': array([150720.05], dtype=float32)}, {'predictions': array([135682.23], dtype=float32)}, {'predictions': array([129592.086], dtype=float32)}, {'predictions': array([179832.08], dtype=float32)}, {'predictions': array([140679.56], dtype=float32)}, {'predictions': array([129798.67], dtype=float32)}, {'predictions': array([147646.], dtype=float32)}, {'predictions': array([157450.34], dtype=float32)}, {'predictions': array([166303.72], dtype=float32)}, {'predictions': array([133353.4], dtype=float32)}, {'predictions': array([171632.94], dtype=float32)}, {'predictions': array([200640.8], dtype=float32)}, {'predictions': array([151202.9], dtype=float32)}, {'predictions': array([156770.2], dtype=float32)}, {'predictions': array([138174.77], dtype=float32)}, {'predictions': array([131983.9], dtype=float32)}, {'predictions': array([158122.44], dtype=float32)}, {'predictions': array([204520.45], dtype=float32)}, {'predictions': array([164606.12], dtype=float32)}, {'predictions': array([134652.72], dtype=float32)}, {'predictions': array([160661.33], dtype=float32)}, {'predictions': array([174152.1], dtype=float32)}, {'predictions': array([135000.64], dtype=float32)}, {'predictions': array([153623.38], dtype=float32)}, {'predictions': array([147586.92], dtype=float32)}, {'predictions': array([154792.23], dtype=float32)}, {'predictions': array([190599.88], dtype=float32)}, {'predictions': array([175794.42], dtype=float32)}, {'predictions': array([129252.625], dtype=float32)}, {'predictions': array([160657.66], dtype=float32)}, {'predictions': array([159332.53], dtype=float32)}, {'predictions': array([135285.27], dtype=float32)}, {'predictions': array([162012.88], dtype=float32)}, {'predictions': array([133778.2], dtype=float32)}, {'predictions': array([148372.47], dtype=float32)}, {'predictions': array([121006.27], dtype=float32)}, {'predictions': array([135166.2], dtype=float32)}, {'predictions': array([159216.19], dtype=float32)}, {'predictions': array([149852.36], dtype=float32)}, {'predictions': array([127178.78], dtype=float32)}, {'predictions': array([161242.83], dtype=float32)}, {'predictions': array([154287.28], dtype=float32)}, {'predictions': array([140819.12], dtype=float32)}, {'predictions': array([143906.45], dtype=float32)}, {'predictions': array([136762.3], dtype=float32)}, {'predictions': array([134555.98], dtype=float32)}, {'predictions': array([126234.414], dtype=float32)}, {'predictions': array([223065.98], dtype=float32)}, {'predictions': array([138470.33], dtype=float32)}, {'predictions': array([161575.53], dtype=float32)}, {'predictions': array([138185.33], dtype=float32)}, {'predictions': array([153438.47], dtype=float32)}, {'predictions': array([165179.56], dtype=float32)}, {'predictions': array([105749.68], dtype=float32)}, {'predictions': array([156240.56], dtype=float32)}, {'predictions': array([114613.85], dtype=float32)}, {'predictions': array([143447.89], dtype=float32)}, {'predictions': array([133561.16], dtype=float32)}, {'predictions': array([107609.95], dtype=float32)}, {'predictions': array([160624.3], dtype=float32)}, {'predictions': array([147352.55], dtype=float32)}, {'predictions': array([155281.94], dtype=float32)}, {'predictions': array([128002.66], dtype=float32)}, {'predictions': array([149641.02], dtype=float32)}, {'predictions': array([109414.875], dtype=float32)}, {'predictions': array([143427.23], dtype=float32)}, {'predictions': array([125387.21], dtype=float32)}, {'predictions': array([160817.78], dtype=float32)}, {'predictions': array([118224.195], dtype=float32)}, {'predictions': array([122690.98], dtype=float32)}, {'predictions': array([128165.86], dtype=float32)}, {'predictions': array([170461.42], dtype=float32)}, {'predictions': array([149892.7], dtype=float32)}, {'predictions': array([144382.61], dtype=float32)}, {'predictions': array([176911.08], dtype=float32)}, {'predictions': array([123581.14], dtype=float32)}, {'predictions': array([147913.7], dtype=float32)}, {'predictions': array([134151.19], dtype=float32)}, {'predictions': array([170161.62], dtype=float32)}, {'predictions': array([126292.9], dtype=float32)}, {'predictions': array([134802.12], dtype=float32)}, {'predictions': array([167761.8], dtype=float32)}, {'predictions': array([151289.28], dtype=float32)}, {'predictions': array([148369.36], dtype=float32)}, {'predictions': array([111685.09], dtype=float32)}, {'predictions': array([159781.08], dtype=float32)}, {'predictions': array([152348.36], dtype=float32)}, {'predictions': array([153894.52], dtype=float32)}, {'predictions': array([153554.2], dtype=float32)}, {'predictions': array([148349.94], dtype=float32)}, {'predictions': array([98851.234], dtype=float32)}, {'predictions': array([153176.5], dtype=float32)}, {'predictions': array([122625.375], dtype=float32)}, {'predictions': array([138513.66], dtype=float32)}, {'predictions': array([150266.08], dtype=float32)}, {'predictions': array([137175.98], dtype=float32)}, {'predictions': array([148341.22], dtype=float32)}, {'predictions': array([119711.266], dtype=float32)}, {'predictions': array([159090.14], dtype=float32)}, {'predictions': array([165381.66], dtype=float32)}, {'predictions': array([141392.1], dtype=float32)}, {'predictions': array([120812.17], dtype=float32)}, {'predictions': array([149256.83], dtype=float32)}, {'predictions': array([160683.47], dtype=float32)}, {'predictions': array([116398.37], dtype=float32)}, {'predictions': array([165200.19], dtype=float32)}, {'predictions': array([109885.81], dtype=float32)}, {'predictions': array([176472.86], dtype=float32)}, {'predictions': array([158402.84], dtype=float32)}, {'predictions': array([140803.95], dtype=float32)}, {'predictions': array([169574.83], dtype=float32)}, {'predictions': array([171806.83], dtype=float32)}, {'predictions': array([174167.3], dtype=float32)}, {'predictions': array([147408.97], dtype=float32)}, {'predictions': array([132893.69], dtype=float32)}, {'predictions': array([155470.31], dtype=float32)}, {'predictions': array([147429.45], dtype=float32)}, {'predictions': array([145934.11], dtype=float32)}, {'predictions': array([130530.125], dtype=float32)}, {'predictions': array([171948.62], dtype=float32)}, {'predictions': array([149030.94], dtype=float32)}, {'predictions': array([136557.31], dtype=float32)}, {'predictions': array([148326.2], dtype=float32)}, {'predictions': array([193084.86], dtype=float32)}, {'predictions': array([144296.52], dtype=float32)}, {'predictions': array([178902.72], dtype=float32)}, {'predictions': array([171223.67], dtype=float32)}, {'predictions': array([160226.8], dtype=float32)}, {'predictions': array([154038.25], dtype=float32)}, {'predictions': array([148246.84], dtype=float32)}, {'predictions': array([134193.2], dtype=float32)}, {'predictions': array([165534.], dtype=float32)}, {'predictions': array([131523.69], dtype=float32)}, {'predictions': array([140089.78], dtype=float32)}, {'predictions': array([164735.4], dtype=float32)}, {'predictions': array([187837.77], dtype=float32)}, {'predictions': array([130532.016], dtype=float32)}, {'predictions': array([152508.69], dtype=float32)}, {'predictions': array([158090.66], dtype=float32)}, {'predictions': array([130618.77], dtype=float32)}, {'predictions': array([157973.53], dtype=float32)}, {'predictions': array([157147.95], dtype=float32)}, {'predictions': array([161210.02], dtype=float32)}, {'predictions': array([141654.86], dtype=float32)}, {'predictions': array([118252.56], dtype=float32)}, {'predictions': array([151447.02], dtype=float32)}, {'predictions': array([151893.42], dtype=float32)}, {'predictions': array([134812.6], dtype=float32)}, {'predictions': array([183520.84], dtype=float32)}, {'predictions': array([144676.7], dtype=float32)}, {'predictions': array([149517.31], dtype=float32)}, {'predictions': array([230673.94], dtype=float32)}, {'predictions': array([158344.64], dtype=float32)}, {'predictions': array([162541.27], dtype=float32)}, {'predictions': array([135941.56], dtype=float32)}, {'predictions': array([163920.62], dtype=float32)}, {'predictions': array([165193.16], dtype=float32)}, {'predictions': array([149544.69], dtype=float32)}, {'predictions': array([140227.53], dtype=float32)}, {'predictions': array([180167.19], dtype=float32)}, {'predictions': array([167714.22], dtype=float32)}, {'predictions': array([143021.7], dtype=float32)}, {'predictions': array([113612.64], dtype=float32)}, {'predictions': array([155908.94], dtype=float32)}, {'predictions': array([124097.19], dtype=float32)}, {'predictions': array([108896.77], dtype=float32)}, {'predictions': array([166064.02], dtype=float32)}, {'predictions': array([181832.84], dtype=float32)}, {'predictions': array([139829.88], dtype=float32)}, {'predictions': array([157663.11], dtype=float32)}, {'predictions': array([138224.66], dtype=float32)}, {'predictions': array([151941.44], dtype=float32)}, {'predictions': array([136670.22], dtype=float32)}, {'predictions': array([119704.21], dtype=float32)}, {'predictions': array([112149.89], dtype=float32)}, {'predictions': array([170528.28], dtype=float32)}, {'predictions': array([117644.78], dtype=float32)}, {'predictions': array([213485.33], dtype=float32)}, {'predictions': array([155320.22], dtype=float32)}, {'predictions': array([166032.06], dtype=float32)}, {'predictions': array([150938.02], dtype=float32)}, {'predictions': array([122836.19], dtype=float32)}, {'predictions': array([171520.12], dtype=float32)}, {'predictions': array([131556.75], dtype=float32)}, {'predictions': array([161901.72], dtype=float32)}, {'predictions': array([160896.52], dtype=float32)}, {'predictions': array([154312.83], dtype=float32)}, {'predictions': array([153123.], dtype=float32)}, {'predictions': array([167222.56], dtype=float32)}, {'predictions': array([139778.39], dtype=float32)}, {'predictions': array([133178.53], dtype=float32)}, {'predictions': array([116783.664], dtype=float32)}, {'predictions': array([178300.05], dtype=float32)}, {'predictions': array([125391.69], dtype=float32)}, {'predictions': array([149266.7], dtype=float32)}, {'predictions': array([144955.16], dtype=float32)}, {'predictions': array([172972.89], dtype=float32)}, {'predictions': array([137479.19], dtype=float32)}, {'predictions': array([149029.52], dtype=float32)}, {'predictions': array([142902.14], dtype=float32)}, {'predictions': array([150537.3], dtype=float32)}, {'predictions': array([147711.58], dtype=float32)}, {'predictions': array([153582.97], dtype=float32)}, {'predictions': array([174702.97], dtype=float32)}, {'predictions': array([155575.73], dtype=float32)}, {'predictions': array([158853.72], dtype=float32)}, {'predictions': array([149247.66], dtype=float32)}, {'predictions': array([156489.7], dtype=float32)}, {'predictions': array([165868.81], dtype=float32)}, {'predictions': array([142242.67], dtype=float32)}, {'predictions': array([147367.8], dtype=float32)}, {'predictions': array([159914.56], dtype=float32)}, {'predictions': array([151323.7], dtype=float32)}, {'predictions': array([158111.72], dtype=float32)}, {'predictions': array([141250.5], dtype=float32)}, {'predictions': array([165556.05], dtype=float32)}, {'predictions': array([138810.53], dtype=float32)}, {'predictions': array([158658.17], dtype=float32)}, {'predictions': array([141199.88], dtype=float32)}, {'predictions': array([174491.44], dtype=float32)}, {'predictions': array([127485.74], dtype=float32)}, {'predictions': array([168004.03], dtype=float32)}, {'predictions': array([117674.05], dtype=float32)}, {'predictions': array([147388.02], dtype=float32)}, {'predictions': array([150166.4], dtype=float32)}, {'predictions': array([142716.66], dtype=float32)}, {'predictions': array([163085.72], dtype=float32)}, {'predictions': array([161598.88], dtype=float32)}, {'predictions': array([116166.91], dtype=float32)}, {'predictions': array([117358.56], dtype=float32)}, {'predictions': array([117480.54], dtype=float32)}, {'predictions': array([175193.75], dtype=float32)}, {'predictions': array([140957.17], dtype=float32)}, {'predictions': array([178643.05], dtype=float32)}, {'predictions': array([110947.63], dtype=float32)}, {'predictions': array([162759.34], dtype=float32)}, {'predictions': array([125705.2], dtype=float32)}, {'predictions': array([156832.2], dtype=float32)}, {'predictions': array([163367.05], dtype=float32)}, {'predictions': array([164909.45], dtype=float32)}, {'predictions': array([154409.45], dtype=float32)}, {'predictions': array([126232.61], dtype=float32)}, {'predictions': array([146185.75], dtype=float32)}, {'predictions': array([153669.94], dtype=float32)}, {'predictions': array([158283.06], dtype=float32)}, {'predictions': array([158134.64], dtype=float32)}, {'predictions': array([160920.52], dtype=float32)}, {'predictions': array([145724.95], dtype=float32)}, {'predictions': array([130139.92], dtype=float32)}, {'predictions': array([150947.33], dtype=float32)}, {'predictions': array([148183.75], dtype=float32)}, {'predictions': array([150686.86], dtype=float32)}, {'predictions': array([173713.86], dtype=float32)}, {'predictions': array([153769.83], dtype=float32)}, {'predictions': array([151102.5], dtype=float32)}, {'predictions': array([175320.48], dtype=float32)}, {'predictions': array([140779.53], dtype=float32)}, {'predictions': array([109062.266], dtype=float32)}, {'predictions': array([156823.36], dtype=float32)}, {'predictions': array([161941.42], dtype=float32)}, {'predictions': array([130778.], dtype=float32)}, {'predictions': array([143183.44], dtype=float32)}, {'predictions': array([125775.96], dtype=float32)}, {'predictions': array([129208.11], dtype=float32)}, {'predictions': array([142871.97], dtype=float32)}, {'predictions': array([171712.84], dtype=float32)}, {'predictions': array([161032.88], dtype=float32)}, {'predictions': array([150795.05], dtype=float32)}, {'predictions': array([150754.2], dtype=float32)}, {'predictions': array([114421.03], dtype=float32)}, {'predictions': array([131590.48], dtype=float32)}, {'predictions': array([147773.22], dtype=float32)}, {'predictions': array([153351.73], dtype=float32)}, {'predictions': array([151762.08], dtype=float32)}, {'predictions': array([167354.22], dtype=float32)}, {'predictions': array([159083.66], dtype=float32)}, {'predictions': array([105982.086], dtype=float32)}, {'predictions': array([154502.02], dtype=float32)}, {'predictions': array([148593.42], dtype=float32)}, {'predictions': array([135870.45], dtype=float32)}, {'predictions': array([131525.83], dtype=float32)}, {'predictions': array([134593.64], dtype=float32)}, {'predictions': array([147594.66], dtype=float32)}, {'predictions': array([141829.22], dtype=float32)}, {'predictions': array([186557.44], dtype=float32)}, {'predictions': array([156225.52], dtype=float32)}, {'predictions': array([133164.72], dtype=float32)}, {'predictions': array([140240.72], dtype=float32)}, {'predictions': array([178072.94], dtype=float32)}, {'predictions': array([143756.3], dtype=float32)}, {'predictions': array([127013.65], dtype=float32)}, {'predictions': array([161257.52], dtype=float32)}, {'predictions': array([154620.2], dtype=float32)}, {'predictions': array([126956.18], dtype=float32)}, {'predictions': array([156703.42], dtype=float32)}, {'predictions': array([168459.19], dtype=float32)}, {'predictions': array([155479.6], dtype=float32)}, {'predictions': array([130239.016], dtype=float32)}, {'predictions': array([147951.12], dtype=float32)}, {'predictions': array([172709.48], dtype=float32)}, {'predictions': array([116278.1], dtype=float32)}, {'predictions': array([130728.734], dtype=float32)}, {'predictions': array([150485.62], dtype=float32)}, {'predictions': array([148020.9], dtype=float32)}]\n"
          ],
          "name": "stdout"
        }
      ]
    },
    {
      "cell_type": "code",
      "metadata": {
        "id": "0YplrHueCU5Z",
        "colab_type": "code",
        "colab": {}
      },
      "source": [
        "final_pred = []\n",
        "\n",
        "for pred in predict_result:\n",
        "  final_pred.append(pred['predictions'])"
      ],
      "execution_count": 0,
      "outputs": []
    },
    {
      "cell_type": "code",
      "metadata": {
        "id": "5D_6L3fCDnl7",
        "colab_type": "code",
        "colab": {}
      },
      "source": [
        "from sklearn.metrics import mean_squared_error"
      ],
      "execution_count": 0,
      "outputs": []
    },
    {
      "cell_type": "code",
      "metadata": {
        "id": "2iX35btoDrMS",
        "colab_type": "code",
        "outputId": "5744b2f7-02e7-4b0e-9477-f007834a8554",
        "colab": {
          "base_uri": "https://localhost:8080/",
          "height": 34
        }
      },
      "source": [
        "mean_squared_error(y_test, final_pred)**0.5"
      ],
      "execution_count": 0,
      "outputs": [
        {
          "output_type": "execute_result",
          "data": {
            "text/plain": [
              "120587.6314997912"
            ]
          },
          "metadata": {
            "tags": []
          },
          "execution_count": 395
        }
      ]
    },
    {
      "cell_type": "code",
      "metadata": {
        "id": "0-6z2pT6Dypy",
        "colab_type": "code",
        "colab": {}
      },
      "source": [
        ""
      ],
      "execution_count": 0,
      "outputs": []
    }
  ]
}